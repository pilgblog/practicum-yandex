{
 "cells": [
  {
   "cell_type": "markdown",
   "metadata": {},
   "source": [
    "# Отток клиентов"
   ]
  },
  {
   "cell_type": "markdown",
   "metadata": {},
   "source": [
    "Из «Бета-Банка» стали уходить клиенты. Каждый месяц. Немного, но заметно. Банковские маркетологи посчитали: сохранять текущих клиентов дешевле, чем привлекать новых.\n",
    "\n",
    "Нужно спрогнозировать, уйдёт клиент из банка в ближайшее время или нет. Вам предоставлены исторические данные о поведении клиентов и расторжении договоров с банком. \n",
    "\n",
    "Постройте модель с предельно большим значением *F1*-меры. Чтобы сдать проект успешно, нужно довести метрику до 0.59. Проверьте *F1*-меру на тестовой выборке самостоятельно.\n",
    "\n",
    "Дополнительно измеряйте *AUC-ROC*, сравнивайте её значение с *F1*-мерой."
   ]
  },
  {
   "cell_type": "markdown",
   "metadata": {},
   "source": [
    "### Признаки\n",
    "RowNumber — индекс строки в данных\n",
    "CustomerId — уникальный идентификатор клиента\n",
    "Surname — фамилия\n",
    "CreditScore — кредитный рейтинг\n",
    "Geography — страна проживания\n",
    "Gender — пол\n",
    "Age — возраст\n",
    "Tenure — сколько лет человек является клиентом банка\n",
    "Balance — баланс на счёте\n",
    "NumOfProducts — количество продуктов банка, используемых клиентом\n",
    "HasCrCard — наличие кредитной карты\n",
    "IsActiveMember — активность клиента\n",
    "EstimatedSalary — предполагаемая зарплата\n",
    "### Целевой признак\n",
    "Exited — факт ухода клиента\n",
    "\n",
    "\n",
    "## План работы над проектом\n",
    "1. Изучить данные. Разбить данные на тренировочную, валидационную и тестовую выборку.\n",
    "2. Исследовать задачу. Проверить модели на данных без изменений.\n",
    "3. Скоректировать балланс класса. Изменить вес класса, урезать 0 или добавить 1.\n",
    "4. Получить лучшую модель.\n",
    "5. Провести финальный тест.\n",
    "6. Написать вывод."
   ]
  },
  {
   "cell_type": "markdown",
   "metadata": {},
   "source": [
    "## Подготовка данных"
   ]
  },
  {
   "cell_type": "code",
   "execution_count": 1,
   "metadata": {},
   "outputs": [],
   "source": [
    "import pandas as pd\n",
    "import numpy as np\n",
    "import seaborn as sns\n",
    "import matplotlib.pyplot as plt\n",
    "from sklearn.svm import SVC\n",
    "from sklearn.ensemble import RandomForestClassifier\n",
    "from sklearn.metrics import confusion_matrix\n",
    "from sklearn.metrics import accuracy_score\n",
    "from sklearn.model_selection import train_test_split\n",
    "from sklearn.metrics import f1_score, precision_score, recall_score, roc_curve, roc_auc_score\n",
    "from sklearn.model_selection import GridSearchCV\n",
    "from sklearn.utils import shuffle\n",
    "from sklearn.preprocessing import StandardScaler"
   ]
  },
  {
   "cell_type": "code",
   "execution_count": 2,
   "metadata": {},
   "outputs": [
    {
     "name": "stdout",
     "output_type": "stream",
     "text": [
      "(10000, 14)\n"
     ]
    },
    {
     "data": {
      "text/html": [
       "<div>\n",
       "<style scoped>\n",
       "    .dataframe tbody tr th:only-of-type {\n",
       "        vertical-align: middle;\n",
       "    }\n",
       "\n",
       "    .dataframe tbody tr th {\n",
       "        vertical-align: top;\n",
       "    }\n",
       "\n",
       "    .dataframe thead th {\n",
       "        text-align: right;\n",
       "    }\n",
       "</style>\n",
       "<table border=\"1\" class=\"dataframe\">\n",
       "  <thead>\n",
       "    <tr style=\"text-align: right;\">\n",
       "      <th></th>\n",
       "      <th>RowNumber</th>\n",
       "      <th>CustomerId</th>\n",
       "      <th>Surname</th>\n",
       "      <th>CreditScore</th>\n",
       "      <th>Geography</th>\n",
       "      <th>Gender</th>\n",
       "      <th>Age</th>\n",
       "      <th>Tenure</th>\n",
       "      <th>Balance</th>\n",
       "      <th>NumOfProducts</th>\n",
       "      <th>HasCrCard</th>\n",
       "      <th>IsActiveMember</th>\n",
       "      <th>EstimatedSalary</th>\n",
       "      <th>Exited</th>\n",
       "    </tr>\n",
       "  </thead>\n",
       "  <tbody>\n",
       "    <tr>\n",
       "      <th>0</th>\n",
       "      <td>1</td>\n",
       "      <td>15634602</td>\n",
       "      <td>Hargrave</td>\n",
       "      <td>619</td>\n",
       "      <td>France</td>\n",
       "      <td>Female</td>\n",
       "      <td>42</td>\n",
       "      <td>2.0</td>\n",
       "      <td>0.00</td>\n",
       "      <td>1</td>\n",
       "      <td>1</td>\n",
       "      <td>1</td>\n",
       "      <td>101348.88</td>\n",
       "      <td>1</td>\n",
       "    </tr>\n",
       "    <tr>\n",
       "      <th>1</th>\n",
       "      <td>2</td>\n",
       "      <td>15647311</td>\n",
       "      <td>Hill</td>\n",
       "      <td>608</td>\n",
       "      <td>Spain</td>\n",
       "      <td>Female</td>\n",
       "      <td>41</td>\n",
       "      <td>1.0</td>\n",
       "      <td>83807.86</td>\n",
       "      <td>1</td>\n",
       "      <td>0</td>\n",
       "      <td>1</td>\n",
       "      <td>112542.58</td>\n",
       "      <td>0</td>\n",
       "    </tr>\n",
       "    <tr>\n",
       "      <th>2</th>\n",
       "      <td>3</td>\n",
       "      <td>15619304</td>\n",
       "      <td>Onio</td>\n",
       "      <td>502</td>\n",
       "      <td>France</td>\n",
       "      <td>Female</td>\n",
       "      <td>42</td>\n",
       "      <td>8.0</td>\n",
       "      <td>159660.80</td>\n",
       "      <td>3</td>\n",
       "      <td>1</td>\n",
       "      <td>0</td>\n",
       "      <td>113931.57</td>\n",
       "      <td>1</td>\n",
       "    </tr>\n",
       "    <tr>\n",
       "      <th>3</th>\n",
       "      <td>4</td>\n",
       "      <td>15701354</td>\n",
       "      <td>Boni</td>\n",
       "      <td>699</td>\n",
       "      <td>France</td>\n",
       "      <td>Female</td>\n",
       "      <td>39</td>\n",
       "      <td>1.0</td>\n",
       "      <td>0.00</td>\n",
       "      <td>2</td>\n",
       "      <td>0</td>\n",
       "      <td>0</td>\n",
       "      <td>93826.63</td>\n",
       "      <td>0</td>\n",
       "    </tr>\n",
       "    <tr>\n",
       "      <th>4</th>\n",
       "      <td>5</td>\n",
       "      <td>15737888</td>\n",
       "      <td>Mitchell</td>\n",
       "      <td>850</td>\n",
       "      <td>Spain</td>\n",
       "      <td>Female</td>\n",
       "      <td>43</td>\n",
       "      <td>2.0</td>\n",
       "      <td>125510.82</td>\n",
       "      <td>1</td>\n",
       "      <td>1</td>\n",
       "      <td>1</td>\n",
       "      <td>79084.10</td>\n",
       "      <td>0</td>\n",
       "    </tr>\n",
       "  </tbody>\n",
       "</table>\n",
       "</div>"
      ],
      "text/plain": [
       "   RowNumber  CustomerId   Surname  CreditScore Geography  Gender  Age  \\\n",
       "0          1    15634602  Hargrave          619    France  Female   42   \n",
       "1          2    15647311      Hill          608     Spain  Female   41   \n",
       "2          3    15619304      Onio          502    France  Female   42   \n",
       "3          4    15701354      Boni          699    France  Female   39   \n",
       "4          5    15737888  Mitchell          850     Spain  Female   43   \n",
       "\n",
       "   Tenure    Balance  NumOfProducts  HasCrCard  IsActiveMember  \\\n",
       "0     2.0       0.00              1          1               1   \n",
       "1     1.0   83807.86              1          0               1   \n",
       "2     8.0  159660.80              3          1               0   \n",
       "3     1.0       0.00              2          0               0   \n",
       "4     2.0  125510.82              1          1               1   \n",
       "\n",
       "   EstimatedSalary  Exited  \n",
       "0        101348.88       1  \n",
       "1        112542.58       0  \n",
       "2        113931.57       1  \n",
       "3         93826.63       0  \n",
       "4         79084.10       0  "
      ]
     },
     "metadata": {},
     "output_type": "display_data"
    }
   ],
   "source": [
    "data = pd.read_csv('/datasets/Churn.csv')#прочитаем датасет\n",
    "print(data.shape)#выведим количество строк\n",
    "display(data.head())#выведим первые 5 строк"
   ]
  },
  {
   "cell_type": "code",
   "execution_count": 3,
   "metadata": {},
   "outputs": [
    {
     "name": "stdout",
     "output_type": "stream",
     "text": [
      "<class 'pandas.core.frame.DataFrame'>\n",
      "RangeIndex: 10000 entries, 0 to 9999\n",
      "Data columns (total 14 columns):\n",
      " #   Column           Non-Null Count  Dtype  \n",
      "---  ------           --------------  -----  \n",
      " 0   RowNumber        10000 non-null  int64  \n",
      " 1   CustomerId       10000 non-null  int64  \n",
      " 2   Surname          10000 non-null  object \n",
      " 3   CreditScore      10000 non-null  int64  \n",
      " 4   Geography        10000 non-null  object \n",
      " 5   Gender           10000 non-null  object \n",
      " 6   Age              10000 non-null  int64  \n",
      " 7   Tenure           9091 non-null   float64\n",
      " 8   Balance          10000 non-null  float64\n",
      " 9   NumOfProducts    10000 non-null  int64  \n",
      " 10  HasCrCard        10000 non-null  int64  \n",
      " 11  IsActiveMember   10000 non-null  int64  \n",
      " 12  EstimatedSalary  10000 non-null  float64\n",
      " 13  Exited           10000 non-null  int64  \n",
      "dtypes: float64(3), int64(8), object(3)\n",
      "memory usage: 1.1+ MB\n"
     ]
    }
   ],
   "source": [
    "data.info()#изучим тип переменных"
   ]
  },
  {
   "cell_type": "code",
   "execution_count": 4,
   "metadata": {},
   "outputs": [],
   "source": [
    "data.columns = data.columns.str.lower()#приведем названия столбцов к нижнему регистру"
   ]
  },
  {
   "cell_type": "code",
   "execution_count": 5,
   "metadata": {},
   "outputs": [
    {
     "data": {
      "text/plain": [
       "rownumber            0\n",
       "customerid           0\n",
       "surname              0\n",
       "creditscore          0\n",
       "geography            0\n",
       "gender               0\n",
       "age                  0\n",
       "tenure             909\n",
       "balance              0\n",
       "numofproducts        0\n",
       "hascrcard            0\n",
       "isactivemember       0\n",
       "estimatedsalary      0\n",
       "exited               0\n",
       "dtype: int64"
      ]
     },
     "execution_count": 5,
     "metadata": {},
     "output_type": "execute_result"
    }
   ],
   "source": [
    "data.isnull().sum()#проверим пропуски в столбцах"
   ]
  },
  {
   "cell_type": "markdown",
   "metadata": {},
   "source": [
    "___Комментарии:___ Много пропусков в столбце \"Tenure\", сколько лет является человек клиентом банка, так как мы не знаем этого факта, заполним пропуски 0."
   ]
  },
  {
   "cell_type": "code",
   "execution_count": 6,
   "metadata": {},
   "outputs": [],
   "source": [
    "data['tenure'] = data['tenure'].fillna(0)#заменим значения пропусков в столбце нулем"
   ]
  },
  {
   "cell_type": "code",
   "execution_count": 7,
   "metadata": {},
   "outputs": [
    {
     "data": {
      "text/plain": [
       "(array([0, 1]), array([7963, 2037]))"
      ]
     },
     "execution_count": 7,
     "metadata": {},
     "output_type": "execute_result"
    }
   ],
   "source": [
    "unique, counts = np.unique(data.exited, return_counts = True)#проверим целевой признак на сбалансированность\n",
    "unique, counts"
   ]
  },
  {
   "cell_type": "code",
   "execution_count": 8,
   "metadata": {},
   "outputs": [
    {
     "data": {
      "text/plain": [
       "<AxesSubplot:>"
      ]
     },
     "execution_count": 8,
     "metadata": {},
     "output_type": "execute_result"
    },
    {
     "data": {
      "image/png": "[encoded data removed]",
      "text/plain": [
       "<Figure size 720x432 with 2 Axes>"
      ]
     },
     "metadata": {
      "needs_background": "light"
     },
     "output_type": "display_data"
    }
   ],
   "source": [
    "# Матрица корреляции\n",
    "correlation_matrix = data.corr()\n",
    "\n",
    "# Выводим признаки на тепловую карту\n",
    "plt.figure(figsize= (10, 6))\n",
    "sns.heatmap(correlation_matrix, annot = True)"
   ]
  },
  {
   "cell_type": "markdown",
   "metadata": {},
   "source": [
    "___Комментарии:___ Наиболее зависимые признаки от целевого признака факта ухода из банка, это признак возраста и баланса на счете. Менее зависимые категориальные признаки, по которым мы не можем судить корреляцию. Таким образом, мы удалим столбцы малозначимые визуально, индекс строки, уникальный идентификатор клиента, фамилия. Для дальнейших действий они не имеют значение для получения прогнозируемой цели ухода из банка клиента."
   ]
  },
  {
   "cell_type": "code",
   "execution_count": 9,
   "metadata": {},
   "outputs": [],
   "source": [
    "data = data.drop(columns = ['rownumber', 'customerid', 'surname'],axis = 1)#удалим из датафрейма столбцы малозначимые"
   ]
  },
  {
   "cell_type": "markdown",
   "metadata": {},
   "source": [
    "____Комментарии:____ Много клиентов-10000. Много категориальных признаков - фамилия, индентификатор клиента, страна проживания, пол, наличие кредитной карты, активность клиента, факт ухода клиента. Клиенты которые не ушли из банка почти 8000 против 2000, которые покинули банковскую систему. Целевой признак категориальный. Значит будем пробывать метрики классификации, так как задача категориальная, факт ухода да-1, нет-0 в целевом признаке \"Exited\"."
   ]
  },
  {
   "cell_type": "markdown",
   "metadata": {},
   "source": [
    "## Исследование задачи"
   ]
  },
  {
   "cell_type": "markdown",
   "metadata": {},
   "source": [
    "#### Масштабирование признаков."
   ]
  },
  {
   "cell_type": "code",
   "execution_count": 10,
   "metadata": {},
   "outputs": [
    {
     "name": "stdout",
     "output_type": "stream",
     "text": [
      "Index(['creditscore', 'age', 'tenure', 'balance', 'numofproducts', 'hascrcard',\n",
      "       'isactivemember', 'estimatedsalary', 'exited', 'geography_Germany',\n",
      "       'geography_Spain', 'gender_Male'],\n",
      "      dtype='object')\n"
     ]
    }
   ],
   "source": [
    "data_ohe = pd.get_dummies(data, drop_first=True)#преобразуем датафрейм техникой OHE\n",
    "print(data_ohe.columns)#выведим на экран названия столбцов\n",
    "features = data_ohe.drop(['exited'], axis=1)#выделим признаки\n",
    "target = data_ohe['exited']#выделим целевой признак"
   ]
  },
  {
   "cell_type": "code",
   "execution_count": 11,
   "metadata": {},
   "outputs": [],
   "source": [
    "features_train, features_valid, target_train, target_valid = train_test_split(features, target, test_size=0.4, random_state=54321, stratify=target)\n",
    "#отделяем 40% данных для валидационной выборки\n",
    "features_train, features_test, target_train, target_test = train_test_split(\n",
    "   features_train, target_train, test_size=0.2, random_state=54321, stratify=target_train)#отделим 20% для тестовой выборки"
   ]
  },
  {
   "cell_type": "code",
   "execution_count": 12,
   "metadata": {},
   "outputs": [
    {
     "data": {
      "text/plain": [
       "(4000, 11)"
      ]
     },
     "execution_count": 12,
     "metadata": {},
     "output_type": "execute_result"
    }
   ],
   "source": [
    "numeric = ['creditscore', 'age', 'tenure', 'balance',\n",
    "       'numofproducts', 'hascrcard', 'isactivemember', 'estimatedsalary']#выделим список всех численных признаков\n",
    "pd.options.mode.chained_assignment = None\n",
    "scaler = StandardScaler()#преобразуем масштаб методом стандартизации\n",
    "scaler.fit(features_valid[numeric])#настроим объект структуры на валидационных данных\n",
    "features_valid[numeric] = scaler.transform(features_valid[numeric])#преобразуем данные функцией\n",
    "features_valid.shape"
   ]
  },
  {
   "cell_type": "code",
   "execution_count": 13,
   "metadata": {},
   "outputs": [
    {
     "data": {
      "text/plain": [
       "(4800, 11)"
      ]
     },
     "execution_count": 13,
     "metadata": {},
     "output_type": "execute_result"
    }
   ],
   "source": [
    "scaler.fit(features_train[numeric])#стандартизуем данные на обучающей выборке\n",
    "features_train[numeric] = scaler.transform(features_train[numeric])#преобразуем данные функцией\n",
    "features_train.shape"
   ]
  },
  {
   "cell_type": "code",
   "execution_count": 14,
   "metadata": {},
   "outputs": [
    {
     "data": {
      "text/plain": [
       "(1200, 11)"
      ]
     },
     "execution_count": 14,
     "metadata": {},
     "output_type": "execute_result"
    }
   ],
   "source": [
    "scaler.fit(features_test[numeric])#стандартизуем данные на тестовой выборке\n",
    "features_test[numeric] = scaler.transform(features_test[numeric])#преобразуем данные тестовой выборки\n",
    "features_test.shape"
   ]
  },
  {
   "cell_type": "markdown",
   "metadata": {},
   "source": [
    "____Комментарии:___ У признаков был разный масштаб, поэтому мы из стандартизировали, чтобы машина не решила что какой-то признак важнее. Мы стандартизировали все выборки, для того чтобы потом проверить на тестовой выборке лучшую модель."
   ]
  },
  {
   "cell_type": "markdown",
   "metadata": {},
   "source": [
    "#### Accuracy для случайного леса"
   ]
  },
  {
   "cell_type": "code",
   "execution_count": 15,
   "metadata": {},
   "outputs": [
    {
     "name": "stdout",
     "output_type": "stream",
     "text": [
      "Accuracy наилучшей модели на валидационной выборке: 0.86225\n",
      "Accuracy предсказаний на валидационной выборке: 0.861\n"
     ]
    }
   ],
   "source": [
    "best_model=None\n",
    "best_result=0\n",
    "for est in range(1,50):\n",
    "    model = RandomForestClassifier(random_state=54321, n_estimators=est)#создадим модель для случайного леса\n",
    "    model.fit(features_train, target_train)#обучим модель\n",
    "    result=model.score(features_valid, target_valid)#посчитаем качество модели\n",
    "    if result>best_result:\n",
    "        best_model = model#сохраним наилучшую модель\n",
    "        best_result = result#сохраним наилучшее значение метрики accuracy\n",
    "\n",
    "print(\"Accuracy наилучшей модели на валидационной выборке:\", best_result)\n",
    "predicted_valid = model.predict(features_valid)#предскажем модель\n",
    "accuracy_valid = accuracy_score(target_valid, predicted_valid)#посчитаем качество модели\n",
    "print(\"Accuracy предсказаний на валидационной выборке:\", accuracy_valid)"
   ]
  },
  {
   "cell_type": "markdown",
   "metadata": {},
   "source": [
    "____Комментарии:____ Правильность ответов на валидационной выборке 86%, лучший результат получился на модели случайного леса."
   ]
  },
  {
   "cell_type": "markdown",
   "metadata": {},
   "source": [
    "#### Проверка адекватности модели"
   ]
  },
  {
   "cell_type": "code",
   "execution_count": 16,
   "metadata": {},
   "outputs": [
    {
     "name": "stdout",
     "output_type": "stream",
     "text": [
      "0    0.7963\n",
      "1    0.2037\n",
      "Name: exited, dtype: float64\n"
     ]
    },
    {
     "data": {
      "image/png": "[encoded data removed]",
      "text/plain": [
       "<Figure size 432x288 with 1 Axes>"
      ]
     },
     "metadata": {
      "needs_background": "light"
     },
     "output_type": "display_data"
    }
   ],
   "source": [
    "class_frequency = data_ohe['exited'].value_counts(normalize=True)#посчитаем относительную частоту уникальных значений\n",
    "print(class_frequency)#выведим на экран частоту уникальных значений\n",
    "class_frequency.plot(kind='bar');#построим диаграмму"
   ]
  },
  {
   "cell_type": "markdown",
   "metadata": {},
   "source": [
    "___Комментарии:___ Чаще встречается класс 0 в целевом признаке, чем 1. 20% клиентов уходят из банка."
   ]
  },
  {
   "cell_type": "code",
   "execution_count": 17,
   "metadata": {},
   "outputs": [
    {
     "name": "stdout",
     "output_type": "stream",
     "text": [
      "0    0.87175\n",
      "1    0.12825\n",
      "dtype: float64\n"
     ]
    },
    {
     "data": {
      "image/png": "[encoded data removed]",
      "text/plain": [
       "<Figure size 432x288 with 1 Axes>"
      ]
     },
     "metadata": {
      "needs_background": "light"
     },
     "output_type": "display_data"
    }
   ],
   "source": [
    "predicted_valid = pd.Series(model.predict(features_valid))\n",
    "#чтобы функция value_counts() работала, мы преобразуем результаты к pd.Series\n",
    "class_frequency = predicted_valid.value_counts(normalize=True)\n",
    "print(class_frequency)\n",
    "class_frequency.plot(kind='bar');#построим диаграмму"
   ]
  },
  {
   "cell_type": "markdown",
   "metadata": {},
   "source": [
    "____Комментарии:___ В результате предсказаний решающего дерева, частоты классов изменились, теперь уходят из банка 12% клиентов, а 87% остаются."
   ]
  },
  {
   "cell_type": "code",
   "execution_count": 18,
   "metadata": {},
   "outputs": [
    {
     "name": "stdout",
     "output_type": "stream",
     "text": [
      "0.7963\n"
     ]
    }
   ],
   "source": [
    "target_pred_constant = pd.Series(0, index=target.index)#создадим константную модель, для любого объекта прогнозирует 0\n",
    "print(accuracy_score(target, target_pred_constant))"
   ]
  },
  {
   "cell_type": "markdown",
   "metadata": {},
   "source": [
    "____Комментарии:____ В итоге проверку на адекватность модель не прошла, 79% клиентов остались в банке судя по ответам, как и ранее."
   ]
  },
  {
   "cell_type": "markdown",
   "metadata": {},
   "source": [
    "## Борьба с дисбалансом"
   ]
  },
  {
   "cell_type": "markdown",
   "metadata": {},
   "source": [
    "#### Матрица ошибок"
   ]
  },
  {
   "cell_type": "code",
   "execution_count": 19,
   "metadata": {},
   "outputs": [
    {
     "name": "stdout",
     "output_type": "stream",
     "text": [
      "[[3058  127]\n",
      " [ 429  386]]\n"
     ]
    }
   ],
   "source": [
    "print(confusion_matrix(target_valid, predicted_valid))#построим матрицу ошибок для случайного леса"
   ]
  },
  {
   "cell_type": "markdown",
   "metadata": {},
   "source": [
    "___Комментарии:___ Истинно положительных ответов(TP) 386, истинно отрицательных ответов(TN) 3058, ложноположительных ответов(FP) 127, ложноотрицательных ответов (FN) 429. 127 клиентов по факту отстались в банковской системе, а модель предсказала что они ушли из банковской системы. 429 клиентов ушли из банка, а модель предсказала что они остались в банковской системе."
   ]
  },
  {
   "cell_type": "markdown",
   "metadata": {},
   "source": [
    "#### F-1 метрика"
   ]
  },
  {
   "cell_type": "code",
   "execution_count": 20,
   "metadata": {},
   "outputs": [
    {
     "name": "stdout",
     "output_type": "stream",
     "text": [
      "Полнота: 0.4736196319018405\n",
      "Точность: 0.7524366471734892\n",
      "F1-мера: 0.5813253012048192\n"
     ]
    }
   ],
   "source": [
    "recall = recall_score(target_valid, predicted_valid)#найдем полноту на вадлидационной выборке\n",
    "precision = precision_score(target_valid, predicted_valid)#найдем точность на валидационной выборке\n",
    "f1 = 2*precision*recall/(precision+recall)#найдем меру f1 на валидционной выборке\n",
    "print(\"Полнота:\", recall)#выведим на печать\n",
    "print(\"Точность:\", precision)\n",
    "print(\"F1-мера:\", f1)"
   ]
  },
  {
   "cell_type": "markdown",
   "metadata": {},
   "source": [
    "___Комментарии:___ Доля положительных ответов 47%, хотя доля положительных ответов из всех объектов положительного класса 75%. Соотношение полноты и точности - F1 равна 0,58, это конечно мало. Будем увеличивать метрику."
   ]
  },
  {
   "cell_type": "markdown",
   "metadata": {},
   "source": [
    "#### Увелечение выборки"
   ]
  },
  {
   "cell_type": "code",
   "execution_count": 21,
   "metadata": {},
   "outputs": [
    {
     "name": "stdout",
     "output_type": "stream",
     "text": [
      "F1: 0.609353507565337\n"
     ]
    }
   ],
   "source": [
    "def upsample(features, target, repeat):#создадим функцию с тремя параметрами\n",
    "    features_zeros = features[target == 0]#функия вернет признаки после операции upsampling\n",
    "    features_ones = features[target == 1]#признаки объектов с ответом 1\n",
    "    target_zeros = target[target == 0]#целевой признак объектов с ответом 0\n",
    "    target_ones = target[target == 1]#целевой признак с ответом 1\n",
    "\n",
    "    features_upsampled = pd.concat([features_zeros] + [features_ones] * repeat)#объединим таблицы с признаками\n",
    "    target_upsampled = pd.concat([target_zeros] + [target_ones] * repeat)#получим таблицы с положительными ответами\n",
    "    \n",
    "    features_upsampled, target_upsampled = shuffle(\n",
    "        features_upsampled, target_upsampled, random_state=54321)#перемешаем данные\n",
    "    \n",
    "    return features_upsampled, target_upsampled\n",
    "\n",
    "features_upsampled, target_upsampled = upsample(features_train, target_train, 10)#преобразуем данные\n",
    "model = RandomForestClassifier(random_state=54321, n_estimators=50)#вызовим модель случайный лес с глубиной 50\n",
    "model.fit(features_upsampled, target_upsampled)#обучим модель на увеличенной выборке\n",
    "predicted_valid = model.predict(features_valid)#предскажем модель\n",
    "\n",
    "print(\"F1:\", f1_score(target_valid, predicted_valid))#посчитаем метрику f1"
   ]
  },
  {
   "cell_type": "markdown",
   "metadata": {},
   "source": [
    "___Комментарии:___ Метрика увеличилась при увелечении выборки, но не намного."
   ]
  },
  {
   "cell_type": "markdown",
   "metadata": {},
   "source": [
    "#### Изменение порога"
   ]
  },
  {
   "cell_type": "code",
   "execution_count": 22,
   "metadata": {},
   "outputs": [
    {
     "name": "stdout",
     "output_type": "stream",
     "text": [
      "[0.14 0.12 0.2  0.   0.7 ]\n",
      "Порог = 0.00 | Точность = 0.214, Полнота = 0.995\n",
      "Порог = 0.02 | Точность = 0.231, Полнота = 0.983\n",
      "Порог = 0.04 | Точность = 0.250, Полнота = 0.972\n",
      "Порог = 0.06 | Точность = 0.267, Полнота = 0.951\n",
      "Порог = 0.08 | Точность = 0.283, Полнота = 0.940\n",
      "Порог = 0.10 | Точность = 0.301, Полнота = 0.921\n",
      "Порог = 0.12 | Точность = 0.320, Полнота = 0.906\n",
      "Порог = 0.14 | Точность = 0.335, Полнота = 0.887\n",
      "Порог = 0.16 | Точность = 0.357, Полнота = 0.872\n",
      "Порог = 0.18 | Точность = 0.370, Полнота = 0.849\n",
      "Порог = 0.20 | Точность = 0.390, Полнота = 0.827\n",
      "Порог = 0.22 | Точность = 0.411, Полнота = 0.811\n",
      "Порог = 0.24 | Точность = 0.427, Полнота = 0.793\n",
      "Порог = 0.26 | Точность = 0.447, Полнота = 0.761\n",
      "Порог = 0.28 | Точность = 0.463, Полнота = 0.736\n"
     ]
    }
   ],
   "source": [
    "probabilities_valid = model.predict_proba(features_valid)#предскажем вероятность классов на валидационной выборке\n",
    "probabilities_one_valid = probabilities_valid[:, 1]\n",
    "print(probabilities_one_valid[:5])#выведим на экран вероятности класса 1\n",
    "\n",
    "for threshold in np.arange(0, 0.3, 0.02):#перебем значения порогов от 0 до 0,3 с шагом 0,02\n",
    "    predicted_valid = probabilities_one_valid > threshold# сравним значения вероятностей класса 1 с порогом\n",
    "    precision = precision_score(target_valid, predicted_valid)# найдем точность\n",
    "    recall = recall_score(target_valid, predicted_valid)# найдем полноту\n",
    "\n",
    "    print(\"Порог = {:.2f} | Точность = {:.3f}, Полнота = {:.3f}\".format(\n",
    "        threshold, precision, recall))#выведим на экран значения"
   ]
  },
  {
   "cell_type": "markdown",
   "metadata": {},
   "source": [
    "___Комментарии:___ Вероятности не болшие. При пороге 0, полнота равна 0,99 - все ответы положительные. Полнота падает по мере увелечения значения порога. Точность растет, а когда количество положительных ответов уменьшается, падает до нуля. Если ответов класса 1 нет, то ноль делится на ноль. Поднимать порог не имеет смысла. Модель перерастет предсказывать положительный класс."
   ]
  },
  {
   "cell_type": "markdown",
   "metadata": {},
   "source": [
    "#### Roc-кривая"
   ]
  },
  {
   "cell_type": "code",
   "execution_count": 23,
   "metadata": {},
   "outputs": [
    {
     "name": "stdout",
     "output_type": "stream",
     "text": [
      "Площадь под ROC-кривой AUC-ROC: 0.8439922566478218\n"
     ]
    },
    {
     "data": {
      "image/png": "[encoded data removed]",
      "text/plain": [
       "<Figure size 432x288 with 1 Axes>"
      ]
     },
     "metadata": {
      "needs_background": "light"
     },
     "output_type": "display_data"
    }
   ],
   "source": [
    "probabilities_valid = model.predict_proba(features_valid)#вычислим вероятности\n",
    "probabilities_one_valid = probabilities_valid[:, 1]#предскажем значения первого класса\n",
    "\n",
    "fpr, tpr, thresholds = roc_curve(target_valid, probabilities_one_valid)# перберм пороги и вернем три списка\n",
    "auc_roc = roc_auc_score(target_valid, model.predict_proba(features_valid)[:,1])#посчитаем площадь под кривой\n",
    "print(\"Площадь под ROC-кривой AUC-ROC:\", auc_roc)#выведим значение метрики\n",
    "\n",
    "plt.figure()\n",
    "\n",
    "plt.plot(fpr, tpr)# построим график\n",
    "\n",
    "# ROC-кривая случайной модели (выглядит как прямая)\n",
    "plt.plot([0, 1], [0, 1], linestyle='--')\n",
    "\n",
    "plt.xlim([0.0, 1.0])# < применим функции plt.xlim() и plt.ylim(), чтобы\n",
    "plt.ylim([0.0, 1.0])#   установить границы осей от 0 до 1 >\n",
    "\n",
    "plt.xlabel('False Positive Rate')# примените функции plt.xlabel() и plt.ylabel(), чтобы\n",
    "plt.ylabel('True Positive Rate')# подписать оси \"False Positive Rate\" и \"True Positive Rate\" \n",
    "\n",
    "plt.title('ROC-кривая')# добавим к графику заголовок \"ROC-кривая\" функцией plt.title()\n",
    "\n",
    "plt.show()"
   ]
  },
  {
   "cell_type": "markdown",
   "metadata": {},
   "source": [
    "___Комментарии:___ Соотношение TPR(полнота-доля верно предсказанных объектов к общему числу объектов) к FPR(доля ложных срабатываний к общему числу объектов за пределами класса). Доля TPR выше, так как мы видим графие выше, значит и качество модели лучше. Метрика AUC-ROC 0,84, но далеко до идеальной 1."
   ]
  },
  {
   "cell_type": "markdown",
   "metadata": {},
   "source": [
    "## Тестирование модели"
   ]
  },
  {
   "cell_type": "markdown",
   "metadata": {},
   "source": [
    "#### Поиск по сетке"
   ]
  },
  {
   "cell_type": "code",
   "execution_count": 24,
   "metadata": {},
   "outputs": [
    {
     "name": "stdout",
     "output_type": "stream",
     "text": [
      "Best score:0.81\n",
      "Best parameters:{'gamma': 1, 'C': 1}\n",
      "Best score on test set:0.82\n",
      "1200\n"
     ]
    }
   ],
   "source": [
    "best_score = 0\n",
    "for gamma in [100, 300, 1, 500]:\n",
    "    for c in [100, 300, 1, 500]:\n",
    "        # Проведем обучение для каждой возможной комбинации параметров\n",
    "        svm = SVC(gamma=gamma,C=c)\n",
    "        svm.fit(features_train, target_train)\n",
    "        score = svm.score(features_valid,target_valid)\n",
    "        # Найдем наиболее эффективные параметры\n",
    "        if score > best_score:\n",
    "            best_score = score\n",
    "            best_parameters = {'gamma':gamma,\"C\":c}\n",
    "#Используем лучшие параметры для построения новой модели\n",
    "svm = SVC(**best_parameters)\n",
    "\n",
    "#Обучим модель\n",
    "svm.fit(features_train, target_train)\n",
    "\n",
    "#Оценка модели\n",
    "test_score = svm.score(features_test,target_test)\n",
    "\n",
    "print('Best score:{:.2f}'.format(best_score))\n",
    "print('Best parameters:{}'.format(best_parameters))\n",
    "print('Best score on test set:{:.2f}'.format(test_score))\n",
    "\n",
    "#Прогноз результатов теста\n",
    "features_test_lab = svm.predict(features_test)\n",
    "print(len(target_test))"
   ]
  },
  {
   "cell_type": "markdown",
   "metadata": {},
   "source": [
    "___Комментарии:___ Мы получили низкий гамма-параметр - 1, что означает что у нас больше точек группируется вместе, т.е. много точек принадлежашие к одному классу, об этом и говорит парметр С равный 1. Наилучшую точность нам дал параметр best score - 82% правильных ответов с наилучшими гиперпараметрами в диапазоне от 1 до 500."
   ]
  },
  {
   "cell_type": "markdown",
   "metadata": {},
   "source": [
    "#### Значение метрики F1 на тестовой выборке при увелечении выборки"
   ]
  },
  {
   "cell_type": "code",
   "execution_count": 25,
   "metadata": {},
   "outputs": [
    {
     "name": "stdout",
     "output_type": "stream",
     "text": [
      "F1 на тестовой выборке: 0.5972850678733032\n"
     ]
    }
   ],
   "source": [
    "predicted_test = model.predict(features_test)#предскажем модель\n",
    "\n",
    "print(\"F1 на тестовой выборке:\", f1_score(target_test, predicted_test))#посчитаем метрику f1"
   ]
  },
  {
   "cell_type": "markdown",
   "metadata": {},
   "source": [
    "#### Значение ROC-кривой на тестовой выборке"
   ]
  },
  {
   "cell_type": "code",
   "execution_count": 26,
   "metadata": {},
   "outputs": [
    {
     "name": "stdout",
     "output_type": "stream",
     "text": [
      "Площадь под ROC-кривой AUC-ROC: 0.8531170690719527\n"
     ]
    }
   ],
   "source": [
    "probabilities_test = model.predict_proba(features_test)#вычислим вероятности\n",
    "probabilities_one_test = probabilities_test[:, 1]#предскажем значения первого класса\n",
    "\n",
    "fpr, tpr, thresholds = roc_curve(target_test, probabilities_one_test)# перберм пороги и вернем три списка\n",
    "auc_roc = roc_auc_score(target_test, model.predict_proba(features_test)[:,1])#посчитаем площадь под кривой\n",
    "print(\"Площадь под ROC-кривой AUC-ROC:\", auc_roc)#выведим значение метрики"
   ]
  },
  {
   "cell_type": "markdown",
   "metadata": {},
   "source": [
    "___Комментарии:___ ROC предназначен для многих различных уровней пороговых значений и, следовательно, имеет много значений F. Оценка F1 применима к любой конкретной точке кривой ROC. Чтобы метрика F1 которая равна на тестовой выборке 60% была выше, нужно чтобы точность и полнота были выше. ROC усредняет по всем возможным пороговым значениям нашу метрику F. Площадь ROC 85%."
   ]
  },
  {
   "cell_type": "markdown",
   "metadata": {},
   "source": [
    "## Выводы"
   ]
  },
  {
   "cell_type": "markdown",
   "metadata": {},
   "source": [
    "Для того, чтобы спрогнозировать, уйдет ли клиент из банка в ближайшее время или нет, мы изучили исторические данные и построили лучшую модель для прогноза поведения клиента в случае расторжения договоров с банком. В датасете мы заполнили пропуски в некотором столбце, анализировали признаки, в том числе целевой признак Exited, построили матрицу зависимости от целевого признака. В ходе исследоввания задачи мы масштабировали признаки, затем разделили датасет на валидационную, обучающую и тестовую выборки. Выбрали наилучшую модель случайного леса, доля правильных ответов составили 86%. Мы проверили адекватность модели, в резултате модель проверку не прошла. Следовательно, мы изчили матрицу ошибок. F1 метрика на валидационной выборке составила 58%. Чтобы поднять метрику, мы увеличили выборку и метрика немного поднялась 60%. Мы изменили порог, но это не дало кспеха. Далее мы построили ROC-кривую, котрая составила 84%. На тестовой выборке мы искали лучшие гиперпараметры и получили 82% правильных ответов по сетке. Значения F1 на тестовой выборке составила 60%, AUC-ROC 85%, значит модель применена успешно."
   ]
  }
 ],
 "metadata": {
  "ExecuteTimeLog": [
   {
    "duration": 356,
    "start_time": "2022-11-20T18:41:49.436Z"
   },
   {
    "duration": 3,
    "start_time": "2022-11-20T18:55:03.589Z"
   },
   {
    "duration": 166,
    "start_time": "2022-11-20T18:56:25.013Z"
   },
   {
    "duration": 56,
    "start_time": "2022-11-20T18:57:20.325Z"
   },
   {
    "duration": 55,
    "start_time": "2022-11-20T18:57:29.061Z"
   },
   {
    "duration": 52,
    "start_time": "2022-11-20T18:58:23.213Z"
   },
   {
    "duration": 12,
    "start_time": "2022-11-20T18:59:03.286Z"
   },
   {
    "duration": 72,
    "start_time": "2022-11-20T19:02:36.161Z"
   },
   {
    "duration": 3,
    "start_time": "2022-11-20T19:03:07.479Z"
   },
   {
    "duration": 52,
    "start_time": "2022-11-20T19:03:10.779Z"
   },
   {
    "duration": 12,
    "start_time": "2022-11-20T19:03:15.374Z"
   },
   {
    "duration": 5,
    "start_time": "2022-11-20T19:03:19.784Z"
   },
   {
    "duration": 5,
    "start_time": "2022-11-20T19:05:02.393Z"
   },
   {
    "duration": 6,
    "start_time": "2022-11-20T19:06:22.027Z"
   },
   {
    "duration": 4,
    "start_time": "2022-11-20T19:10:22.507Z"
   },
   {
    "duration": 1381,
    "start_time": "2022-11-21T09:30:39.943Z"
   },
   {
    "duration": 82,
    "start_time": "2022-11-21T09:35:06.104Z"
   },
   {
    "duration": 15,
    "start_time": "2022-11-21T09:35:33.010Z"
   },
   {
    "duration": 8,
    "start_time": "2022-11-21T09:42:11.396Z"
   },
   {
    "duration": 409,
    "start_time": "2022-11-21T09:42:24.898Z"
   },
   {
    "duration": 99,
    "start_time": "2022-11-21T09:42:25.309Z"
   },
   {
    "duration": 12,
    "start_time": "2022-11-21T09:42:25.409Z"
   },
   {
    "duration": 13,
    "start_time": "2022-11-21T09:42:25.423Z"
   },
   {
    "duration": 77,
    "start_time": "2022-11-21T09:42:25.439Z"
   },
   {
    "duration": 0,
    "start_time": "2022-11-21T09:42:25.518Z"
   },
   {
    "duration": 0,
    "start_time": "2022-11-21T09:42:25.519Z"
   },
   {
    "duration": 4,
    "start_time": "2022-11-21T09:43:21.621Z"
   },
   {
    "duration": 9,
    "start_time": "2022-11-21T09:43:25.780Z"
   },
   {
    "duration": 16,
    "start_time": "2022-11-21T09:46:52.454Z"
   },
   {
    "duration": 1776,
    "start_time": "2022-11-21T09:47:41.974Z"
   },
   {
    "duration": 52,
    "start_time": "2022-11-21T10:04:21.222Z"
   },
   {
    "duration": 4,
    "start_time": "2022-11-21T10:30:13.454Z"
   },
   {
    "duration": 52,
    "start_time": "2022-11-21T10:34:53.359Z"
   },
   {
    "duration": 259,
    "start_time": "2022-11-21T10:36:23.464Z"
   },
   {
    "duration": 4,
    "start_time": "2022-11-21T10:36:29.009Z"
   },
   {
    "duration": 1326,
    "start_time": "2022-11-21T10:36:34.518Z"
   },
   {
    "duration": 55,
    "start_time": "2022-11-21T10:36:35.846Z"
   },
   {
    "duration": 13,
    "start_time": "2022-11-21T10:36:35.903Z"
   },
   {
    "duration": 10,
    "start_time": "2022-11-21T10:36:35.918Z"
   },
   {
    "duration": 1124,
    "start_time": "2022-11-21T10:36:35.930Z"
   },
   {
    "duration": 4,
    "start_time": "2022-11-21T10:36:37.056Z"
   },
   {
    "duration": 65,
    "start_time": "2022-11-21T10:36:37.062Z"
   },
   {
    "duration": 7,
    "start_time": "2022-11-21T10:36:50.161Z"
   },
   {
    "duration": 7,
    "start_time": "2022-11-21T10:39:06.337Z"
   },
   {
    "duration": 7,
    "start_time": "2022-11-21T10:39:25.521Z"
   },
   {
    "duration": 8,
    "start_time": "2022-11-21T10:41:07.618Z"
   },
   {
    "duration": 30,
    "start_time": "2022-11-21T10:45:07.366Z"
   },
   {
    "duration": 3,
    "start_time": "2022-11-21T10:46:04.564Z"
   },
   {
    "duration": 14,
    "start_time": "2022-11-21T10:49:36.311Z"
   },
   {
    "duration": 9,
    "start_time": "2022-11-21T10:49:54.300Z"
   },
   {
    "duration": 4,
    "start_time": "2022-11-21T10:49:58.198Z"
   },
   {
    "duration": 12,
    "start_time": "2022-11-21T10:51:12.550Z"
   },
   {
    "duration": 4,
    "start_time": "2022-11-21T10:51:15.446Z"
   },
   {
    "duration": 4,
    "start_time": "2022-11-21T11:08:29.383Z"
   },
   {
    "duration": 1398,
    "start_time": "2022-11-21T11:08:34.870Z"
   },
   {
    "duration": 54,
    "start_time": "2022-11-21T11:08:36.270Z"
   },
   {
    "duration": 12,
    "start_time": "2022-11-21T11:08:36.326Z"
   },
   {
    "duration": 10,
    "start_time": "2022-11-21T11:08:36.339Z"
   },
   {
    "duration": 1092,
    "start_time": "2022-11-21T11:08:36.350Z"
   },
   {
    "duration": 5,
    "start_time": "2022-11-21T11:08:37.443Z"
   },
   {
    "duration": 20,
    "start_time": "2022-11-21T11:08:37.450Z"
   },
   {
    "duration": 4,
    "start_time": "2022-11-21T11:08:37.472Z"
   },
   {
    "duration": 8,
    "start_time": "2022-11-21T11:16:18.885Z"
   },
   {
    "duration": 8,
    "start_time": "2022-11-21T11:18:56.205Z"
   },
   {
    "duration": 6,
    "start_time": "2022-11-21T11:19:31.736Z"
   },
   {
    "duration": 10,
    "start_time": "2022-11-21T11:19:37.767Z"
   },
   {
    "duration": 215,
    "start_time": "2022-11-21T11:23:24.360Z"
   },
   {
    "duration": 221,
    "start_time": "2022-11-21T11:23:35.290Z"
   },
   {
    "duration": 303,
    "start_time": "2022-11-21T14:47:58.031Z"
   },
   {
    "duration": 1331,
    "start_time": "2022-11-21T14:48:07.714Z"
   },
   {
    "duration": 56,
    "start_time": "2022-11-21T14:48:09.047Z"
   },
   {
    "duration": 13,
    "start_time": "2022-11-21T14:48:09.104Z"
   },
   {
    "duration": 4,
    "start_time": "2022-11-21T14:48:09.119Z"
   },
   {
    "duration": 1037,
    "start_time": "2022-11-21T14:48:09.125Z"
   },
   {
    "duration": 316,
    "start_time": "2022-11-21T14:48:10.163Z"
   },
   {
    "duration": 0,
    "start_time": "2022-11-21T14:48:10.480Z"
   },
   {
    "duration": 0,
    "start_time": "2022-11-21T14:48:10.481Z"
   },
   {
    "duration": 0,
    "start_time": "2022-11-21T14:48:10.482Z"
   },
   {
    "duration": 211,
    "start_time": "2022-11-21T14:48:41.111Z"
   },
   {
    "duration": 203,
    "start_time": "2022-11-21T14:49:53.768Z"
   },
   {
    "duration": 104,
    "start_time": "2022-11-21T14:50:06.808Z"
   },
   {
    "duration": 53,
    "start_time": "2022-11-21T14:50:11.591Z"
   },
   {
    "duration": 230,
    "start_time": "2022-11-21T14:50:22.888Z"
   },
   {
    "duration": 222,
    "start_time": "2022-11-21T14:54:49.079Z"
   },
   {
    "duration": 219,
    "start_time": "2022-11-21T14:55:09.897Z"
   },
   {
    "duration": 226,
    "start_time": "2022-11-21T14:55:40.586Z"
   },
   {
    "duration": 209,
    "start_time": "2022-11-21T14:55:52.682Z"
   },
   {
    "duration": 221,
    "start_time": "2022-11-21T14:58:28.738Z"
   },
   {
    "duration": 221,
    "start_time": "2022-11-21T14:58:48.830Z"
   },
   {
    "duration": 256,
    "start_time": "2022-11-21T14:59:08.126Z"
   },
   {
    "duration": 9,
    "start_time": "2022-11-21T15:00:15.518Z"
   },
   {
    "duration": 92,
    "start_time": "2022-11-21T15:00:21.455Z"
   },
   {
    "duration": 4,
    "start_time": "2022-11-21T15:00:24.398Z"
   },
   {
    "duration": 89,
    "start_time": "2022-11-21T15:00:58.591Z"
   },
   {
    "duration": 11,
    "start_time": "2022-11-21T15:03:41.328Z"
   },
   {
    "duration": 9,
    "start_time": "2022-11-21T15:03:53.281Z"
   },
   {
    "duration": 3,
    "start_time": "2022-11-21T15:04:10.209Z"
   },
   {
    "duration": 1384,
    "start_time": "2022-11-21T15:04:15.323Z"
   },
   {
    "duration": 56,
    "start_time": "2022-11-21T15:04:16.709Z"
   },
   {
    "duration": 13,
    "start_time": "2022-11-21T15:04:16.766Z"
   },
   {
    "duration": 6,
    "start_time": "2022-11-21T15:04:16.781Z"
   },
   {
    "duration": 1077,
    "start_time": "2022-11-21T15:04:16.789Z"
   },
   {
    "duration": 277,
    "start_time": "2022-11-21T15:04:17.867Z"
   },
   {
    "duration": 111,
    "start_time": "2022-11-21T15:04:18.146Z"
   },
   {
    "duration": 3,
    "start_time": "2022-11-21T15:17:06.617Z"
   },
   {
    "duration": 126,
    "start_time": "2022-11-21T15:31:34.657Z"
   },
   {
    "duration": 25,
    "start_time": "2022-11-21T15:36:21.477Z"
   },
   {
    "duration": 102,
    "start_time": "2022-11-21T15:36:44.844Z"
   },
   {
    "duration": 25,
    "start_time": "2022-11-21T15:36:48.109Z"
   },
   {
    "duration": 116,
    "start_time": "2022-11-21T15:37:06.156Z"
   },
   {
    "duration": 28,
    "start_time": "2022-11-21T15:37:09.149Z"
   },
   {
    "duration": 1431,
    "start_time": "2022-11-21T15:51:44.890Z"
   },
   {
    "duration": 65,
    "start_time": "2022-11-21T15:51:46.323Z"
   },
   {
    "duration": 17,
    "start_time": "2022-11-21T15:51:46.390Z"
   },
   {
    "duration": 17,
    "start_time": "2022-11-21T15:51:46.409Z"
   },
   {
    "duration": 1220,
    "start_time": "2022-11-21T15:51:46.429Z"
   },
   {
    "duration": 267,
    "start_time": "2022-11-21T15:51:47.651Z"
   },
   {
    "duration": 114,
    "start_time": "2022-11-21T15:51:47.920Z"
   },
   {
    "duration": 132,
    "start_time": "2022-11-21T15:51:48.037Z"
   },
   {
    "duration": 14,
    "start_time": "2022-11-21T15:55:09.195Z"
   },
   {
    "duration": 1356,
    "start_time": "2022-11-21T15:55:24.176Z"
   },
   {
    "duration": 53,
    "start_time": "2022-11-21T15:55:25.535Z"
   },
   {
    "duration": 12,
    "start_time": "2022-11-21T15:55:25.589Z"
   },
   {
    "duration": 5,
    "start_time": "2022-11-21T15:55:25.602Z"
   },
   {
    "duration": 1153,
    "start_time": "2022-11-21T15:55:25.609Z"
   },
   {
    "duration": 256,
    "start_time": "2022-11-21T15:55:26.764Z"
   },
   {
    "duration": 104,
    "start_time": "2022-11-21T15:55:27.021Z"
   },
   {
    "duration": 108,
    "start_time": "2022-11-21T15:55:27.127Z"
   },
   {
    "duration": 0,
    "start_time": "2022-11-21T15:55:27.236Z"
   },
   {
    "duration": 14,
    "start_time": "2022-11-21T15:55:38.932Z"
   },
   {
    "duration": 14,
    "start_time": "2022-11-21T15:55:51.364Z"
   },
   {
    "duration": 14,
    "start_time": "2022-11-21T15:57:17.143Z"
   },
   {
    "duration": 22,
    "start_time": "2022-11-21T15:58:09.382Z"
   },
   {
    "duration": 1311,
    "start_time": "2022-11-21T15:58:35.846Z"
   },
   {
    "duration": 56,
    "start_time": "2022-11-21T15:58:37.159Z"
   },
   {
    "duration": 13,
    "start_time": "2022-11-21T15:58:37.216Z"
   },
   {
    "duration": 12,
    "start_time": "2022-11-21T15:58:37.231Z"
   },
   {
    "duration": 1133,
    "start_time": "2022-11-21T15:58:37.245Z"
   },
   {
    "duration": 274,
    "start_time": "2022-11-21T15:58:38.380Z"
   },
   {
    "duration": 114,
    "start_time": "2022-11-21T15:58:38.655Z"
   },
   {
    "duration": 26,
    "start_time": "2022-11-21T15:58:38.771Z"
   },
   {
    "duration": 149,
    "start_time": "2022-11-21T15:58:38.799Z"
   },
   {
    "duration": 256,
    "start_time": "2022-11-21T16:02:51.736Z"
   },
   {
    "duration": 1400,
    "start_time": "2022-11-21T16:05:06.939Z"
   },
   {
    "duration": 56,
    "start_time": "2022-11-21T16:05:08.341Z"
   },
   {
    "duration": 13,
    "start_time": "2022-11-21T16:05:08.399Z"
   },
   {
    "duration": 28,
    "start_time": "2022-11-21T16:05:08.415Z"
   },
   {
    "duration": 1113,
    "start_time": "2022-11-21T16:05:08.445Z"
   },
   {
    "duration": 270,
    "start_time": "2022-11-21T16:05:09.559Z"
   },
   {
    "duration": 112,
    "start_time": "2022-11-21T16:05:09.831Z"
   },
   {
    "duration": 21,
    "start_time": "2022-11-21T16:05:09.945Z"
   },
   {
    "duration": 142,
    "start_time": "2022-11-21T16:05:09.967Z"
   },
   {
    "duration": 16,
    "start_time": "2022-11-21T16:08:07.362Z"
   },
   {
    "duration": 1394,
    "start_time": "2022-11-21T16:08:12.527Z"
   },
   {
    "duration": 62,
    "start_time": "2022-11-21T16:08:13.924Z"
   },
   {
    "duration": 15,
    "start_time": "2022-11-21T16:08:13.988Z"
   },
   {
    "duration": 5,
    "start_time": "2022-11-21T16:08:14.005Z"
   },
   {
    "duration": 1130,
    "start_time": "2022-11-21T16:08:14.012Z"
   },
   {
    "duration": 144,
    "start_time": "2022-11-21T16:08:15.144Z"
   },
   {
    "duration": 0,
    "start_time": "2022-11-21T16:08:15.296Z"
   },
   {
    "duration": 0,
    "start_time": "2022-11-21T16:08:15.298Z"
   },
   {
    "duration": 0,
    "start_time": "2022-11-21T16:08:15.299Z"
   },
   {
    "duration": 0,
    "start_time": "2022-11-21T16:08:15.301Z"
   },
   {
    "duration": 0,
    "start_time": "2022-11-21T16:08:15.302Z"
   },
   {
    "duration": 13,
    "start_time": "2022-11-21T16:08:48.026Z"
   },
   {
    "duration": 5,
    "start_time": "2022-11-21T16:09:23.978Z"
   },
   {
    "duration": 18,
    "start_time": "2022-11-21T16:09:44.555Z"
   },
   {
    "duration": 12,
    "start_time": "2022-11-21T16:09:49.131Z"
   },
   {
    "duration": 26,
    "start_time": "2022-11-21T16:09:51.995Z"
   },
   {
    "duration": 20,
    "start_time": "2022-11-21T16:11:08.661Z"
   },
   {
    "duration": 36,
    "start_time": "2022-11-21T16:13:15.632Z"
   },
   {
    "duration": 17,
    "start_time": "2022-11-21T16:15:28.239Z"
   },
   {
    "duration": 12,
    "start_time": "2022-11-21T16:17:03.937Z"
   },
   {
    "duration": 17,
    "start_time": "2022-11-21T16:18:25.670Z"
   },
   {
    "duration": 1325,
    "start_time": "2022-11-21T16:18:32.260Z"
   },
   {
    "duration": 55,
    "start_time": "2022-11-21T16:18:33.588Z"
   },
   {
    "duration": 13,
    "start_time": "2022-11-21T16:18:33.645Z"
   },
   {
    "duration": 8,
    "start_time": "2022-11-21T16:18:33.660Z"
   },
   {
    "duration": 1120,
    "start_time": "2022-11-21T16:18:33.669Z"
   },
   {
    "duration": 5,
    "start_time": "2022-11-21T16:18:34.791Z"
   },
   {
    "duration": 36,
    "start_time": "2022-11-21T16:18:34.797Z"
   },
   {
    "duration": 19,
    "start_time": "2022-11-21T16:18:34.835Z"
   },
   {
    "duration": 35,
    "start_time": "2022-11-21T16:18:34.856Z"
   },
   {
    "duration": 27,
    "start_time": "2022-11-21T16:18:34.893Z"
   },
   {
    "duration": 21,
    "start_time": "2022-11-21T16:18:34.922Z"
   },
   {
    "duration": 43,
    "start_time": "2022-11-21T16:40:13.743Z"
   },
   {
    "duration": 119,
    "start_time": "2022-11-21T16:40:26.203Z"
   },
   {
    "duration": 19,
    "start_time": "2022-11-21T16:43:20.269Z"
   },
   {
    "duration": 22,
    "start_time": "2022-11-21T16:44:44.494Z"
   },
   {
    "duration": 23,
    "start_time": "2022-11-21T16:45:10.893Z"
   },
   {
    "duration": 18,
    "start_time": "2022-11-21T16:45:17.294Z"
   },
   {
    "duration": 36,
    "start_time": "2022-11-21T17:19:36.733Z"
   },
   {
    "duration": 1326,
    "start_time": "2022-11-21T17:19:42.838Z"
   },
   {
    "duration": 55,
    "start_time": "2022-11-21T17:19:44.166Z"
   },
   {
    "duration": 12,
    "start_time": "2022-11-21T17:19:44.222Z"
   },
   {
    "duration": 9,
    "start_time": "2022-11-21T17:19:44.236Z"
   },
   {
    "duration": 1092,
    "start_time": "2022-11-21T17:19:44.246Z"
   },
   {
    "duration": 4,
    "start_time": "2022-11-21T17:19:45.340Z"
   },
   {
    "duration": 16,
    "start_time": "2022-11-21T17:19:45.346Z"
   },
   {
    "duration": 8,
    "start_time": "2022-11-21T17:19:45.363Z"
   },
   {
    "duration": 24,
    "start_time": "2022-11-21T17:19:45.373Z"
   },
   {
    "duration": 19,
    "start_time": "2022-11-21T17:19:45.399Z"
   },
   {
    "duration": 14,
    "start_time": "2022-11-21T17:19:45.420Z"
   },
   {
    "duration": 45,
    "start_time": "2022-11-21T17:19:45.436Z"
   },
   {
    "duration": 117,
    "start_time": "2022-11-21T17:19:51.806Z"
   },
   {
    "duration": 6,
    "start_time": "2022-11-21T17:26:26.806Z"
   },
   {
    "duration": 7,
    "start_time": "2022-11-21T17:34:14.250Z"
   },
   {
    "duration": 743,
    "start_time": "2022-11-21T17:35:23.652Z"
   },
   {
    "duration": 660,
    "start_time": "2022-11-21T17:37:52.950Z"
   },
   {
    "duration": 887,
    "start_time": "2022-11-21T17:39:18.949Z"
   },
   {
    "duration": 910,
    "start_time": "2022-11-21T17:43:39.371Z"
   },
   {
    "duration": 4,
    "start_time": "2022-11-21T17:43:55.529Z"
   },
   {
    "duration": 1340,
    "start_time": "2022-11-21T17:46:17.314Z"
   },
   {
    "duration": 54,
    "start_time": "2022-11-21T17:46:18.656Z"
   },
   {
    "duration": 11,
    "start_time": "2022-11-21T17:46:18.714Z"
   },
   {
    "duration": 24,
    "start_time": "2022-11-21T17:46:18.726Z"
   },
   {
    "duration": 22,
    "start_time": "2022-11-21T17:46:18.752Z"
   },
   {
    "duration": 35,
    "start_time": "2022-11-21T17:46:18.775Z"
   },
   {
    "duration": 1037,
    "start_time": "2022-11-21T17:46:18.812Z"
   },
   {
    "duration": 5,
    "start_time": "2022-11-21T17:46:19.851Z"
   },
   {
    "duration": 128,
    "start_time": "2022-11-21T17:46:19.858Z"
   },
   {
    "duration": 0,
    "start_time": "2022-11-21T17:46:19.988Z"
   },
   {
    "duration": 0,
    "start_time": "2022-11-21T17:46:19.996Z"
   },
   {
    "duration": 0,
    "start_time": "2022-11-21T17:46:19.998Z"
   },
   {
    "duration": 0,
    "start_time": "2022-11-21T17:46:19.999Z"
   },
   {
    "duration": 0,
    "start_time": "2022-11-21T17:46:20.000Z"
   },
   {
    "duration": 1425,
    "start_time": "2022-11-21T17:46:48.169Z"
   },
   {
    "duration": 57,
    "start_time": "2022-11-21T17:46:49.596Z"
   },
   {
    "duration": 15,
    "start_time": "2022-11-21T17:46:49.656Z"
   },
   {
    "duration": 9,
    "start_time": "2022-11-21T17:46:49.673Z"
   },
   {
    "duration": 4,
    "start_time": "2022-11-21T17:46:49.684Z"
   },
   {
    "duration": 6,
    "start_time": "2022-11-21T17:46:49.697Z"
   },
   {
    "duration": 1113,
    "start_time": "2022-11-21T17:46:49.705Z"
   },
   {
    "duration": 6,
    "start_time": "2022-11-21T17:46:50.819Z"
   },
   {
    "duration": 26,
    "start_time": "2022-11-21T17:46:50.826Z"
   },
   {
    "duration": 24,
    "start_time": "2022-11-21T17:46:50.854Z"
   },
   {
    "duration": 21,
    "start_time": "2022-11-21T17:46:50.880Z"
   },
   {
    "duration": 19,
    "start_time": "2022-11-21T17:46:50.903Z"
   },
   {
    "duration": 14,
    "start_time": "2022-11-21T17:46:50.924Z"
   },
   {
    "duration": 59,
    "start_time": "2022-11-21T17:46:50.941Z"
   },
   {
    "duration": 978,
    "start_time": "2022-11-21T17:47:09.403Z"
   },
   {
    "duration": 9,
    "start_time": "2022-11-21T17:47:49.836Z"
   },
   {
    "duration": 4,
    "start_time": "2022-11-21T17:47:57.788Z"
   },
   {
    "duration": 1396,
    "start_time": "2022-11-21T17:50:12.203Z"
   },
   {
    "duration": 57,
    "start_time": "2022-11-21T17:50:13.602Z"
   },
   {
    "duration": 14,
    "start_time": "2022-11-21T17:50:13.661Z"
   },
   {
    "duration": 8,
    "start_time": "2022-11-21T17:50:13.677Z"
   },
   {
    "duration": 11,
    "start_time": "2022-11-21T17:50:13.687Z"
   },
   {
    "duration": 8,
    "start_time": "2022-11-21T17:50:13.699Z"
   },
   {
    "duration": 14,
    "start_time": "2022-11-21T17:50:13.708Z"
   },
   {
    "duration": 1050,
    "start_time": "2022-11-21T17:50:13.724Z"
   },
   {
    "duration": 4,
    "start_time": "2022-11-21T17:50:14.776Z"
   },
   {
    "duration": 15,
    "start_time": "2022-11-21T17:50:14.782Z"
   },
   {
    "duration": 14,
    "start_time": "2022-11-21T17:50:14.798Z"
   },
   {
    "duration": 28,
    "start_time": "2022-11-21T17:50:14.813Z"
   },
   {
    "duration": 18,
    "start_time": "2022-11-21T17:50:14.842Z"
   },
   {
    "duration": 14,
    "start_time": "2022-11-21T17:50:14.861Z"
   },
   {
    "duration": 44,
    "start_time": "2022-11-21T17:50:14.877Z"
   },
   {
    "duration": 119,
    "start_time": "2022-11-21T17:52:50.571Z"
   },
   {
    "duration": 11,
    "start_time": "2022-11-21T17:53:48.298Z"
   },
   {
    "duration": 18,
    "start_time": "2022-11-21T17:54:31.115Z"
   },
   {
    "duration": 3,
    "start_time": "2022-11-21T17:55:00.523Z"
   },
   {
    "duration": 1434,
    "start_time": "2022-11-21T17:55:05.313Z"
   },
   {
    "duration": 54,
    "start_time": "2022-11-21T17:55:06.749Z"
   },
   {
    "duration": 14,
    "start_time": "2022-11-21T17:55:06.804Z"
   },
   {
    "duration": 3,
    "start_time": "2022-11-21T17:55:06.820Z"
   },
   {
    "duration": 10,
    "start_time": "2022-11-21T17:55:06.825Z"
   },
   {
    "duration": 6,
    "start_time": "2022-11-21T17:55:06.836Z"
   },
   {
    "duration": 7,
    "start_time": "2022-11-21T17:55:06.844Z"
   },
   {
    "duration": 1109,
    "start_time": "2022-11-21T17:55:06.853Z"
   },
   {
    "duration": 6,
    "start_time": "2022-11-21T17:55:07.964Z"
   },
   {
    "duration": 24,
    "start_time": "2022-11-21T17:55:07.972Z"
   },
   {
    "duration": 10,
    "start_time": "2022-11-21T17:55:07.998Z"
   },
   {
    "duration": 22,
    "start_time": "2022-11-21T17:55:08.009Z"
   },
   {
    "duration": 18,
    "start_time": "2022-11-21T17:55:08.033Z"
   },
   {
    "duration": 16,
    "start_time": "2022-11-21T17:55:08.053Z"
   },
   {
    "duration": 55,
    "start_time": "2022-11-21T17:55:08.070Z"
   },
   {
    "duration": 124,
    "start_time": "2022-11-21T17:55:08.127Z"
   },
   {
    "duration": 626,
    "start_time": "2022-11-21T17:55:27.821Z"
   },
   {
    "duration": 1188,
    "start_time": "2022-11-21T18:05:41.684Z"
   },
   {
    "duration": 317,
    "start_time": "2022-11-21T18:05:54.196Z"
   },
   {
    "duration": 689,
    "start_time": "2022-11-21T18:06:00.963Z"
   },
   {
    "duration": 7394,
    "start_time": "2022-11-21T18:06:07.763Z"
   },
   {
    "duration": 1211,
    "start_time": "2022-11-21T18:06:21.620Z"
   },
   {
    "duration": 7553,
    "start_time": "2022-11-21T18:06:28.483Z"
   },
   {
    "duration": 124,
    "start_time": "2022-11-21T18:24:04.914Z"
   },
   {
    "duration": 42,
    "start_time": "2022-11-21T18:36:07.543Z"
   },
   {
    "duration": 217,
    "start_time": "2022-11-21T18:36:59.379Z"
   },
   {
    "duration": 130,
    "start_time": "2022-11-21T18:39:02.355Z"
   },
   {
    "duration": 5,
    "start_time": "2022-11-21T18:43:34.367Z"
   },
   {
    "duration": 11,
    "start_time": "2022-11-21T18:46:59.142Z"
   },
   {
    "duration": 7475,
    "start_time": "2022-11-21T18:50:17.929Z"
   },
   {
    "duration": 115,
    "start_time": "2022-11-21T18:50:34.025Z"
   },
   {
    "duration": 140,
    "start_time": "2022-11-21T18:50:37.673Z"
   },
   {
    "duration": 6,
    "start_time": "2022-11-21T18:50:41.080Z"
   },
   {
    "duration": 10,
    "start_time": "2022-11-21T18:50:44.201Z"
   },
   {
    "duration": 7,
    "start_time": "2022-11-21T18:51:23.690Z"
   },
   {
    "duration": 10,
    "start_time": "2022-11-21T18:52:15.962Z"
   },
   {
    "duration": 8,
    "start_time": "2022-11-21T18:53:01.097Z"
   },
   {
    "duration": 7,
    "start_time": "2022-11-21T18:53:21.667Z"
   },
   {
    "duration": 3,
    "start_time": "2022-11-21T18:55:44.491Z"
   },
   {
    "duration": 7,
    "start_time": "2022-11-21T18:56:45.579Z"
   },
   {
    "duration": 10,
    "start_time": "2022-11-21T18:57:14.603Z"
   },
   {
    "duration": 4,
    "start_time": "2022-11-21T19:08:27.683Z"
   },
   {
    "duration": 9,
    "start_time": "2022-11-21T19:08:36.322Z"
   },
   {
    "duration": 1365,
    "start_time": "2022-11-21T19:16:45.421Z"
   },
   {
    "duration": 55,
    "start_time": "2022-11-21T19:16:46.788Z"
   },
   {
    "duration": 14,
    "start_time": "2022-11-21T19:16:46.844Z"
   },
   {
    "duration": 3,
    "start_time": "2022-11-21T19:16:46.860Z"
   },
   {
    "duration": 9,
    "start_time": "2022-11-21T19:16:46.864Z"
   },
   {
    "duration": 3,
    "start_time": "2022-11-21T19:16:46.875Z"
   },
   {
    "duration": 6,
    "start_time": "2022-11-21T19:16:46.879Z"
   },
   {
    "duration": 1031,
    "start_time": "2022-11-21T19:16:46.887Z"
   },
   {
    "duration": 5,
    "start_time": "2022-11-21T19:16:47.920Z"
   },
   {
    "duration": 28,
    "start_time": "2022-11-21T19:16:47.927Z"
   },
   {
    "duration": 111,
    "start_time": "2022-11-21T19:16:47.956Z"
   },
   {
    "duration": 0,
    "start_time": "2022-11-21T19:16:48.069Z"
   },
   {
    "duration": 0,
    "start_time": "2022-11-21T19:16:48.070Z"
   },
   {
    "duration": 0,
    "start_time": "2022-11-21T19:16:48.071Z"
   },
   {
    "duration": 0,
    "start_time": "2022-11-21T19:16:48.073Z"
   },
   {
    "duration": 0,
    "start_time": "2022-11-21T19:16:48.074Z"
   },
   {
    "duration": 0,
    "start_time": "2022-11-21T19:16:48.075Z"
   },
   {
    "duration": 0,
    "start_time": "2022-11-21T19:16:48.077Z"
   },
   {
    "duration": 0,
    "start_time": "2022-11-21T19:16:48.078Z"
   },
   {
    "duration": 0,
    "start_time": "2022-11-21T19:16:48.079Z"
   },
   {
    "duration": 14,
    "start_time": "2022-11-21T19:20:30.252Z"
   },
   {
    "duration": 19,
    "start_time": "2022-11-21T19:20:34.388Z"
   },
   {
    "duration": 18,
    "start_time": "2022-11-21T19:20:35.443Z"
   },
   {
    "duration": 18,
    "start_time": "2022-11-21T19:20:36.360Z"
   },
   {
    "duration": 7643,
    "start_time": "2022-11-21T19:20:38.516Z"
   },
   {
    "duration": 152,
    "start_time": "2022-11-21T19:20:46.162Z"
   },
   {
    "duration": 233,
    "start_time": "2022-11-21T19:20:46.317Z"
   },
   {
    "duration": 5,
    "start_time": "2022-11-21T19:20:46.552Z"
   },
   {
    "duration": 6,
    "start_time": "2022-11-21T19:21:01.733Z"
   },
   {
    "duration": 9,
    "start_time": "2022-11-21T19:21:02.853Z"
   },
   {
    "duration": 44,
    "start_time": "2022-11-22T07:10:52.704Z"
   },
   {
    "duration": 1524,
    "start_time": "2022-11-22T07:11:00.212Z"
   },
   {
    "duration": 107,
    "start_time": "2022-11-22T07:11:01.738Z"
   },
   {
    "duration": 14,
    "start_time": "2022-11-22T07:11:01.846Z"
   },
   {
    "duration": 84,
    "start_time": "2022-11-22T07:11:01.862Z"
   },
   {
    "duration": 16,
    "start_time": "2022-11-22T07:11:01.948Z"
   },
   {
    "duration": 10,
    "start_time": "2022-11-22T07:11:01.966Z"
   },
   {
    "duration": 8,
    "start_time": "2022-11-22T07:11:01.977Z"
   },
   {
    "duration": 1057,
    "start_time": "2022-11-22T07:11:01.987Z"
   },
   {
    "duration": 4,
    "start_time": "2022-11-22T07:11:03.045Z"
   },
   {
    "duration": 25,
    "start_time": "2022-11-22T07:11:03.052Z"
   },
   {
    "duration": 11,
    "start_time": "2022-11-22T07:11:03.079Z"
   },
   {
    "duration": 14,
    "start_time": "2022-11-22T07:11:03.091Z"
   },
   {
    "duration": 17,
    "start_time": "2022-11-22T07:11:03.107Z"
   },
   {
    "duration": 13,
    "start_time": "2022-11-22T07:11:03.126Z"
   },
   {
    "duration": 7607,
    "start_time": "2022-11-22T07:11:03.141Z"
   },
   {
    "duration": 111,
    "start_time": "2022-11-22T07:11:10.749Z"
   },
   {
    "duration": 192,
    "start_time": "2022-11-22T07:11:10.862Z"
   },
   {
    "duration": 5,
    "start_time": "2022-11-22T07:11:11.055Z"
   },
   {
    "duration": 7,
    "start_time": "2022-11-22T07:11:11.061Z"
   },
   {
    "duration": 10,
    "start_time": "2022-11-22T07:11:11.070Z"
   },
   {
    "duration": 10,
    "start_time": "2022-11-22T07:11:47.512Z"
   },
   {
    "duration": 1334,
    "start_time": "2022-11-22T07:11:52.105Z"
   },
   {
    "duration": 54,
    "start_time": "2022-11-22T07:11:53.441Z"
   },
   {
    "duration": 13,
    "start_time": "2022-11-22T07:11:53.496Z"
   },
   {
    "duration": 3,
    "start_time": "2022-11-22T07:11:53.511Z"
   },
   {
    "duration": 9,
    "start_time": "2022-11-22T07:11:53.515Z"
   },
   {
    "duration": 7,
    "start_time": "2022-11-22T07:11:53.525Z"
   },
   {
    "duration": 17,
    "start_time": "2022-11-22T07:11:53.533Z"
   },
   {
    "duration": 913,
    "start_time": "2022-11-22T07:11:53.551Z"
   },
   {
    "duration": 5,
    "start_time": "2022-11-22T07:11:54.465Z"
   },
   {
    "duration": 15,
    "start_time": "2022-11-22T07:11:54.472Z"
   },
   {
    "duration": 10,
    "start_time": "2022-11-22T07:11:54.489Z"
   },
   {
    "duration": 20,
    "start_time": "2022-11-22T07:11:54.501Z"
   },
   {
    "duration": 16,
    "start_time": "2022-11-22T07:11:54.522Z"
   },
   {
    "duration": 12,
    "start_time": "2022-11-22T07:11:54.541Z"
   },
   {
    "duration": 6826,
    "start_time": "2022-11-22T07:11:54.554Z"
   },
   {
    "duration": 116,
    "start_time": "2022-11-22T07:12:01.382Z"
   },
   {
    "duration": 222,
    "start_time": "2022-11-22T07:12:01.500Z"
   },
   {
    "duration": 4,
    "start_time": "2022-11-22T07:12:01.724Z"
   },
   {
    "duration": 23,
    "start_time": "2022-11-22T07:12:01.730Z"
   },
   {
    "duration": 14,
    "start_time": "2022-11-22T07:12:01.755Z"
   },
   {
    "duration": 4,
    "start_time": "2022-11-22T08:00:00.087Z"
   },
   {
    "duration": 132,
    "start_time": "2022-11-22T08:25:42.388Z"
   },
   {
    "duration": 1028,
    "start_time": "2022-11-22T08:26:03.675Z"
   },
   {
    "duration": 1380,
    "start_time": "2022-11-22T08:26:25.763Z"
   },
   {
    "duration": 56,
    "start_time": "2022-11-22T08:26:27.145Z"
   },
   {
    "duration": 16,
    "start_time": "2022-11-22T08:26:27.203Z"
   },
   {
    "duration": 11,
    "start_time": "2022-11-22T08:26:27.220Z"
   },
   {
    "duration": 17,
    "start_time": "2022-11-22T08:26:27.236Z"
   },
   {
    "duration": 5,
    "start_time": "2022-11-22T08:26:27.255Z"
   },
   {
    "duration": 6,
    "start_time": "2022-11-22T08:26:27.262Z"
   },
   {
    "duration": 1064,
    "start_time": "2022-11-22T08:26:27.269Z"
   },
   {
    "duration": 4,
    "start_time": "2022-11-22T08:26:28.335Z"
   },
   {
    "duration": 15,
    "start_time": "2022-11-22T08:26:28.341Z"
   },
   {
    "duration": 15,
    "start_time": "2022-11-22T08:26:28.358Z"
   },
   {
    "duration": 21,
    "start_time": "2022-11-22T08:26:28.375Z"
   },
   {
    "duration": 42,
    "start_time": "2022-11-22T08:26:28.398Z"
   },
   {
    "duration": 19,
    "start_time": "2022-11-22T08:26:28.443Z"
   },
   {
    "duration": 7369,
    "start_time": "2022-11-22T08:26:28.463Z"
   },
   {
    "duration": 122,
    "start_time": "2022-11-22T08:26:35.835Z"
   },
   {
    "duration": 214,
    "start_time": "2022-11-22T08:26:35.959Z"
   },
   {
    "duration": 4,
    "start_time": "2022-11-22T08:26:36.175Z"
   },
   {
    "duration": 8,
    "start_time": "2022-11-22T08:26:36.181Z"
   },
   {
    "duration": 9,
    "start_time": "2022-11-22T08:26:36.191Z"
   },
   {
    "duration": 1140,
    "start_time": "2022-11-22T08:26:36.221Z"
   },
   {
    "duration": 1450,
    "start_time": "2022-11-22T08:28:44.536Z"
   },
   {
    "duration": 56,
    "start_time": "2022-11-22T08:28:45.988Z"
   },
   {
    "duration": 21,
    "start_time": "2022-11-22T08:28:46.045Z"
   },
   {
    "duration": 5,
    "start_time": "2022-11-22T08:28:46.068Z"
   },
   {
    "duration": 22,
    "start_time": "2022-11-22T08:28:46.076Z"
   },
   {
    "duration": 22,
    "start_time": "2022-11-22T08:28:46.100Z"
   },
   {
    "duration": 20,
    "start_time": "2022-11-22T08:28:46.125Z"
   },
   {
    "duration": 1005,
    "start_time": "2022-11-22T08:28:46.147Z"
   },
   {
    "duration": 5,
    "start_time": "2022-11-22T08:28:47.154Z"
   },
   {
    "duration": 59,
    "start_time": "2022-11-22T08:28:47.161Z"
   },
   {
    "duration": 36,
    "start_time": "2022-11-22T08:28:47.222Z"
   },
   {
    "duration": 44,
    "start_time": "2022-11-22T08:28:47.260Z"
   },
   {
    "duration": 35,
    "start_time": "2022-11-22T08:28:47.306Z"
   },
   {
    "duration": 15,
    "start_time": "2022-11-22T08:28:47.343Z"
   },
   {
    "duration": 7215,
    "start_time": "2022-11-22T08:28:47.360Z"
   },
   {
    "duration": 161,
    "start_time": "2022-11-22T08:28:54.577Z"
   },
   {
    "duration": 233,
    "start_time": "2022-11-22T08:28:54.742Z"
   },
   {
    "duration": 5,
    "start_time": "2022-11-22T08:28:54.976Z"
   },
   {
    "duration": 19,
    "start_time": "2022-11-22T08:28:54.983Z"
   },
   {
    "duration": 43,
    "start_time": "2022-11-22T08:28:55.004Z"
   },
   {
    "duration": 1085,
    "start_time": "2022-11-22T08:28:55.049Z"
   },
   {
    "duration": 303,
    "start_time": "2022-11-22T08:32:12.631Z"
   },
   {
    "duration": 512,
    "start_time": "2022-11-22T08:50:06.484Z"
   },
   {
    "duration": 97,
    "start_time": "2022-11-22T08:50:55.509Z"
   },
   {
    "duration": 14,
    "start_time": "2022-11-22T09:00:57.197Z"
   },
   {
    "duration": 538,
    "start_time": "2022-11-22T09:01:05.113Z"
   },
   {
    "duration": 110,
    "start_time": "2022-11-22T09:03:04.219Z"
   },
   {
    "duration": 115,
    "start_time": "2022-11-22T09:08:22.284Z"
   },
   {
    "duration": 508,
    "start_time": "2022-11-22T09:16:34.664Z"
   },
   {
    "duration": 577,
    "start_time": "2022-11-22T09:23:25.331Z"
   },
   {
    "duration": 5,
    "start_time": "2022-11-22T09:39:46.786Z"
   },
   {
    "duration": 389,
    "start_time": "2022-11-22T09:44:03.879Z"
   },
   {
    "duration": 430,
    "start_time": "2022-11-22T09:46:21.834Z"
   },
   {
    "duration": 4,
    "start_time": "2022-11-22T09:47:31.984Z"
   },
   {
    "duration": 454,
    "start_time": "2022-11-22T09:47:42.272Z"
   },
   {
    "duration": 479,
    "start_time": "2022-11-22T09:55:24.372Z"
   },
   {
    "duration": 719,
    "start_time": "2022-11-22T09:57:36.308Z"
   },
   {
    "duration": 1363,
    "start_time": "2022-11-22T09:57:43.896Z"
   },
   {
    "duration": 3225,
    "start_time": "2022-11-22T09:57:51.973Z"
   },
   {
    "duration": 418,
    "start_time": "2022-11-22T09:58:00.660Z"
   },
   {
    "duration": 454,
    "start_time": "2022-11-22T10:00:26.949Z"
   },
   {
    "duration": 114,
    "start_time": "2022-11-22T10:02:21.079Z"
   },
   {
    "duration": 102,
    "start_time": "2022-11-22T10:02:30.551Z"
   },
   {
    "duration": 173,
    "start_time": "2022-11-22T10:03:02.859Z"
   },
   {
    "duration": 30,
    "start_time": "2022-11-22T11:51:44.483Z"
   },
   {
    "duration": 19461,
    "start_time": "2022-11-22T11:52:15.902Z"
   },
   {
    "duration": 4,
    "start_time": "2022-11-22T12:19:31.759Z"
   },
   {
    "duration": 13,
    "start_time": "2022-11-22T13:46:17.836Z"
   },
   {
    "duration": 4,
    "start_time": "2022-11-22T13:47:09.716Z"
   },
   {
    "duration": 1303,
    "start_time": "2022-11-22T13:47:33.952Z"
   },
   {
    "duration": 54,
    "start_time": "2022-11-22T13:47:35.257Z"
   },
   {
    "duration": 12,
    "start_time": "2022-11-22T13:47:35.313Z"
   },
   {
    "duration": 12,
    "start_time": "2022-11-22T13:47:35.326Z"
   },
   {
    "duration": 21,
    "start_time": "2022-11-22T13:47:35.340Z"
   },
   {
    "duration": 6,
    "start_time": "2022-11-22T13:47:35.363Z"
   },
   {
    "duration": 7,
    "start_time": "2022-11-22T13:47:35.370Z"
   },
   {
    "duration": 1013,
    "start_time": "2022-11-22T13:47:35.379Z"
   },
   {
    "duration": 4,
    "start_time": "2022-11-22T13:47:36.394Z"
   },
   {
    "duration": 15,
    "start_time": "2022-11-22T13:47:36.399Z"
   },
   {
    "duration": 11,
    "start_time": "2022-11-22T13:47:36.416Z"
   },
   {
    "duration": 17,
    "start_time": "2022-11-22T13:47:36.428Z"
   },
   {
    "duration": 15,
    "start_time": "2022-11-22T13:47:36.446Z"
   },
   {
    "duration": 11,
    "start_time": "2022-11-22T13:47:36.464Z"
   },
   {
    "duration": 7048,
    "start_time": "2022-11-22T13:47:36.476Z"
   },
   {
    "duration": 106,
    "start_time": "2022-11-22T13:47:43.525Z"
   },
   {
    "duration": 196,
    "start_time": "2022-11-22T13:47:43.632Z"
   },
   {
    "duration": 4,
    "start_time": "2022-11-22T13:47:43.830Z"
   },
   {
    "duration": 12,
    "start_time": "2022-11-22T13:47:43.835Z"
   },
   {
    "duration": 9,
    "start_time": "2022-11-22T13:47:43.848Z"
   },
   {
    "duration": 529,
    "start_time": "2022-11-22T13:47:43.859Z"
   },
   {
    "duration": 107,
    "start_time": "2022-11-22T13:47:44.389Z"
   },
   {
    "duration": 207,
    "start_time": "2022-11-22T13:47:44.498Z"
   },
   {
    "duration": 30699,
    "start_time": "2022-11-22T13:47:44.707Z"
   },
   {
    "duration": 0,
    "start_time": "2022-11-22T13:48:15.413Z"
   },
   {
    "duration": 30688,
    "start_time": "2022-11-22T13:49:11.605Z"
   },
   {
    "duration": 47071,
    "start_time": "2022-11-22T14:26:19.821Z"
   },
   {
    "duration": 46718,
    "start_time": "2022-11-22T15:00:51.658Z"
   },
   {
    "duration": 419121,
    "start_time": "2022-11-22T15:19:54.315Z"
   },
   {
    "duration": 31894,
    "start_time": "2022-11-22T15:27:25.671Z"
   },
   {
    "duration": 507,
    "start_time": "2022-11-22T15:52:08.905Z"
   },
   {
    "duration": 4833,
    "start_time": "2022-11-22T15:52:18.392Z"
   },
   {
    "duration": 4632,
    "start_time": "2022-11-22T15:54:50.355Z"
   },
   {
    "duration": 5004,
    "start_time": "2022-11-22T15:55:23.396Z"
   },
   {
    "duration": 177,
    "start_time": "2022-11-22T15:56:43.349Z"
   },
   {
    "duration": 348,
    "start_time": "2022-11-22T16:01:20.440Z"
   },
   {
    "duration": 58,
    "start_time": "2022-11-22T17:54:36.100Z"
   },
   {
    "duration": 7238,
    "start_time": "2022-11-22T17:54:56.094Z"
   },
   {
    "duration": 5,
    "start_time": "2022-11-22T18:08:40.854Z"
   },
   {
    "duration": 11,
    "start_time": "2022-11-22T18:13:05.517Z"
   },
   {
    "duration": 9,
    "start_time": "2022-11-22T18:13:41.291Z"
   },
   {
    "duration": 9,
    "start_time": "2022-11-22T18:14:03.749Z"
   },
   {
    "duration": 14,
    "start_time": "2022-11-22T18:14:38.952Z"
   },
   {
    "duration": 5,
    "start_time": "2022-11-22T18:15:28.536Z"
   },
   {
    "duration": 13,
    "start_time": "2022-11-22T18:16:09.447Z"
   },
   {
    "duration": 12,
    "start_time": "2022-11-22T18:26:45.619Z"
   },
   {
    "duration": 1314,
    "start_time": "2022-11-22T19:26:05.232Z"
   },
   {
    "duration": 52,
    "start_time": "2022-11-22T19:26:06.548Z"
   },
   {
    "duration": 11,
    "start_time": "2022-11-22T19:26:06.602Z"
   },
   {
    "duration": 3,
    "start_time": "2022-11-22T19:26:06.614Z"
   },
   {
    "duration": 8,
    "start_time": "2022-11-22T19:26:06.618Z"
   },
   {
    "duration": 4,
    "start_time": "2022-11-22T19:26:06.628Z"
   },
   {
    "duration": 7,
    "start_time": "2022-11-22T19:26:06.633Z"
   },
   {
    "duration": 931,
    "start_time": "2022-11-22T19:26:06.641Z"
   },
   {
    "duration": 5,
    "start_time": "2022-11-22T19:26:07.573Z"
   },
   {
    "duration": 13,
    "start_time": "2022-11-22T19:26:07.580Z"
   },
   {
    "duration": 10,
    "start_time": "2022-11-22T19:26:07.594Z"
   },
   {
    "duration": 15,
    "start_time": "2022-11-22T19:26:07.605Z"
   },
   {
    "duration": 15,
    "start_time": "2022-11-22T19:26:07.621Z"
   },
   {
    "duration": 11,
    "start_time": "2022-11-22T19:26:07.637Z"
   },
   {
    "duration": 6904,
    "start_time": "2022-11-22T19:26:07.649Z"
   },
   {
    "duration": 108,
    "start_time": "2022-11-22T19:26:14.555Z"
   },
   {
    "duration": 191,
    "start_time": "2022-11-22T19:26:14.665Z"
   },
   {
    "duration": 4,
    "start_time": "2022-11-22T19:26:14.858Z"
   },
   {
    "duration": 9,
    "start_time": "2022-11-22T19:26:14.863Z"
   },
   {
    "duration": 8,
    "start_time": "2022-11-22T19:26:14.874Z"
   },
   {
    "duration": 511,
    "start_time": "2022-11-22T19:26:14.883Z"
   },
   {
    "duration": 105,
    "start_time": "2022-11-22T19:26:15.395Z"
   },
   {
    "duration": 212,
    "start_time": "2022-11-22T19:26:15.501Z"
   },
   {
    "duration": 29941,
    "start_time": "2022-11-22T19:26:15.714Z"
   },
   {
    "duration": 22,
    "start_time": "2022-11-22T19:26:45.657Z"
   },
   {
    "duration": 56,
    "start_time": "2022-11-22T19:26:45.680Z"
   },
   {
    "duration": 1681,
    "start_time": "2022-11-23T11:50:36.433Z"
   },
   {
    "duration": 166,
    "start_time": "2022-11-23T11:50:38.116Z"
   },
   {
    "duration": 13,
    "start_time": "2022-11-23T11:50:38.284Z"
   },
   {
    "duration": 3,
    "start_time": "2022-11-23T11:50:38.299Z"
   },
   {
    "duration": 14,
    "start_time": "2022-11-23T11:50:38.304Z"
   },
   {
    "duration": 6,
    "start_time": "2022-11-23T11:50:38.319Z"
   },
   {
    "duration": 12,
    "start_time": "2022-11-23T11:50:38.326Z"
   },
   {
    "duration": 1092,
    "start_time": "2022-11-23T11:50:38.340Z"
   },
   {
    "duration": 4,
    "start_time": "2022-11-23T11:50:39.434Z"
   },
   {
    "duration": 15,
    "start_time": "2022-11-23T11:50:39.440Z"
   },
   {
    "duration": 14,
    "start_time": "2022-11-23T11:50:39.457Z"
   },
   {
    "duration": 25,
    "start_time": "2022-11-23T11:50:39.473Z"
   },
   {
    "duration": 17,
    "start_time": "2022-11-23T11:50:39.500Z"
   },
   {
    "duration": 14,
    "start_time": "2022-11-23T11:50:39.519Z"
   },
   {
    "duration": 7363,
    "start_time": "2022-11-23T11:50:39.534Z"
   },
   {
    "duration": 122,
    "start_time": "2022-11-23T11:50:46.899Z"
   },
   {
    "duration": 215,
    "start_time": "2022-11-23T11:50:47.022Z"
   },
   {
    "duration": 5,
    "start_time": "2022-11-23T11:50:47.239Z"
   },
   {
    "duration": 13,
    "start_time": "2022-11-23T11:50:47.246Z"
   },
   {
    "duration": 17,
    "start_time": "2022-11-23T11:50:47.261Z"
   },
   {
    "duration": 529,
    "start_time": "2022-11-23T11:50:47.280Z"
   },
   {
    "duration": 113,
    "start_time": "2022-11-23T11:50:47.810Z"
   },
   {
    "duration": 201,
    "start_time": "2022-11-23T11:50:47.924Z"
   },
   {
    "duration": 31257,
    "start_time": "2022-11-23T11:50:48.126Z"
   },
   {
    "duration": 25,
    "start_time": "2022-11-23T11:51:19.385Z"
   },
   {
    "duration": 46,
    "start_time": "2022-11-23T11:51:19.412Z"
   }
  ],
  "kernelspec": {
   "display_name": "Python 3 (ipykernel)",
   "language": "python",
   "name": "python3"
  },
  "language_info": {
   "codemirror_mode": {
    "name": "ipython",
    "version": 3
   },
   "file_extension": ".py",
   "mimetype": "text/x-python",
   "name": "python",
   "nbconvert_exporter": "python",
   "pygments_lexer": "ipython3",
   "version": "3.9.12"
  },
  "toc": {
   "base_numbering": 1,
   "nav_menu": {},
   "number_sections": true,
   "sideBar": true,
   "skip_h1_title": true,
   "title_cell": "Содержание",
   "title_sidebar": "Contents",
   "toc_cell": true,
   "toc_position": {
    "height": "calc(100% - 180px)",
    "left": "10px",
    "top": "150px",
    "width": "165px"
   },
   "toc_section_display": true,
   "toc_window_display": true
  }
 },
 "nbformat": 4,
 "nbformat_minor": 2
}
