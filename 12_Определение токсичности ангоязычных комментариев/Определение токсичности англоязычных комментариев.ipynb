{
 "cells": [
  {
   "cell_type": "markdown",
   "metadata": {},
   "source": [
    "# Проект \"Определение токсичности англоязычных комментариев\""
   ]
  },
  {
   "cell_type": "markdown",
   "metadata": {},
   "source": [
    "Интернет-магазин «Викишоп» запускает новый сервис. Теперь пользователи могут редактировать и дополнять описания товаров, как в вики-сообществах. То есть клиенты предлагают свои правки и комментируют изменения других. Магазину нужен инструмент, который будет искать токсичные комментарии и отправлять их на модерацию. \n",
    "\n",
    "Обучите модель классифицировать комментарии на позитивные и негативные. В вашем распоряжении набор данных с разметкой о токсичности правок.\n",
    "\n",
    "Постройте модель со значением метрики качества *F1* не меньше 0.75. \n",
    "\n",
    "**План работы над проектом**\n",
    "\n",
    "1. Загрузить и подготовьть данные.\n",
    "2. Обучить разные модели. \n",
    "3. Сделать выводы.\n",
    "\n",
    "Для выполнения проекта применять *BERT* необязательно, но вы можете попробовать.\n",
    "\n",
    "**Описание данных**\n",
    "\n",
    "Данные находятся в файле `toxic_comments.csv`. Столбец *text* в нём содержит текст комментария, а *toxic* — целевой признак."
   ]
  },
  {
   "cell_type": "markdown",
   "metadata": {},
   "source": [
    "## Подготовка"
   ]
  },
  {
   "cell_type": "code",
   "execution_count": 1,
   "metadata": {},
   "outputs": [
    {
     "name": "stdout",
     "output_type": "stream",
     "text": [
      "Requirement already satisfied: nltk in /opt/conda/lib/python3.9/site-packages (3.6.1)\n",
      "Requirement already satisfied: joblib in /opt/conda/lib/python3.9/site-packages (from nltk) (1.1.0)\n",
      "Requirement already satisfied: click in /opt/conda/lib/python3.9/site-packages (from nltk) (8.1.3)\n",
      "Requirement already satisfied: tqdm in /opt/conda/lib/python3.9/site-packages (from nltk) (4.61.2)\n",
      "Requirement already satisfied: regex in /opt/conda/lib/python3.9/site-packages (from nltk) (2022.8.17)\n",
      "Note: you may need to restart the kernel to use updated packages.\n"
     ]
    }
   ],
   "source": [
    "pip install nltk"
   ]
  },
  {
   "cell_type": "code",
   "execution_count": 2,
   "metadata": {},
   "outputs": [],
   "source": [
    "import numpy as np\n",
    "import pandas as pd\n",
    "import re\n",
    "import spacy\n",
    "import string\n",
    "import matplotlib.pyplot as plt\n",
    "import seaborn as sns\n",
    "\n",
    "from  sklearn.model_selection import train_test_split, GridSearchCV\n",
    "from sklearn.feature_extraction.text import CountVectorizer, TfidfTransformer\n",
    "from  sklearn.metrics import f1_score\n",
    "from  sklearn.pipeline import Pipeline\n",
    "from  sklearn.ensemble import RandomForestClassifier\n",
    "from  sklearn.linear_model import LogisticRegression\n",
    "from tqdm.notebook import tqdm\n",
    "tqdm.pandas()\n",
    "\n",
    "from spacy.lang.en import English\n",
    "from nltk.probability import FreqDist\n",
    "from nltk.corpus import stopwords as nltk_stopwords\n",
    "from nltk.corpus import stopwords\n",
    "\n",
    "import nltk"
   ]
  },
  {
   "cell_type": "code",
   "execution_count": 3,
   "metadata": {},
   "outputs": [
    {
     "name": "stdout",
     "output_type": "stream",
     "text": [
      "<bound method NDFrame.sample of                                                      text  toxic\n",
      "0       Explanation\\nWhy the edits made under my usern...      0\n",
      "1       D'aww! He matches this background colour I'm s...      0\n",
      "2       Hey man, I'm really not trying to edit war. It...      0\n",
      "3       \"\\nMore\\nI can't make any real suggestions on ...      0\n",
      "4       You, sir, are my hero. Any chance you remember...      0\n",
      "...                                                   ...    ...\n",
      "159446  \":::::And for the second time of asking, when ...      0\n",
      "159447  You should be ashamed of yourself \\n\\nThat is ...      0\n",
      "159448  Spitzer \\n\\nUmm, theres no actual article for ...      0\n",
      "159449  And it looks like it was actually you who put ...      0\n",
      "159450  \"\\nAnd ... I really don't think you understand...      0\n",
      "\n",
      "[159292 rows x 2 columns]>\n"
     ]
    }
   ],
   "source": [
    "try:\n",
    "\n",
    "    data = pd.read_csv('С:/your_project/toxic_comments.csv')\n",
    "except:\n",
    "\n",
    "    data = pd.read_csv('/datasets/toxic_comments.csv', index_col = 0)\n",
    "\n",
    "print(data.sample)"
   ]
  },
  {
   "cell_type": "code",
   "execution_count": 4,
   "metadata": {},
   "outputs": [
    {
     "name": "stdout",
     "output_type": "stream",
     "text": [
      "<class 'pandas.core.frame.DataFrame'>\n",
      "Int64Index: 159292 entries, 0 to 159450\n",
      "Data columns (total 2 columns):\n",
      " #   Column  Non-Null Count   Dtype \n",
      "---  ------  --------------   ----- \n",
      " 0   text    159292 non-null  object\n",
      " 1   toxic   159292 non-null  int64 \n",
      "dtypes: int64(1), object(1)\n",
      "memory usage: 3.6+ MB\n",
      "None\n"
     ]
    }
   ],
   "source": [
    "print(data.info())"
   ]
  },
  {
   "cell_type": "code",
   "execution_count": 5,
   "metadata": {},
   "outputs": [
    {
     "data": {
      "text/plain": [
       "0    143106\n",
       "1     16186\n",
       "Name: toxic, dtype: int64"
      ]
     },
     "execution_count": 5,
     "metadata": {},
     "output_type": "execute_result"
    }
   ],
   "source": [
    "data['toxic'].value_counts()#посмотрим на количество строк с разными классами, классы очень не сбалансированы в сторону 0"
   ]
  },
  {
   "cell_type": "code",
   "execution_count": 6,
   "metadata": {},
   "outputs": [
    {
     "name": "stderr",
     "output_type": "stream",
     "text": [
      "/opt/conda/lib/python3.9/site-packages/seaborn/distributions.py:2557: FutureWarning: `distplot` is a deprecated function and will be removed in a future version. Please adapt your code to use either `displot` (a figure-level function with similar flexibility) or `kdeplot` (an axes-level function for kernel density plots).\n",
      "  warnings.warn(msg, FutureWarning)\n"
     ]
    },
    {
     "data": {
      "image/png": "[encoded data removed]",
      "text/plain": [
       "<Figure size 504x360 with 1 Axes>"
      ]
     },
     "metadata": {
      "needs_background": "light"
     },
     "output_type": "display_data"
    }
   ],
   "source": [
    "plt.figure(figsize=(7, 5))#построим график распределения для таргета, чтобы наглядно увидеть разницу бинарной классификации\n",
    "sns.distplot(data['toxic'], hist = False, kde = True,\n",
    "    kde_kws = {'shade': True, 'linewidth': 3})\n",
    "\n",
    "plt.title('График распределения таргета \"toxic\"')\n",
    "plt.xlabel('Разметка')\n",
    "plt.ylabel('Шкала')\n",
    "plt.show()"
   ]
  },
  {
   "cell_type": "code",
   "execution_count": 7,
   "metadata": {},
   "outputs": [
    {
     "name": "stderr",
     "output_type": "stream",
     "text": [
      "[nltk_data] Downloading package omw-1.4 to /home/jovyan/nltk_data...\n",
      "[nltk_data] Downloading package wordnet to /home/jovyan/nltk_data...\n",
      "[nltk_data]   Package wordnet is already up-to-date!\n",
      "[nltk_data] Downloading package stopwords to /home/jovyan/nltk_data...\n",
      "[nltk_data]   Package stopwords is already up-to-date!\n"
     ]
    },
    {
     "data": {
      "application/vnd.jupyter.widget-view+json": {
       "model_id": "2d2f81e36a29447ea0dc9696001f5259",
       "version_major": 2,
       "version_minor": 0
      },
      "text/plain": [
       "  0%|          | 0/159292 [00:00<?, ?it/s]"
      ]
     },
     "metadata": {},
     "output_type": "display_data"
    },
    {
     "data": {
      "application/vnd.jupyter.widget-view+json": {
       "model_id": "d6fc4f70eae04264bf651f8aafe053ce",
       "version_major": 2,
       "version_minor": 0
      },
      "text/plain": [
       "  0%|          | 0/159292 [00:00<?, ?it/s]"
      ]
     },
     "metadata": {},
     "output_type": "display_data"
    },
    {
     "name": "stdout",
     "output_type": "stream",
     "text": [
      "Очищенный и лемматизированный текст: <bound method NDFrame.sample of                                                      text  toxic\n",
      "0       explanation why the edit make under my usernam...      0\n",
      "1       d aww he match this background colour I m seem...      0\n",
      "2       hey man I m really not try to edit war it s ju...      0\n",
      "3       more I can t make any real suggestion on impro...      0\n",
      "4       you sir be my hero any chance you remember wha...      0\n",
      "...                                                   ...    ...\n",
      "159446  and for the second time of ask when your view ...      0\n",
      "159447  you should be ashamed of yourself that be a ho...      0\n",
      "159448  spitzer umm there s no actual article for pros...      0\n",
      "159449  and it look like it be actually you who put on...      0\n",
      "159450  and I really don t think you understand I come...      0\n",
      "\n",
      "[159292 rows x 2 columns]>\n"
     ]
    }
   ],
   "source": [
    "nltk.download('omw-1.4')\n",
    "nltk.download('wordnet')\n",
    "nltk.download('stopwords')\n",
    "\n",
    "en_core = spacy.load('en_core_web_sm')\n",
    "\n",
    "def lemmatize(text): #напишем функцию лемматизации для английского текста\n",
    "    text = text.lower()   \n",
    "    return \" \".join([token.lemma_ for token in en_core(text)])\n",
    "\n",
    "def clear_text(text): #напишем функцию для очистки текста\n",
    "    text = re.sub(r'[^a-zA-Z ]', \" \", text)\n",
    "    y = \" \".join(text.split())\n",
    "    return y\n",
    "\n",
    "data['text'] = data['text'].progress_apply(clear_text)#перепишем столбец применив функции\n",
    "\n",
    "data['text'] = data['text'].progress_apply(lemmatize)\n",
    "\n",
    "\n",
    "print('Очищенный и лемматизированный текст:', data.sample)"
   ]
  },
  {
   "cell_type": "code",
   "execution_count": 8,
   "metadata": {},
   "outputs": [],
   "source": [
    "corpus = list(data['text'])"
   ]
  },
  {
   "cell_type": "code",
   "execution_count": 9,
   "metadata": {},
   "outputs": [
    {
     "data": {
      "image/png": "[encoded data removed]",
      "text/plain": [
       "<Figure size 576x576 with 1 Axes>"
      ]
     },
     "metadata": {
      "needs_background": "light"
     },
     "output_type": "display_data"
    },
    {
     "data": {
      "image/png": "[encoded data removed]",
      "text/plain": [
       "<Figure size 432x288 with 1 Axes>"
      ]
     },
     "metadata": {
      "needs_background": "light"
     },
     "output_type": "display_data"
    }
   ],
   "source": [
    "fdist = FreqDist(corpus)\n",
    "plt.figure(figsize=(8, 8))\n",
    "fdist.plot(30, cumulative=False)\n",
    "plt.title('График наиболее часто встречаемых фраз')\n",
    "plt.show()"
   ]
  },
  {
   "cell_type": "code",
   "execution_count": 10,
   "metadata": {},
   "outputs": [],
   "source": [
    "features = data['text']#выделим признаки и целевой признак\n",
    "target = data['toxic']"
   ]
  },
  {
   "cell_type": "code",
   "execution_count": 11,
   "metadata": {},
   "outputs": [],
   "source": [
    "features_train, features_test, target_train, target_test = train_test_split(\n",
    "    features, target, test_size = 0.30, random_state = 12345, stratify=target)#разделим выборки"
   ]
  },
  {
   "cell_type": "code",
   "execution_count": 12,
   "metadata": {},
   "outputs": [],
   "source": [
    "stopwords = set(nltk_stopwords.words('english'))#применим стопслова"
   ]
  },
  {
   "cell_type": "code",
   "execution_count": 13,
   "metadata": {},
   "outputs": [
    {
     "name": "stdout",
     "output_type": "stream",
     "text": [
      "(111504,)\n",
      "(47788,)\n"
     ]
    }
   ],
   "source": [
    "print(features_train.shape)\n",
    "print(features_test.shape)"
   ]
  },
  {
   "cell_type": "markdown",
   "metadata": {},
   "source": [
    "___Комментарии:___ Мы подготовили данные для обучения модели, очистили и лемматизировали английский текст, применили величины TF-IDF как признаки. Далее обучим на признаках несколько моделей для классификации."
   ]
  },
  {
   "cell_type": "markdown",
   "metadata": {},
   "source": [
    "## Обучение"
   ]
  },
  {
   "cell_type": "code",
   "execution_count": 14,
   "metadata": {},
   "outputs": [
    {
     "name": "stdout",
     "output_type": "stream",
     "text": [
      "Fitting 5 folds for each of 2 candidates, totalling 10 fits\n",
      "[CV 1/5] END ............................tfidf__use_idf=True; total time= 6.9min\n",
      "[CV 2/5] END ............................tfidf__use_idf=True; total time= 7.0min\n",
      "[CV 3/5] END ............................tfidf__use_idf=True; total time= 8.5min\n",
      "[CV 4/5] END ............................tfidf__use_idf=True; total time= 8.4min\n",
      "[CV 5/5] END ............................tfidf__use_idf=True; total time= 8.5min\n",
      "[CV 1/5] END ...........................tfidf__use_idf=False; total time= 8.2min\n",
      "[CV 2/5] END ...........................tfidf__use_idf=False; total time= 7.4min\n",
      "[CV 3/5] END ...........................tfidf__use_idf=False; total time= 8.2min\n",
      "[CV 4/5] END ...........................tfidf__use_idf=False; total time= 8.2min\n",
      "[CV 5/5] END ...........................tfidf__use_idf=False; total time= 8.3min\n",
      "F1 на тренировочной выборке модели RandomForestClassifier: 0.6224684604661082\n",
      "CPU times: user 1h 30min 18s, sys: 13.6 s, total: 1h 30min 31s\n",
      "Wall time: 1h 30min 36s\n"
     ]
    }
   ],
   "source": [
    "%%time\n",
    "\n",
    "\n",
    "pipeline = Pipeline([('tvect', CountVectorizer(stop_words=stopwords, binary=True)),\n",
    "                     ('tfidf', TfidfTransformer()),\n",
    "                     ('model', RandomForestClassifier(random_state=12345, class_weight='balanced'))])\n",
    "\n",
    "model = GridSearchCV(\n",
    "    estimator = pipeline, param_grid = {'tfidf__use_idf': [True, False]}, n_jobs=-1, scoring='f1', cv=5, verbose=3)\n",
    "\n",
    "model.fit(features_train, target_train)\n",
    "\n",
    "\n",
    "print('F1 на тренировочной выборке модели RandomForestClassifier:', model.best_score_)"
   ]
  },
  {
   "cell_type": "code",
   "execution_count": 15,
   "metadata": {},
   "outputs": [
    {
     "name": "stdout",
     "output_type": "stream",
     "text": [
      "F1 на тренировочной выборке модели LogisticRegression: 0.7462335498084715\n",
      "CPU times: user 7min 26s, sys: 7min 43s, total: 15min 10s\n",
      "Wall time: 15min 11s\n"
     ]
    }
   ],
   "source": [
    "%%time\n",
    "\n",
    "pipeline = Pipeline([('vect', CountVectorizer(stop_words=stopwords, binary=True)),\n",
    "                 ('tfidf', TfidfTransformer()),\n",
    "                 ('clf', LogisticRegression(random_state=12345, class_weight='balanced', solver='lbfgs', max_iter=500))])\n",
    "\n",
    "params =  {\n",
    "    'vect__max_df': (0.5, 0.75, 1.0),\n",
    "    'tfidf__use_idf': (True, False)\n",
    "}\n",
    "\n",
    "grid = GridSearchCV(pipeline, params, n_jobs = -1, scoring = 'f1', cv=3)\n",
    "\n",
    "grid.fit(features_train, target_train)\n",
    "\n",
    "print('F1 на тренировочной выборке модели LogisticRegression:', grid.best_score_)"
   ]
  },
  {
   "cell_type": "code",
   "execution_count": 16,
   "metadata": {},
   "outputs": [
    {
     "name": "stdout",
     "output_type": "stream",
     "text": [
      "F1 на тестовой выборке LogisticRegression: 0.7603186097031137\n"
     ]
    }
   ],
   "source": [
    "prediction = grid.predict(features_test)\n",
    "f1 = f1_score(target_test, prediction)\n",
    "print('F1 на тестовой выборке LogisticRegression:', f1)"
   ]
  },
  {
   "cell_type": "markdown",
   "metadata": {},
   "source": [
    "## Выводы"
   ]
  },
  {
   "cell_type": "markdown",
   "metadata": {},
   "source": [
    "Мы обучили моедль классифицировать комментарии на позитивные и негативные. Мы построили разные модели - RandomForestClassifier,  LogisticRegression со значением метрики качества F1, RandomForestClassifier сработало хуже, метрика F1 0.62 на тренировочной выборке, следователоьно мы применили на тестовой выборке модель LogisticRegression значением f1 - 0,76."
   ]
  }
 ],
 "metadata": {
  "ExecuteTimeLog": [
   {
    "duration": 3191,
    "start_time": "2023-02-15T09:34:53.331Z"
   },
   {
    "duration": 14,
    "start_time": "2023-02-15T09:35:12.256Z"
   },
   {
    "duration": 42,
    "start_time": "2023-02-15T09:36:45.035Z"
   },
   {
    "duration": 2611,
    "start_time": "2023-02-15T09:49:27.720Z"
   },
   {
    "duration": 968,
    "start_time": "2023-02-15T09:49:53.088Z"
   },
   {
    "duration": 84,
    "start_time": "2023-02-15T09:51:49.777Z"
   },
   {
    "duration": 20,
    "start_time": "2023-02-15T10:12:59.026Z"
   },
   {
    "duration": 12,
    "start_time": "2023-02-15T10:13:08.153Z"
   },
   {
    "duration": 6,
    "start_time": "2023-02-15T10:14:24.650Z"
   },
   {
    "duration": 7,
    "start_time": "2023-02-15T10:15:01.099Z"
   },
   {
    "duration": 32,
    "start_time": "2023-02-15T10:16:18.459Z"
   },
   {
    "duration": 76,
    "start_time": "2023-02-15T10:28:26.344Z"
   },
   {
    "duration": 90,
    "start_time": "2023-02-15T10:30:47.675Z"
   },
   {
    "duration": 85,
    "start_time": "2023-02-15T10:31:01.027Z"
   },
   {
    "duration": 9,
    "start_time": "2023-02-15T10:33:21.780Z"
   },
   {
    "duration": 7,
    "start_time": "2023-02-15T10:34:00.820Z"
   },
   {
    "duration": 62,
    "start_time": "2023-02-15T10:34:20.789Z"
   },
   {
    "duration": 599,
    "start_time": "2023-02-15T10:41:38.088Z"
   },
   {
    "duration": 259,
    "start_time": "2023-02-15T10:41:55.880Z"
   },
   {
    "duration": 225,
    "start_time": "2023-02-15T10:42:10.921Z"
   },
   {
    "duration": 13,
    "start_time": "2023-02-15T10:45:43.995Z"
   },
   {
    "duration": 870,
    "start_time": "2023-02-15T10:48:16.379Z"
   },
   {
    "duration": 884,
    "start_time": "2023-02-15T10:48:34.780Z"
   },
   {
    "duration": 857,
    "start_time": "2023-02-15T10:48:44.045Z"
   },
   {
    "duration": 919,
    "start_time": "2023-02-15T10:52:19.389Z"
   },
   {
    "duration": 1000,
    "start_time": "2023-02-15T10:54:46.302Z"
   },
   {
    "duration": 1092,
    "start_time": "2023-02-15T10:55:38.191Z"
   },
   {
    "duration": 1038,
    "start_time": "2023-02-15T10:55:48.367Z"
   },
   {
    "duration": 847,
    "start_time": "2023-02-15T10:56:55.584Z"
   },
   {
    "duration": 4,
    "start_time": "2023-02-15T10:57:24.591Z"
   },
   {
    "duration": 880,
    "start_time": "2023-02-15T10:57:25.471Z"
   },
   {
    "duration": 448,
    "start_time": "2023-02-15T10:57:28.128Z"
   },
   {
    "duration": 35,
    "start_time": "2023-02-15T10:57:28.959Z"
   },
   {
    "duration": 36,
    "start_time": "2023-02-15T10:57:36.158Z"
   },
   {
    "duration": 7,
    "start_time": "2023-02-15T10:57:37.135Z"
   },
   {
    "duration": 904,
    "start_time": "2023-02-15T10:57:37.904Z"
   },
   {
    "duration": 984,
    "start_time": "2023-02-15T10:59:32.096Z"
   },
   {
    "duration": 861,
    "start_time": "2023-02-15T10:59:43.232Z"
   },
   {
    "duration": 912,
    "start_time": "2023-02-15T10:59:52.592Z"
   },
   {
    "duration": 924,
    "start_time": "2023-02-15T11:00:01.345Z"
   },
   {
    "duration": 969,
    "start_time": "2023-02-15T11:00:08.850Z"
   },
   {
    "duration": 968,
    "start_time": "2023-02-15T11:00:19.825Z"
   },
   {
    "duration": 871,
    "start_time": "2023-02-15T11:00:25.585Z"
   },
   {
    "duration": 896,
    "start_time": "2023-02-15T11:00:55.809Z"
   },
   {
    "duration": 1042,
    "start_time": "2023-02-15T11:01:08.255Z"
   },
   {
    "duration": 1057,
    "start_time": "2023-02-15T11:01:51.553Z"
   },
   {
    "duration": 961,
    "start_time": "2023-02-15T11:03:05.282Z"
   },
   {
    "duration": 947,
    "start_time": "2023-02-15T11:03:38.028Z"
   },
   {
    "duration": 910,
    "start_time": "2023-02-15T11:03:49.394Z"
   },
   {
    "duration": 893,
    "start_time": "2023-02-15T11:04:14.211Z"
   },
   {
    "duration": 4,
    "start_time": "2023-02-15T12:03:32.699Z"
   },
   {
    "duration": 4,
    "start_time": "2023-02-15T12:03:55.741Z"
   },
   {
    "duration": 2934,
    "start_time": "2023-02-15T12:27:21.959Z"
   },
   {
    "duration": 891,
    "start_time": "2023-02-15T12:27:24.895Z"
   },
   {
    "duration": 42,
    "start_time": "2023-02-15T12:27:28.694Z"
   },
   {
    "duration": 8,
    "start_time": "2023-02-15T12:27:29.717Z"
   },
   {
    "duration": 893,
    "start_time": "2023-02-15T12:27:31.462Z"
   },
   {
    "duration": 22,
    "start_time": "2023-02-15T12:27:32.358Z"
   },
   {
    "duration": 111,
    "start_time": "2023-02-15T12:27:32.966Z"
   },
   {
    "duration": 8,
    "start_time": "2023-02-15T12:27:33.734Z"
   },
   {
    "duration": 1019,
    "start_time": "2023-02-15T12:27:34.247Z"
   },
   {
    "duration": 40,
    "start_time": "2023-02-15T12:27:36.598Z"
   },
   {
    "duration": 229,
    "start_time": "2023-02-15T12:39:52.909Z"
   },
   {
    "duration": 596,
    "start_time": "2023-02-15T12:40:22.524Z"
   },
   {
    "duration": 524,
    "start_time": "2023-02-15T12:46:17.080Z"
   },
   {
    "duration": 2653,
    "start_time": "2023-02-15T12:47:22.332Z"
   },
   {
    "duration": 2140,
    "start_time": "2023-02-15T12:47:24.988Z"
   },
   {
    "duration": 2238,
    "start_time": "2023-02-15T12:47:27.130Z"
   },
   {
    "duration": 2167,
    "start_time": "2023-02-15T12:47:29.372Z"
   },
   {
    "duration": 5380,
    "start_time": "2023-02-15T12:47:31.542Z"
   },
   {
    "duration": 883,
    "start_time": "2023-02-15T12:47:36.924Z"
   },
   {
    "duration": 46,
    "start_time": "2023-02-15T12:47:37.809Z"
   },
   {
    "duration": 22,
    "start_time": "2023-02-15T12:47:37.857Z"
   },
   {
    "duration": 367,
    "start_time": "2023-02-15T12:47:37.881Z"
   },
   {
    "duration": 0,
    "start_time": "2023-02-15T12:47:38.250Z"
   },
   {
    "duration": 0,
    "start_time": "2023-02-15T12:47:38.251Z"
   },
   {
    "duration": 0,
    "start_time": "2023-02-15T12:47:38.252Z"
   },
   {
    "duration": 0,
    "start_time": "2023-02-15T12:47:38.253Z"
   },
   {
    "duration": 0,
    "start_time": "2023-02-15T12:47:38.255Z"
   },
   {
    "duration": 0,
    "start_time": "2023-02-15T12:47:38.255Z"
   },
   {
    "duration": 0,
    "start_time": "2023-02-15T12:47:38.257Z"
   },
   {
    "duration": 1,
    "start_time": "2023-02-15T12:47:38.258Z"
   },
   {
    "duration": 0,
    "start_time": "2023-02-15T12:47:38.260Z"
   },
   {
    "duration": 0,
    "start_time": "2023-02-15T12:47:38.262Z"
   },
   {
    "duration": 0,
    "start_time": "2023-02-15T12:47:38.263Z"
   },
   {
    "duration": 0,
    "start_time": "2023-02-15T12:47:38.265Z"
   },
   {
    "duration": 0,
    "start_time": "2023-02-15T12:47:38.266Z"
   },
   {
    "duration": 0,
    "start_time": "2023-02-15T12:47:38.268Z"
   },
   {
    "duration": 48,
    "start_time": "2023-02-15T12:50:13.054Z"
   },
   {
    "duration": 881,
    "start_time": "2023-02-15T12:50:14.046Z"
   },
   {
    "duration": 35,
    "start_time": "2023-02-15T12:50:17.823Z"
   },
   {
    "duration": 7,
    "start_time": "2023-02-15T12:50:19.535Z"
   },
   {
    "duration": 857,
    "start_time": "2023-02-15T12:50:20.110Z"
   },
   {
    "duration": 23,
    "start_time": "2023-02-15T12:51:01.923Z"
   },
   {
    "duration": 78,
    "start_time": "2023-02-15T12:51:02.287Z"
   },
   {
    "duration": 7,
    "start_time": "2023-02-15T12:51:03.183Z"
   },
   {
    "duration": 980,
    "start_time": "2023-02-15T12:51:03.807Z"
   },
   {
    "duration": 35,
    "start_time": "2023-02-15T12:51:05.454Z"
   },
   {
    "duration": 585,
    "start_time": "2023-02-15T12:51:06.542Z"
   },
   {
    "duration": 600,
    "start_time": "2023-02-15T12:52:13.280Z"
   },
   {
    "duration": 1180,
    "start_time": "2023-02-15T12:52:42.413Z"
   },
   {
    "duration": 1127,
    "start_time": "2023-02-15T12:53:09.376Z"
   },
   {
    "duration": 35,
    "start_time": "2023-02-15T12:57:08.690Z"
   },
   {
    "duration": 22,
    "start_time": "2023-02-15T12:57:22.785Z"
   },
   {
    "duration": 4,
    "start_time": "2023-02-15T13:06:47.943Z"
   },
   {
    "duration": 937,
    "start_time": "2023-02-15T13:06:48.536Z"
   },
   {
    "duration": 37,
    "start_time": "2023-02-15T13:07:02.679Z"
   },
   {
    "duration": 3,
    "start_time": "2023-02-15T13:07:03.094Z"
   },
   {
    "duration": 542,
    "start_time": "2023-02-15T13:07:03.527Z"
   },
   {
    "duration": 528,
    "start_time": "2023-02-15T13:08:15.577Z"
   },
   {
    "duration": 537,
    "start_time": "2023-02-15T13:08:52.984Z"
   },
   {
    "duration": 22,
    "start_time": "2023-02-15T13:09:18.534Z"
   },
   {
    "duration": 477,
    "start_time": "2023-02-15T13:09:19.128Z"
   },
   {
    "duration": 3,
    "start_time": "2023-02-15T13:19:34.175Z"
   },
   {
    "duration": 717,
    "start_time": "2023-02-15T13:19:34.752Z"
   },
   {
    "duration": 34,
    "start_time": "2023-02-15T13:22:40.289Z"
   },
   {
    "duration": 638,
    "start_time": "2023-02-15T13:22:40.805Z"
   },
   {
    "duration": 634,
    "start_time": "2023-02-15T13:23:20.627Z"
   },
   {
    "duration": 2233,
    "start_time": "2023-02-15T13:32:51.542Z"
   },
   {
    "duration": 5,
    "start_time": "2023-02-15T13:33:10.503Z"
   },
   {
    "duration": 2507,
    "start_time": "2023-02-15T13:33:15.352Z"
   },
   {
    "duration": 2538,
    "start_time": "2023-02-15T13:37:14.513Z"
   },
   {
    "duration": 2251,
    "start_time": "2023-02-15T13:41:27.712Z"
   },
   {
    "duration": 2119,
    "start_time": "2023-02-15T13:41:29.966Z"
   },
   {
    "duration": 5470,
    "start_time": "2023-02-15T13:41:32.088Z"
   },
   {
    "duration": 931,
    "start_time": "2023-02-15T13:41:37.560Z"
   },
   {
    "duration": 50,
    "start_time": "2023-02-15T13:41:38.494Z"
   },
   {
    "duration": 11,
    "start_time": "2023-02-15T13:41:38.546Z"
   },
   {
    "duration": 928,
    "start_time": "2023-02-15T13:41:38.559Z"
   },
   {
    "duration": 21,
    "start_time": "2023-02-15T13:41:39.489Z"
   },
   {
    "duration": 124,
    "start_time": "2023-02-15T13:41:39.512Z"
   },
   {
    "duration": 8,
    "start_time": "2023-02-15T13:41:39.639Z"
   },
   {
    "duration": 1036,
    "start_time": "2023-02-15T13:41:39.649Z"
   },
   {
    "duration": 33,
    "start_time": "2023-02-15T13:41:40.687Z"
   },
   {
    "duration": 859,
    "start_time": "2023-02-15T13:41:40.721Z"
   },
   {
    "duration": 0,
    "start_time": "2023-02-15T13:41:41.583Z"
   },
   {
    "duration": 0,
    "start_time": "2023-02-15T13:41:41.584Z"
   },
   {
    "duration": 0,
    "start_time": "2023-02-15T13:41:41.586Z"
   },
   {
    "duration": 0,
    "start_time": "2023-02-15T13:41:41.587Z"
   },
   {
    "duration": 0,
    "start_time": "2023-02-15T13:41:41.588Z"
   },
   {
    "duration": 0,
    "start_time": "2023-02-15T13:41:41.590Z"
   },
   {
    "duration": 0,
    "start_time": "2023-02-15T13:41:41.592Z"
   },
   {
    "duration": 0,
    "start_time": "2023-02-15T13:41:41.593Z"
   },
   {
    "duration": 2139,
    "start_time": "2023-02-15T13:45:45.328Z"
   },
   {
    "duration": 2161,
    "start_time": "2023-02-15T13:45:47.469Z"
   },
   {
    "duration": 5384,
    "start_time": "2023-02-15T13:45:49.632Z"
   },
   {
    "duration": 923,
    "start_time": "2023-02-15T13:45:55.019Z"
   },
   {
    "duration": 40,
    "start_time": "2023-02-15T13:45:55.944Z"
   },
   {
    "duration": 9,
    "start_time": "2023-02-15T13:45:55.986Z"
   },
   {
    "duration": 897,
    "start_time": "2023-02-15T13:45:55.997Z"
   },
   {
    "duration": 24,
    "start_time": "2023-02-15T13:45:56.897Z"
   },
   {
    "duration": 110,
    "start_time": "2023-02-15T13:45:56.936Z"
   },
   {
    "duration": 9,
    "start_time": "2023-02-15T13:45:57.048Z"
   },
   {
    "duration": 1319,
    "start_time": "2023-02-15T13:45:57.059Z"
   },
   {
    "duration": 36,
    "start_time": "2023-02-15T13:45:58.380Z"
   },
   {
    "duration": 39019,
    "start_time": "2023-02-15T13:45:58.419Z"
   },
   {
    "duration": 3,
    "start_time": "2023-02-15T13:46:37.442Z"
   },
   {
    "duration": 41,
    "start_time": "2023-02-15T13:46:37.447Z"
   },
   {
    "duration": 1977,
    "start_time": "2023-02-15T13:46:37.489Z"
   },
   {
    "duration": 0,
    "start_time": "2023-02-15T13:46:39.468Z"
   },
   {
    "duration": 0,
    "start_time": "2023-02-15T13:46:39.470Z"
   },
   {
    "duration": 0,
    "start_time": "2023-02-15T13:46:39.471Z"
   },
   {
    "duration": 0,
    "start_time": "2023-02-15T13:46:39.473Z"
   },
   {
    "duration": 0,
    "start_time": "2023-02-15T13:46:39.474Z"
   },
   {
    "duration": 1600,
    "start_time": "2023-02-15T14:05:03.937Z"
   },
   {
    "duration": 4,
    "start_time": "2023-02-15T14:05:53.905Z"
   },
   {
    "duration": 1595,
    "start_time": "2023-02-15T14:05:54.426Z"
   },
   {
    "duration": 3134,
    "start_time": "2023-02-15T14:15:01.171Z"
   },
   {
    "duration": 2199,
    "start_time": "2023-02-15T14:15:04.309Z"
   },
   {
    "duration": 5545,
    "start_time": "2023-02-15T14:15:06.511Z"
   },
   {
    "duration": 909,
    "start_time": "2023-02-15T14:15:12.059Z"
   },
   {
    "duration": 34,
    "start_time": "2023-02-15T14:15:12.970Z"
   },
   {
    "duration": 8,
    "start_time": "2023-02-15T14:15:13.005Z"
   },
   {
    "duration": 897,
    "start_time": "2023-02-15T14:15:13.015Z"
   },
   {
    "duration": 34,
    "start_time": "2023-02-15T14:15:13.914Z"
   },
   {
    "duration": 121,
    "start_time": "2023-02-15T14:15:13.951Z"
   },
   {
    "duration": 7,
    "start_time": "2023-02-15T14:15:14.076Z"
   },
   {
    "duration": 1121,
    "start_time": "2023-02-15T14:15:14.086Z"
   },
   {
    "duration": 6370,
    "start_time": "2023-02-15T14:15:15.209Z"
   },
   {
    "duration": 0,
    "start_time": "2023-02-15T14:15:21.581Z"
   },
   {
    "duration": 0,
    "start_time": "2023-02-15T14:15:21.582Z"
   },
   {
    "duration": 0,
    "start_time": "2023-02-15T14:15:21.584Z"
   },
   {
    "duration": 0,
    "start_time": "2023-02-15T14:15:21.585Z"
   },
   {
    "duration": 0,
    "start_time": "2023-02-15T14:15:21.586Z"
   },
   {
    "duration": 0,
    "start_time": "2023-02-15T14:15:21.587Z"
   },
   {
    "duration": 0,
    "start_time": "2023-02-15T14:15:21.589Z"
   },
   {
    "duration": 0,
    "start_time": "2023-02-15T14:15:21.590Z"
   },
   {
    "duration": 0,
    "start_time": "2023-02-15T14:15:21.592Z"
   },
   {
    "duration": 57649,
    "start_time": "2023-02-15T14:17:06.442Z"
   },
   {
    "duration": 3,
    "start_time": "2023-02-15T14:18:04.093Z"
   },
   {
    "duration": 73,
    "start_time": "2023-02-15T14:18:04.098Z"
   },
   {
    "duration": 3,
    "start_time": "2023-02-15T14:18:04.174Z"
   },
   {
    "duration": 2453,
    "start_time": "2023-02-15T14:18:04.178Z"
   },
   {
    "duration": 2760,
    "start_time": "2023-02-15T14:22:44.241Z"
   },
   {
    "duration": 2474,
    "start_time": "2023-02-15T14:22:57.969Z"
   },
   {
    "duration": 5267,
    "start_time": "2023-02-15T14:27:02.441Z"
   },
   {
    "duration": 4,
    "start_time": "2023-02-15T14:27:13.765Z"
   },
   {
    "duration": 48,
    "start_time": "2023-02-15T14:27:14.737Z"
   },
   {
    "duration": 392,
    "start_time": "2023-02-15T14:27:57.889Z"
   },
   {
    "duration": 4,
    "start_time": "2023-02-15T14:29:05.538Z"
   },
   {
    "duration": 384,
    "start_time": "2023-02-15T14:29:23.934Z"
   },
   {
    "duration": 3948,
    "start_time": "2023-02-15T14:30:50.196Z"
   },
   {
    "duration": 3,
    "start_time": "2023-02-15T14:30:57.682Z"
   },
   {
    "duration": 36,
    "start_time": "2023-02-15T14:30:58.193Z"
   },
   {
    "duration": 4,
    "start_time": "2023-02-15T14:30:59.809Z"
   },
   {
    "duration": 391,
    "start_time": "2023-02-15T14:31:02.384Z"
   },
   {
    "duration": 4,
    "start_time": "2023-02-15T14:40:57.972Z"
   },
   {
    "duration": 3,
    "start_time": "2023-02-15T14:42:51.430Z"
   },
   {
    "duration": 107,
    "start_time": "2023-02-15T14:42:51.989Z"
   },
   {
    "duration": 85,
    "start_time": "2023-02-15T14:45:01.256Z"
   },
   {
    "duration": 94,
    "start_time": "2023-02-15T14:45:28.405Z"
   },
   {
    "duration": 4,
    "start_time": "2023-02-15T14:47:41.783Z"
   },
   {
    "duration": 76,
    "start_time": "2023-02-15T14:47:42.230Z"
   },
   {
    "duration": 2381,
    "start_time": "2023-02-15T14:47:50.409Z"
   },
   {
    "duration": 2296,
    "start_time": "2023-02-15T14:47:52.792Z"
   },
   {
    "duration": 5859,
    "start_time": "2023-02-15T14:47:55.091Z"
   },
   {
    "duration": 1021,
    "start_time": "2023-02-15T14:48:00.952Z"
   },
   {
    "duration": 37,
    "start_time": "2023-02-15T14:48:01.975Z"
   },
   {
    "duration": 41,
    "start_time": "2023-02-15T14:48:02.014Z"
   },
   {
    "duration": 1106,
    "start_time": "2023-02-15T14:48:02.056Z"
   },
   {
    "duration": 30,
    "start_time": "2023-02-15T14:48:03.165Z"
   },
   {
    "duration": 125,
    "start_time": "2023-02-15T14:48:03.197Z"
   },
   {
    "duration": 8,
    "start_time": "2023-02-15T14:48:03.336Z"
   },
   {
    "duration": 1316,
    "start_time": "2023-02-15T14:48:03.346Z"
   },
   {
    "duration": 67915,
    "start_time": "2023-02-15T14:48:04.664Z"
   },
   {
    "duration": 3,
    "start_time": "2023-02-15T14:49:12.581Z"
   },
   {
    "duration": 108,
    "start_time": "2023-02-15T14:49:12.586Z"
   },
   {
    "duration": 0,
    "start_time": "2023-02-15T14:49:12.696Z"
   },
   {
    "duration": 0,
    "start_time": "2023-02-15T14:49:12.697Z"
   },
   {
    "duration": 0,
    "start_time": "2023-02-15T14:49:12.699Z"
   },
   {
    "duration": 0,
    "start_time": "2023-02-15T14:49:12.700Z"
   },
   {
    "duration": 0,
    "start_time": "2023-02-15T14:49:12.701Z"
   },
   {
    "duration": 0,
    "start_time": "2023-02-15T14:49:12.702Z"
   },
   {
    "duration": 0,
    "start_time": "2023-02-15T14:49:12.703Z"
   },
   {
    "duration": 0,
    "start_time": "2023-02-15T14:49:12.704Z"
   },
   {
    "duration": 0,
    "start_time": "2023-02-15T14:49:12.706Z"
   },
   {
    "duration": 4,
    "start_time": "2023-02-15T14:50:10.627Z"
   },
   {
    "duration": 77,
    "start_time": "2023-02-15T14:50:11.153Z"
   },
   {
    "duration": 3,
    "start_time": "2023-02-15T14:56:52.361Z"
   },
   {
    "duration": 3,
    "start_time": "2023-02-15T14:58:04.907Z"
   },
   {
    "duration": 374,
    "start_time": "2023-02-15T15:00:38.764Z"
   },
   {
    "duration": 458,
    "start_time": "2023-02-15T15:01:39.309Z"
   },
   {
    "duration": 391,
    "start_time": "2023-02-15T15:02:06.726Z"
   },
   {
    "duration": 5957,
    "start_time": "2023-02-15T15:02:34.030Z"
   },
   {
    "duration": 3,
    "start_time": "2023-02-15T15:02:54.574Z"
   },
   {
    "duration": 4,
    "start_time": "2023-02-15T15:03:17.342Z"
   },
   {
    "duration": 4,
    "start_time": "2023-02-15T15:03:17.837Z"
   },
   {
    "duration": 6189,
    "start_time": "2023-02-15T15:03:18.382Z"
   },
   {
    "duration": 4,
    "start_time": "2023-02-15T15:03:24.573Z"
   },
   {
    "duration": 353,
    "start_time": "2023-02-15T15:04:13.536Z"
   },
   {
    "duration": 626,
    "start_time": "2023-02-15T15:04:33.504Z"
   },
   {
    "duration": 29,
    "start_time": "2023-02-15T15:05:33.807Z"
   },
   {
    "duration": 182,
    "start_time": "2023-02-15T15:05:57.504Z"
   },
   {
    "duration": 4,
    "start_time": "2023-02-15T15:06:01.295Z"
   },
   {
    "duration": 3,
    "start_time": "2023-02-15T15:06:05.184Z"
   },
   {
    "duration": 3,
    "start_time": "2023-02-15T15:06:05.600Z"
   },
   {
    "duration": 53,
    "start_time": "2023-02-15T15:06:17.407Z"
   },
   {
    "duration": 8,
    "start_time": "2023-02-15T15:06:18.128Z"
   },
   {
    "duration": 2150,
    "start_time": "2023-02-15T15:06:38.997Z"
   },
   {
    "duration": 2237,
    "start_time": "2023-02-15T15:06:41.150Z"
   },
   {
    "duration": 6367,
    "start_time": "2023-02-15T15:06:43.390Z"
   },
   {
    "duration": 2657,
    "start_time": "2023-02-15T15:06:49.758Z"
   },
   {
    "duration": 37,
    "start_time": "2023-02-15T15:06:52.418Z"
   },
   {
    "duration": 8,
    "start_time": "2023-02-15T15:06:52.457Z"
   },
   {
    "duration": 936,
    "start_time": "2023-02-15T15:06:52.466Z"
   },
   {
    "duration": 34,
    "start_time": "2023-02-15T15:06:53.404Z"
   },
   {
    "duration": 96,
    "start_time": "2023-02-15T15:06:53.440Z"
   },
   {
    "duration": 8,
    "start_time": "2023-02-15T15:06:53.538Z"
   },
   {
    "duration": 1034,
    "start_time": "2023-02-15T15:06:53.548Z"
   },
   {
    "duration": 62190,
    "start_time": "2023-02-15T15:06:54.585Z"
   },
   {
    "duration": 4,
    "start_time": "2023-02-15T15:07:56.777Z"
   },
   {
    "duration": 6,
    "start_time": "2023-02-15T15:07:56.784Z"
   },
   {
    "duration": 223,
    "start_time": "2023-02-15T15:07:56.792Z"
   },
   {
    "duration": 4,
    "start_time": "2023-02-15T15:07:57.017Z"
   },
   {
    "duration": 13,
    "start_time": "2023-02-15T15:07:57.023Z"
   },
   {
    "duration": 41,
    "start_time": "2023-02-15T15:07:57.038Z"
   },
   {
    "duration": 4,
    "start_time": "2023-02-15T15:07:57.080Z"
   },
   {
    "duration": 2253,
    "start_time": "2023-02-15T15:20:56.913Z"
   },
   {
    "duration": 2115,
    "start_time": "2023-02-15T15:20:59.169Z"
   },
   {
    "duration": 5189,
    "start_time": "2023-02-15T15:21:01.286Z"
   },
   {
    "duration": 888,
    "start_time": "2023-02-15T15:21:06.477Z"
   },
   {
    "duration": 38,
    "start_time": "2023-02-15T15:21:07.367Z"
   },
   {
    "duration": 9,
    "start_time": "2023-02-15T15:21:07.407Z"
   },
   {
    "duration": 894,
    "start_time": "2023-02-15T15:21:07.437Z"
   },
   {
    "duration": 38,
    "start_time": "2023-02-15T15:21:08.333Z"
   },
   {
    "duration": 125,
    "start_time": "2023-02-15T15:21:08.373Z"
   },
   {
    "duration": 10,
    "start_time": "2023-02-15T15:21:08.502Z"
   },
   {
    "duration": 1072,
    "start_time": "2023-02-15T15:21:08.514Z"
   },
   {
    "duration": 63457,
    "start_time": "2023-02-15T15:21:09.588Z"
   },
   {
    "duration": 4,
    "start_time": "2023-02-15T15:22:13.048Z"
   },
   {
    "duration": 9,
    "start_time": "2023-02-15T15:22:13.054Z"
   },
   {
    "duration": 77,
    "start_time": "2023-02-15T15:22:13.065Z"
   },
   {
    "duration": 205,
    "start_time": "2023-02-15T15:22:13.144Z"
   },
   {
    "duration": 4,
    "start_time": "2023-02-15T15:22:13.351Z"
   },
   {
    "duration": 13,
    "start_time": "2023-02-15T15:22:13.358Z"
   },
   {
    "duration": 99,
    "start_time": "2023-02-15T15:22:13.373Z"
   },
   {
    "duration": 4,
    "start_time": "2023-02-15T15:22:13.475Z"
   },
   {
    "duration": 3011,
    "start_time": "2023-02-15T15:22:13.482Z"
   },
   {
    "duration": 0,
    "start_time": "2023-02-15T15:22:16.495Z"
   },
   {
    "duration": 0,
    "start_time": "2023-02-15T15:22:16.496Z"
   },
   {
    "duration": 0,
    "start_time": "2023-02-15T15:22:16.498Z"
   },
   {
    "duration": 0,
    "start_time": "2023-02-15T15:22:16.500Z"
   },
   {
    "duration": 0,
    "start_time": "2023-02-15T15:22:16.501Z"
   },
   {
    "duration": 23,
    "start_time": "2023-02-15T15:23:10.160Z"
   },
   {
    "duration": 3,
    "start_time": "2023-02-15T15:25:07.262Z"
   },
   {
    "duration": 25,
    "start_time": "2023-02-15T15:25:08.588Z"
   },
   {
    "duration": 4,
    "start_time": "2023-02-15T15:25:51.180Z"
   },
   {
    "duration": 63,
    "start_time": "2023-02-15T15:25:52.164Z"
   },
   {
    "duration": 3,
    "start_time": "2023-02-15T15:25:57.196Z"
   },
   {
    "duration": 2641,
    "start_time": "2023-02-15T15:25:57.756Z"
   },
   {
    "duration": 63,
    "start_time": "2023-02-16T04:00:06.016Z"
   },
   {
    "duration": 2430,
    "start_time": "2023-02-16T04:00:14.714Z"
   },
   {
    "duration": 1991,
    "start_time": "2023-02-16T04:00:17.147Z"
   },
   {
    "duration": 5648,
    "start_time": "2023-02-16T04:00:19.140Z"
   },
   {
    "duration": 2381,
    "start_time": "2023-02-16T04:00:24.791Z"
   },
   {
    "duration": 36,
    "start_time": "2023-02-16T04:00:27.173Z"
   },
   {
    "duration": 8,
    "start_time": "2023-02-16T04:00:27.212Z"
   },
   {
    "duration": 857,
    "start_time": "2023-02-16T04:00:27.222Z"
   },
   {
    "duration": 25,
    "start_time": "2023-02-16T04:00:28.080Z"
   },
   {
    "duration": 66,
    "start_time": "2023-02-16T04:00:28.106Z"
   },
   {
    "duration": 20,
    "start_time": "2023-02-16T04:00:28.175Z"
   },
   {
    "duration": 966,
    "start_time": "2023-02-16T04:00:28.197Z"
   },
   {
    "duration": 6716,
    "start_time": "2023-02-16T04:00:29.165Z"
   },
   {
    "duration": 0,
    "start_time": "2023-02-16T04:00:35.882Z"
   },
   {
    "duration": 0,
    "start_time": "2023-02-16T04:00:35.883Z"
   },
   {
    "duration": 0,
    "start_time": "2023-02-16T04:00:35.884Z"
   },
   {
    "duration": 0,
    "start_time": "2023-02-16T04:00:35.885Z"
   },
   {
    "duration": 0,
    "start_time": "2023-02-16T04:00:35.886Z"
   },
   {
    "duration": 0,
    "start_time": "2023-02-16T04:00:35.888Z"
   },
   {
    "duration": 0,
    "start_time": "2023-02-16T04:00:35.889Z"
   },
   {
    "duration": 0,
    "start_time": "2023-02-16T04:00:35.890Z"
   },
   {
    "duration": 0,
    "start_time": "2023-02-16T04:00:35.893Z"
   },
   {
    "duration": 53886,
    "start_time": "2023-02-16T04:01:41.990Z"
   },
   {
    "duration": 3,
    "start_time": "2023-02-16T04:02:57.853Z"
   },
   {
    "duration": 47,
    "start_time": "2023-02-16T04:02:58.300Z"
   },
   {
    "duration": 3,
    "start_time": "2023-02-16T04:02:59.453Z"
   },
   {
    "duration": 2290,
    "start_time": "2023-02-16T04:03:00.237Z"
   },
   {
    "duration": 4476,
    "start_time": "2023-02-16T04:05:47.270Z"
   },
   {
    "duration": 3,
    "start_time": "2023-02-16T04:06:00.127Z"
   },
   {
    "duration": 32,
    "start_time": "2023-02-16T04:06:00.798Z"
   },
   {
    "duration": 4,
    "start_time": "2023-02-16T04:06:29.358Z"
   },
   {
    "duration": 3739,
    "start_time": "2023-02-16T04:09:17.552Z"
   },
   {
    "duration": 3910,
    "start_time": "2023-02-16T04:09:42.256Z"
   },
   {
    "duration": 3756,
    "start_time": "2023-02-16T04:10:09.872Z"
   },
   {
    "duration": 3920,
    "start_time": "2023-02-16T04:10:25.056Z"
   },
   {
    "duration": 3750,
    "start_time": "2023-02-16T04:10:52.944Z"
   },
   {
    "duration": 3824,
    "start_time": "2023-02-16T04:11:20.753Z"
   },
   {
    "duration": 1147,
    "start_time": "2023-02-16T04:11:35.914Z"
   },
   {
    "duration": 1101,
    "start_time": "2023-02-16T04:12:07.216Z"
   },
   {
    "duration": 1159,
    "start_time": "2023-02-16T04:12:25.377Z"
   },
   {
    "duration": 7,
    "start_time": "2023-02-16T04:13:06.975Z"
   },
   {
    "duration": 8,
    "start_time": "2023-02-16T04:13:29.264Z"
   },
   {
    "duration": 224,
    "start_time": "2023-02-16T04:18:48.865Z"
   },
   {
    "duration": 13,
    "start_time": "2023-02-16T04:18:50.273Z"
   },
   {
    "duration": 190,
    "start_time": "2023-02-16T04:18:50.929Z"
   },
   {
    "duration": 7,
    "start_time": "2023-02-16T04:18:55.457Z"
   },
   {
    "duration": 13199,
    "start_time": "2023-02-16T04:19:12.563Z"
   },
   {
    "duration": 66484,
    "start_time": "2023-02-16T04:20:04.563Z"
   },
   {
    "duration": 7,
    "start_time": "2023-02-16T04:21:32.019Z"
   },
   {
    "duration": 13831,
    "start_time": "2023-02-16T04:21:46.595Z"
   },
   {
    "duration": 8,
    "start_time": "2023-02-16T04:22:00.516Z"
   },
   {
    "duration": 13802,
    "start_time": "2023-02-16T04:32:12.632Z"
   },
   {
    "duration": 7,
    "start_time": "2023-02-16T04:32:34.294Z"
   },
   {
    "duration": 2312,
    "start_time": "2023-02-16T04:33:07.656Z"
   },
   {
    "duration": 0,
    "start_time": "2023-02-16T04:33:09.969Z"
   },
   {
    "duration": 2114,
    "start_time": "2023-02-16T04:42:35.200Z"
   },
   {
    "duration": 1913,
    "start_time": "2023-02-16T04:42:37.316Z"
   },
   {
    "duration": 4528,
    "start_time": "2023-02-16T04:42:39.231Z"
   },
   {
    "duration": 750,
    "start_time": "2023-02-16T04:42:43.761Z"
   },
   {
    "duration": 30,
    "start_time": "2023-02-16T04:42:44.513Z"
   },
   {
    "duration": 9,
    "start_time": "2023-02-16T04:42:44.545Z"
   },
   {
    "duration": 846,
    "start_time": "2023-02-16T04:42:44.556Z"
   },
   {
    "duration": 19,
    "start_time": "2023-02-16T04:42:45.404Z"
   },
   {
    "duration": 362,
    "start_time": "2023-02-16T04:42:45.425Z"
   },
   {
    "duration": 0,
    "start_time": "2023-02-16T04:42:45.789Z"
   },
   {
    "duration": 0,
    "start_time": "2023-02-16T04:42:45.790Z"
   },
   {
    "duration": 0,
    "start_time": "2023-02-16T04:42:45.792Z"
   },
   {
    "duration": 0,
    "start_time": "2023-02-16T04:42:45.793Z"
   },
   {
    "duration": 0,
    "start_time": "2023-02-16T04:42:45.794Z"
   },
   {
    "duration": 0,
    "start_time": "2023-02-16T04:42:45.794Z"
   },
   {
    "duration": 0,
    "start_time": "2023-02-16T04:42:45.795Z"
   },
   {
    "duration": 0,
    "start_time": "2023-02-16T04:42:45.796Z"
   },
   {
    "duration": 0,
    "start_time": "2023-02-16T04:42:45.797Z"
   },
   {
    "duration": 0,
    "start_time": "2023-02-16T04:42:45.798Z"
   },
   {
    "duration": 0,
    "start_time": "2023-02-16T04:42:45.800Z"
   },
   {
    "duration": 0,
    "start_time": "2023-02-16T04:42:45.801Z"
   },
   {
    "duration": 0,
    "start_time": "2023-02-16T04:42:45.802Z"
   },
   {
    "duration": 0,
    "start_time": "2023-02-16T04:42:45.803Z"
   },
   {
    "duration": 28,
    "start_time": "2023-02-16T04:43:01.406Z"
   },
   {
    "duration": 5,
    "start_time": "2023-02-16T04:43:02.286Z"
   },
   {
    "duration": 130,
    "start_time": "2023-02-16T04:43:04.669Z"
   },
   {
    "duration": 8,
    "start_time": "2023-02-16T04:43:08.046Z"
   },
   {
    "duration": 2756,
    "start_time": "2023-02-16T04:43:09.678Z"
   },
   {
    "duration": 0,
    "start_time": "2023-02-16T04:43:12.436Z"
   },
   {
    "duration": 1788,
    "start_time": "2023-02-16T04:43:50.770Z"
   },
   {
    "duration": 7,
    "start_time": "2023-02-16T04:43:52.626Z"
   },
   {
    "duration": 3604,
    "start_time": "2023-02-16T04:44:21.169Z"
   },
   {
    "duration": 0,
    "start_time": "2023-02-16T04:44:24.774Z"
   },
   {
    "duration": 3539,
    "start_time": "2023-02-16T04:45:03.810Z"
   },
   {
    "duration": 1691763,
    "start_time": "2023-02-16T04:45:42.578Z"
   },
   {
    "duration": 6,
    "start_time": "2023-02-16T05:13:54.343Z"
   },
   {
    "duration": 13,
    "start_time": "2023-02-16T07:38:34.848Z"
   },
   {
    "duration": 21,
    "start_time": "2023-02-16T07:40:28.728Z"
   },
   {
    "duration": 19,
    "start_time": "2023-02-16T07:40:47.460Z"
   },
   {
    "duration": 4,
    "start_time": "2023-02-16T07:40:54.388Z"
   },
   {
    "duration": 28,
    "start_time": "2023-02-16T07:40:54.868Z"
   },
   {
    "duration": 4637,
    "start_time": "2023-02-16T07:40:55.411Z"
   },
   {
    "duration": 4,
    "start_time": "2023-02-16T07:41:14.032Z"
   },
   {
    "duration": 38761,
    "start_time": "2023-02-16T07:41:17.025Z"
   },
   {
    "duration": 58,
    "start_time": "2023-02-16T07:46:24.453Z"
   },
   {
    "duration": 4943,
    "start_time": "2023-02-16T07:46:25.190Z"
   },
   {
    "duration": 3,
    "start_time": "2023-02-16T08:03:31.828Z"
   },
   {
    "duration": 29,
    "start_time": "2023-02-16T08:03:32.631Z"
   },
   {
    "duration": 4,
    "start_time": "2023-02-16T08:06:11.883Z"
   },
   {
    "duration": 25,
    "start_time": "2023-02-16T08:06:12.429Z"
   },
   {
    "duration": 3,
    "start_time": "2023-02-16T08:09:41.980Z"
   },
   {
    "duration": 29,
    "start_time": "2023-02-16T08:09:42.626Z"
   },
   {
    "duration": 680,
    "start_time": "2023-02-16T08:09:57.550Z"
   },
   {
    "duration": 725,
    "start_time": "2023-02-16T08:12:22.118Z"
   },
   {
    "duration": 4,
    "start_time": "2023-02-16T08:16:24.123Z"
   },
   {
    "duration": 2,
    "start_time": "2023-02-16T08:16:28.879Z"
   },
   {
    "duration": 47,
    "start_time": "2023-02-16T08:16:29.429Z"
   },
   {
    "duration": 3,
    "start_time": "2023-02-16T08:16:29.983Z"
   },
   {
    "duration": 14,
    "start_time": "2023-02-16T08:16:34.897Z"
   },
   {
    "duration": 28,
    "start_time": "2023-02-16T08:23:41.733Z"
   },
   {
    "duration": 41,
    "start_time": "2023-02-16T08:25:28.538Z"
   },
   {
    "duration": 2,
    "start_time": "2023-02-16T08:25:51.188Z"
   },
   {
    "duration": 99,
    "start_time": "2023-02-16T08:25:51.634Z"
   },
   {
    "duration": 4,
    "start_time": "2023-02-16T08:25:52.264Z"
   },
   {
    "duration": 3,
    "start_time": "2023-02-16T08:25:54.741Z"
   },
   {
    "duration": 52,
    "start_time": "2023-02-16T08:25:56.673Z"
   },
   {
    "duration": 49,
    "start_time": "2023-02-16T08:26:21.922Z"
   },
   {
    "duration": 41,
    "start_time": "2023-02-16T08:26:58.928Z"
   },
   {
    "duration": 55,
    "start_time": "2023-02-16T08:44:32.488Z"
   },
   {
    "duration": 55,
    "start_time": "2023-02-16T08:47:00.176Z"
   },
   {
    "duration": 2,
    "start_time": "2023-02-16T08:47:38.730Z"
   },
   {
    "duration": 0,
    "start_time": "2023-02-16T09:06:19.316Z"
   },
   {
    "duration": 23,
    "start_time": "2023-02-16T10:28:17.550Z"
   },
   {
    "duration": 5,
    "start_time": "2023-02-16T10:28:24.935Z"
   },
   {
    "duration": 4,
    "start_time": "2023-02-16T10:34:57.262Z"
   },
   {
    "duration": 3,
    "start_time": "2023-02-16T10:35:15.274Z"
   },
   {
    "duration": 27,
    "start_time": "2023-02-16T10:40:41.761Z"
   },
   {
    "duration": 19,
    "start_time": "2023-02-16T10:40:42.545Z"
   },
   {
    "duration": 164,
    "start_time": "2023-02-16T10:40:51.822Z"
   },
   {
    "duration": 1578,
    "start_time": "2023-02-16T10:41:55.022Z"
   },
   {
    "duration": 1475,
    "start_time": "2023-02-16T10:43:01.847Z"
   },
   {
    "duration": 1719,
    "start_time": "2023-02-16T10:43:13.981Z"
   },
   {
    "duration": 1515,
    "start_time": "2023-02-16T10:43:28.956Z"
   },
   {
    "duration": 1601,
    "start_time": "2023-02-16T10:43:45.933Z"
   },
   {
    "duration": 118,
    "start_time": "2023-02-16T10:59:06.042Z"
   },
   {
    "duration": 1894,
    "start_time": "2023-02-16T10:59:15.056Z"
   },
   {
    "duration": 22,
    "start_time": "2023-02-16T11:26:42.735Z"
   },
   {
    "duration": 67,
    "start_time": "2023-02-16T11:26:43.632Z"
   },
   {
    "duration": 26,
    "start_time": "2023-02-16T11:27:09.130Z"
   },
   {
    "duration": 69,
    "start_time": "2023-02-16T11:27:10.057Z"
   },
   {
    "duration": 30,
    "start_time": "2023-02-16T11:28:04.777Z"
   },
   {
    "duration": 3,
    "start_time": "2023-02-16T11:28:44.682Z"
   },
   {
    "duration": 25,
    "start_time": "2023-02-16T11:29:17.434Z"
   },
   {
    "duration": 21,
    "start_time": "2023-02-16T11:29:23.345Z"
   },
   {
    "duration": 500,
    "start_time": "2023-02-16T11:30:03.674Z"
   },
   {
    "duration": 35,
    "start_time": "2023-02-16T11:30:05.332Z"
   },
   {
    "duration": 4,
    "start_time": "2023-02-16T11:30:12.537Z"
   },
   {
    "duration": 491,
    "start_time": "2023-02-16T11:30:13.082Z"
   },
   {
    "duration": 33,
    "start_time": "2023-02-16T11:30:14.538Z"
   },
   {
    "duration": 82,
    "start_time": "2023-02-16T11:30:25.177Z"
   },
   {
    "duration": 1089914,
    "start_time": "2023-02-16T11:31:03.526Z"
   },
   {
    "duration": 41,
    "start_time": "2023-02-16T11:49:13.443Z"
   },
   {
    "duration": 0,
    "start_time": "2023-02-16T11:49:13.486Z"
   },
   {
    "duration": 0,
    "start_time": "2023-02-16T11:49:13.487Z"
   },
   {
    "duration": 44,
    "start_time": "2023-02-16T11:52:44.644Z"
   },
   {
    "duration": 1597,
    "start_time": "2023-02-16T11:52:45.380Z"
   },
   {
    "duration": 7,
    "start_time": "2023-02-16T11:53:37.126Z"
   },
   {
    "duration": 4,
    "start_time": "2023-02-16T11:54:39.573Z"
   },
   {
    "duration": 2707,
    "start_time": "2023-02-16T12:02:37.473Z"
   },
   {
    "duration": 2808,
    "start_time": "2023-02-16T12:02:40.182Z"
   },
   {
    "duration": 6425,
    "start_time": "2023-02-16T12:02:42.999Z"
   },
   {
    "duration": 910,
    "start_time": "2023-02-16T12:02:49.426Z"
   },
   {
    "duration": 34,
    "start_time": "2023-02-16T12:02:50.340Z"
   },
   {
    "duration": 36,
    "start_time": "2023-02-16T12:02:50.375Z"
   },
   {
    "duration": 964,
    "start_time": "2023-02-16T12:02:50.413Z"
   },
   {
    "duration": 41,
    "start_time": "2023-02-16T12:02:51.379Z"
   },
   {
    "duration": 45,
    "start_time": "2023-02-16T12:02:51.425Z"
   },
   {
    "duration": 6,
    "start_time": "2023-02-16T12:02:51.472Z"
   },
   {
    "duration": 186,
    "start_time": "2023-02-16T12:02:51.491Z"
   },
   {
    "duration": 27,
    "start_time": "2023-02-16T12:02:51.678Z"
   },
   {
    "duration": 1960673,
    "start_time": "2023-02-16T12:02:51.706Z"
   },
   {
    "duration": 38,
    "start_time": "2023-02-16T12:35:32.382Z"
   },
   {
    "duration": 1896,
    "start_time": "2023-02-16T12:35:32.423Z"
   },
   {
    "duration": 4,
    "start_time": "2023-02-16T12:35:34.322Z"
   },
   {
    "duration": 96,
    "start_time": "2023-02-16T12:35:34.329Z"
   },
   {
    "duration": 6,
    "start_time": "2023-02-16T12:35:34.428Z"
   },
   {
    "duration": 8,
    "start_time": "2023-02-16T12:35:34.436Z"
   },
   {
    "duration": 663,
    "start_time": "2023-02-16T12:35:34.446Z"
   },
   {
    "duration": 127,
    "start_time": "2023-02-16T12:35:35.111Z"
   },
   {
    "duration": 25,
    "start_time": "2023-02-16T12:35:35.240Z"
   },
   {
    "duration": 0,
    "start_time": "2023-02-16T12:35:35.267Z"
   },
   {
    "duration": 0,
    "start_time": "2023-02-16T12:35:35.269Z"
   },
   {
    "duration": 0,
    "start_time": "2023-02-16T12:35:35.270Z"
   },
   {
    "duration": 0,
    "start_time": "2023-02-16T12:35:35.272Z"
   },
   {
    "duration": 0,
    "start_time": "2023-02-16T12:35:35.274Z"
   },
   {
    "duration": 3,
    "start_time": "2023-02-16T12:48:19.640Z"
   },
   {
    "duration": 169,
    "start_time": "2023-02-16T12:48:19.645Z"
   },
   {
    "duration": 115,
    "start_time": "2023-02-16T12:48:41.171Z"
   },
   {
    "duration": 3,
    "start_time": "2023-02-16T12:50:25.764Z"
   },
   {
    "duration": 128,
    "start_time": "2023-02-16T12:50:26.198Z"
   },
   {
    "duration": 8,
    "start_time": "2023-02-16T12:50:34.691Z"
   },
   {
    "duration": 3,
    "start_time": "2023-02-16T12:50:36.435Z"
   },
   {
    "duration": 4,
    "start_time": "2023-02-16T12:50:38.310Z"
   },
   {
    "duration": 134,
    "start_time": "2023-02-16T12:50:39.060Z"
   },
   {
    "duration": 3,
    "start_time": "2023-02-16T12:51:32.356Z"
   },
   {
    "duration": 117,
    "start_time": "2023-02-16T12:51:32.905Z"
   },
   {
    "duration": 79,
    "start_time": "2023-02-16T13:03:55.544Z"
   },
   {
    "duration": 89,
    "start_time": "2023-02-16T13:04:02.073Z"
   },
   {
    "duration": 981,
    "start_time": "2023-02-16T13:04:08.665Z"
   },
   {
    "duration": 3,
    "start_time": "2023-02-16T13:04:09.649Z"
   },
   {
    "duration": 118,
    "start_time": "2023-02-16T13:04:11.017Z"
   },
   {
    "duration": 4460,
    "start_time": "2023-02-16T13:04:42.329Z"
   },
   {
    "duration": 86,
    "start_time": "2023-02-16T13:05:31.307Z"
   },
   {
    "duration": 111,
    "start_time": "2023-02-16T13:05:37.547Z"
   },
   {
    "duration": 34,
    "start_time": "2023-02-16T13:05:49.547Z"
   },
   {
    "duration": 75,
    "start_time": "2023-02-16T13:06:01.050Z"
   },
   {
    "duration": 4405,
    "start_time": "2023-02-16T13:06:01.626Z"
   },
   {
    "duration": 3,
    "start_time": "2023-02-16T13:06:44.876Z"
   },
   {
    "duration": 949,
    "start_time": "2023-02-16T13:06:48.107Z"
   },
   {
    "duration": 6,
    "start_time": "2023-02-16T13:06:49.058Z"
   },
   {
    "duration": 122,
    "start_time": "2023-02-16T13:06:49.452Z"
   },
   {
    "duration": 115,
    "start_time": "2023-02-16T13:07:03.726Z"
   },
   {
    "duration": 12,
    "start_time": "2023-02-16T13:07:14.077Z"
   },
   {
    "duration": 57,
    "start_time": "2023-02-16T13:07:36.284Z"
   },
   {
    "duration": 77,
    "start_time": "2023-02-16T13:07:58.944Z"
   },
   {
    "duration": 101,
    "start_time": "2023-02-16T13:17:44.389Z"
   },
   {
    "duration": 104,
    "start_time": "2023-02-16T13:19:56.262Z"
   },
   {
    "duration": 108,
    "start_time": "2023-02-16T13:20:32.423Z"
   },
   {
    "duration": 119,
    "start_time": "2023-02-16T13:20:44.839Z"
   },
   {
    "duration": 5,
    "start_time": "2023-02-16T13:37:52.018Z"
   },
   {
    "duration": 736,
    "start_time": "2023-02-16T13:44:23.219Z"
   },
   {
    "duration": 110,
    "start_time": "2023-02-16T13:46:19.555Z"
   },
   {
    "duration": 128,
    "start_time": "2023-02-16T13:46:58.679Z"
   },
   {
    "duration": 673,
    "start_time": "2023-02-16T13:47:54.472Z"
   },
   {
    "duration": 156,
    "start_time": "2023-02-16T13:51:06.507Z"
   },
   {
    "duration": 290,
    "start_time": "2023-02-16T13:52:16.251Z"
   },
   {
    "duration": 656,
    "start_time": "2023-02-16T13:52:58.012Z"
   },
   {
    "duration": 258,
    "start_time": "2023-02-16T14:10:23.956Z"
   },
   {
    "duration": 713,
    "start_time": "2023-02-16T14:14:24.168Z"
   },
   {
    "duration": 43,
    "start_time": "2023-02-16T14:17:02.938Z"
   },
   {
    "duration": 531,
    "start_time": "2023-02-16T14:17:40.329Z"
   },
   {
    "duration": 893,
    "start_time": "2023-02-16T14:36:46.471Z"
   },
   {
    "duration": 2086,
    "start_time": "2023-02-16T14:36:47.366Z"
   },
   {
    "duration": 4303,
    "start_time": "2023-02-16T14:36:49.453Z"
   },
   {
    "duration": 866,
    "start_time": "2023-02-16T14:36:53.759Z"
   },
   {
    "duration": 33,
    "start_time": "2023-02-16T14:36:54.627Z"
   },
   {
    "duration": 8,
    "start_time": "2023-02-16T14:36:54.662Z"
   },
   {
    "duration": 852,
    "start_time": "2023-02-16T14:36:54.691Z"
   },
   {
    "duration": 20,
    "start_time": "2023-02-16T14:36:55.544Z"
   },
   {
    "duration": 428,
    "start_time": "2023-02-16T14:36:55.566Z"
   },
   {
    "duration": 0,
    "start_time": "2023-02-16T14:36:55.997Z"
   },
   {
    "duration": 0,
    "start_time": "2023-02-16T14:36:55.998Z"
   },
   {
    "duration": 0,
    "start_time": "2023-02-16T14:36:55.999Z"
   },
   {
    "duration": 0,
    "start_time": "2023-02-16T14:36:56.000Z"
   },
   {
    "duration": 0,
    "start_time": "2023-02-16T14:36:56.001Z"
   },
   {
    "duration": 0,
    "start_time": "2023-02-16T14:36:56.003Z"
   },
   {
    "duration": 0,
    "start_time": "2023-02-16T14:36:56.004Z"
   },
   {
    "duration": 0,
    "start_time": "2023-02-16T14:36:56.005Z"
   },
   {
    "duration": 0,
    "start_time": "2023-02-16T14:36:56.006Z"
   },
   {
    "duration": 0,
    "start_time": "2023-02-16T14:36:56.007Z"
   },
   {
    "duration": 0,
    "start_time": "2023-02-16T14:36:56.009Z"
   },
   {
    "duration": 879,
    "start_time": "2023-02-16T14:37:37.603Z"
   },
   {
    "duration": 2118,
    "start_time": "2023-02-16T14:37:38.485Z"
   },
   {
    "duration": 4360,
    "start_time": "2023-02-16T14:37:40.606Z"
   },
   {
    "duration": 880,
    "start_time": "2023-02-16T14:37:44.968Z"
   },
   {
    "duration": 47,
    "start_time": "2023-02-16T14:37:45.851Z"
   },
   {
    "duration": 10,
    "start_time": "2023-02-16T14:37:45.901Z"
   },
   {
    "duration": 936,
    "start_time": "2023-02-16T14:37:45.913Z"
   },
   {
    "duration": 2613486,
    "start_time": "2023-02-16T14:37:46.851Z"
   },
   {
    "duration": 405,
    "start_time": "2023-02-16T15:21:20.339Z"
   },
   {
    "duration": 0,
    "start_time": "2023-02-16T15:21:20.746Z"
   },
   {
    "duration": 0,
    "start_time": "2023-02-16T15:21:20.747Z"
   },
   {
    "duration": 0,
    "start_time": "2023-02-16T15:21:20.748Z"
   },
   {
    "duration": 0,
    "start_time": "2023-02-16T15:21:20.749Z"
   },
   {
    "duration": 0,
    "start_time": "2023-02-16T15:21:20.750Z"
   },
   {
    "duration": 0,
    "start_time": "2023-02-16T15:21:20.752Z"
   },
   {
    "duration": 0,
    "start_time": "2023-02-16T15:21:20.753Z"
   },
   {
    "duration": 32,
    "start_time": "2023-02-16T15:21:33.032Z"
   },
   {
    "duration": 1109,
    "start_time": "2023-02-16T15:21:33.522Z"
   },
   {
    "duration": 4,
    "start_time": "2023-02-16T15:21:35.159Z"
   },
   {
    "duration": 80,
    "start_time": "2023-02-16T15:21:35.559Z"
   },
   {
    "duration": 5,
    "start_time": "2023-02-16T15:21:35.943Z"
   },
   {
    "duration": 4,
    "start_time": "2023-02-16T15:21:38.935Z"
   },
   {
    "duration": 4604331,
    "start_time": "2023-02-16T15:21:40.439Z"
   },
   {
    "duration": 4181876,
    "start_time": "2023-02-16T17:19:03.294Z"
   },
   {
    "duration": 752627,
    "start_time": "2023-02-16T18:28:45.171Z"
   },
   {
    "duration": 1847,
    "start_time": "2023-02-17T01:22:50.523Z"
   },
   {
    "duration": 5454,
    "start_time": "2023-02-20T06:55:08.451Z"
   },
   {
    "duration": 2815,
    "start_time": "2023-02-20T07:04:02.651Z"
   },
   {
    "duration": 4606,
    "start_time": "2023-02-20T07:04:05.468Z"
   },
   {
    "duration": 2598,
    "start_time": "2023-02-20T07:04:10.076Z"
   },
   {
    "duration": 30,
    "start_time": "2023-02-20T07:04:12.675Z"
   },
   {
    "duration": 9,
    "start_time": "2023-02-20T07:04:12.707Z"
   },
   {
    "duration": 926,
    "start_time": "2023-02-20T07:04:12.717Z"
   },
   {
    "duration": 2837752,
    "start_time": "2023-02-20T07:04:13.645Z"
   },
   {
    "duration": 43,
    "start_time": "2023-02-20T07:51:31.399Z"
   },
   {
    "duration": 978,
    "start_time": "2023-02-20T07:51:31.444Z"
   },
   {
    "duration": 3,
    "start_time": "2023-02-20T07:51:32.424Z"
   },
   {
    "duration": 97,
    "start_time": "2023-02-20T07:51:32.429Z"
   },
   {
    "duration": 7,
    "start_time": "2023-02-20T07:51:32.529Z"
   },
   {
    "duration": 10,
    "start_time": "2023-02-20T07:51:32.539Z"
   },
   {
    "duration": 5436088,
    "start_time": "2023-02-20T07:51:32.552Z"
   },
   {
    "duration": 911391,
    "start_time": "2023-02-20T09:22:08.642Z"
   },
   {
    "duration": 2042,
    "start_time": "2023-02-20T09:37:20.039Z"
   }
  ],
  "kernelspec": {
   "display_name": "Python 3 (ipykernel)",
   "language": "python",
   "name": "python3"
  },
  "language_info": {
   "codemirror_mode": {
    "name": "ipython",
    "version": 3
   },
   "file_extension": ".py",
   "mimetype": "text/x-python",
   "name": "python",
   "nbconvert_exporter": "python",
   "pygments_lexer": "ipython3",
   "version": "3.9.12"
  },
  "toc": {
   "base_numbering": 1,
   "nav_menu": {},
   "number_sections": true,
   "sideBar": true,
   "skip_h1_title": true,
   "title_cell": "Содержание",
   "title_sidebar": "Contents",
   "toc_cell": true,
   "toc_position": {
    "height": "calc(100% - 180px)",
    "left": "10px",
    "top": "150px",
    "width": "302.391px"
   },
   "toc_section_display": true,
   "toc_window_display": false
  }
 },
 "nbformat": 4,
 "nbformat_minor": 2
}
