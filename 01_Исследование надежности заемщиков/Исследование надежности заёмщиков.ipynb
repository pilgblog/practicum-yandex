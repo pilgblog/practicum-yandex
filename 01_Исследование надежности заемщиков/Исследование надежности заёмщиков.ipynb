{
 "cells": [
  {
   "cell_type": "markdown",
   "id": "02871fad",
   "metadata": {
    "deletable": false,
    "editable": false,
    "id": "c81daeeb"
   },
   "source": [
    "# Исследование надежности заемщиков\n"
   ]
  },
  {
   "cell_type": "markdown",
   "id": "43389502",
   "metadata": {},
   "source": [
    "Заказчик — кредитный отдел банка. Нужно разобраться, влияет ли семейное положение и количество детей клиента на факт погашения кредита в срок. Входные данные от банка — статистика о платёжеспособности клиентов.\n",
    "\n",
    "Результаты исследования будут учтены при построении модели кредитного скоринга — специальной системы, которая оценивает способность потенциального заёмщика вернуть кредит банку.\n",
    "\n",
    "## Данные имеют следующие столбцы\n",
    "*  children — количество детей в семье\n",
    "*  days_employed — общий трудовой стаж в днях\n",
    "*  dob_years — возраст клиента в годах\n",
    "*  education — уровень образования клиента\n",
    "*  education_id — идентификатор уровня образования\n",
    "*  family_status — семейное положение\n",
    "*  family_status_id — идентификатор семейного положения\n",
    "*  gender — пол клиента\n",
    "*  income_type — тип занятости\n",
    "*  debt — имел ли задолженность по возврату кредитов\n",
    "*  total_income — ежемесячный доход\n",
    "*  purpose — цель получения кредита\n",
    "\n",
    "\n",
    "## План работы над проектом\n",
    "1. Провести анализ пропусков, изменения данных и повторения значений.\n",
    "2. Определить, какие некорректные строки требуется сохранить, а какие можно удалить.\n",
    "3. Заполнить значения в пропущенных ячейках таблицы\n",
    "4. Удалить дубликаты.\n",
    "5. Вывести категории для проведения гипотез.\n",
    "6. Составить выводы по каждому вопросу.\n",
    "7. Составить общий вывод."
   ]
  },
  {
   "cell_type": "markdown",
   "id": "4d11cac0",
   "metadata": {
    "deletable": false,
    "editable": false,
    "id": "827c20bf"
   },
   "source": [
    "Во второй части проекта вы выполните шаги 3 и 4. Их вручную проверит ревьюер.\n",
    "Чтобы вам не пришлось писать код заново для шагов 1 и 2, мы добавили авторские решения в ячейки с кодом. \n",
    "\n"
   ]
  },
  {
   "cell_type": "markdown",
   "id": "250d444e",
   "metadata": {
    "deletable": false,
    "editable": false,
    "id": "744d7639"
   },
   "source": [
    "## Откройте таблицу и изучите общую информацию о данных"
   ]
  },
  {
   "cell_type": "markdown",
   "id": "432f31f3",
   "metadata": {},
   "source": [
    "Подключение необходимы библиотек"
   ]
  },
  {
   "cell_type": "code",
   "execution_count": 2,
   "id": "00220be2",
   "metadata": {},
   "outputs": [],
   "source": [
    "import pandas as pd\n",
    "from pymystem3 import Mystem\n",
    "from collections import Counter\n",
    "import copy as c\n",
    "import numpy as np"
   ]
  },
  {
   "cell_type": "markdown",
   "id": "a3ce0c4e",
   "metadata": {
    "deletable": false,
    "editable": false,
    "id": "e7a14c31"
   },
   "source": [
    "**Задание 1. Импортируйте библиотеку pandas. Считайте данные из csv-файла в датафрейм и сохраните в переменную `data`. Путь к файлу:**\n",
    "\n",
    "`/datasets/data.csv`"
   ]
  },
  {
   "cell_type": "code",
   "execution_count": 1,
   "id": "a4b94cc6",
   "metadata": {
    "deletable": false,
    "id": "7bcf75c9"
   },
   "outputs": [],
   "source": [
    "data = pd.read_csv('/datasets/data.csv')"
   ]
  },
  {
   "cell_type": "markdown",
   "id": "6c12cd97",
   "metadata": {
    "deletable": false,
    "editable": false,
    "id": "b8038fe3"
   },
   "source": [
    "**Задание 2. Выведите первые 20 строчек датафрейма `data` на экран.**"
   ]
  },
  {
   "cell_type": "code",
   "execution_count": 2,
   "id": "470351c4",
   "metadata": {
    "deletable": false,
    "id": "2a7cab99",
    "outputId": "1a8f3ef2-d323-4ec2-ddf7-89670b5944c4"
   },
   "outputs": [
    {
     "data": {
      "text/html": [
       "<div>\n",
       "<style scoped>\n",
       "    .dataframe tbody tr th:only-of-type {\n",
       "        vertical-align: middle;\n",
       "    }\n",
       "\n",
       "    .dataframe tbody tr th {\n",
       "        vertical-align: top;\n",
       "    }\n",
       "\n",
       "    .dataframe thead th {\n",
       "        text-align: right;\n",
       "    }\n",
       "</style>\n",
       "<table border=\"1\" class=\"dataframe\">\n",
       "  <thead>\n",
       "    <tr style=\"text-align: right;\">\n",
       "      <th></th>\n",
       "      <th>children</th>\n",
       "      <th>days_employed</th>\n",
       "      <th>dob_years</th>\n",
       "      <th>education</th>\n",
       "      <th>education_id</th>\n",
       "      <th>family_status</th>\n",
       "      <th>family_status_id</th>\n",
       "      <th>gender</th>\n",
       "      <th>income_type</th>\n",
       "      <th>debt</th>\n",
       "      <th>total_income</th>\n",
       "      <th>purpose</th>\n",
       "    </tr>\n",
       "  </thead>\n",
       "  <tbody>\n",
       "    <tr>\n",
       "      <th>0</th>\n",
       "      <td>1</td>\n",
       "      <td>-8437.673028</td>\n",
       "      <td>42</td>\n",
       "      <td>высшее</td>\n",
       "      <td>0</td>\n",
       "      <td>женат / замужем</td>\n",
       "      <td>0</td>\n",
       "      <td>F</td>\n",
       "      <td>сотрудник</td>\n",
       "      <td>0</td>\n",
       "      <td>253875.639453</td>\n",
       "      <td>покупка жилья</td>\n",
       "    </tr>\n",
       "    <tr>\n",
       "      <th>1</th>\n",
       "      <td>1</td>\n",
       "      <td>-4024.803754</td>\n",
       "      <td>36</td>\n",
       "      <td>среднее</td>\n",
       "      <td>1</td>\n",
       "      <td>женат / замужем</td>\n",
       "      <td>0</td>\n",
       "      <td>F</td>\n",
       "      <td>сотрудник</td>\n",
       "      <td>0</td>\n",
       "      <td>112080.014102</td>\n",
       "      <td>приобретение автомобиля</td>\n",
       "    </tr>\n",
       "    <tr>\n",
       "      <th>2</th>\n",
       "      <td>0</td>\n",
       "      <td>-5623.422610</td>\n",
       "      <td>33</td>\n",
       "      <td>Среднее</td>\n",
       "      <td>1</td>\n",
       "      <td>женат / замужем</td>\n",
       "      <td>0</td>\n",
       "      <td>M</td>\n",
       "      <td>сотрудник</td>\n",
       "      <td>0</td>\n",
       "      <td>145885.952297</td>\n",
       "      <td>покупка жилья</td>\n",
       "    </tr>\n",
       "    <tr>\n",
       "      <th>3</th>\n",
       "      <td>3</td>\n",
       "      <td>-4124.747207</td>\n",
       "      <td>32</td>\n",
       "      <td>среднее</td>\n",
       "      <td>1</td>\n",
       "      <td>женат / замужем</td>\n",
       "      <td>0</td>\n",
       "      <td>M</td>\n",
       "      <td>сотрудник</td>\n",
       "      <td>0</td>\n",
       "      <td>267628.550329</td>\n",
       "      <td>дополнительное образование</td>\n",
       "    </tr>\n",
       "    <tr>\n",
       "      <th>4</th>\n",
       "      <td>0</td>\n",
       "      <td>340266.072047</td>\n",
       "      <td>53</td>\n",
       "      <td>среднее</td>\n",
       "      <td>1</td>\n",
       "      <td>гражданский брак</td>\n",
       "      <td>1</td>\n",
       "      <td>F</td>\n",
       "      <td>пенсионер</td>\n",
       "      <td>0</td>\n",
       "      <td>158616.077870</td>\n",
       "      <td>сыграть свадьбу</td>\n",
       "    </tr>\n",
       "    <tr>\n",
       "      <th>5</th>\n",
       "      <td>0</td>\n",
       "      <td>-926.185831</td>\n",
       "      <td>27</td>\n",
       "      <td>высшее</td>\n",
       "      <td>0</td>\n",
       "      <td>гражданский брак</td>\n",
       "      <td>1</td>\n",
       "      <td>M</td>\n",
       "      <td>компаньон</td>\n",
       "      <td>0</td>\n",
       "      <td>255763.565419</td>\n",
       "      <td>покупка жилья</td>\n",
       "    </tr>\n",
       "    <tr>\n",
       "      <th>6</th>\n",
       "      <td>0</td>\n",
       "      <td>-2879.202052</td>\n",
       "      <td>43</td>\n",
       "      <td>высшее</td>\n",
       "      <td>0</td>\n",
       "      <td>женат / замужем</td>\n",
       "      <td>0</td>\n",
       "      <td>F</td>\n",
       "      <td>компаньон</td>\n",
       "      <td>0</td>\n",
       "      <td>240525.971920</td>\n",
       "      <td>операции с жильем</td>\n",
       "    </tr>\n",
       "    <tr>\n",
       "      <th>7</th>\n",
       "      <td>0</td>\n",
       "      <td>-152.779569</td>\n",
       "      <td>50</td>\n",
       "      <td>СРЕДНЕЕ</td>\n",
       "      <td>1</td>\n",
       "      <td>женат / замужем</td>\n",
       "      <td>0</td>\n",
       "      <td>M</td>\n",
       "      <td>сотрудник</td>\n",
       "      <td>0</td>\n",
       "      <td>135823.934197</td>\n",
       "      <td>образование</td>\n",
       "    </tr>\n",
       "    <tr>\n",
       "      <th>8</th>\n",
       "      <td>2</td>\n",
       "      <td>-6929.865299</td>\n",
       "      <td>35</td>\n",
       "      <td>ВЫСШЕЕ</td>\n",
       "      <td>0</td>\n",
       "      <td>гражданский брак</td>\n",
       "      <td>1</td>\n",
       "      <td>F</td>\n",
       "      <td>сотрудник</td>\n",
       "      <td>0</td>\n",
       "      <td>95856.832424</td>\n",
       "      <td>на проведение свадьбы</td>\n",
       "    </tr>\n",
       "    <tr>\n",
       "      <th>9</th>\n",
       "      <td>0</td>\n",
       "      <td>-2188.756445</td>\n",
       "      <td>41</td>\n",
       "      <td>среднее</td>\n",
       "      <td>1</td>\n",
       "      <td>женат / замужем</td>\n",
       "      <td>0</td>\n",
       "      <td>M</td>\n",
       "      <td>сотрудник</td>\n",
       "      <td>0</td>\n",
       "      <td>144425.938277</td>\n",
       "      <td>покупка жилья для семьи</td>\n",
       "    </tr>\n",
       "    <tr>\n",
       "      <th>10</th>\n",
       "      <td>2</td>\n",
       "      <td>-4171.483647</td>\n",
       "      <td>36</td>\n",
       "      <td>высшее</td>\n",
       "      <td>0</td>\n",
       "      <td>женат / замужем</td>\n",
       "      <td>0</td>\n",
       "      <td>M</td>\n",
       "      <td>компаньон</td>\n",
       "      <td>0</td>\n",
       "      <td>113943.491460</td>\n",
       "      <td>покупка недвижимости</td>\n",
       "    </tr>\n",
       "    <tr>\n",
       "      <th>11</th>\n",
       "      <td>0</td>\n",
       "      <td>-792.701887</td>\n",
       "      <td>40</td>\n",
       "      <td>среднее</td>\n",
       "      <td>1</td>\n",
       "      <td>женат / замужем</td>\n",
       "      <td>0</td>\n",
       "      <td>F</td>\n",
       "      <td>сотрудник</td>\n",
       "      <td>0</td>\n",
       "      <td>77069.234271</td>\n",
       "      <td>покупка коммерческой недвижимости</td>\n",
       "    </tr>\n",
       "    <tr>\n",
       "      <th>12</th>\n",
       "      <td>0</td>\n",
       "      <td>NaN</td>\n",
       "      <td>65</td>\n",
       "      <td>среднее</td>\n",
       "      <td>1</td>\n",
       "      <td>гражданский брак</td>\n",
       "      <td>1</td>\n",
       "      <td>M</td>\n",
       "      <td>пенсионер</td>\n",
       "      <td>0</td>\n",
       "      <td>NaN</td>\n",
       "      <td>сыграть свадьбу</td>\n",
       "    </tr>\n",
       "    <tr>\n",
       "      <th>13</th>\n",
       "      <td>0</td>\n",
       "      <td>-1846.641941</td>\n",
       "      <td>54</td>\n",
       "      <td>неоконченное высшее</td>\n",
       "      <td>2</td>\n",
       "      <td>женат / замужем</td>\n",
       "      <td>0</td>\n",
       "      <td>F</td>\n",
       "      <td>сотрудник</td>\n",
       "      <td>0</td>\n",
       "      <td>130458.228857</td>\n",
       "      <td>приобретение автомобиля</td>\n",
       "    </tr>\n",
       "    <tr>\n",
       "      <th>14</th>\n",
       "      <td>0</td>\n",
       "      <td>-1844.956182</td>\n",
       "      <td>56</td>\n",
       "      <td>высшее</td>\n",
       "      <td>0</td>\n",
       "      <td>гражданский брак</td>\n",
       "      <td>1</td>\n",
       "      <td>F</td>\n",
       "      <td>компаньон</td>\n",
       "      <td>1</td>\n",
       "      <td>165127.911772</td>\n",
       "      <td>покупка жилой недвижимости</td>\n",
       "    </tr>\n",
       "    <tr>\n",
       "      <th>15</th>\n",
       "      <td>1</td>\n",
       "      <td>-972.364419</td>\n",
       "      <td>26</td>\n",
       "      <td>среднее</td>\n",
       "      <td>1</td>\n",
       "      <td>женат / замужем</td>\n",
       "      <td>0</td>\n",
       "      <td>F</td>\n",
       "      <td>сотрудник</td>\n",
       "      <td>0</td>\n",
       "      <td>116820.904450</td>\n",
       "      <td>строительство собственной недвижимости</td>\n",
       "    </tr>\n",
       "    <tr>\n",
       "      <th>16</th>\n",
       "      <td>0</td>\n",
       "      <td>-1719.934226</td>\n",
       "      <td>35</td>\n",
       "      <td>среднее</td>\n",
       "      <td>1</td>\n",
       "      <td>женат / замужем</td>\n",
       "      <td>0</td>\n",
       "      <td>F</td>\n",
       "      <td>сотрудник</td>\n",
       "      <td>0</td>\n",
       "      <td>289202.704229</td>\n",
       "      <td>недвижимость</td>\n",
       "    </tr>\n",
       "    <tr>\n",
       "      <th>17</th>\n",
       "      <td>0</td>\n",
       "      <td>-2369.999720</td>\n",
       "      <td>33</td>\n",
       "      <td>высшее</td>\n",
       "      <td>0</td>\n",
       "      <td>гражданский брак</td>\n",
       "      <td>1</td>\n",
       "      <td>M</td>\n",
       "      <td>сотрудник</td>\n",
       "      <td>0</td>\n",
       "      <td>90410.586745</td>\n",
       "      <td>строительство недвижимости</td>\n",
       "    </tr>\n",
       "    <tr>\n",
       "      <th>18</th>\n",
       "      <td>0</td>\n",
       "      <td>400281.136913</td>\n",
       "      <td>53</td>\n",
       "      <td>среднее</td>\n",
       "      <td>1</td>\n",
       "      <td>вдовец / вдова</td>\n",
       "      <td>2</td>\n",
       "      <td>F</td>\n",
       "      <td>пенсионер</td>\n",
       "      <td>0</td>\n",
       "      <td>56823.777243</td>\n",
       "      <td>на покупку подержанного автомобиля</td>\n",
       "    </tr>\n",
       "    <tr>\n",
       "      <th>19</th>\n",
       "      <td>0</td>\n",
       "      <td>-10038.818549</td>\n",
       "      <td>48</td>\n",
       "      <td>СРЕДНЕЕ</td>\n",
       "      <td>1</td>\n",
       "      <td>в разводе</td>\n",
       "      <td>3</td>\n",
       "      <td>F</td>\n",
       "      <td>сотрудник</td>\n",
       "      <td>0</td>\n",
       "      <td>242831.107982</td>\n",
       "      <td>на покупку своего автомобиля</td>\n",
       "    </tr>\n",
       "  </tbody>\n",
       "</table>\n",
       "</div>"
      ],
      "text/plain": [
       "    children  days_employed  dob_years            education  education_id  \\\n",
       "0          1   -8437.673028         42               высшее             0   \n",
       "1          1   -4024.803754         36              среднее             1   \n",
       "2          0   -5623.422610         33              Среднее             1   \n",
       "3          3   -4124.747207         32              среднее             1   \n",
       "4          0  340266.072047         53              среднее             1   \n",
       "5          0    -926.185831         27               высшее             0   \n",
       "6          0   -2879.202052         43               высшее             0   \n",
       "7          0    -152.779569         50              СРЕДНЕЕ             1   \n",
       "8          2   -6929.865299         35               ВЫСШЕЕ             0   \n",
       "9          0   -2188.756445         41              среднее             1   \n",
       "10         2   -4171.483647         36               высшее             0   \n",
       "11         0    -792.701887         40              среднее             1   \n",
       "12         0            NaN         65              среднее             1   \n",
       "13         0   -1846.641941         54  неоконченное высшее             2   \n",
       "14         0   -1844.956182         56               высшее             0   \n",
       "15         1    -972.364419         26              среднее             1   \n",
       "16         0   -1719.934226         35              среднее             1   \n",
       "17         0   -2369.999720         33               высшее             0   \n",
       "18         0  400281.136913         53              среднее             1   \n",
       "19         0  -10038.818549         48              СРЕДНЕЕ             1   \n",
       "\n",
       "       family_status  family_status_id gender income_type  debt  \\\n",
       "0    женат / замужем                 0      F   сотрудник     0   \n",
       "1    женат / замужем                 0      F   сотрудник     0   \n",
       "2    женат / замужем                 0      M   сотрудник     0   \n",
       "3    женат / замужем                 0      M   сотрудник     0   \n",
       "4   гражданский брак                 1      F   пенсионер     0   \n",
       "5   гражданский брак                 1      M   компаньон     0   \n",
       "6    женат / замужем                 0      F   компаньон     0   \n",
       "7    женат / замужем                 0      M   сотрудник     0   \n",
       "8   гражданский брак                 1      F   сотрудник     0   \n",
       "9    женат / замужем                 0      M   сотрудник     0   \n",
       "10   женат / замужем                 0      M   компаньон     0   \n",
       "11   женат / замужем                 0      F   сотрудник     0   \n",
       "12  гражданский брак                 1      M   пенсионер     0   \n",
       "13   женат / замужем                 0      F   сотрудник     0   \n",
       "14  гражданский брак                 1      F   компаньон     1   \n",
       "15   женат / замужем                 0      F   сотрудник     0   \n",
       "16   женат / замужем                 0      F   сотрудник     0   \n",
       "17  гражданский брак                 1      M   сотрудник     0   \n",
       "18    вдовец / вдова                 2      F   пенсионер     0   \n",
       "19         в разводе                 3      F   сотрудник     0   \n",
       "\n",
       "     total_income                                 purpose  \n",
       "0   253875.639453                           покупка жилья  \n",
       "1   112080.014102                 приобретение автомобиля  \n",
       "2   145885.952297                           покупка жилья  \n",
       "3   267628.550329              дополнительное образование  \n",
       "4   158616.077870                         сыграть свадьбу  \n",
       "5   255763.565419                           покупка жилья  \n",
       "6   240525.971920                       операции с жильем  \n",
       "7   135823.934197                             образование  \n",
       "8    95856.832424                   на проведение свадьбы  \n",
       "9   144425.938277                 покупка жилья для семьи  \n",
       "10  113943.491460                    покупка недвижимости  \n",
       "11   77069.234271       покупка коммерческой недвижимости  \n",
       "12            NaN                         сыграть свадьбу  \n",
       "13  130458.228857                 приобретение автомобиля  \n",
       "14  165127.911772              покупка жилой недвижимости  \n",
       "15  116820.904450  строительство собственной недвижимости  \n",
       "16  289202.704229                            недвижимость  \n",
       "17   90410.586745              строительство недвижимости  \n",
       "18   56823.777243      на покупку подержанного автомобиля  \n",
       "19  242831.107982            на покупку своего автомобиля  "
      ]
     },
     "execution_count": 2,
     "metadata": {},
     "output_type": "execute_result"
    }
   ],
   "source": [
    "data.head(20)"
   ]
  },
  {
   "cell_type": "markdown",
   "id": "a68939db",
   "metadata": {
    "deletable": false,
    "editable": false,
    "id": "1c12e233"
   },
   "source": [
    "**Задание 3. Выведите основную информацию о датафрейме с помощью метода `info()`.**"
   ]
  },
  {
   "cell_type": "code",
   "execution_count": 3,
   "id": "7b03f446",
   "metadata": {
    "deletable": false,
    "id": "2b757bca",
    "outputId": "15376089-8dad-46c9-b520-c05248d43158"
   },
   "outputs": [
    {
     "name": "stdout",
     "output_type": "stream",
     "text": [
      "<class 'pandas.core.frame.DataFrame'>\n",
      "RangeIndex: 21525 entries, 0 to 21524\n",
      "Data columns (total 12 columns):\n",
      " #   Column            Non-Null Count  Dtype  \n",
      "---  ------            --------------  -----  \n",
      " 0   children          21525 non-null  int64  \n",
      " 1   days_employed     19351 non-null  float64\n",
      " 2   dob_years         21525 non-null  int64  \n",
      " 3   education         21525 non-null  object \n",
      " 4   education_id      21525 non-null  int64  \n",
      " 5   family_status     21525 non-null  object \n",
      " 6   family_status_id  21525 non-null  int64  \n",
      " 7   gender            21525 non-null  object \n",
      " 8   income_type       21525 non-null  object \n",
      " 9   debt              21525 non-null  int64  \n",
      " 10  total_income      19351 non-null  float64\n",
      " 11  purpose           21525 non-null  object \n",
      "dtypes: float64(2), int64(5), object(5)\n",
      "memory usage: 2.0+ MB\n"
     ]
    }
   ],
   "source": [
    "data.info()"
   ]
  },
  {
   "cell_type": "markdown",
   "id": "1ecaf9a8",
   "metadata": {
    "deletable": false,
    "editable": false,
    "id": "333ec665"
   },
   "source": [
    "## Предобработка данных"
   ]
  },
  {
   "cell_type": "markdown",
   "id": "61a47358",
   "metadata": {
    "deletable": false,
    "editable": false,
    "id": "02d92d53"
   },
   "source": [
    "### Удаление пропусков"
   ]
  },
  {
   "cell_type": "markdown",
   "id": "4634f53b",
   "metadata": {
    "deletable": false,
    "editable": false,
    "id": "cd84967c"
   },
   "source": [
    "**Задание 4. Выведите количество пропущенных значений для каждого столбца. Используйте комбинацию двух методов.**"
   ]
  },
  {
   "cell_type": "code",
   "execution_count": 4,
   "id": "24c27361",
   "metadata": {
    "deletable": false,
    "id": "7f9b2309",
    "outputId": "81f4d817-781c-465c-ed15-91ce4446810d"
   },
   "outputs": [
    {
     "data": {
      "text/plain": [
       "children               0\n",
       "days_employed       2174\n",
       "dob_years              0\n",
       "education              0\n",
       "education_id           0\n",
       "family_status          0\n",
       "family_status_id       0\n",
       "gender                 0\n",
       "income_type            0\n",
       "debt                   0\n",
       "total_income        2174\n",
       "purpose                0\n",
       "dtype: int64"
      ]
     },
     "execution_count": 4,
     "metadata": {},
     "output_type": "execute_result"
    }
   ],
   "source": [
    "data.isna().sum()"
   ]
  },
  {
   "cell_type": "markdown",
   "id": "7a9c6417",
   "metadata": {
    "deletable": false,
    "editable": false,
    "id": "db86e27b"
   },
   "source": [
    "**Задание 5. В двух столбцах есть пропущенные значения. Один из них — `days_employed`. Пропуски в этом столбце вы обработаете на следующем этапе. Другой столбец с пропущенными значениями — `total_income` — хранит данные о доходах. На сумму дохода сильнее всего влияет тип занятости, поэтому заполнить пропуски в этом столбце нужно медианным значением по каждому типу из столбца `income_type`. Например, у человека с типом занятости `сотрудник` пропуск в столбце `total_income` должен быть заполнен медианным доходом среди всех записей с тем же типом.**"
   ]
  },
  {
   "cell_type": "code",
   "execution_count": 5,
   "id": "2b77920b",
   "metadata": {
    "deletable": false,
    "id": "42006a93"
   },
   "outputs": [],
   "source": [
    "for t in data['income_type'].unique():\n",
    "    data.loc[(data['income_type'] == t) & (data['total_income'].isna()), 'total_income'] = \\\n",
    "    data.loc[(data['income_type'] == t), 'total_income'].median()"
   ]
  },
  {
   "cell_type": "markdown",
   "id": "cbc5c9ce",
   "metadata": {
    "deletable": false,
    "editable": false,
    "id": "89da5ece"
   },
   "source": [
    "### Обработка аномальных значений"
   ]
  },
  {
   "cell_type": "markdown",
   "id": "7a09bc53",
   "metadata": {
    "deletable": false,
    "editable": false,
    "id": "57964554"
   },
   "source": [
    "**Задание 6. В данных могут встречаться артефакты (аномалии) — значения, которые не отражают действительность и появились по какой-то ошибке. таким артефактом будет отрицательное количество дней трудового стажа в столбце `days_employed`. Для реальных данных это нормально. Обработайте значения в этом столбце: замените все отрицательные значения положительными с помощью метода `abs()`.**"
   ]
  },
  {
   "cell_type": "code",
   "execution_count": 6,
   "id": "be4f315f",
   "metadata": {
    "deletable": false,
    "id": "f6f055bf"
   },
   "outputs": [],
   "source": [
    "data['days_employed'] = data['days_employed'].abs()"
   ]
  },
  {
   "cell_type": "markdown",
   "id": "fa7cdf94",
   "metadata": {
    "deletable": false,
    "editable": false,
    "id": "6107dd2f"
   },
   "source": [
    "**Задание 7. Для каждого типа занятости выведите медианное значение трудового стажа `days_employed` в днях.**"
   ]
  },
  {
   "cell_type": "code",
   "execution_count": 7,
   "id": "fc33dac4",
   "metadata": {
    "deletable": false,
    "id": "85a5faf6",
    "outputId": "801ef80e-522b-4668-f34e-565af7432bcf"
   },
   "outputs": [
    {
     "data": {
      "text/plain": [
       "income_type\n",
       "безработный        366413.652744\n",
       "в декрете            3296.759962\n",
       "госслужащий          2689.368353\n",
       "компаньон            1547.382223\n",
       "пенсионер          365213.306266\n",
       "предприниматель       520.848083\n",
       "сотрудник            1574.202821\n",
       "студент               578.751554\n",
       "Name: days_employed, dtype: float64"
      ]
     },
     "execution_count": 7,
     "metadata": {},
     "output_type": "execute_result"
    }
   ],
   "source": [
    "data.groupby('income_type')['days_employed'].agg('median')"
   ]
  },
  {
   "cell_type": "markdown",
   "id": "24240be5",
   "metadata": {
    "deletable": false,
    "editable": false,
    "id": "38d1a030"
   },
   "source": [
    "У двух типов (безработные и пенсионеры) получатся аномально большие значения. Исправить такие значения сложно, поэтому оставьте их как есть. Тем более этот столбец не понадобится вам для исследования."
   ]
  },
  {
   "cell_type": "markdown",
   "id": "6ceacddd",
   "metadata": {
    "deletable": false,
    "editable": false,
    "id": "d8a9f147"
   },
   "source": [
    "**Задание 8. Выведите перечень уникальных значений столбца `children`.**"
   ]
  },
  {
   "cell_type": "code",
   "execution_count": 8,
   "id": "ef24f581",
   "metadata": {
    "deletable": false,
    "id": "ef5056eb",
    "outputId": "6975b15c-7f95-4697-d16d-a0c79b657b03"
   },
   "outputs": [
    {
     "data": {
      "text/plain": [
       "array([ 1,  0,  3,  2, -1,  4, 20,  5])"
      ]
     },
     "execution_count": 8,
     "metadata": {},
     "output_type": "execute_result"
    }
   ],
   "source": [
    "data['children'].unique()"
   ]
  },
  {
   "cell_type": "markdown",
   "id": "62bcc9ff",
   "metadata": {
    "deletable": false,
    "editable": false,
    "id": "40b9ebf2"
   },
   "source": [
    "**Задание 9. В столбце `children` есть два аномальных значения. Удалите строки, в которых встречаются такие аномальные значения из датафрейма `data`.**"
   ]
  },
  {
   "cell_type": "code",
   "execution_count": 9,
   "id": "d5f26c06",
   "metadata": {
    "deletable": false,
    "id": "3ff9801d"
   },
   "outputs": [],
   "source": [
    "data = data[(data['children'] != -1) & (data['children'] != 20)]"
   ]
  },
  {
   "cell_type": "markdown",
   "id": "ac4d0548",
   "metadata": {
    "deletable": false,
    "editable": false,
    "id": "bbc4d0ce"
   },
   "source": [
    "**Задание 10. Ещё раз выведите перечень уникальных значений столбца `children`, чтобы убедиться, что артефакты удалены.**"
   ]
  },
  {
   "cell_type": "code",
   "execution_count": 10,
   "id": "343d9ade",
   "metadata": {
    "deletable": false,
    "id": "ad4fa8b7",
    "outputId": "b2097101-d49d-44d9-901b-32a65c9463d1"
   },
   "outputs": [
    {
     "data": {
      "text/plain": [
       "array([1, 0, 3, 2, 4, 5])"
      ]
     },
     "execution_count": 10,
     "metadata": {},
     "output_type": "execute_result"
    }
   ],
   "source": [
    "data['children'].unique()"
   ]
  },
  {
   "cell_type": "markdown",
   "id": "5229c496",
   "metadata": {
    "deletable": false,
    "editable": false,
    "id": "75440b63"
   },
   "source": [
    "### Удаление пропусков (продолжение)"
   ]
  },
  {
   "cell_type": "markdown",
   "id": "c3e54991",
   "metadata": {
    "deletable": false,
    "editable": false,
    "id": "f4ea573f"
   },
   "source": [
    "**Задание 11. Заполните пропуски в столбце `days_employed` медианными значениями по каждого типа занятости `income_type`.**"
   ]
  },
  {
   "cell_type": "code",
   "execution_count": 11,
   "id": "72434f22",
   "metadata": {
    "deletable": false,
    "id": "af6b1a7e"
   },
   "outputs": [],
   "source": [
    "for t in data['income_type'].unique():\n",
    "    data.loc[(data['income_type'] == t) & (data['days_employed'].isna()), 'days_employed'] = \\\n",
    "    data.loc[(data['income_type'] == t), 'days_employed'].median()"
   ]
  },
  {
   "cell_type": "markdown",
   "id": "054882bf",
   "metadata": {
    "deletable": false,
    "editable": false,
    "id": "2753f40d"
   },
   "source": [
    "**Задание 12. Убедитесь, что все пропуски заполнены. Проверьте себя и ещё раз выведите количество пропущенных значений для каждого столбца с помощью двух методов.**"
   ]
  },
  {
   "cell_type": "code",
   "execution_count": 12,
   "id": "b64046a7",
   "metadata": {
    "deletable": false,
    "id": "55f78bc2",
    "outputId": "8da1e4e1-358e-4e87-98c9-f261bce0a7b2"
   },
   "outputs": [
    {
     "data": {
      "text/plain": [
       "children            0\n",
       "days_employed       0\n",
       "dob_years           0\n",
       "education           0\n",
       "education_id        0\n",
       "family_status       0\n",
       "family_status_id    0\n",
       "gender              0\n",
       "income_type         0\n",
       "debt                0\n",
       "total_income        0\n",
       "purpose             0\n",
       "dtype: int64"
      ]
     },
     "execution_count": 12,
     "metadata": {},
     "output_type": "execute_result"
    }
   ],
   "source": [
    "data.isna().sum()"
   ]
  },
  {
   "cell_type": "markdown",
   "id": "7e906baf",
   "metadata": {
    "deletable": false,
    "editable": false,
    "id": "ddc81e43"
   },
   "source": [
    "### Изменение типов данных"
   ]
  },
  {
   "cell_type": "markdown",
   "id": "8a6e4603",
   "metadata": {
    "deletable": false,
    "editable": false,
    "id": "42d19d24"
   },
   "source": [
    "**Задание 13. Замените вещественный тип данных в столбце `total_income` на целочисленный с помощью метода `astype()`.**"
   ]
  },
  {
   "cell_type": "code",
   "execution_count": 13,
   "id": "fae4a984",
   "metadata": {
    "deletable": false,
    "id": "920b65ad"
   },
   "outputs": [],
   "source": [
    "data['total_income'] = data['total_income'].astype(int)"
   ]
  },
  {
   "cell_type": "markdown",
   "id": "b1741485",
   "metadata": {
    "deletable": false,
    "editable": false,
    "id": "80c420ba"
   },
   "source": [
    "### Обработка дубликатов"
   ]
  },
  {
   "cell_type": "markdown",
   "id": "2fc8af3b",
   "metadata": {
    "deletable": false,
    "editable": false
   },
   "source": [
    "**Задание 14. Обработайте неявные дубликаты в столбце `education`. В этом столбце есть одни и те же значения, но записанные по-разному: с использованием заглавных и строчных букв. Приведите их к нижнему регистру. Проверьте остальные столбцы.**"
   ]
  },
  {
   "cell_type": "code",
   "execution_count": 14,
   "id": "b65152c8",
   "metadata": {
    "deletable": false
   },
   "outputs": [],
   "source": [
    "data['education'] = data['education'].str.lower()"
   ]
  },
  {
   "cell_type": "markdown",
   "id": "40c53dc2",
   "metadata": {
    "deletable": false,
    "editable": false,
    "id": "dc587695"
   },
   "source": [
    "**Задание 15. Выведите на экран количество строк-дубликатов в данных. Если такие строки присутствуют, удалите их.**"
   ]
  },
  {
   "cell_type": "code",
   "execution_count": 15,
   "id": "0469476a",
   "metadata": {
    "deletable": false,
    "id": "3ee445e4",
    "outputId": "9684deba-1934-42d1-99e1-cda61740f822"
   },
   "outputs": [
    {
     "data": {
      "text/plain": [
       "71"
      ]
     },
     "execution_count": 15,
     "metadata": {},
     "output_type": "execute_result"
    }
   ],
   "source": [
    "data.duplicated().sum()"
   ]
  },
  {
   "cell_type": "code",
   "execution_count": 16,
   "id": "03a80c5a",
   "metadata": {
    "deletable": false,
    "id": "8575fe05"
   },
   "outputs": [],
   "source": [
    "data = data.drop_duplicates()"
   ]
  },
  {
   "cell_type": "markdown",
   "id": "8cc5c171",
   "metadata": {
    "deletable": false,
    "editable": false,
    "id": "9904cf55"
   },
   "source": [
    "### Категоризация данных"
   ]
  },
  {
   "cell_type": "markdown",
   "id": "3bf73848",
   "metadata": {
    "deletable": false,
    "editable": false,
    "id": "72fcc8a2"
   },
   "source": [
    "**Задание 16. На основании диапазонов, указанных ниже, создайте в датафрейме `data` столбец `total_income_category` с категориями:**\n",
    "\n",
    "- 0–30000 — `'E'`;\n",
    "- 30001–50000 — `'D'`;\n",
    "- 50001–200000 — `'C'`;\n",
    "- 200001–1000000 — `'B'`;\n",
    "- 1000001 и выше — `'A'`.\n",
    "\n",
    "\n",
    "**Например, кредитополучателю с доходом 25000 нужно назначить категорию `'E'`, а клиенту, получающему 235000, — `'B'`. Используйте собственную функцию с именем `categorize_income()` и метод `apply()`.**"
   ]
  },
  {
   "cell_type": "code",
   "execution_count": 17,
   "id": "c8302b2d",
   "metadata": {
    "deletable": false,
    "id": "e1771346"
   },
   "outputs": [],
   "source": [
    "def categorize_income(income):\n",
    "    try:\n",
    "        if 0 <= income <= 30000:\n",
    "            return 'E'\n",
    "        elif 30001 <= income <= 50000:\n",
    "            return 'D'\n",
    "        elif 50001 <= income <= 200000:\n",
    "            return 'C'\n",
    "        elif 200001 <= income <= 1000000:\n",
    "            return 'B'\n",
    "        elif income >= 1000001:\n",
    "            return 'A'\n",
    "    except:\n",
    "        pass"
   ]
  },
  {
   "cell_type": "code",
   "execution_count": 18,
   "id": "9a4eedcb",
   "metadata": {
    "deletable": false,
    "id": "d5f3586d"
   },
   "outputs": [],
   "source": [
    "data['total_income_category'] = data['total_income'].apply(categorize_income)"
   ]
  },
  {
   "cell_type": "markdown",
   "id": "dc6bf4cb",
   "metadata": {
    "deletable": false,
    "editable": false,
    "id": "dde49b5c"
   },
   "source": [
    "**Задание 17. Выведите на экран перечень уникальных целей взятия кредита из столбца `purpose`.**"
   ]
  },
  {
   "cell_type": "code",
   "execution_count": 19,
   "id": "a86e7aff",
   "metadata": {
    "deletable": false,
    "id": "f67ce9b3",
    "outputId": "673c12d9-7d7e-4ae0-9812-c622c89dd244"
   },
   "outputs": [
    {
     "data": {
      "text/plain": [
       "array(['покупка жилья', 'приобретение автомобиля',\n",
       "       'дополнительное образование', 'сыграть свадьбу',\n",
       "       'операции с жильем', 'образование', 'на проведение свадьбы',\n",
       "       'покупка жилья для семьи', 'покупка недвижимости',\n",
       "       'покупка коммерческой недвижимости', 'покупка жилой недвижимости',\n",
       "       'строительство собственной недвижимости', 'недвижимость',\n",
       "       'строительство недвижимости', 'на покупку подержанного автомобиля',\n",
       "       'на покупку своего автомобиля',\n",
       "       'операции с коммерческой недвижимостью',\n",
       "       'строительство жилой недвижимости', 'жилье',\n",
       "       'операции со своей недвижимостью', 'автомобили',\n",
       "       'заняться образованием', 'сделка с подержанным автомобилем',\n",
       "       'получение образования', 'автомобиль', 'свадьба',\n",
       "       'получение дополнительного образования', 'покупка своего жилья',\n",
       "       'операции с недвижимостью', 'получение высшего образования',\n",
       "       'свой автомобиль', 'сделка с автомобилем',\n",
       "       'профильное образование', 'высшее образование',\n",
       "       'покупка жилья для сдачи', 'на покупку автомобиля', 'ремонт жилью',\n",
       "       'заняться высшим образованием'], dtype=object)"
      ]
     },
     "execution_count": 19,
     "metadata": {},
     "output_type": "execute_result"
    }
   ],
   "source": [
    "data['purpose'].unique()"
   ]
  },
  {
   "cell_type": "markdown",
   "id": "db036d1f",
   "metadata": {
    "deletable": false,
    "editable": false,
    "id": "85d0aef0"
   },
   "source": [
    "**Задание 18. Создайте функцию, которая на основании данных из столбца `purpose` сформирует новый столбец `purpose_category`, в который войдут следующие категории:**\n",
    "\n",
    "- `'операции с автомобилем'`,\n",
    "- `'операции с недвижимостью'`,\n",
    "- `'проведение свадьбы'`,\n",
    "- `'получение образования'`.\n",
    "\n",
    "**Например, если в столбце `purpose` находится подстрока `'на покупку автомобиля'`, то в столбце `purpose_category` должна появиться строка `'операции с автомобилем'`.**\n",
    "\n",
    "**Используйте собственную функцию с именем `categorize_purpose()` и метод `apply()`. Изучите данные в столбце `purpose` и определите, какие подстроки помогут вам правильно определить категорию.**"
   ]
  },
  {
   "cell_type": "code",
   "execution_count": 20,
   "id": "d8c8bb20",
   "metadata": {
    "deletable": false,
    "id": "e149fab4"
   },
   "outputs": [],
   "source": [
    "def categorize_purpose(row):\n",
    "    try:\n",
    "        if 'автом' in row:\n",
    "            return 'операции с автомобилем'\n",
    "        elif 'жил' in row or 'недвиж' in row:\n",
    "            return 'операции с недвижимостью'\n",
    "        elif 'свад' in row:\n",
    "            return 'проведение свадьбы'\n",
    "        elif 'образов' in row:\n",
    "            return 'получение образования'\n",
    "    except:\n",
    "        return 'нет категории'"
   ]
  },
  {
   "cell_type": "code",
   "execution_count": 21,
   "id": "b2997083",
   "metadata": {
    "deletable": false,
    "id": "bf36e69b"
   },
   "outputs": [],
   "source": [
    "data['purpose_category'] = data['purpose'].apply(categorize_purpose)"
   ]
  },
  {
   "cell_type": "markdown",
   "id": "12ab7c4f",
   "metadata": {
    "deletable": false,
    "editable": false,
    "id": "09b242bf"
   },
   "source": [
    "### Шаг 3. Исследуйте данные и ответьте на вопросы"
   ]
  },
  {
   "cell_type": "markdown",
   "id": "b79e048e",
   "metadata": {
    "deletable": false,
    "editable": false,
    "id": "c5d66278"
   },
   "source": [
    "#### 3.1 Есть ли зависимость между количеством детей и возвратом кредита в срок?"
   ]
  },
  {
   "cell_type": "code",
   "execution_count": 22,
   "id": "bee7c06c",
   "metadata": {
    "deletable": false,
    "id": "2cacfc4a"
   },
   "outputs": [
    {
     "name": "stdout",
     "output_type": "stream",
     "text": [
      "          debt\n",
      "children      \n",
      "0         1063\n",
      "1          444\n",
      "2          194\n",
      "3           27\n",
      "4            4\n",
      "5            0\n"
     ]
    }
   ],
   "source": [
    "data_pivot = data.pivot_table(index = ['children'], values = 'debt', aggfunc = 'sum')# Создадим сводную таблицу для обощения данных и их представления\n",
    "print(data_pivot)# выводим сводную таблицу на экран"
   ]
  },
  {
   "cell_type": "code",
   "execution_count": 23,
   "id": "7acd1ee7",
   "metadata": {},
   "outputs": [
    {
     "name": "stdout",
     "output_type": "stream",
     "text": [
      "children\n",
      "0    14091\n",
      "1     4808\n",
      "2     2052\n",
      "3      330\n",
      "4       41\n",
      "5        9\n",
      "Name: children, dtype: int64\n"
     ]
    }
   ],
   "source": [
    "credit = data.groupby('children')['children'].count()#общее количество клиентов для каждой группы\n",
    "print(credit)# выведим на экран количество клиентов"
   ]
  },
  {
   "cell_type": "code",
   "execution_count": 24,
   "id": "c8c1367d",
   "metadata": {},
   "outputs": [],
   "source": [
    "debtor = data.groupby('children')['debt'].sum()#общее количество просроченных кредитов для семей с детьми и без"
   ]
  },
  {
   "cell_type": "code",
   "execution_count": 25,
   "id": "42e5247d",
   "metadata": {},
   "outputs": [
    {
     "name": "stdout",
     "output_type": "stream",
     "text": [
      "children\n",
      "0    7.543822\n",
      "1    9.234609\n",
      "2    9.454191\n",
      "3    8.181818\n",
      "4    9.756098\n",
      "5    0.000000\n",
      "dtype: float64\n"
     ]
    }
   ],
   "source": [
    "conversion = (debtor/credit)*100#расчитаем конверсию для каждой группы клиентов\n",
    "print(conversion)"
   ]
  },
  {
   "cell_type": "code",
   "execution_count": 26,
   "id": "97fe0214",
   "metadata": {},
   "outputs": [
    {
     "data": {
      "text/html": [
       "<div>\n",
       "<style scoped>\n",
       "    .dataframe tbody tr th:only-of-type {\n",
       "        vertical-align: middle;\n",
       "    }\n",
       "\n",
       "    .dataframe tbody tr th {\n",
       "        vertical-align: top;\n",
       "    }\n",
       "\n",
       "    .dataframe thead tr th {\n",
       "        text-align: left;\n",
       "    }\n",
       "\n",
       "    .dataframe thead tr:last-of-type th {\n",
       "        text-align: right;\n",
       "    }\n",
       "</style>\n",
       "<table border=\"1\" class=\"dataframe\">\n",
       "  <thead>\n",
       "    <tr>\n",
       "      <th></th>\n",
       "      <th>count</th>\n",
       "      <th>sum</th>\n",
       "      <th>mean</th>\n",
       "    </tr>\n",
       "    <tr>\n",
       "      <th></th>\n",
       "      <th>debt</th>\n",
       "      <th>debt</th>\n",
       "      <th>debt</th>\n",
       "    </tr>\n",
       "    <tr>\n",
       "      <th>children</th>\n",
       "      <th></th>\n",
       "      <th></th>\n",
       "      <th></th>\n",
       "    </tr>\n",
       "  </thead>\n",
       "  <tbody>\n",
       "    <tr>\n",
       "      <th>4</th>\n",
       "      <td>41</td>\n",
       "      <td>4</td>\n",
       "      <td>0.097561</td>\n",
       "    </tr>\n",
       "    <tr>\n",
       "      <th>2</th>\n",
       "      <td>2052</td>\n",
       "      <td>194</td>\n",
       "      <td>0.094542</td>\n",
       "    </tr>\n",
       "    <tr>\n",
       "      <th>1</th>\n",
       "      <td>4808</td>\n",
       "      <td>444</td>\n",
       "      <td>0.092346</td>\n",
       "    </tr>\n",
       "    <tr>\n",
       "      <th>3</th>\n",
       "      <td>330</td>\n",
       "      <td>27</td>\n",
       "      <td>0.081818</td>\n",
       "    </tr>\n",
       "    <tr>\n",
       "      <th>0</th>\n",
       "      <td>14091</td>\n",
       "      <td>1063</td>\n",
       "      <td>0.075438</td>\n",
       "    </tr>\n",
       "    <tr>\n",
       "      <th>5</th>\n",
       "      <td>9</td>\n",
       "      <td>0</td>\n",
       "      <td>0.000000</td>\n",
       "    </tr>\n",
       "  </tbody>\n",
       "</table>\n",
       "</div>"
      ],
      "text/plain": [
       "          count   sum      mean\n",
       "           debt  debt      debt\n",
       "children                       \n",
       "4            41     4  0.097561\n",
       "2          2052   194  0.094542\n",
       "1          4808   444  0.092346\n",
       "3           330    27  0.081818\n",
       "0         14091  1063  0.075438\n",
       "5             9     0  0.000000"
      ]
     },
     "execution_count": 26,
     "metadata": {},
     "output_type": "execute_result"
    }
   ],
   "source": [
    "data.pivot_table(index = 'children', values = 'debt', aggfunc = ['count', 'sum', 'mean'])\\\n",
    ".sort_values(by = ('mean', 'debt'), ascending = False)#построим сводную таблицу для анализа данных"
   ]
  },
  {
   "cell_type": "markdown",
   "id": "aff3d74e",
   "metadata": {
    "deletable": false,
    "id": "3a6b99ec"
   },
   "source": [
    "**Вывод:** Полученные данные говорят о том, что наличие детей влияет на процент возврата кредита.Так например, клиенты у которых нет детей, самый низкий процент конверсии 7%, это значит что клиенты без детей больше вероятны оплачивать кредиты в срок, ведь самая большая доля клиентов, это клиенты без детей, которая составляет 66%. Клиенты с одним, двумя конверсия почти одинаковая - 9%, самой высокой в данной группе, значит непосредственно наличие детей прямо влияет на возврат кредита в срок, и их доля составляет 22% и 9% соответственно. У клиентов с тремя детьми конверсия составляет 8%, их доля в общем количестве семей, составила 1,5%. Для семей с четверьмя детьми конверсия составила 9%, их доля сосавила 0,2%. У семей с пятью детьми, конверсия 0%, и их доля составила 0,04%. Не стоит использовать данные клиентов с четырьмя и петью детьми для выявления зависисмости возврата кредита в срок. "
   ]
  },
  {
   "cell_type": "markdown",
   "id": "6cc8eb88",
   "metadata": {
    "deletable": false,
    "editable": false,
    "id": "97be82ca"
   },
   "source": [
    "#### 3.2 Есть ли зависимость между семейным положением и возвратом кредита в срок?"
   ]
  },
  {
   "cell_type": "code",
   "execution_count": 27,
   "id": "70f4bd04",
   "metadata": {
    "deletable": false,
    "id": "dc3f7ee8"
   },
   "outputs": [
    {
     "name": "stdout",
     "output_type": "stream",
     "text": [
      "                       debt\n",
      "family_status              \n",
      "Не женат / не замужем   273\n",
      "в разводе                84\n",
      "вдовец / вдова           63\n",
      "гражданский брак        385\n",
      "женат / замужем         927\n"
     ]
    }
   ],
   "source": [
    "data_pivot = data.pivot_table(index = ['family_status'], values = 'debt', aggfunc = 'sum')# Создадим сводную таблицу для обощения данных и их представления\n",
    "print(data_pivot)# выводим сводную таблицу на экран"
   ]
  },
  {
   "cell_type": "code",
   "execution_count": 28,
   "id": "ec2dd522",
   "metadata": {},
   "outputs": [
    {
     "name": "stdout",
     "output_type": "stream",
     "text": [
      "family_status\n",
      "Не женат / не замужем     2796\n",
      "в разводе                 1189\n",
      "вдовец / вдова             951\n",
      "гражданский брак          4134\n",
      "женат / замужем          12261\n",
      "Name: family_status, dtype: int64\n"
     ]
    }
   ],
   "source": [
    "number_of_families = data.groupby('family_status')['family_status'].count()#общее количество семей для каждой группы\n",
    "print(number_of_families)# выведим на экран количество семей"
   ]
  },
  {
   "cell_type": "code",
   "execution_count": 29,
   "id": "4ce10cb3",
   "metadata": {},
   "outputs": [],
   "source": [
    "debtor_family = data.groupby('family_status')['debt'].sum()#сгруппируем общее количество семей имевших задолженность по кредиту"
   ]
  },
  {
   "cell_type": "code",
   "execution_count": 30,
   "id": "7203d2cc",
   "metadata": {},
   "outputs": [
    {
     "name": "stdout",
     "output_type": "stream",
     "text": [
      "family_status\n",
      "Не женат / не замужем    9.763948\n",
      "в разводе                7.064760\n",
      "вдовец / вдова           6.624606\n",
      "гражданский брак         9.313014\n",
      "женат / замужем          7.560558\n",
      "dtype: float64\n"
     ]
    }
   ],
   "source": [
    "conversion = (debtor_family/number_of_families)*100#расчитаем конверсию\n",
    "print(conversion)"
   ]
  },
  {
   "cell_type": "code",
   "execution_count": 31,
   "id": "bbe0cbd8",
   "metadata": {},
   "outputs": [
    {
     "data": {
      "text/html": [
       "<div>\n",
       "<style scoped>\n",
       "    .dataframe tbody tr th:only-of-type {\n",
       "        vertical-align: middle;\n",
       "    }\n",
       "\n",
       "    .dataframe tbody tr th {\n",
       "        vertical-align: top;\n",
       "    }\n",
       "\n",
       "    .dataframe thead tr th {\n",
       "        text-align: left;\n",
       "    }\n",
       "\n",
       "    .dataframe thead tr:last-of-type th {\n",
       "        text-align: right;\n",
       "    }\n",
       "</style>\n",
       "<table border=\"1\" class=\"dataframe\">\n",
       "  <thead>\n",
       "    <tr>\n",
       "      <th></th>\n",
       "      <th>count</th>\n",
       "      <th>sum</th>\n",
       "      <th>mean</th>\n",
       "    </tr>\n",
       "    <tr>\n",
       "      <th></th>\n",
       "      <th>debt</th>\n",
       "      <th>debt</th>\n",
       "      <th>debt</th>\n",
       "    </tr>\n",
       "    <tr>\n",
       "      <th>family_status</th>\n",
       "      <th></th>\n",
       "      <th></th>\n",
       "      <th></th>\n",
       "    </tr>\n",
       "  </thead>\n",
       "  <tbody>\n",
       "    <tr>\n",
       "      <th>Не женат / не замужем</th>\n",
       "      <td>2796</td>\n",
       "      <td>273</td>\n",
       "      <td>0.097639</td>\n",
       "    </tr>\n",
       "    <tr>\n",
       "      <th>гражданский брак</th>\n",
       "      <td>4134</td>\n",
       "      <td>385</td>\n",
       "      <td>0.093130</td>\n",
       "    </tr>\n",
       "    <tr>\n",
       "      <th>женат / замужем</th>\n",
       "      <td>12261</td>\n",
       "      <td>927</td>\n",
       "      <td>0.075606</td>\n",
       "    </tr>\n",
       "    <tr>\n",
       "      <th>в разводе</th>\n",
       "      <td>1189</td>\n",
       "      <td>84</td>\n",
       "      <td>0.070648</td>\n",
       "    </tr>\n",
       "    <tr>\n",
       "      <th>вдовец / вдова</th>\n",
       "      <td>951</td>\n",
       "      <td>63</td>\n",
       "      <td>0.066246</td>\n",
       "    </tr>\n",
       "  </tbody>\n",
       "</table>\n",
       "</div>"
      ],
      "text/plain": [
       "                       count  sum      mean\n",
       "                        debt debt      debt\n",
       "family_status                              \n",
       "Не женат / не замужем   2796  273  0.097639\n",
       "гражданский брак        4134  385  0.093130\n",
       "женат / замужем        12261  927  0.075606\n",
       "в разводе               1189   84  0.070648\n",
       "вдовец / вдова           951   63  0.066246"
      ]
     },
     "execution_count": 31,
     "metadata": {},
     "output_type": "execute_result"
    }
   ],
   "source": [
    "data.pivot_table(index = 'family_status', values = 'debt', aggfunc = ['count', 'sum', 'mean'])\\\n",
    ".sort_values(by = ('mean', 'debt'), ascending = False)#построим сводную таблицу для анализа данных"
   ]
  },
  {
   "cell_type": "markdown",
   "id": "ab7ec63e",
   "metadata": {
    "deletable": false,
    "id": "1cef7837"
   },
   "source": [
    "**Вывод:** На основе полученных данных можно сделать следующий вывод. Cамый высокий процент конверсии около 9% у сдледующих категорий семей \"не женат/не замужем, гражданский брак\". Более отвественные клиенты следующиx категорий граждан: \"вдова/вдовец\", \"в разводе\", \"женат/замужем\", здесь соответсвенно конверсия составила 6%, 7%, 7%. Таким образом, мы видим что клиенты имеющие различное семейное положение и видимо их образ жизни влияют на ответсвенность по возврату кредита в срок. Клиенты, побывавшие в браке, реже допускают просрочки.  "
   ]
  },
  {
   "cell_type": "markdown",
   "id": "fcdff383",
   "metadata": {
    "deletable": false,
    "editable": false,
    "id": "1e8b2fca"
   },
   "source": [
    "#### 3.3 Есть ли зависимость между уровнем дохода и возвратом кредита в срок?"
   ]
  },
  {
   "cell_type": "code",
   "execution_count": 32,
   "id": "365596df",
   "metadata": {
    "deletable": false,
    "id": "cd7e3720"
   },
   "outputs": [
    {
     "name": "stdout",
     "output_type": "stream",
     "text": [
      "                       debt\n",
      "total_income_category      \n",
      "A                         2\n",
      "B                       354\n",
      "C                      1353\n",
      "D                        21\n",
      "E                         2\n"
     ]
    }
   ],
   "source": [
    "data_pivot = data.pivot_table(index = ['total_income_category'], values = 'debt', aggfunc = 'sum')# Создадим сводную таблицу для обощения данных и их представления\n",
    "print(data_pivot)# выводим сводную таблицу на экран"
   ]
  },
  {
   "cell_type": "code",
   "execution_count": 33,
   "id": "4e7a7b7b",
   "metadata": {},
   "outputs": [
    {
     "name": "stdout",
     "output_type": "stream",
     "text": [
      "total_income_category\n",
      "A       25\n",
      "B     5014\n",
      "C    15921\n",
      "D      349\n",
      "E       22\n",
      "Name: total_income_category, dtype: int64\n"
     ]
    }
   ],
   "source": [
    "number_income_category = data.groupby('total_income_category')['total_income_category'].count()#общее количество клиентов для каждой категории\n",
    "print(number_income_category)# выведим на экран количество клиентов по категориям"
   ]
  },
  {
   "cell_type": "code",
   "execution_count": 34,
   "id": "926dcf98",
   "metadata": {},
   "outputs": [],
   "source": [
    "debtor_total_income = data.groupby('total_income_category')['debt'].sum()#сгруппируем общее количество клиентов имевших задолженность по кредиту"
   ]
  },
  {
   "cell_type": "code",
   "execution_count": 35,
   "id": "27c821f8",
   "metadata": {},
   "outputs": [
    {
     "name": "stdout",
     "output_type": "stream",
     "text": [
      "total_income_category\n",
      "A    8.000000\n",
      "B    7.060231\n",
      "C    8.498210\n",
      "D    6.017192\n",
      "E    9.090909\n",
      "dtype: float64\n"
     ]
    }
   ],
   "source": [
    "conversion = (debtor_total_income/number_income_category)*100#расчитаем конверсию для каждой категории клиентов\n",
    "print(conversion)"
   ]
  },
  {
   "cell_type": "code",
   "execution_count": 36,
   "id": "6dc23908",
   "metadata": {},
   "outputs": [
    {
     "data": {
      "text/html": [
       "<div>\n",
       "<style scoped>\n",
       "    .dataframe tbody tr th:only-of-type {\n",
       "        vertical-align: middle;\n",
       "    }\n",
       "\n",
       "    .dataframe tbody tr th {\n",
       "        vertical-align: top;\n",
       "    }\n",
       "\n",
       "    .dataframe thead tr th {\n",
       "        text-align: left;\n",
       "    }\n",
       "\n",
       "    .dataframe thead tr:last-of-type th {\n",
       "        text-align: right;\n",
       "    }\n",
       "</style>\n",
       "<table border=\"1\" class=\"dataframe\">\n",
       "  <thead>\n",
       "    <tr>\n",
       "      <th></th>\n",
       "      <th>count</th>\n",
       "      <th>sum</th>\n",
       "      <th>mean</th>\n",
       "    </tr>\n",
       "    <tr>\n",
       "      <th></th>\n",
       "      <th>debt</th>\n",
       "      <th>debt</th>\n",
       "      <th>debt</th>\n",
       "    </tr>\n",
       "    <tr>\n",
       "      <th>total_income_category</th>\n",
       "      <th></th>\n",
       "      <th></th>\n",
       "      <th></th>\n",
       "    </tr>\n",
       "  </thead>\n",
       "  <tbody>\n",
       "    <tr>\n",
       "      <th>E</th>\n",
       "      <td>22</td>\n",
       "      <td>2</td>\n",
       "      <td>0.090909</td>\n",
       "    </tr>\n",
       "    <tr>\n",
       "      <th>C</th>\n",
       "      <td>15921</td>\n",
       "      <td>1353</td>\n",
       "      <td>0.084982</td>\n",
       "    </tr>\n",
       "    <tr>\n",
       "      <th>A</th>\n",
       "      <td>25</td>\n",
       "      <td>2</td>\n",
       "      <td>0.080000</td>\n",
       "    </tr>\n",
       "    <tr>\n",
       "      <th>B</th>\n",
       "      <td>5014</td>\n",
       "      <td>354</td>\n",
       "      <td>0.070602</td>\n",
       "    </tr>\n",
       "    <tr>\n",
       "      <th>D</th>\n",
       "      <td>349</td>\n",
       "      <td>21</td>\n",
       "      <td>0.060172</td>\n",
       "    </tr>\n",
       "  </tbody>\n",
       "</table>\n",
       "</div>"
      ],
      "text/plain": [
       "                       count   sum      mean\n",
       "                        debt  debt      debt\n",
       "total_income_category                       \n",
       "E                         22     2  0.090909\n",
       "C                      15921  1353  0.084982\n",
       "A                         25     2  0.080000\n",
       "B                       5014   354  0.070602\n",
       "D                        349    21  0.060172"
      ]
     },
     "execution_count": 36,
     "metadata": {},
     "output_type": "execute_result"
    }
   ],
   "source": [
    "data.pivot_table(index = 'total_income_category', values = 'debt', aggfunc = ['count', 'sum', 'mean'])\\\n",
    ".sort_values(by = ('mean', 'debt'), ascending = False)# построим сводную таблицу для анализа данных"
   ]
  },
  {
   "cell_type": "markdown",
   "id": "37efa465",
   "metadata": {
    "deletable": false,
    "id": "e8593def"
   },
   "source": [
    "**Вывод:** Ранее мы категоризировали всех лиц по уровню дохода следующим образом:\n",
    "\n",
    "0–30000 — 'E';\n",
    "\n",
    "30001–50000 — 'D';\n",
    "\n",
    "50001–200000 — 'C';\n",
    "\n",
    "200001–1000000 — 'B';\n",
    "\n",
    "1000001 и выше — 'A'.\n",
    "\n",
    "По полученным данным можно сделать вывод, что клиенты с доходами \"В\" (200001-1000000 руб.) совершают реже просроченных платежей - 7% от общей доли категорий клиентов 23%. Самый высокий процент просроченных кредитов у группы клиентов с доходами \"С\" (50001-200000 руб.), здесь 8 % не возвратов кредитов, причем доля \"С\" категории клиентов составляет 74%, что существенно влияет значение зависимоти между уровнем дохода и возвратом кредита. Категории \"A, D, E\" в значение зависимости не берем, так как здесь низкая доля категорий клиентов в общей сумме клиентов. "
   ]
  },
  {
   "cell_type": "markdown",
   "id": "1d322ed9",
   "metadata": {
    "deletable": false,
    "editable": false,
    "id": "99ecbd1f"
   },
   "source": [
    "#### 3.4 Как разные цели кредита влияют на его возврат в срок?"
   ]
  },
  {
   "cell_type": "code",
   "execution_count": 37,
   "id": "c6b4996d",
   "metadata": {
    "deletable": false,
    "id": "2b687290"
   },
   "outputs": [
    {
     "name": "stdout",
     "output_type": "stream",
     "text": [
      "                          debt\n",
      "purpose_category              \n",
      "операции с автомобилем     400\n",
      "операции с недвижимостью   780\n",
      "получение образования      369\n",
      "проведение свадьбы         183\n"
     ]
    }
   ],
   "source": [
    "data_pivot = data.pivot_table(index = ['purpose_category'], values = 'debt', aggfunc = 'sum')# Создадим сводную таблицу для обощения данных и их представления\n",
    "print(data_pivot)# выводим сводную таблицу на экран# Ваш код будет здесь. Вы можете создавать новые ячейки."
   ]
  },
  {
   "cell_type": "code",
   "execution_count": 38,
   "id": "a6d694a3",
   "metadata": {},
   "outputs": [
    {
     "name": "stdout",
     "output_type": "stream",
     "text": [
      "purpose_category\n",
      "операции с автомобилем       4279\n",
      "операции с недвижимостью    10751\n",
      "получение образования        3988\n",
      "проведение свадьбы           2313\n",
      "Name: purpose_category, dtype: int64\n"
     ]
    }
   ],
   "source": [
    "number_purpose_category = data.groupby('purpose_category')['purpose_category'].count()#общее количество клиентов для каждой группы\n",
    "print(number_purpose_category)# выведим на экран количество клиентов для каждой цели кредита"
   ]
  },
  {
   "cell_type": "code",
   "execution_count": 39,
   "id": "5d69b414",
   "metadata": {},
   "outputs": [],
   "source": [
    "debtor_purpose = data.groupby('purpose_category')['debt'].sum()#сгруппируем общее количество клиентов имевших задолженность по кредиту"
   ]
  },
  {
   "cell_type": "code",
   "execution_count": 40,
   "id": "9ec81a68",
   "metadata": {},
   "outputs": [
    {
     "name": "stdout",
     "output_type": "stream",
     "text": [
      "purpose_category\n",
      "операции с автомобилем      9.347978\n",
      "операции с недвижимостью    7.255139\n",
      "получение образования       9.252758\n",
      "проведение свадьбы          7.911803\n",
      "dtype: float64\n"
     ]
    }
   ],
   "source": [
    "conversion = (debtor_purpose/number_purpose_category)*100#расчитаем конверсию\n",
    "print(conversion)"
   ]
  },
  {
   "cell_type": "code",
   "execution_count": 41,
   "id": "70524d0b",
   "metadata": {},
   "outputs": [
    {
     "data": {
      "text/html": [
       "<div>\n",
       "<style scoped>\n",
       "    .dataframe tbody tr th:only-of-type {\n",
       "        vertical-align: middle;\n",
       "    }\n",
       "\n",
       "    .dataframe tbody tr th {\n",
       "        vertical-align: top;\n",
       "    }\n",
       "\n",
       "    .dataframe thead tr th {\n",
       "        text-align: left;\n",
       "    }\n",
       "\n",
       "    .dataframe thead tr:last-of-type th {\n",
       "        text-align: right;\n",
       "    }\n",
       "</style>\n",
       "<table border=\"1\" class=\"dataframe\">\n",
       "  <thead>\n",
       "    <tr>\n",
       "      <th></th>\n",
       "      <th>count</th>\n",
       "      <th>sum</th>\n",
       "      <th>mean</th>\n",
       "    </tr>\n",
       "    <tr>\n",
       "      <th></th>\n",
       "      <th>debt</th>\n",
       "      <th>debt</th>\n",
       "      <th>debt</th>\n",
       "    </tr>\n",
       "    <tr>\n",
       "      <th>purpose_category</th>\n",
       "      <th></th>\n",
       "      <th></th>\n",
       "      <th></th>\n",
       "    </tr>\n",
       "  </thead>\n",
       "  <tbody>\n",
       "    <tr>\n",
       "      <th>операции с автомобилем</th>\n",
       "      <td>4279</td>\n",
       "      <td>400</td>\n",
       "      <td>0.093480</td>\n",
       "    </tr>\n",
       "    <tr>\n",
       "      <th>получение образования</th>\n",
       "      <td>3988</td>\n",
       "      <td>369</td>\n",
       "      <td>0.092528</td>\n",
       "    </tr>\n",
       "    <tr>\n",
       "      <th>проведение свадьбы</th>\n",
       "      <td>2313</td>\n",
       "      <td>183</td>\n",
       "      <td>0.079118</td>\n",
       "    </tr>\n",
       "    <tr>\n",
       "      <th>операции с недвижимостью</th>\n",
       "      <td>10751</td>\n",
       "      <td>780</td>\n",
       "      <td>0.072551</td>\n",
       "    </tr>\n",
       "  </tbody>\n",
       "</table>\n",
       "</div>"
      ],
      "text/plain": [
       "                          count  sum      mean\n",
       "                           debt debt      debt\n",
       "purpose_category                              \n",
       "операции с автомобилем     4279  400  0.093480\n",
       "получение образования      3988  369  0.092528\n",
       "проведение свадьбы         2313  183  0.079118\n",
       "операции с недвижимостью  10751  780  0.072551"
      ]
     },
     "execution_count": 41,
     "metadata": {},
     "output_type": "execute_result"
    }
   ],
   "source": [
    "data.pivot_table(index = 'purpose_category', values = 'debt', aggfunc = ['count', 'sum', 'mean'])\\\n",
    ".sort_values(by = ('mean', 'debt'), ascending = False)# построим сводную таблицу для анализа данных"
   ]
  },
  {
   "cell_type": "markdown",
   "id": "bd8e7801",
   "metadata": {
    "deletable": false,
    "id": "b4bb2ce6"
   },
   "source": [
    "**Вывод:** По полученным данным мы видим, что для получения кредита на подкатегорию \"операции с автомобилем\" и \"получения образования\" выходит самый высокий процент просроченных кредитов, а для подкатегории \"операции с недвижимостью\" и \"проведение свадьбы\" чуть меньше, 7%, но меньше вероятности просроченных кредитов относительно целей выше."
   ]
  },
  {
   "cell_type": "markdown",
   "id": "7d04b411",
   "metadata": {
    "deletable": false,
    "editable": false,
    "id": "09c3ac4c"
   },
   "source": [
    "#### 3.5 Приведите возможные причины появления пропусков в исходных данных."
   ]
  },
  {
   "cell_type": "markdown",
   "id": "14071b79",
   "metadata": {
    "deletable": false,
    "id": "9da2ceda"
   },
   "source": [
    "*Ответ:* Пропуски появляются по-разному. Возможно, что клиенты сами умышленно не хотят заполнять данные, возможно они их заполняют не верно, а возможно автоматизированная система дала сбой."
   ]
  },
  {
   "cell_type": "markdown",
   "id": "09ac00e9",
   "metadata": {
    "deletable": false,
    "editable": false,
    "id": "7b0487d6"
   },
   "source": [
    "#### 3.6 Объясните, почему заполнить пропуски медианным значением — лучшее решение для количественных переменных."
   ]
  },
  {
   "cell_type": "markdown",
   "id": "311160b2",
   "metadata": {
    "deletable": false,
    "id": "7ecf2b8e"
   },
   "source": [
    "*Ответ:* Медианым значением лучше заполнить пропуски, если например сильно разняца данные, чтобы не брать выдающиеся данные, ищут медианну, например в случае заработной платы, или еще каких-то входных данных, имеющих смысл для расета значений. "
   ]
  },
  {
   "cell_type": "markdown",
   "id": "55bda6b4",
   "metadata": {
    "deletable": false,
    "editable": false,
    "id": "6db5255a"
   },
   "source": [
    "### Шаг 4: общий вывод."
   ]
  },
  {
   "cell_type": "markdown",
   "id": "fa383c48",
   "metadata": {
    "deletable": false,
    "id": "bad65432"
   },
   "source": [
    "Для построения модели кредитного скоринга стоит учитывать количество семей без детей, а также детьми - одного, два и трое. Стоит обратить внимание на семейное положение, например вдовец/вдова, где самый низкий процент возврата кредита, уровень дохода клиентов \"В\" (200001-1000000 руб.) рублей, где самый низкий процент возврата кредита и \"С\" (50001-200000 руб.), где самый высокий процент не возвратов кредитов. Так же стоит учитывать цели кредита, например на операции с автомобилем и получения образования, самый высокий процент задолжников по кредитам. Следовательно, для каждой группы нужно расчитать скорингонговую  модель, и учитывать все нюансы."
   ]
  }
 ],
 "metadata": {
  "ExecuteTimeLog": [
   {
    "duration": 496,
    "start_time": "2022-09-13T12:01:57.483Z"
   },
   {
    "duration": 47,
    "start_time": "2022-09-13T15:48:56.391Z"
   },
   {
    "duration": 6,
    "start_time": "2022-09-13T15:49:20.858Z"
   },
   {
    "duration": 524,
    "start_time": "2022-09-13T15:51:00.738Z"
   },
   {
    "duration": 26,
    "start_time": "2022-09-13T15:51:01.264Z"
   },
   {
    "duration": 17,
    "start_time": "2022-09-13T15:51:01.292Z"
   },
   {
    "duration": 15,
    "start_time": "2022-09-13T15:51:01.311Z"
   },
   {
    "duration": 45,
    "start_time": "2022-09-13T15:51:01.329Z"
   },
   {
    "duration": 4,
    "start_time": "2022-09-13T15:51:01.376Z"
   },
   {
    "duration": 21,
    "start_time": "2022-09-13T15:51:01.382Z"
   },
   {
    "duration": 24,
    "start_time": "2022-09-13T15:51:01.405Z"
   },
   {
    "duration": 10,
    "start_time": "2022-09-13T15:51:01.431Z"
   },
   {
    "duration": 10,
    "start_time": "2022-09-13T15:51:01.443Z"
   },
   {
    "duration": 37,
    "start_time": "2022-09-13T15:51:01.455Z"
   },
   {
    "duration": 10,
    "start_time": "2022-09-13T15:51:01.494Z"
   },
   {
    "duration": 9,
    "start_time": "2022-09-13T15:51:01.515Z"
   },
   {
    "duration": 21,
    "start_time": "2022-09-13T15:51:01.527Z"
   },
   {
    "duration": 23,
    "start_time": "2022-09-13T15:51:01.550Z"
   },
   {
    "duration": 18,
    "start_time": "2022-09-13T15:51:01.575Z"
   },
   {
    "duration": 14,
    "start_time": "2022-09-13T15:51:01.596Z"
   },
   {
    "duration": 20,
    "start_time": "2022-09-13T15:51:01.612Z"
   },
   {
    "duration": 13,
    "start_time": "2022-09-13T15:51:01.634Z"
   },
   {
    "duration": 13,
    "start_time": "2022-09-13T15:51:01.649Z"
   },
   {
    "duration": 35,
    "start_time": "2022-09-13T15:51:01.664Z"
   },
   {
    "duration": 74,
    "start_time": "2022-09-13T15:51:01.701Z"
   },
   {
    "duration": 0,
    "start_time": "2022-09-13T15:51:01.777Z"
   },
   {
    "duration": 0,
    "start_time": "2022-09-13T15:51:01.778Z"
   },
   {
    "duration": 0,
    "start_time": "2022-09-13T15:51:01.779Z"
   },
   {
    "duration": 8,
    "start_time": "2022-09-13T15:54:32.992Z"
   },
   {
    "duration": 8,
    "start_time": "2022-09-13T15:55:18.889Z"
   },
   {
    "duration": 8,
    "start_time": "2022-09-13T15:55:35.274Z"
   },
   {
    "duration": 57,
    "start_time": "2022-09-14T04:02:22.812Z"
   },
   {
    "duration": 6,
    "start_time": "2022-09-14T04:03:33.081Z"
   },
   {
    "duration": 5,
    "start_time": "2022-09-14T04:04:28.042Z"
   },
   {
    "duration": 6,
    "start_time": "2022-09-14T04:04:53.162Z"
   },
   {
    "duration": 499,
    "start_time": "2022-09-14T04:06:54.764Z"
   },
   {
    "duration": 21,
    "start_time": "2022-09-14T04:06:58.380Z"
   },
   {
    "duration": 14,
    "start_time": "2022-09-14T04:07:03.339Z"
   },
   {
    "duration": 11,
    "start_time": "2022-09-14T04:07:08.556Z"
   },
   {
    "duration": 34,
    "start_time": "2022-09-14T04:07:14.108Z"
   },
   {
    "duration": 4,
    "start_time": "2022-09-14T04:07:23.291Z"
   },
   {
    "duration": 8,
    "start_time": "2022-09-14T04:07:29.484Z"
   },
   {
    "duration": 4,
    "start_time": "2022-09-14T04:07:33.708Z"
   },
   {
    "duration": 8,
    "start_time": "2022-09-14T04:07:37.115Z"
   },
   {
    "duration": 5,
    "start_time": "2022-09-14T04:07:40.699Z"
   },
   {
    "duration": 32,
    "start_time": "2022-09-14T04:07:45.276Z"
   },
   {
    "duration": 11,
    "start_time": "2022-09-14T04:07:48.843Z"
   },
   {
    "duration": 4,
    "start_time": "2022-09-14T04:07:52.795Z"
   },
   {
    "duration": 10,
    "start_time": "2022-09-14T04:07:56.131Z"
   },
   {
    "duration": 20,
    "start_time": "2022-09-14T04:07:59.963Z"
   },
   {
    "duration": 18,
    "start_time": "2022-09-14T04:08:02.891Z"
   },
   {
    "duration": 3,
    "start_time": "2022-09-14T04:08:07.339Z"
   },
   {
    "duration": 10,
    "start_time": "2022-09-14T04:08:10.972Z"
   },
   {
    "duration": 6,
    "start_time": "2022-09-14T04:08:14.187Z"
   },
   {
    "duration": 3,
    "start_time": "2022-09-14T04:08:18.668Z"
   },
   {
    "duration": 8,
    "start_time": "2022-09-14T04:08:21.467Z"
   },
   {
    "duration": 6,
    "start_time": "2022-09-14T04:08:25.275Z"
   },
   {
    "duration": 79,
    "start_time": "2022-09-14T04:11:46.148Z"
   },
   {
    "duration": 7,
    "start_time": "2022-09-14T04:12:29.885Z"
   },
   {
    "duration": 5,
    "start_time": "2022-09-14T04:28:41.569Z"
   },
   {
    "duration": 4,
    "start_time": "2022-09-14T04:33:03.440Z"
   },
   {
    "duration": 6,
    "start_time": "2022-09-14T04:33:09.516Z"
   },
   {
    "duration": 93,
    "start_time": "2022-09-14T05:00:51.557Z"
   },
   {
    "duration": 88,
    "start_time": "2022-09-14T05:01:30.947Z"
   },
   {
    "duration": 94,
    "start_time": "2022-09-14T05:02:07.995Z"
   },
   {
    "duration": 83,
    "start_time": "2022-09-14T05:02:27.084Z"
   },
   {
    "duration": 29,
    "start_time": "2022-09-14T05:02:43.631Z"
   },
   {
    "duration": 13,
    "start_time": "2022-09-14T05:02:52.780Z"
   },
   {
    "duration": 11,
    "start_time": "2022-09-14T05:04:31.629Z"
   },
   {
    "duration": 7,
    "start_time": "2022-09-14T05:05:15.086Z"
   },
   {
    "duration": 9,
    "start_time": "2022-09-14T05:05:41.405Z"
   },
   {
    "duration": 8,
    "start_time": "2022-09-14T05:07:54.031Z"
   },
   {
    "duration": 9,
    "start_time": "2022-09-14T05:30:54.270Z"
   },
   {
    "duration": 496,
    "start_time": "2022-09-14T05:35:09.902Z"
   },
   {
    "duration": 236,
    "start_time": "2022-09-14T05:35:42.030Z"
   },
   {
    "duration": 4,
    "start_time": "2022-09-14T05:39:20.800Z"
   },
   {
    "duration": 5,
    "start_time": "2022-09-14T05:39:43.809Z"
   },
   {
    "duration": 1212,
    "start_time": "2022-09-14T05:39:48.544Z"
   },
   {
    "duration": 13,
    "start_time": "2022-09-14T05:40:03.089Z"
   },
   {
    "duration": 27,
    "start_time": "2022-09-14T05:41:34.561Z"
   },
   {
    "duration": 76,
    "start_time": "2022-09-14T05:46:26.742Z"
   },
   {
    "duration": 555,
    "start_time": "2022-09-14T05:46:50.435Z"
   },
   {
    "duration": 243,
    "start_time": "2022-09-14T05:47:02.755Z"
   },
   {
    "duration": 194,
    "start_time": "2022-09-14T05:48:26.293Z"
   },
   {
    "duration": 118,
    "start_time": "2022-09-14T05:53:39.934Z"
   },
   {
    "duration": 5,
    "start_time": "2022-09-14T05:54:49.912Z"
   },
   {
    "duration": 108,
    "start_time": "2022-09-14T05:56:06.776Z"
   },
   {
    "duration": 77,
    "start_time": "2022-09-14T05:56:58.529Z"
   },
   {
    "duration": 69,
    "start_time": "2022-09-14T05:57:07.386Z"
   },
   {
    "duration": 73,
    "start_time": "2022-09-14T05:57:23.065Z"
   },
   {
    "duration": 101,
    "start_time": "2022-09-14T05:58:00.105Z"
   },
   {
    "duration": 86,
    "start_time": "2022-09-14T05:58:50.009Z"
   },
   {
    "duration": 92,
    "start_time": "2022-09-14T05:59:08.026Z"
   },
   {
    "duration": 8903,
    "start_time": "2022-09-14T06:00:06.939Z"
   },
   {
    "duration": 4,
    "start_time": "2022-09-14T06:11:39.766Z"
   },
   {
    "duration": 6,
    "start_time": "2022-09-14T06:11:46.016Z"
   },
   {
    "duration": 5,
    "start_time": "2022-09-14T06:11:49.552Z"
   },
   {
    "duration": 6,
    "start_time": "2022-09-14T06:12:02.496Z"
   },
   {
    "duration": 179,
    "start_time": "2022-09-14T06:19:19.734Z"
   },
   {
    "duration": 87,
    "start_time": "2022-09-14T06:23:16.286Z"
   },
   {
    "duration": 86,
    "start_time": "2022-09-14T06:23:58.550Z"
   },
   {
    "duration": 24,
    "start_time": "2022-09-14T07:00:10.818Z"
   },
   {
    "duration": 38,
    "start_time": "2022-09-14T07:16:00.296Z"
   },
   {
    "duration": 1056,
    "start_time": "2022-09-14T07:19:37.474Z"
   },
   {
    "duration": 177,
    "start_time": "2022-09-14T07:19:43.337Z"
   },
   {
    "duration": 554,
    "start_time": "2022-09-14T07:20:30.914Z"
   },
   {
    "duration": 32,
    "start_time": "2022-09-14T07:20:31.470Z"
   },
   {
    "duration": 24,
    "start_time": "2022-09-14T07:20:31.506Z"
   },
   {
    "duration": 11,
    "start_time": "2022-09-14T07:20:31.532Z"
   },
   {
    "duration": 71,
    "start_time": "2022-09-14T07:20:31.545Z"
   },
   {
    "duration": 4,
    "start_time": "2022-09-14T07:20:31.619Z"
   },
   {
    "duration": 18,
    "start_time": "2022-09-14T07:20:31.625Z"
   },
   {
    "duration": 7,
    "start_time": "2022-09-14T07:20:31.645Z"
   },
   {
    "duration": 15,
    "start_time": "2022-09-14T07:20:31.654Z"
   },
   {
    "duration": 22,
    "start_time": "2022-09-14T07:20:31.674Z"
   },
   {
    "duration": 46,
    "start_time": "2022-09-14T07:20:31.698Z"
   },
   {
    "duration": 11,
    "start_time": "2022-09-14T07:20:31.745Z"
   },
   {
    "duration": 10,
    "start_time": "2022-09-14T07:20:31.757Z"
   },
   {
    "duration": 29,
    "start_time": "2022-09-14T07:20:31.769Z"
   },
   {
    "duration": 41,
    "start_time": "2022-09-14T07:20:31.801Z"
   },
   {
    "duration": 19,
    "start_time": "2022-09-14T07:20:31.844Z"
   },
   {
    "duration": 4,
    "start_time": "2022-09-14T07:20:31.865Z"
   },
   {
    "duration": 38,
    "start_time": "2022-09-14T07:20:31.872Z"
   },
   {
    "duration": 12,
    "start_time": "2022-09-14T07:20:31.912Z"
   },
   {
    "duration": 17,
    "start_time": "2022-09-14T07:20:31.926Z"
   },
   {
    "duration": 38,
    "start_time": "2022-09-14T07:20:31.945Z"
   },
   {
    "duration": 8,
    "start_time": "2022-09-14T07:20:31.985Z"
   },
   {
    "duration": 984,
    "start_time": "2022-09-14T07:20:31.996Z"
   },
   {
    "duration": 182,
    "start_time": "2022-09-14T07:20:32.982Z"
   },
   {
    "duration": 3,
    "start_time": "2022-09-14T07:20:33.166Z"
   },
   {
    "duration": 5,
    "start_time": "2022-09-14T07:20:33.170Z"
   },
   {
    "duration": 21,
    "start_time": "2022-09-14T07:20:33.176Z"
   },
   {
    "duration": 160,
    "start_time": "2022-09-14T07:25:17.499Z"
   },
   {
    "duration": 22,
    "start_time": "2022-09-14T07:27:44.916Z"
   },
   {
    "duration": 93,
    "start_time": "2022-09-14T07:55:11.262Z"
   },
   {
    "duration": 73,
    "start_time": "2022-09-14T07:55:34.476Z"
   },
   {
    "duration": 114,
    "start_time": "2022-09-14T07:55:52.358Z"
   },
   {
    "duration": 76,
    "start_time": "2022-09-14T07:57:31.623Z"
   },
   {
    "duration": 563,
    "start_time": "2022-09-14T07:57:36.420Z"
   },
   {
    "duration": 43,
    "start_time": "2022-09-14T07:57:36.986Z"
   },
   {
    "duration": 22,
    "start_time": "2022-09-14T07:57:37.031Z"
   },
   {
    "duration": 31,
    "start_time": "2022-09-14T07:57:37.055Z"
   },
   {
    "duration": 63,
    "start_time": "2022-09-14T07:57:37.089Z"
   },
   {
    "duration": 3,
    "start_time": "2022-09-14T07:57:37.154Z"
   },
   {
    "duration": 41,
    "start_time": "2022-09-14T07:57:37.159Z"
   },
   {
    "duration": 31,
    "start_time": "2022-09-14T07:57:37.202Z"
   },
   {
    "duration": 19,
    "start_time": "2022-09-14T07:57:37.236Z"
   },
   {
    "duration": 21,
    "start_time": "2022-09-14T07:57:37.259Z"
   },
   {
    "duration": 72,
    "start_time": "2022-09-14T07:57:37.282Z"
   },
   {
    "duration": 9,
    "start_time": "2022-09-14T07:57:37.356Z"
   },
   {
    "duration": 13,
    "start_time": "2022-09-14T07:57:37.367Z"
   },
   {
    "duration": 26,
    "start_time": "2022-09-14T07:57:37.382Z"
   },
   {
    "duration": 37,
    "start_time": "2022-09-14T07:57:37.411Z"
   },
   {
    "duration": 20,
    "start_time": "2022-09-14T07:57:37.449Z"
   },
   {
    "duration": 23,
    "start_time": "2022-09-14T07:57:37.471Z"
   },
   {
    "duration": 31,
    "start_time": "2022-09-14T07:57:37.497Z"
   },
   {
    "duration": 8,
    "start_time": "2022-09-14T07:57:37.530Z"
   },
   {
    "duration": 17,
    "start_time": "2022-09-14T07:57:37.540Z"
   },
   {
    "duration": 35,
    "start_time": "2022-09-14T07:57:37.558Z"
   },
   {
    "duration": 36,
    "start_time": "2022-09-14T07:57:37.596Z"
   },
   {
    "duration": 882,
    "start_time": "2022-09-14T07:57:37.634Z"
   },
   {
    "duration": 88,
    "start_time": "2022-09-14T07:57:38.520Z"
   },
   {
    "duration": 0,
    "start_time": "2022-09-14T07:57:38.610Z"
   },
   {
    "duration": 0,
    "start_time": "2022-09-14T07:57:38.611Z"
   },
   {
    "duration": 0,
    "start_time": "2022-09-14T07:57:38.612Z"
   },
   {
    "duration": 76,
    "start_time": "2022-09-14T07:58:16.726Z"
   },
   {
    "duration": 85,
    "start_time": "2022-09-14T07:58:26.727Z"
   },
   {
    "duration": 102,
    "start_time": "2022-09-14T07:58:47.655Z"
   },
   {
    "duration": 118,
    "start_time": "2022-09-14T08:11:39.348Z"
   },
   {
    "duration": 114,
    "start_time": "2022-09-14T08:13:48.741Z"
   },
   {
    "duration": 15,
    "start_time": "2022-09-14T08:14:13.168Z"
   },
   {
    "duration": 14,
    "start_time": "2022-09-14T08:14:30.223Z"
   },
   {
    "duration": 23,
    "start_time": "2022-09-14T08:16:00.706Z"
   },
   {
    "duration": 160,
    "start_time": "2022-09-14T08:17:02.403Z"
   },
   {
    "duration": 529,
    "start_time": "2022-09-14T08:17:16.246Z"
   },
   {
    "duration": 31,
    "start_time": "2022-09-14T08:17:16.778Z"
   },
   {
    "duration": 31,
    "start_time": "2022-09-14T08:17:16.811Z"
   },
   {
    "duration": 25,
    "start_time": "2022-09-14T08:17:16.845Z"
   },
   {
    "duration": 51,
    "start_time": "2022-09-14T08:17:16.873Z"
   },
   {
    "duration": 4,
    "start_time": "2022-09-14T08:17:16.926Z"
   },
   {
    "duration": 13,
    "start_time": "2022-09-14T08:17:16.931Z"
   },
   {
    "duration": 4,
    "start_time": "2022-09-14T08:17:16.946Z"
   },
   {
    "duration": 7,
    "start_time": "2022-09-14T08:17:16.952Z"
   },
   {
    "duration": 18,
    "start_time": "2022-09-14T08:17:16.963Z"
   },
   {
    "duration": 51,
    "start_time": "2022-09-14T08:17:16.982Z"
   },
   {
    "duration": 10,
    "start_time": "2022-09-14T08:17:17.034Z"
   },
   {
    "duration": 7,
    "start_time": "2022-09-14T08:17:17.045Z"
   },
   {
    "duration": 15,
    "start_time": "2022-09-14T08:17:17.053Z"
   },
   {
    "duration": 46,
    "start_time": "2022-09-14T08:17:17.069Z"
   },
   {
    "duration": 17,
    "start_time": "2022-09-14T08:17:17.117Z"
   },
   {
    "duration": 3,
    "start_time": "2022-09-14T08:17:17.136Z"
   },
   {
    "duration": 16,
    "start_time": "2022-09-14T08:17:17.141Z"
   },
   {
    "duration": 11,
    "start_time": "2022-09-14T08:17:17.159Z"
   },
   {
    "duration": 3,
    "start_time": "2022-09-14T08:17:17.172Z"
   },
   {
    "duration": 15,
    "start_time": "2022-09-14T08:17:17.196Z"
   },
   {
    "duration": 15,
    "start_time": "2022-09-14T08:17:17.214Z"
   },
   {
    "duration": 824,
    "start_time": "2022-09-14T08:17:17.231Z"
   },
   {
    "duration": 173,
    "start_time": "2022-09-14T08:17:18.057Z"
   },
   {
    "duration": 3,
    "start_time": "2022-09-14T08:17:18.232Z"
   },
   {
    "duration": 8,
    "start_time": "2022-09-14T08:17:18.236Z"
   },
   {
    "duration": 5,
    "start_time": "2022-09-14T08:17:18.245Z"
   },
   {
    "duration": 171,
    "start_time": "2022-09-14T08:19:14.186Z"
   },
   {
    "duration": 135,
    "start_time": "2022-09-14T08:19:19.714Z"
   },
   {
    "duration": 393,
    "start_time": "2022-09-14T08:21:56.521Z"
   },
   {
    "duration": 271,
    "start_time": "2022-09-14T08:22:34.675Z"
   },
   {
    "duration": 322,
    "start_time": "2022-09-14T08:23:44.783Z"
   },
   {
    "duration": 349,
    "start_time": "2022-09-14T08:24:05.892Z"
   },
   {
    "duration": 131,
    "start_time": "2022-09-14T08:25:20.038Z"
   },
   {
    "duration": 124,
    "start_time": "2022-09-14T08:25:36.283Z"
   },
   {
    "duration": 167,
    "start_time": "2022-09-14T08:25:52.757Z"
   },
   {
    "duration": 360,
    "start_time": "2022-09-14T08:30:03.720Z"
   },
   {
    "duration": 153,
    "start_time": "2022-09-14T08:30:08.784Z"
   },
   {
    "duration": 4,
    "start_time": "2022-09-14T09:04:25.069Z"
   },
   {
    "duration": 5,
    "start_time": "2022-09-14T09:04:40.013Z"
   },
   {
    "duration": 4,
    "start_time": "2022-09-14T09:04:48.586Z"
   },
   {
    "duration": 326,
    "start_time": "2022-09-14T09:05:18.571Z"
   },
   {
    "duration": 10,
    "start_time": "2022-09-14T09:05:26.394Z"
   },
   {
    "duration": 9,
    "start_time": "2022-09-14T09:28:43.009Z"
   },
   {
    "duration": 9,
    "start_time": "2022-09-14T09:29:04.759Z"
   },
   {
    "duration": 19,
    "start_time": "2022-09-14T09:30:14.587Z"
   },
   {
    "duration": 13,
    "start_time": "2022-09-14T09:31:43.799Z"
   },
   {
    "duration": 11,
    "start_time": "2022-09-14T09:38:55.855Z"
   },
   {
    "duration": 451,
    "start_time": "2022-09-14T09:39:08.732Z"
   },
   {
    "duration": 23,
    "start_time": "2022-09-14T09:39:09.185Z"
   },
   {
    "duration": 21,
    "start_time": "2022-09-14T09:39:09.210Z"
   },
   {
    "duration": 10,
    "start_time": "2022-09-14T09:39:09.233Z"
   },
   {
    "duration": 42,
    "start_time": "2022-09-14T09:39:09.245Z"
   },
   {
    "duration": 7,
    "start_time": "2022-09-14T09:39:09.289Z"
   },
   {
    "duration": 13,
    "start_time": "2022-09-14T09:39:09.297Z"
   },
   {
    "duration": 3,
    "start_time": "2022-09-14T09:39:09.312Z"
   },
   {
    "duration": 9,
    "start_time": "2022-09-14T09:39:09.317Z"
   },
   {
    "duration": 4,
    "start_time": "2022-09-14T09:39:09.329Z"
   },
   {
    "duration": 37,
    "start_time": "2022-09-14T09:39:09.334Z"
   },
   {
    "duration": 10,
    "start_time": "2022-09-14T09:39:09.396Z"
   },
   {
    "duration": 11,
    "start_time": "2022-09-14T09:39:09.407Z"
   },
   {
    "duration": 16,
    "start_time": "2022-09-14T09:39:09.420Z"
   },
   {
    "duration": 26,
    "start_time": "2022-09-14T09:39:09.438Z"
   },
   {
    "duration": 42,
    "start_time": "2022-09-14T09:39:09.465Z"
   },
   {
    "duration": 4,
    "start_time": "2022-09-14T09:39:09.509Z"
   },
   {
    "duration": 13,
    "start_time": "2022-09-14T09:39:09.514Z"
   },
   {
    "duration": 6,
    "start_time": "2022-09-14T09:39:09.528Z"
   },
   {
    "duration": 10,
    "start_time": "2022-09-14T09:39:09.535Z"
   },
   {
    "duration": 12,
    "start_time": "2022-09-14T09:39:09.547Z"
   },
   {
    "duration": 21,
    "start_time": "2022-09-14T09:39:09.561Z"
   },
   {
    "duration": 3,
    "start_time": "2022-09-14T09:39:09.596Z"
   },
   {
    "duration": 4,
    "start_time": "2022-09-14T09:39:09.601Z"
   },
   {
    "duration": 5,
    "start_time": "2022-09-14T09:39:09.607Z"
   },
   {
    "duration": 6,
    "start_time": "2022-09-14T10:05:12.224Z"
   },
   {
    "duration": 72,
    "start_time": "2022-09-14T10:06:35.282Z"
   },
   {
    "duration": 12,
    "start_time": "2022-09-14T10:06:46.799Z"
   },
   {
    "duration": 6,
    "start_time": "2022-09-14T10:06:55.754Z"
   },
   {
    "duration": 10,
    "start_time": "2022-09-14T10:14:34.914Z"
   },
   {
    "duration": 931,
    "start_time": "2022-09-14T10:19:02.099Z"
   },
   {
    "duration": 12,
    "start_time": "2022-09-14T10:33:26.477Z"
   },
   {
    "duration": 78,
    "start_time": "2022-09-14T10:35:29.769Z"
   },
   {
    "duration": 25,
    "start_time": "2022-09-14T10:35:34.508Z"
   },
   {
    "duration": 170,
    "start_time": "2022-09-14T10:35:58.860Z"
   },
   {
    "duration": 12,
    "start_time": "2022-09-14T10:50:07.714Z"
   },
   {
    "duration": 17,
    "start_time": "2022-09-14T10:50:17.155Z"
   },
   {
    "duration": 13,
    "start_time": "2022-09-14T10:50:25.890Z"
   },
   {
    "duration": 12,
    "start_time": "2022-09-14T10:50:31.826Z"
   },
   {
    "duration": 15,
    "start_time": "2022-09-14T10:50:34.689Z"
   },
   {
    "duration": 151,
    "start_time": "2022-09-14T10:50:56.385Z"
   },
   {
    "duration": 14,
    "start_time": "2022-09-14T10:52:02.019Z"
   },
   {
    "duration": 16,
    "start_time": "2022-09-14T10:52:28.979Z"
   },
   {
    "duration": 14,
    "start_time": "2022-09-14T10:52:39.859Z"
   },
   {
    "duration": 23,
    "start_time": "2022-09-14T10:59:36.876Z"
   },
   {
    "duration": 158,
    "start_time": "2022-09-14T10:59:51.751Z"
   },
   {
    "duration": 144,
    "start_time": "2022-09-14T11:00:42.009Z"
   },
   {
    "duration": 11,
    "start_time": "2022-09-14T11:05:58.792Z"
   },
   {
    "duration": 168,
    "start_time": "2022-09-14T11:06:08.138Z"
   },
   {
    "duration": 13,
    "start_time": "2022-09-14T11:07:02.331Z"
   },
   {
    "duration": 106,
    "start_time": "2022-09-14T11:10:17.964Z"
   },
   {
    "duration": 4,
    "start_time": "2022-09-14T11:22:26.409Z"
   },
   {
    "duration": 72,
    "start_time": "2022-09-14T11:22:38.418Z"
   },
   {
    "duration": 82,
    "start_time": "2022-09-14T11:23:31.586Z"
   },
   {
    "duration": 21,
    "start_time": "2022-09-14T11:24:16.771Z"
   },
   {
    "duration": 29,
    "start_time": "2022-09-14T11:25:36.229Z"
   },
   {
    "duration": 139,
    "start_time": "2022-09-14T11:28:18.678Z"
   },
   {
    "duration": 178,
    "start_time": "2022-09-14T11:28:54.534Z"
   },
   {
    "duration": 16,
    "start_time": "2022-09-14T11:29:47.862Z"
   },
   {
    "duration": 427,
    "start_time": "2022-09-14T11:29:54.390Z"
   },
   {
    "duration": 15,
    "start_time": "2022-09-14T11:30:40.470Z"
   },
   {
    "duration": 16,
    "start_time": "2022-09-14T11:30:46.871Z"
   },
   {
    "duration": 432,
    "start_time": "2022-09-14T11:30:51.543Z"
   },
   {
    "duration": 10,
    "start_time": "2022-09-14T11:34:31.464Z"
   },
   {
    "duration": 450,
    "start_time": "2022-09-14T11:35:14.889Z"
   },
   {
    "duration": 26,
    "start_time": "2022-09-14T12:59:06.228Z"
   },
   {
    "duration": 25,
    "start_time": "2022-09-14T13:10:43.649Z"
   },
   {
    "duration": 11,
    "start_time": "2022-09-14T13:11:52.412Z"
   },
   {
    "duration": 122,
    "start_time": "2022-09-14T13:11:55.883Z"
   },
   {
    "duration": 118,
    "start_time": "2022-09-14T13:12:22.380Z"
   },
   {
    "duration": 204,
    "start_time": "2022-09-14T13:22:42.721Z"
   },
   {
    "duration": 18,
    "start_time": "2022-09-14T13:25:24.689Z"
   },
   {
    "duration": 21,
    "start_time": "2022-09-14T13:29:50.148Z"
   },
   {
    "duration": 13,
    "start_time": "2022-09-14T13:30:03.061Z"
   },
   {
    "duration": 183,
    "start_time": "2022-09-14T13:38:00.536Z"
   },
   {
    "duration": 13,
    "start_time": "2022-09-14T13:38:22.041Z"
   },
   {
    "duration": 16,
    "start_time": "2022-09-14T13:43:24.803Z"
   },
   {
    "duration": 215,
    "start_time": "2022-09-14T13:45:30.845Z"
   },
   {
    "duration": 79,
    "start_time": "2022-09-14T13:45:56.284Z"
   },
   {
    "duration": 85,
    "start_time": "2022-09-14T13:46:16.172Z"
   },
   {
    "duration": 26,
    "start_time": "2022-09-14T13:52:51.801Z"
   },
   {
    "duration": 126,
    "start_time": "2022-09-14T13:54:07.889Z"
   },
   {
    "duration": 411,
    "start_time": "2022-09-14T13:56:36.050Z"
   },
   {
    "duration": 17,
    "start_time": "2022-09-14T13:57:05.953Z"
   },
   {
    "duration": 429,
    "start_time": "2022-09-14T13:57:42.802Z"
   },
   {
    "duration": 25,
    "start_time": "2022-09-14T13:58:08.370Z"
   },
   {
    "duration": 12,
    "start_time": "2022-09-14T13:58:14.675Z"
   },
   {
    "duration": 394,
    "start_time": "2022-09-14T13:58:22.530Z"
   },
   {
    "duration": 25,
    "start_time": "2022-09-14T13:58:48.244Z"
   },
   {
    "duration": 375,
    "start_time": "2022-09-14T13:59:15.124Z"
   },
   {
    "duration": 1725,
    "start_time": "2022-09-14T14:00:50.404Z"
   },
   {
    "duration": 44,
    "start_time": "2022-09-14T14:01:04.549Z"
   },
   {
    "duration": 443,
    "start_time": "2022-09-14T14:13:54.832Z"
   },
   {
    "duration": 8,
    "start_time": "2022-09-14T14:19:22.709Z"
   },
   {
    "duration": 8,
    "start_time": "2022-09-14T14:19:41.933Z"
   },
   {
    "duration": 8,
    "start_time": "2022-09-14T14:20:48.719Z"
   },
   {
    "duration": 25,
    "start_time": "2022-09-14T14:21:18.527Z"
   },
   {
    "duration": 8,
    "start_time": "2022-09-14T14:21:29.199Z"
   },
   {
    "duration": 10,
    "start_time": "2022-09-14T14:21:39.711Z"
   },
   {
    "duration": 9,
    "start_time": "2022-09-14T14:21:46.975Z"
   },
   {
    "duration": 6,
    "start_time": "2022-09-14T14:28:26.105Z"
   },
   {
    "duration": 109,
    "start_time": "2022-09-14T14:30:59.044Z"
   },
   {
    "duration": 5,
    "start_time": "2022-09-14T14:31:04.964Z"
   },
   {
    "duration": 7,
    "start_time": "2022-09-14T14:31:18.084Z"
   },
   {
    "duration": 7,
    "start_time": "2022-09-14T14:32:26.924Z"
   },
   {
    "duration": 14,
    "start_time": "2022-09-14T14:32:34.004Z"
   },
   {
    "duration": 6,
    "start_time": "2022-09-14T14:32:37.301Z"
   },
   {
    "duration": 8,
    "start_time": "2022-09-14T14:56:07.735Z"
   },
   {
    "duration": 15,
    "start_time": "2022-09-14T17:01:47.777Z"
   },
   {
    "duration": 12,
    "start_time": "2022-09-14T17:01:57.572Z"
   },
   {
    "duration": 9,
    "start_time": "2022-09-14T17:02:06.657Z"
   },
   {
    "duration": 7,
    "start_time": "2022-09-14T17:05:02.276Z"
   },
   {
    "duration": 8,
    "start_time": "2022-09-14T17:10:13.638Z"
   },
   {
    "duration": 10,
    "start_time": "2022-09-14T17:11:23.203Z"
   },
   {
    "duration": 6,
    "start_time": "2022-09-14T17:12:35.960Z"
   },
   {
    "duration": 6,
    "start_time": "2022-09-14T17:12:50.440Z"
   },
   {
    "duration": 10,
    "start_time": "2022-09-14T17:13:07.592Z"
   },
   {
    "duration": 7,
    "start_time": "2022-09-14T17:14:17.640Z"
   },
   {
    "duration": 7,
    "start_time": "2022-09-14T17:14:38.824Z"
   },
   {
    "duration": 7,
    "start_time": "2022-09-14T17:14:53.721Z"
   },
   {
    "duration": 6,
    "start_time": "2022-09-14T17:16:47.914Z"
   },
   {
    "duration": 4,
    "start_time": "2022-09-14T17:17:49.330Z"
   },
   {
    "duration": 6,
    "start_time": "2022-09-14T17:18:10.923Z"
   },
   {
    "duration": 86,
    "start_time": "2022-09-14T17:20:42.861Z"
   },
   {
    "duration": 10,
    "start_time": "2022-09-14T17:21:26.125Z"
   },
   {
    "duration": 12,
    "start_time": "2022-09-14T17:21:43.693Z"
   },
   {
    "duration": 5,
    "start_time": "2022-09-14T17:26:21.231Z"
   },
   {
    "duration": 14,
    "start_time": "2022-09-14T17:26:51.135Z"
   },
   {
    "duration": 12,
    "start_time": "2022-09-14T17:26:59.199Z"
   },
   {
    "duration": 511,
    "start_time": "2022-09-14T17:27:12.539Z"
   },
   {
    "duration": 25,
    "start_time": "2022-09-14T17:27:13.053Z"
   },
   {
    "duration": 20,
    "start_time": "2022-09-14T17:27:13.080Z"
   },
   {
    "duration": 12,
    "start_time": "2022-09-14T17:27:13.102Z"
   },
   {
    "duration": 35,
    "start_time": "2022-09-14T17:27:13.115Z"
   },
   {
    "duration": 5,
    "start_time": "2022-09-14T17:27:13.153Z"
   },
   {
    "duration": 37,
    "start_time": "2022-09-14T17:27:13.160Z"
   },
   {
    "duration": 5,
    "start_time": "2022-09-14T17:27:13.199Z"
   },
   {
    "duration": 10,
    "start_time": "2022-09-14T17:27:13.206Z"
   },
   {
    "duration": 6,
    "start_time": "2022-09-14T17:27:13.222Z"
   },
   {
    "duration": 91,
    "start_time": "2022-09-14T17:27:13.230Z"
   },
   {
    "duration": 12,
    "start_time": "2022-09-14T17:27:13.323Z"
   },
   {
    "duration": 6,
    "start_time": "2022-09-14T17:27:13.336Z"
   },
   {
    "duration": 12,
    "start_time": "2022-09-14T17:27:13.344Z"
   },
   {
    "duration": 45,
    "start_time": "2022-09-14T17:27:13.358Z"
   },
   {
    "duration": 18,
    "start_time": "2022-09-14T17:27:13.405Z"
   },
   {
    "duration": 4,
    "start_time": "2022-09-14T17:27:13.425Z"
   },
   {
    "duration": 15,
    "start_time": "2022-09-14T17:27:13.430Z"
   },
   {
    "duration": 8,
    "start_time": "2022-09-14T17:27:13.447Z"
   },
   {
    "duration": 5,
    "start_time": "2022-09-14T17:27:13.457Z"
   },
   {
    "duration": 38,
    "start_time": "2022-09-14T17:27:13.463Z"
   },
   {
    "duration": 15,
    "start_time": "2022-09-14T17:27:13.503Z"
   },
   {
    "duration": 89,
    "start_time": "2022-09-14T17:27:13.520Z"
   },
   {
    "duration": 0,
    "start_time": "2022-09-14T17:27:13.610Z"
   },
   {
    "duration": 0,
    "start_time": "2022-09-14T17:27:13.612Z"
   },
   {
    "duration": 0,
    "start_time": "2022-09-14T17:27:13.613Z"
   },
   {
    "duration": 0,
    "start_time": "2022-09-14T17:27:13.614Z"
   },
   {
    "duration": 0,
    "start_time": "2022-09-14T17:27:13.615Z"
   },
   {
    "duration": 0,
    "start_time": "2022-09-14T17:27:13.616Z"
   },
   {
    "duration": 11,
    "start_time": "2022-09-14T17:28:06.368Z"
   },
   {
    "duration": 4,
    "start_time": "2022-09-14T17:28:24.625Z"
   },
   {
    "duration": 5,
    "start_time": "2022-09-14T17:28:34.224Z"
   },
   {
    "duration": 5,
    "start_time": "2022-09-14T17:28:37.360Z"
   },
   {
    "duration": 7,
    "start_time": "2022-09-14T17:31:05.921Z"
   },
   {
    "duration": 12,
    "start_time": "2022-09-14T17:31:23.459Z"
   },
   {
    "duration": 4,
    "start_time": "2022-09-14T17:31:51.875Z"
   },
   {
    "duration": 5,
    "start_time": "2022-09-14T17:31:59.042Z"
   },
   {
    "duration": 4,
    "start_time": "2022-09-14T17:32:02.353Z"
   },
   {
    "duration": 72,
    "start_time": "2022-09-14T17:34:10.579Z"
   },
   {
    "duration": 9,
    "start_time": "2022-09-14T17:34:31.473Z"
   },
   {
    "duration": 270,
    "start_time": "2022-09-14T17:35:22.177Z"
   },
   {
    "duration": 105,
    "start_time": "2022-09-14T17:36:04.852Z"
   },
   {
    "duration": 80,
    "start_time": "2022-09-14T17:36:15.892Z"
   },
   {
    "duration": 5,
    "start_time": "2022-09-14T17:36:22.035Z"
   },
   {
    "duration": 11,
    "start_time": "2022-09-14T17:36:45.079Z"
   },
   {
    "duration": 5,
    "start_time": "2022-09-14T17:39:18.133Z"
   },
   {
    "duration": 6,
    "start_time": "2022-09-14T17:40:05.318Z"
   },
   {
    "duration": 945,
    "start_time": "2022-09-14T17:43:51.512Z"
   },
   {
    "duration": 148,
    "start_time": "2022-09-14T17:46:23.803Z"
   },
   {
    "duration": 179,
    "start_time": "2022-09-14T17:46:58.569Z"
   },
   {
    "duration": 155,
    "start_time": "2022-09-14T17:47:24.921Z"
   },
   {
    "duration": 6,
    "start_time": "2022-09-14T17:49:21.803Z"
   },
   {
    "duration": 6,
    "start_time": "2022-09-14T17:49:59.642Z"
   },
   {
    "duration": 5,
    "start_time": "2022-09-14T17:50:09.468Z"
   },
   {
    "duration": 181,
    "start_time": "2022-09-14T17:52:47.372Z"
   },
   {
    "duration": 156,
    "start_time": "2022-09-14T17:58:55.712Z"
   },
   {
    "duration": 172,
    "start_time": "2022-09-14T18:01:14.129Z"
   },
   {
    "duration": 54,
    "start_time": "2022-09-15T03:31:54.580Z"
   },
   {
    "duration": 43,
    "start_time": "2022-09-15T03:32:05.298Z"
   },
   {
    "duration": 720,
    "start_time": "2022-09-15T03:32:30.091Z"
   },
   {
    "duration": 21,
    "start_time": "2022-09-15T03:32:30.812Z"
   },
   {
    "duration": 29,
    "start_time": "2022-09-15T03:32:30.834Z"
   },
   {
    "duration": 18,
    "start_time": "2022-09-15T03:32:30.865Z"
   },
   {
    "duration": 53,
    "start_time": "2022-09-15T03:32:30.884Z"
   },
   {
    "duration": 3,
    "start_time": "2022-09-15T03:32:30.938Z"
   },
   {
    "duration": 26,
    "start_time": "2022-09-15T03:32:30.943Z"
   },
   {
    "duration": 20,
    "start_time": "2022-09-15T03:32:30.971Z"
   },
   {
    "duration": 27,
    "start_time": "2022-09-15T03:32:30.993Z"
   },
   {
    "duration": 55,
    "start_time": "2022-09-15T03:32:31.022Z"
   },
   {
    "duration": 53,
    "start_time": "2022-09-15T03:32:31.079Z"
   },
   {
    "duration": 23,
    "start_time": "2022-09-15T03:32:31.133Z"
   },
   {
    "duration": 21,
    "start_time": "2022-09-15T03:32:31.157Z"
   },
   {
    "duration": 29,
    "start_time": "2022-09-15T03:32:31.180Z"
   },
   {
    "duration": 46,
    "start_time": "2022-09-15T03:32:31.210Z"
   },
   {
    "duration": 30,
    "start_time": "2022-09-15T03:32:31.257Z"
   },
   {
    "duration": 12,
    "start_time": "2022-09-15T03:32:31.288Z"
   },
   {
    "duration": 23,
    "start_time": "2022-09-15T03:32:31.302Z"
   },
   {
    "duration": 41,
    "start_time": "2022-09-15T03:32:31.327Z"
   },
   {
    "duration": 17,
    "start_time": "2022-09-15T03:32:31.370Z"
   },
   {
    "duration": 38,
    "start_time": "2022-09-15T03:32:31.388Z"
   },
   {
    "duration": 39,
    "start_time": "2022-09-15T03:32:31.427Z"
   },
   {
    "duration": 22,
    "start_time": "2022-09-15T03:32:31.468Z"
   },
   {
    "duration": 22,
    "start_time": "2022-09-15T03:32:31.491Z"
   },
   {
    "duration": 26,
    "start_time": "2022-09-15T03:32:31.514Z"
   },
   {
    "duration": 982,
    "start_time": "2022-09-15T03:32:31.541Z"
   },
   {
    "duration": 87,
    "start_time": "2022-09-15T03:32:32.525Z"
   },
   {
    "duration": 0,
    "start_time": "2022-09-15T03:32:32.614Z"
   },
   {
    "duration": 0,
    "start_time": "2022-09-15T03:32:32.622Z"
   },
   {
    "duration": 0,
    "start_time": "2022-09-15T03:32:32.623Z"
   },
   {
    "duration": 6,
    "start_time": "2022-09-15T03:33:35.290Z"
   },
   {
    "duration": 6,
    "start_time": "2022-09-15T03:33:47.978Z"
   },
   {
    "duration": 13,
    "start_time": "2022-09-15T03:35:12.379Z"
   },
   {
    "duration": 13,
    "start_time": "2022-09-15T03:35:19.979Z"
   },
   {
    "duration": 13,
    "start_time": "2022-09-15T03:35:25.851Z"
   },
   {
    "duration": 8,
    "start_time": "2022-09-15T03:35:35.003Z"
   },
   {
    "duration": 8,
    "start_time": "2022-09-15T03:39:59.381Z"
   },
   {
    "duration": 9,
    "start_time": "2022-09-15T03:40:14.285Z"
   },
   {
    "duration": 9,
    "start_time": "2022-09-15T03:40:46.510Z"
   },
   {
    "duration": 13,
    "start_time": "2022-09-15T03:41:19.807Z"
   },
   {
    "duration": 12,
    "start_time": "2022-09-15T03:42:56.623Z"
   },
   {
    "duration": 12,
    "start_time": "2022-09-15T03:43:02.447Z"
   },
   {
    "duration": 11,
    "start_time": "2022-09-15T03:49:01.491Z"
   },
   {
    "duration": 11,
    "start_time": "2022-09-15T03:49:04.498Z"
   },
   {
    "duration": 13,
    "start_time": "2022-09-15T04:02:12.266Z"
   },
   {
    "duration": 7,
    "start_time": "2022-09-15T04:09:15.252Z"
   },
   {
    "duration": 8,
    "start_time": "2022-09-15T04:09:53.245Z"
   },
   {
    "duration": 8,
    "start_time": "2022-09-15T04:11:28.926Z"
   },
   {
    "duration": 11,
    "start_time": "2022-09-15T04:12:30.382Z"
   },
   {
    "duration": 7,
    "start_time": "2022-09-15T04:14:36.293Z"
   },
   {
    "duration": 8,
    "start_time": "2022-09-15T04:16:40.056Z"
   },
   {
    "duration": 441,
    "start_time": "2022-09-15T04:16:55.745Z"
   },
   {
    "duration": 21,
    "start_time": "2022-09-15T04:16:56.188Z"
   },
   {
    "duration": 14,
    "start_time": "2022-09-15T04:16:56.210Z"
   },
   {
    "duration": 9,
    "start_time": "2022-09-15T04:16:56.225Z"
   },
   {
    "duration": 37,
    "start_time": "2022-09-15T04:16:56.236Z"
   },
   {
    "duration": 3,
    "start_time": "2022-09-15T04:16:56.275Z"
   },
   {
    "duration": 11,
    "start_time": "2022-09-15T04:16:56.279Z"
   },
   {
    "duration": 5,
    "start_time": "2022-09-15T04:16:56.291Z"
   },
   {
    "duration": 8,
    "start_time": "2022-09-15T04:16:56.297Z"
   },
   {
    "duration": 4,
    "start_time": "2022-09-15T04:16:56.321Z"
   },
   {
    "duration": 32,
    "start_time": "2022-09-15T04:16:56.326Z"
   },
   {
    "duration": 9,
    "start_time": "2022-09-15T04:16:56.360Z"
   },
   {
    "duration": 4,
    "start_time": "2022-09-15T04:16:56.370Z"
   },
   {
    "duration": 17,
    "start_time": "2022-09-15T04:16:56.375Z"
   },
   {
    "duration": 40,
    "start_time": "2022-09-15T04:16:56.394Z"
   },
   {
    "duration": 16,
    "start_time": "2022-09-15T04:16:56.435Z"
   },
   {
    "duration": 3,
    "start_time": "2022-09-15T04:16:56.452Z"
   },
   {
    "duration": 10,
    "start_time": "2022-09-15T04:16:56.457Z"
   },
   {
    "duration": 5,
    "start_time": "2022-09-15T04:16:56.468Z"
   },
   {
    "duration": 3,
    "start_time": "2022-09-15T04:16:56.474Z"
   },
   {
    "duration": 13,
    "start_time": "2022-09-15T04:16:56.479Z"
   },
   {
    "duration": 34,
    "start_time": "2022-09-15T04:16:56.493Z"
   },
   {
    "duration": 5,
    "start_time": "2022-09-15T04:16:56.528Z"
   },
   {
    "duration": 4,
    "start_time": "2022-09-15T04:16:56.534Z"
   },
   {
    "duration": 6,
    "start_time": "2022-09-15T04:16:56.540Z"
   },
   {
    "duration": 929,
    "start_time": "2022-09-15T04:16:56.547Z"
   },
   {
    "duration": 14,
    "start_time": "2022-09-15T04:16:57.478Z"
   },
   {
    "duration": 7,
    "start_time": "2022-09-15T04:16:57.495Z"
   },
   {
    "duration": 26,
    "start_time": "2022-09-15T04:16:57.503Z"
   },
   {
    "duration": 6,
    "start_time": "2022-09-15T04:16:57.530Z"
   },
   {
    "duration": 6,
    "start_time": "2022-09-15T04:16:57.537Z"
   },
   {
    "duration": 5,
    "start_time": "2022-09-15T04:16:57.545Z"
   },
   {
    "duration": 71,
    "start_time": "2022-09-15T04:17:07.058Z"
   },
   {
    "duration": 4,
    "start_time": "2022-09-15T04:17:11.812Z"
   },
   {
    "duration": 15,
    "start_time": "2022-09-15T05:03:03.697Z"
   },
   {
    "duration": 12,
    "start_time": "2022-09-15T05:05:09.658Z"
   },
   {
    "duration": 107,
    "start_time": "2022-09-15T05:06:14.850Z"
   },
   {
    "duration": 16,
    "start_time": "2022-09-15T05:06:52.603Z"
   },
   {
    "duration": 13,
    "start_time": "2022-09-15T05:09:47.685Z"
   },
   {
    "duration": 12,
    "start_time": "2022-09-15T05:09:55.266Z"
   },
   {
    "duration": 8,
    "start_time": "2022-09-15T05:10:11.196Z"
   },
   {
    "duration": 8,
    "start_time": "2022-09-15T05:11:40.112Z"
   },
   {
    "duration": 6,
    "start_time": "2022-09-15T05:12:38.574Z"
   },
   {
    "duration": 11,
    "start_time": "2022-09-15T05:15:22.496Z"
   },
   {
    "duration": 7,
    "start_time": "2022-09-15T05:17:34.233Z"
   },
   {
    "duration": 8,
    "start_time": "2022-09-15T06:02:56.497Z"
   },
   {
    "duration": 10,
    "start_time": "2022-09-15T06:04:23.537Z"
   },
   {
    "duration": 9,
    "start_time": "2022-09-15T06:04:28.986Z"
   },
   {
    "duration": 6,
    "start_time": "2022-09-15T06:04:31.816Z"
   },
   {
    "duration": 4,
    "start_time": "2022-09-15T06:04:34.313Z"
   },
   {
    "duration": 43,
    "start_time": "2022-09-15T10:58:40.515Z"
   },
   {
    "duration": 648,
    "start_time": "2022-09-15T10:58:53.418Z"
   },
   {
    "duration": 27,
    "start_time": "2022-09-15T10:58:54.068Z"
   },
   {
    "duration": 28,
    "start_time": "2022-09-15T10:58:54.099Z"
   },
   {
    "duration": 29,
    "start_time": "2022-09-15T10:58:54.129Z"
   },
   {
    "duration": 45,
    "start_time": "2022-09-15T10:58:54.160Z"
   },
   {
    "duration": 4,
    "start_time": "2022-09-15T10:58:54.206Z"
   },
   {
    "duration": 33,
    "start_time": "2022-09-15T10:58:54.211Z"
   },
   {
    "duration": 14,
    "start_time": "2022-09-15T10:58:54.246Z"
   },
   {
    "duration": 36,
    "start_time": "2022-09-15T10:58:54.264Z"
   },
   {
    "duration": 31,
    "start_time": "2022-09-15T10:58:54.302Z"
   },
   {
    "duration": 48,
    "start_time": "2022-09-15T10:58:54.335Z"
   },
   {
    "duration": 12,
    "start_time": "2022-09-15T10:58:54.385Z"
   },
   {
    "duration": 18,
    "start_time": "2022-09-15T10:58:54.399Z"
   },
   {
    "duration": 36,
    "start_time": "2022-09-15T10:58:54.419Z"
   },
   {
    "duration": 49,
    "start_time": "2022-09-15T10:58:54.458Z"
   },
   {
    "duration": 25,
    "start_time": "2022-09-15T10:58:54.509Z"
   },
   {
    "duration": 6,
    "start_time": "2022-09-15T10:58:54.537Z"
   },
   {
    "duration": 31,
    "start_time": "2022-09-15T10:58:54.545Z"
   },
   {
    "duration": 37,
    "start_time": "2022-09-15T10:58:54.578Z"
   },
   {
    "duration": 37,
    "start_time": "2022-09-15T10:58:54.617Z"
   },
   {
    "duration": 41,
    "start_time": "2022-09-15T10:58:54.656Z"
   },
   {
    "duration": 39,
    "start_time": "2022-09-15T10:58:54.698Z"
   },
   {
    "duration": 18,
    "start_time": "2022-09-15T10:58:54.739Z"
   },
   {
    "duration": 34,
    "start_time": "2022-09-15T10:58:54.759Z"
   },
   {
    "duration": 74,
    "start_time": "2022-09-15T10:58:54.795Z"
   },
   {
    "duration": 0,
    "start_time": "2022-09-15T10:58:54.871Z"
   },
   {
    "duration": 0,
    "start_time": "2022-09-15T10:58:54.872Z"
   },
   {
    "duration": 0,
    "start_time": "2022-09-15T10:58:54.873Z"
   },
   {
    "duration": 0,
    "start_time": "2022-09-15T10:58:54.874Z"
   },
   {
    "duration": 0,
    "start_time": "2022-09-15T10:58:54.875Z"
   },
   {
    "duration": 0,
    "start_time": "2022-09-15T10:58:54.876Z"
   },
   {
    "duration": 0,
    "start_time": "2022-09-15T10:58:54.876Z"
   },
   {
    "duration": 0,
    "start_time": "2022-09-15T10:58:54.878Z"
   },
   {
    "duration": 0,
    "start_time": "2022-09-15T10:58:54.879Z"
   },
   {
    "duration": 0,
    "start_time": "2022-09-15T10:58:54.879Z"
   },
   {
    "duration": 0,
    "start_time": "2022-09-15T10:58:54.880Z"
   },
   {
    "duration": 0,
    "start_time": "2022-09-15T10:58:54.881Z"
   },
   {
    "duration": 4,
    "start_time": "2022-09-15T10:59:14.286Z"
   },
   {
    "duration": 142,
    "start_time": "2022-09-15T10:59:41.054Z"
   },
   {
    "duration": 4,
    "start_time": "2022-09-15T10:59:50.478Z"
   },
   {
    "duration": 4,
    "start_time": "2022-09-15T11:01:17.727Z"
   },
   {
    "duration": 7,
    "start_time": "2022-09-15T11:27:44.802Z"
   },
   {
    "duration": 11,
    "start_time": "2022-09-15T11:27:48.493Z"
   },
   {
    "duration": 7,
    "start_time": "2022-09-15T11:27:51.085Z"
   },
   {
    "duration": 8,
    "start_time": "2022-09-15T11:27:55.549Z"
   },
   {
    "duration": 4,
    "start_time": "2022-09-15T11:27:58.973Z"
   },
   {
    "duration": 11,
    "start_time": "2022-09-15T15:18:53.667Z"
   },
   {
    "duration": 9,
    "start_time": "2022-09-15T15:18:58.398Z"
   },
   {
    "duration": 6,
    "start_time": "2022-09-15T15:19:02.846Z"
   },
   {
    "duration": 4,
    "start_time": "2022-09-15T15:19:07.816Z"
   },
   {
    "duration": 6,
    "start_time": "2022-09-15T15:20:33.566Z"
   },
   {
    "duration": 8,
    "start_time": "2022-09-15T15:26:40.225Z"
   },
   {
    "duration": 6,
    "start_time": "2022-09-15T15:27:07.730Z"
   },
   {
    "duration": 4,
    "start_time": "2022-09-15T15:27:25.298Z"
   },
   {
    "duration": 14,
    "start_time": "2022-09-15T17:22:14.065Z"
   },
   {
    "duration": 3,
    "start_time": "2022-09-15T17:23:07.362Z"
   },
   {
    "duration": 13,
    "start_time": "2022-09-15T17:37:13.338Z"
   },
   {
    "duration": 7,
    "start_time": "2022-09-15T17:37:27.410Z"
   },
   {
    "duration": 8,
    "start_time": "2022-09-15T17:38:27.447Z"
   },
   {
    "duration": 7,
    "start_time": "2022-09-15T17:39:00.451Z"
   },
   {
    "duration": 4,
    "start_time": "2022-09-15T17:39:03.924Z"
   },
   {
    "duration": 7,
    "start_time": "2022-09-15T17:39:15.572Z"
   },
   {
    "duration": 48,
    "start_time": "2022-09-17T03:29:08.434Z"
   },
   {
    "duration": 732,
    "start_time": "2022-09-17T03:29:15.417Z"
   },
   {
    "duration": 22,
    "start_time": "2022-09-17T03:29:16.151Z"
   },
   {
    "duration": 14,
    "start_time": "2022-09-17T03:29:16.175Z"
   },
   {
    "duration": 10,
    "start_time": "2022-09-17T03:29:16.191Z"
   },
   {
    "duration": 55,
    "start_time": "2022-09-17T03:29:16.202Z"
   },
   {
    "duration": 4,
    "start_time": "2022-09-17T03:29:16.259Z"
   },
   {
    "duration": 12,
    "start_time": "2022-09-17T03:29:16.265Z"
   },
   {
    "duration": 6,
    "start_time": "2022-09-17T03:29:16.279Z"
   },
   {
    "duration": 15,
    "start_time": "2022-09-17T03:29:16.287Z"
   },
   {
    "duration": 8,
    "start_time": "2022-09-17T03:29:16.307Z"
   },
   {
    "duration": 56,
    "start_time": "2022-09-17T03:29:16.317Z"
   },
   {
    "duration": 9,
    "start_time": "2022-09-17T03:29:16.375Z"
   },
   {
    "duration": 3,
    "start_time": "2022-09-17T03:29:16.386Z"
   },
   {
    "duration": 14,
    "start_time": "2022-09-17T03:29:16.391Z"
   },
   {
    "duration": 21,
    "start_time": "2022-09-17T03:29:16.407Z"
   },
   {
    "duration": 32,
    "start_time": "2022-09-17T03:29:16.430Z"
   },
   {
    "duration": 3,
    "start_time": "2022-09-17T03:29:16.464Z"
   },
   {
    "duration": 12,
    "start_time": "2022-09-17T03:29:16.469Z"
   },
   {
    "duration": 5,
    "start_time": "2022-09-17T03:29:16.482Z"
   },
   {
    "duration": 4,
    "start_time": "2022-09-17T03:29:16.489Z"
   },
   {
    "duration": 13,
    "start_time": "2022-09-17T03:29:16.494Z"
   },
   {
    "duration": 38,
    "start_time": "2022-09-17T03:29:16.509Z"
   },
   {
    "duration": 4,
    "start_time": "2022-09-17T03:29:16.548Z"
   },
   {
    "duration": 8,
    "start_time": "2022-09-17T03:29:16.554Z"
   },
   {
    "duration": 10,
    "start_time": "2022-09-17T03:29:16.564Z"
   },
   {
    "duration": 23,
    "start_time": "2022-09-17T03:29:16.575Z"
   },
   {
    "duration": 17,
    "start_time": "2022-09-17T03:29:16.599Z"
   },
   {
    "duration": 23,
    "start_time": "2022-09-17T03:29:16.619Z"
   },
   {
    "duration": 30,
    "start_time": "2022-09-17T03:29:16.644Z"
   },
   {
    "duration": 21,
    "start_time": "2022-09-17T03:29:16.676Z"
   },
   {
    "duration": 10,
    "start_time": "2022-09-17T03:29:16.698Z"
   },
   {
    "duration": 11,
    "start_time": "2022-09-17T03:29:16.710Z"
   },
   {
    "duration": 10,
    "start_time": "2022-09-17T03:29:16.723Z"
   },
   {
    "duration": 14,
    "start_time": "2022-09-17T03:29:16.735Z"
   },
   {
    "duration": 7,
    "start_time": "2022-09-17T03:29:16.751Z"
   },
   {
    "duration": 15,
    "start_time": "2022-09-17T03:29:16.759Z"
   },
   {
    "duration": 22,
    "start_time": "2022-09-17T03:29:16.775Z"
   },
   {
    "duration": 4,
    "start_time": "2022-09-17T03:29:33.428Z"
   },
   {
    "duration": 78,
    "start_time": "2022-09-17T03:38:05.086Z"
   },
   {
    "duration": 62,
    "start_time": "2022-09-17T03:38:30.830Z"
   },
   {
    "duration": 8,
    "start_time": "2022-09-17T03:39:37.113Z"
   },
   {
    "duration": 9,
    "start_time": "2022-09-17T03:39:47.464Z"
   },
   {
    "duration": 14,
    "start_time": "2022-09-17T03:40:24.234Z"
   },
   {
    "duration": 942,
    "start_time": "2022-09-17T03:49:59.284Z"
   },
   {
    "duration": 46,
    "start_time": "2022-09-17T03:50:42.782Z"
   },
   {
    "duration": 55,
    "start_time": "2022-09-17T03:55:42.657Z"
   },
   {
    "duration": 47,
    "start_time": "2022-09-17T03:55:59.250Z"
   },
   {
    "duration": 9,
    "start_time": "2022-09-17T03:57:15.986Z"
   },
   {
    "duration": 11,
    "start_time": "2022-09-17T03:57:36.851Z"
   },
   {
    "duration": 13,
    "start_time": "2022-09-17T03:57:58.707Z"
   },
   {
    "duration": 14,
    "start_time": "2022-09-17T03:58:38.277Z"
   },
   {
    "duration": 9,
    "start_time": "2022-09-17T03:59:11.908Z"
   },
   {
    "duration": 7,
    "start_time": "2022-09-17T04:06:09.704Z"
   },
   {
    "duration": 487,
    "start_time": "2022-09-17T04:06:30.818Z"
   },
   {
    "duration": 19,
    "start_time": "2022-09-17T04:06:31.307Z"
   },
   {
    "duration": 14,
    "start_time": "2022-09-17T04:06:31.327Z"
   },
   {
    "duration": 35,
    "start_time": "2022-09-17T04:06:31.343Z"
   },
   {
    "duration": 37,
    "start_time": "2022-09-17T04:06:31.380Z"
   },
   {
    "duration": 2,
    "start_time": "2022-09-17T04:06:31.419Z"
   },
   {
    "duration": 11,
    "start_time": "2022-09-17T04:06:31.423Z"
   },
   {
    "duration": 4,
    "start_time": "2022-09-17T04:06:31.435Z"
   },
   {
    "duration": 13,
    "start_time": "2022-09-17T04:06:31.441Z"
   },
   {
    "duration": 4,
    "start_time": "2022-09-17T04:06:31.457Z"
   },
   {
    "duration": 62,
    "start_time": "2022-09-17T04:06:31.462Z"
   },
   {
    "duration": 8,
    "start_time": "2022-09-17T04:06:31.526Z"
   },
   {
    "duration": 6,
    "start_time": "2022-09-17T04:06:31.536Z"
   },
   {
    "duration": 13,
    "start_time": "2022-09-17T04:06:31.544Z"
   },
   {
    "duration": 18,
    "start_time": "2022-09-17T04:06:31.559Z"
   },
   {
    "duration": 17,
    "start_time": "2022-09-17T04:06:31.579Z"
   },
   {
    "duration": 4,
    "start_time": "2022-09-17T04:06:31.597Z"
   },
   {
    "duration": 13,
    "start_time": "2022-09-17T04:06:31.603Z"
   },
   {
    "duration": 30,
    "start_time": "2022-09-17T04:06:31.617Z"
   },
   {
    "duration": 3,
    "start_time": "2022-09-17T04:06:31.649Z"
   },
   {
    "duration": 14,
    "start_time": "2022-09-17T04:06:31.653Z"
   },
   {
    "duration": 20,
    "start_time": "2022-09-17T04:06:31.669Z"
   },
   {
    "duration": 4,
    "start_time": "2022-09-17T04:06:31.691Z"
   },
   {
    "duration": 7,
    "start_time": "2022-09-17T04:06:31.696Z"
   },
   {
    "duration": 5,
    "start_time": "2022-09-17T04:06:31.705Z"
   },
   {
    "duration": 78,
    "start_time": "2022-09-17T04:06:31.711Z"
   },
   {
    "duration": 0,
    "start_time": "2022-09-17T04:06:31.791Z"
   },
   {
    "duration": 0,
    "start_time": "2022-09-17T04:06:31.792Z"
   },
   {
    "duration": 0,
    "start_time": "2022-09-17T04:06:31.793Z"
   },
   {
    "duration": 0,
    "start_time": "2022-09-17T04:06:31.794Z"
   },
   {
    "duration": 0,
    "start_time": "2022-09-17T04:06:31.794Z"
   },
   {
    "duration": 0,
    "start_time": "2022-09-17T04:06:31.795Z"
   },
   {
    "duration": 0,
    "start_time": "2022-09-17T04:06:31.797Z"
   },
   {
    "duration": 0,
    "start_time": "2022-09-17T04:06:31.798Z"
   },
   {
    "duration": 0,
    "start_time": "2022-09-17T04:06:31.798Z"
   },
   {
    "duration": 0,
    "start_time": "2022-09-17T04:06:31.799Z"
   },
   {
    "duration": 0,
    "start_time": "2022-09-17T04:06:31.800Z"
   },
   {
    "duration": 0,
    "start_time": "2022-09-17T04:06:31.801Z"
   },
   {
    "duration": 11,
    "start_time": "2022-09-17T04:21:55.506Z"
   },
   {
    "duration": 11,
    "start_time": "2022-09-17T04:24:51.492Z"
   },
   {
    "duration": 9,
    "start_time": "2022-09-17T04:25:17.267Z"
   },
   {
    "duration": 9,
    "start_time": "2022-09-17T04:25:34.084Z"
   },
   {
    "duration": 9,
    "start_time": "2022-09-17T04:26:18.724Z"
   },
   {
    "duration": 8,
    "start_time": "2022-09-17T04:26:45.348Z"
   },
   {
    "duration": 475,
    "start_time": "2022-09-17T04:26:53.434Z"
   },
   {
    "duration": 21,
    "start_time": "2022-09-17T04:26:53.911Z"
   },
   {
    "duration": 14,
    "start_time": "2022-09-17T04:26:53.934Z"
   },
   {
    "duration": 9,
    "start_time": "2022-09-17T04:26:53.950Z"
   },
   {
    "duration": 40,
    "start_time": "2022-09-17T04:26:53.960Z"
   },
   {
    "duration": 3,
    "start_time": "2022-09-17T04:26:54.002Z"
   },
   {
    "duration": 10,
    "start_time": "2022-09-17T04:26:54.006Z"
   },
   {
    "duration": 3,
    "start_time": "2022-09-17T04:26:54.018Z"
   },
   {
    "duration": 8,
    "start_time": "2022-09-17T04:26:54.023Z"
   },
   {
    "duration": 5,
    "start_time": "2022-09-17T04:26:54.049Z"
   },
   {
    "duration": 34,
    "start_time": "2022-09-17T04:26:54.055Z"
   },
   {
    "duration": 9,
    "start_time": "2022-09-17T04:26:54.091Z"
   },
   {
    "duration": 5,
    "start_time": "2022-09-17T04:26:54.102Z"
   },
   {
    "duration": 12,
    "start_time": "2022-09-17T04:26:54.108Z"
   },
   {
    "duration": 38,
    "start_time": "2022-09-17T04:26:54.122Z"
   },
   {
    "duration": 15,
    "start_time": "2022-09-17T04:26:54.162Z"
   },
   {
    "duration": 3,
    "start_time": "2022-09-17T04:26:54.179Z"
   },
   {
    "duration": 14,
    "start_time": "2022-09-17T04:26:54.184Z"
   },
   {
    "duration": 6,
    "start_time": "2022-09-17T04:26:54.200Z"
   },
   {
    "duration": 4,
    "start_time": "2022-09-17T04:26:54.208Z"
   },
   {
    "duration": 33,
    "start_time": "2022-09-17T04:26:54.214Z"
   },
   {
    "duration": 14,
    "start_time": "2022-09-17T04:26:54.248Z"
   },
   {
    "duration": 5,
    "start_time": "2022-09-17T04:26:54.264Z"
   },
   {
    "duration": 13,
    "start_time": "2022-09-17T04:26:54.270Z"
   },
   {
    "duration": 17,
    "start_time": "2022-09-17T04:26:54.284Z"
   },
   {
    "duration": 74,
    "start_time": "2022-09-17T04:26:54.302Z"
   },
   {
    "duration": 0,
    "start_time": "2022-09-17T04:26:54.378Z"
   },
   {
    "duration": 0,
    "start_time": "2022-09-17T04:26:54.379Z"
   },
   {
    "duration": 0,
    "start_time": "2022-09-17T04:26:54.380Z"
   },
   {
    "duration": 0,
    "start_time": "2022-09-17T04:26:54.381Z"
   },
   {
    "duration": 0,
    "start_time": "2022-09-17T04:26:54.382Z"
   },
   {
    "duration": 0,
    "start_time": "2022-09-17T04:26:54.383Z"
   },
   {
    "duration": 0,
    "start_time": "2022-09-17T04:26:54.384Z"
   },
   {
    "duration": 0,
    "start_time": "2022-09-17T04:26:54.385Z"
   },
   {
    "duration": 0,
    "start_time": "2022-09-17T04:26:54.386Z"
   },
   {
    "duration": 0,
    "start_time": "2022-09-17T04:26:54.387Z"
   },
   {
    "duration": 0,
    "start_time": "2022-09-17T04:26:54.387Z"
   },
   {
    "duration": 0,
    "start_time": "2022-09-17T04:26:54.388Z"
   },
   {
    "duration": 45,
    "start_time": "2022-09-17T04:29:29.234Z"
   },
   {
    "duration": 49,
    "start_time": "2022-09-17T04:30:20.130Z"
   },
   {
    "duration": 135,
    "start_time": "2022-09-17T04:30:57.811Z"
   },
   {
    "duration": 56,
    "start_time": "2022-09-17T04:31:20.801Z"
   },
   {
    "duration": 83,
    "start_time": "2022-09-17T04:31:32.322Z"
   },
   {
    "duration": 82,
    "start_time": "2022-09-17T04:32:00.898Z"
   },
   {
    "duration": 25,
    "start_time": "2022-09-17T04:49:18.344Z"
   },
   {
    "duration": 29,
    "start_time": "2022-09-17T04:50:02.058Z"
   },
   {
    "duration": 21,
    "start_time": "2022-09-17T04:52:44.634Z"
   },
   {
    "duration": 82,
    "start_time": "2022-09-17T05:04:47.335Z"
   },
   {
    "duration": 9,
    "start_time": "2022-09-17T05:04:59.858Z"
   },
   {
    "duration": 11,
    "start_time": "2022-09-17T05:05:26.081Z"
   },
   {
    "duration": 10,
    "start_time": "2022-09-17T05:06:06.722Z"
   },
   {
    "duration": 37,
    "start_time": "2022-09-17T05:06:21.395Z"
   },
   {
    "duration": 16,
    "start_time": "2022-09-17T05:06:44.706Z"
   },
   {
    "duration": 9,
    "start_time": "2022-09-17T05:07:32.306Z"
   },
   {
    "duration": 28,
    "start_time": "2022-09-17T05:08:04.595Z"
   },
   {
    "duration": 29,
    "start_time": "2022-09-17T05:19:16.330Z"
   },
   {
    "duration": 26,
    "start_time": "2022-09-17T05:22:30.379Z"
   },
   {
    "duration": 25,
    "start_time": "2022-09-17T05:23:32.012Z"
   },
   {
    "duration": 48,
    "start_time": "2022-09-17T05:24:07.485Z"
   },
   {
    "duration": 25,
    "start_time": "2022-09-17T05:25:34.237Z"
   },
   {
    "duration": 25,
    "start_time": "2022-09-17T05:26:05.026Z"
   },
   {
    "duration": 29,
    "start_time": "2022-09-17T05:38:10.516Z"
   },
   {
    "duration": 29,
    "start_time": "2022-09-17T05:40:28.195Z"
   },
   {
    "duration": 29,
    "start_time": "2022-09-17T05:58:13.098Z"
   },
   {
    "duration": 496,
    "start_time": "2022-09-17T06:12:13.831Z"
   },
   {
    "duration": 21,
    "start_time": "2022-09-17T06:12:14.329Z"
   },
   {
    "duration": 16,
    "start_time": "2022-09-17T06:12:14.351Z"
   },
   {
    "duration": 9,
    "start_time": "2022-09-17T06:12:14.369Z"
   },
   {
    "duration": 38,
    "start_time": "2022-09-17T06:12:14.379Z"
   },
   {
    "duration": 3,
    "start_time": "2022-09-17T06:12:14.419Z"
   },
   {
    "duration": 33,
    "start_time": "2022-09-17T06:12:14.423Z"
   },
   {
    "duration": 12,
    "start_time": "2022-09-17T06:12:14.458Z"
   },
   {
    "duration": 11,
    "start_time": "2022-09-17T06:12:14.471Z"
   },
   {
    "duration": 3,
    "start_time": "2022-09-17T06:12:14.485Z"
   },
   {
    "duration": 32,
    "start_time": "2022-09-17T06:12:14.490Z"
   },
   {
    "duration": 9,
    "start_time": "2022-09-17T06:12:14.524Z"
   },
   {
    "duration": 13,
    "start_time": "2022-09-17T06:12:14.535Z"
   },
   {
    "duration": 14,
    "start_time": "2022-09-17T06:12:14.550Z"
   },
   {
    "duration": 28,
    "start_time": "2022-09-17T06:12:14.566Z"
   },
   {
    "duration": 17,
    "start_time": "2022-09-17T06:12:14.595Z"
   },
   {
    "duration": 3,
    "start_time": "2022-09-17T06:12:14.614Z"
   },
   {
    "duration": 14,
    "start_time": "2022-09-17T06:12:14.618Z"
   },
   {
    "duration": 6,
    "start_time": "2022-09-17T06:12:14.646Z"
   },
   {
    "duration": 9,
    "start_time": "2022-09-17T06:12:14.653Z"
   },
   {
    "duration": 12,
    "start_time": "2022-09-17T06:12:14.664Z"
   },
   {
    "duration": 13,
    "start_time": "2022-09-17T06:12:14.678Z"
   },
   {
    "duration": 6,
    "start_time": "2022-09-17T06:12:14.693Z"
   },
   {
    "duration": 6,
    "start_time": "2022-09-17T06:12:14.701Z"
   },
   {
    "duration": 7,
    "start_time": "2022-09-17T06:12:14.709Z"
   },
   {
    "duration": 49,
    "start_time": "2022-09-17T06:12:14.718Z"
   },
   {
    "duration": 11,
    "start_time": "2022-09-17T06:12:14.768Z"
   },
   {
    "duration": 7,
    "start_time": "2022-09-17T06:12:14.782Z"
   },
   {
    "duration": 7,
    "start_time": "2022-09-17T06:12:14.790Z"
   },
   {
    "duration": 6,
    "start_time": "2022-09-17T06:12:14.798Z"
   },
   {
    "duration": 59,
    "start_time": "2022-09-17T06:12:14.805Z"
   },
   {
    "duration": 17,
    "start_time": "2022-09-17T06:12:14.866Z"
   },
   {
    "duration": 24,
    "start_time": "2022-09-17T06:12:14.884Z"
   },
   {
    "duration": 6,
    "start_time": "2022-09-17T06:12:14.909Z"
   },
   {
    "duration": 5,
    "start_time": "2022-09-17T06:12:14.916Z"
   },
   {
    "duration": 32,
    "start_time": "2022-09-17T06:12:14.923Z"
   },
   {
    "duration": 12,
    "start_time": "2022-09-17T06:12:14.957Z"
   },
   {
    "duration": 6,
    "start_time": "2022-09-17T06:12:14.971Z"
   },
   {
    "duration": 5,
    "start_time": "2022-09-17T06:12:14.979Z"
   },
   {
    "duration": 4,
    "start_time": "2022-09-17T06:12:14.986Z"
   },
   {
    "duration": 37,
    "start_time": "2022-09-17T06:12:14.991Z"
   },
   {
    "duration": 27,
    "start_time": "2022-09-17T06:13:37.318Z"
   },
   {
    "duration": 31,
    "start_time": "2022-09-17T06:14:06.022Z"
   },
   {
    "duration": 29,
    "start_time": "2022-09-17T06:14:44.887Z"
   },
   {
    "duration": 27,
    "start_time": "2022-09-17T06:15:12.838Z"
   },
   {
    "duration": 461,
    "start_time": "2022-09-17T06:15:27.082Z"
   },
   {
    "duration": 21,
    "start_time": "2022-09-17T06:15:27.545Z"
   },
   {
    "duration": 14,
    "start_time": "2022-09-17T06:15:27.568Z"
   },
   {
    "duration": 11,
    "start_time": "2022-09-17T06:15:27.584Z"
   },
   {
    "duration": 53,
    "start_time": "2022-09-17T06:15:27.598Z"
   },
   {
    "duration": 4,
    "start_time": "2022-09-17T06:15:27.653Z"
   },
   {
    "duration": 16,
    "start_time": "2022-09-17T06:15:27.658Z"
   },
   {
    "duration": 4,
    "start_time": "2022-09-17T06:15:27.676Z"
   },
   {
    "duration": 10,
    "start_time": "2022-09-17T06:15:27.682Z"
   },
   {
    "duration": 4,
    "start_time": "2022-09-17T06:15:27.694Z"
   },
   {
    "duration": 52,
    "start_time": "2022-09-17T06:15:27.700Z"
   },
   {
    "duration": 9,
    "start_time": "2022-09-17T06:15:27.754Z"
   },
   {
    "duration": 5,
    "start_time": "2022-09-17T06:15:27.765Z"
   },
   {
    "duration": 13,
    "start_time": "2022-09-17T06:15:27.772Z"
   },
   {
    "duration": 21,
    "start_time": "2022-09-17T06:15:27.786Z"
   },
   {
    "duration": 17,
    "start_time": "2022-09-17T06:15:27.808Z"
   },
   {
    "duration": 21,
    "start_time": "2022-09-17T06:15:27.826Z"
   },
   {
    "duration": 16,
    "start_time": "2022-09-17T06:15:27.848Z"
   },
   {
    "duration": 5,
    "start_time": "2022-09-17T06:15:27.866Z"
   },
   {
    "duration": 11,
    "start_time": "2022-09-17T06:15:27.873Z"
   },
   {
    "duration": 11,
    "start_time": "2022-09-17T06:15:27.885Z"
   },
   {
    "duration": 14,
    "start_time": "2022-09-17T06:15:27.897Z"
   },
   {
    "duration": 7,
    "start_time": "2022-09-17T06:15:27.912Z"
   },
   {
    "duration": 26,
    "start_time": "2022-09-17T06:15:27.921Z"
   },
   {
    "duration": 10,
    "start_time": "2022-09-17T06:15:27.949Z"
   },
   {
    "duration": 27,
    "start_time": "2022-09-17T06:15:27.961Z"
   },
   {
    "duration": 14,
    "start_time": "2022-09-17T06:15:27.990Z"
   },
   {
    "duration": 20,
    "start_time": "2022-09-17T06:15:28.007Z"
   },
   {
    "duration": 24,
    "start_time": "2022-09-17T06:15:28.028Z"
   },
   {
    "duration": 14,
    "start_time": "2022-09-17T06:15:28.054Z"
   },
   {
    "duration": 38,
    "start_time": "2022-09-17T06:15:28.070Z"
   },
   {
    "duration": 15,
    "start_time": "2022-09-17T06:15:28.109Z"
   },
   {
    "duration": 24,
    "start_time": "2022-09-17T06:15:28.127Z"
   },
   {
    "duration": 7,
    "start_time": "2022-09-17T06:15:28.153Z"
   },
   {
    "duration": 12,
    "start_time": "2022-09-17T06:15:28.162Z"
   },
   {
    "duration": 43,
    "start_time": "2022-09-17T06:15:28.176Z"
   },
   {
    "duration": 13,
    "start_time": "2022-09-17T06:15:28.220Z"
   },
   {
    "duration": 7,
    "start_time": "2022-09-17T06:15:28.247Z"
   },
   {
    "duration": 10,
    "start_time": "2022-09-17T06:15:28.255Z"
   },
   {
    "duration": 15,
    "start_time": "2022-09-17T06:15:28.266Z"
   },
   {
    "duration": 33,
    "start_time": "2022-09-17T06:15:28.283Z"
   },
   {
    "duration": 106,
    "start_time": "2022-09-17T19:23:49.110Z"
   }
  ],
  "colab": {
   "name": "dpp_template_part2.ipynb",
   "provenance": []
  },
  "kernelspec": {
   "display_name": "Python 3 (ipykernel)",
   "language": "python",
   "name": "python3"
  },
  "language_info": {
   "codemirror_mode": {
    "name": "ipython",
    "version": 3
   },
   "file_extension": ".py",
   "mimetype": "text/x-python",
   "name": "python",
   "nbconvert_exporter": "python",
   "pygments_lexer": "ipython3",
   "version": "3.9.12"
  },
  "toc": {
   "base_numbering": 1,
   "nav_menu": {},
   "number_sections": true,
   "sideBar": true,
   "skip_h1_title": true,
   "title_cell": "Table of Contents",
   "title_sidebar": "Contents",
   "toc_cell": false,
   "toc_position": {},
   "toc_section_display": true,
   "toc_window_display": false
  }
 },
 "nbformat": 4,
 "nbformat_minor": 5
}
