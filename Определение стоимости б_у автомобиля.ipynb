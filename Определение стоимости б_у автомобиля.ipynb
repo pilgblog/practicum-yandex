{
 "cells": [
  {
   "cell_type": "markdown",
   "id": "170c908a",
   "metadata": {},
   "source": [
    "# Стоимость поддержанного автомобиля [M1_21DS+]"
   ]
  },
  {
   "cell_type": "markdown",
   "id": "9767f784",
   "metadata": {},
   "source": [
    "## Цель проекта: Необходимо предсказать стоимость продажи автомобиля на вторичном рынке.\n",
    "\n",
    "\n",
    "Перед нами стоит задача регрессии, значение метрики SMAPE. Целевой признак - sellingprice - цена, по которой автомобиль был продан на аукционе.\n",
    "\n",
    "Данные\n",
    "* train.csv - информация о характеристиках автомобилей (~440000), которые будут использоваться в качестве обучающих данных.\n",
    "* test.csv - информация о характеристиках автомобилей (~110000), которые будут использоваться в качестве тестовых данных. Наша задача - предсказать значение 'sellingprice' для каждого автомобиля из этого датасета.\n",
    "* sample_submission.csv - пример файла предсказаний в правильном формате.\n",
    "\n",
    "Описание данных на на sample-submission:\n",
    "\n",
    "- vin - идентификатор автомобиля в тестовом наборе.\n",
    "- sellingprice - Целевой признак, числовое значение стоимости продажи.\n",
    "\n",
    "Описание полей данных на train и test:\n",
    "\n",
    "- vin - идентификатор автомобиля в тестовом наборе.\n",
    "- Date: Год выпуска автомобиля.\n",
    "- Make: Марка автомобиля.\n",
    "- Model: Модель автомобиля определенной марки.\n",
    "- Trim: Модификации автомобиля.\n",
    "- Body: Тип кузова транспортного средства относится к форме и модели конкретной марки автомобиля.\n",
    "- Transmission: Тип коробки передач.\n",
    "- VIN: Идентификационный номер транспортного средства.\n",
    "- State: Состояние, в котором автомобиль выставлен на аукцион.\n",
    "- Condition: Состояние автомобилей на момент аукциона.\n",
    "- Odometer: Пробег - расстояние, пройденное автомобилем с момента выпуска.\n",
    "- Color: Цвет кузова автомобиля.\n",
    "- Interior: Цвет салона автомобиля.\n",
    "- Seller: Продавец автомобиля, автосалоны.\n",
    "- sellingprice: цена, по которой автомобиль был продан на аукционе.\n",
    "- saledate: Дата продажи автомобиля."
   ]
  },
  {
   "cell_type": "markdown",
   "id": "d32bab15",
   "metadata": {},
   "source": [
    "### План проекта:\n",
    "\n",
    "1. Изучить и проанализировать данные. Заполнить пропуски и проанализировать целевой признак.\n",
    "2. Разделить данные. Провести нормализацию данных.\n",
    "3. Обучить модели и определенить лучшую модель. Проверить лучшую модель на тестовых данных.\n",
    "4. Сделать отчет."
   ]
  },
  {
   "cell_type": "markdown",
   "id": "dadbdbe0",
   "metadata": {},
   "source": [
    "# 1. Загрузка и изучение данных"
   ]
  },
  {
   "cell_type": "code",
   "execution_count": 1,
   "id": "71dd7230",
   "metadata": {},
   "outputs": [],
   "source": [
    "from sklearn.preprocessing import OneHotEncoder, StandardScaler\n",
    "from sklearn.compose import make_column_transformer, make_column_selector\n",
    "\n",
    "from sklearn.model_selection import train_test_split\n",
    "from sklearn.linear_model import LinearRegression\n",
    "from sklearn.linear_model import Ridge\n",
    "from sklearn.tree import DecisionTreeRegressor\n",
    "from catboost import CatBoostRegressor\n",
    "from sklearn.impute import KNNImputer\n",
    "\n",
    "from sklearn.metrics import mean_absolute_error\n",
    "\n",
    "from datetime import datetime\n",
    "import datetime\n",
    "\n",
    "import matplotlib.pyplot as plt\n",
    "import seaborn as sns\n",
    "\n",
    "import pandas as pd\n",
    "import numpy as np\n",
    "\n",
    "RANDOM_STATE = 2823\n",
    "\n",
    "pd.set_option('display.max_colwidth', None)"
   ]
  },
  {
   "cell_type": "code",
   "execution_count": 2,
   "id": "a20d1560",
   "metadata": {},
   "outputs": [
    {
     "data": {
      "text/html": [
       "<div>\n",
       "<style scoped>\n",
       "    .dataframe tbody tr th:only-of-type {\n",
       "        vertical-align: middle;\n",
       "    }\n",
       "\n",
       "    .dataframe tbody tr th {\n",
       "        vertical-align: top;\n",
       "    }\n",
       "\n",
       "    .dataframe thead th {\n",
       "        text-align: right;\n",
       "    }\n",
       "</style>\n",
       "<table border=\"1\" class=\"dataframe\">\n",
       "  <thead>\n",
       "    <tr style=\"text-align: right;\">\n",
       "      <th></th>\n",
       "      <th>year</th>\n",
       "      <th>make</th>\n",
       "      <th>model</th>\n",
       "      <th>trim</th>\n",
       "      <th>body</th>\n",
       "      <th>transmission</th>\n",
       "      <th>vin</th>\n",
       "      <th>state</th>\n",
       "      <th>condition</th>\n",
       "      <th>odometer</th>\n",
       "      <th>color</th>\n",
       "      <th>interior</th>\n",
       "      <th>seller</th>\n",
       "      <th>sellingprice</th>\n",
       "      <th>saledate</th>\n",
       "    </tr>\n",
       "  </thead>\n",
       "  <tbody>\n",
       "    <tr>\n",
       "      <th>0</th>\n",
       "      <td>2011</td>\n",
       "      <td>Ford</td>\n",
       "      <td>Edge</td>\n",
       "      <td>SEL</td>\n",
       "      <td>suv</td>\n",
       "      <td>automatic</td>\n",
       "      <td>2fmdk3jc4bba41556</td>\n",
       "      <td>md</td>\n",
       "      <td>4.2</td>\n",
       "      <td>111041.0</td>\n",
       "      <td>black</td>\n",
       "      <td>black</td>\n",
       "      <td>santander consumer</td>\n",
       "      <td>12500</td>\n",
       "      <td>Tue Jun 02 2015 02:30:00 GMT-0700 (PDT)</td>\n",
       "    </tr>\n",
       "    <tr>\n",
       "      <th>1</th>\n",
       "      <td>2014</td>\n",
       "      <td>Ford</td>\n",
       "      <td>Fusion</td>\n",
       "      <td>SE</td>\n",
       "      <td>Sedan</td>\n",
       "      <td>automatic</td>\n",
       "      <td>3fa6p0h75er208976</td>\n",
       "      <td>mo</td>\n",
       "      <td>3.5</td>\n",
       "      <td>31034.0</td>\n",
       "      <td>black</td>\n",
       "      <td>black</td>\n",
       "      <td>ars/avis budget group</td>\n",
       "      <td>14500</td>\n",
       "      <td>Wed Feb 25 2015 02:00:00 GMT-0800 (PST)</td>\n",
       "    </tr>\n",
       "    <tr>\n",
       "      <th>2</th>\n",
       "      <td>2012</td>\n",
       "      <td>Nissan</td>\n",
       "      <td>Sentra</td>\n",
       "      <td>2.0 SL</td>\n",
       "      <td>sedan</td>\n",
       "      <td>automatic</td>\n",
       "      <td>3n1ab6ap4cl698412</td>\n",
       "      <td>nj</td>\n",
       "      <td>2.2</td>\n",
       "      <td>35619.0</td>\n",
       "      <td>black</td>\n",
       "      <td>black</td>\n",
       "      <td>nissan-infiniti lt</td>\n",
       "      <td>9100</td>\n",
       "      <td>Wed Jun 10 2015 02:30:00 GMT-0700 (PDT)</td>\n",
       "    </tr>\n",
       "    <tr>\n",
       "      <th>3</th>\n",
       "      <td>2003</td>\n",
       "      <td>HUMMER</td>\n",
       "      <td>H2</td>\n",
       "      <td>Base</td>\n",
       "      <td>suv</td>\n",
       "      <td>automatic</td>\n",
       "      <td>5grgn23u93h101360</td>\n",
       "      <td>tx</td>\n",
       "      <td>2.8</td>\n",
       "      <td>131301.0</td>\n",
       "      <td>gold</td>\n",
       "      <td>beige</td>\n",
       "      <td>wichita falls ford lin inc</td>\n",
       "      <td>13300</td>\n",
       "      <td>Wed Jun 17 2015 03:00:00 GMT-0700 (PDT)</td>\n",
       "    </tr>\n",
       "    <tr>\n",
       "      <th>4</th>\n",
       "      <td>2007</td>\n",
       "      <td>Ford</td>\n",
       "      <td>Fusion</td>\n",
       "      <td>SEL</td>\n",
       "      <td>Sedan</td>\n",
       "      <td>automatic</td>\n",
       "      <td>3fahp08z17r268380</td>\n",
       "      <td>md</td>\n",
       "      <td>2.0</td>\n",
       "      <td>127709.0</td>\n",
       "      <td>black</td>\n",
       "      <td>black</td>\n",
       "      <td>purple heart</td>\n",
       "      <td>1300</td>\n",
       "      <td>Tue Feb 03 2015 04:00:00 GMT-0800 (PST)</td>\n",
       "    </tr>\n",
       "  </tbody>\n",
       "</table>\n",
       "</div>"
      ],
      "text/plain": [
       "   year    make   model    trim   body transmission                vin state  \\\n",
       "0  2011    Ford    Edge     SEL    suv    automatic  2fmdk3jc4bba41556    md   \n",
       "1  2014    Ford  Fusion      SE  Sedan    automatic  3fa6p0h75er208976    mo   \n",
       "2  2012  Nissan  Sentra  2.0 SL  sedan    automatic  3n1ab6ap4cl698412    nj   \n",
       "3  2003  HUMMER      H2    Base    suv    automatic  5grgn23u93h101360    tx   \n",
       "4  2007    Ford  Fusion     SEL  Sedan    automatic  3fahp08z17r268380    md   \n",
       "\n",
       "   condition  odometer  color interior                      seller  \\\n",
       "0        4.2  111041.0  black    black          santander consumer   \n",
       "1        3.5   31034.0  black    black       ars/avis budget group   \n",
       "2        2.2   35619.0  black    black          nissan-infiniti lt   \n",
       "3        2.8  131301.0   gold    beige  wichita falls ford lin inc   \n",
       "4        2.0  127709.0  black    black                purple heart   \n",
       "\n",
       "   sellingprice                                 saledate  \n",
       "0         12500  Tue Jun 02 2015 02:30:00 GMT-0700 (PDT)  \n",
       "1         14500  Wed Feb 25 2015 02:00:00 GMT-0800 (PST)  \n",
       "2          9100  Wed Jun 10 2015 02:30:00 GMT-0700 (PDT)  \n",
       "3         13300  Wed Jun 17 2015 03:00:00 GMT-0700 (PDT)  \n",
       "4          1300  Tue Feb 03 2015 04:00:00 GMT-0800 (PST)  "
      ]
     },
     "metadata": {},
     "output_type": "display_data"
    },
    {
     "name": "stdout",
     "output_type": "stream",
     "text": [
      "Размер train: (440236, 15)\n",
      "Размер test: (110058, 14)\n",
      "Размер sample: (110058, 2)\n"
     ]
    }
   ],
   "source": [
    "try:\n",
    "    train = pd.read_csv(\"C:/Users/User/Documents/проекты/final_steel/train.csv\")\n",
    "    test = pd.read_csv(\"C:/Users/User/Documents/проекты/final_steel/test.csv\")\n",
    "    sample = pd.read_csv(\"C:/Users/User/Documents/проекты/final_steel/sample_submission.csv\")\n",
    "except:   \n",
    "    train = pd.read_csv('/kaggle/input/used-cars-price-prediction-21ds/train.csv')\n",
    "    test = pd.read_csv('/kaggle/input/used-cars-price-prediction-21ds/test.csv')\n",
    "    sample = pd.read_csv('/kaggle/input/used-cars-price-prediction-21ds/sample_submission.csv')\n",
    "    \n",
    "display(train.head())\n",
    "\n",
    "print(\"Размер train:\", train.shape)\n",
    "print(\"Размер test:\", test.shape)\n",
    "print(\"Размер sample:\", sample.shape)"
   ]
  },
  {
   "cell_type": "code",
   "execution_count": 3,
   "id": "6810fb26",
   "metadata": {},
   "outputs": [
    {
     "name": "stdout",
     "output_type": "stream",
     "text": [
      "<class 'pandas.core.frame.DataFrame'>\n",
      "RangeIndex: 440236 entries, 0 to 440235\n",
      "Data columns (total 15 columns):\n",
      " #   Column        Non-Null Count   Dtype  \n",
      "---  ------        --------------   -----  \n",
      " 0   year          440236 non-null  int64  \n",
      " 1   make          432193 non-null  object \n",
      " 2   model         432113 non-null  object \n",
      " 3   trim          431899 non-null  object \n",
      " 4   body          429843 non-null  object \n",
      " 5   transmission  388775 non-null  object \n",
      " 6   vin           440236 non-null  object \n",
      " 7   state         440236 non-null  object \n",
      " 8   condition     430831 non-null  float64\n",
      " 9   odometer      440167 non-null  float64\n",
      " 10  color         439650 non-null  object \n",
      " 11  interior      439650 non-null  object \n",
      " 12  seller        440236 non-null  object \n",
      " 13  sellingprice  440236 non-null  int64  \n",
      " 14  saledate      440236 non-null  object \n",
      "dtypes: float64(2), int64(2), object(11)\n",
      "memory usage: 50.4+ MB\n"
     ]
    }
   ],
   "source": [
    "train.info()"
   ]
  },
  {
   "cell_type": "code",
   "execution_count": 4,
   "id": "30db63a9",
   "metadata": {},
   "outputs": [
    {
     "data": {
      "text/html": [
       "<div>\n",
       "<style scoped>\n",
       "    .dataframe tbody tr th:only-of-type {\n",
       "        vertical-align: middle;\n",
       "    }\n",
       "\n",
       "    .dataframe tbody tr th {\n",
       "        vertical-align: top;\n",
       "    }\n",
       "\n",
       "    .dataframe thead th {\n",
       "        text-align: right;\n",
       "    }\n",
       "</style>\n",
       "<table border=\"1\" class=\"dataframe\">\n",
       "  <thead>\n",
       "    <tr style=\"text-align: right;\">\n",
       "      <th></th>\n",
       "      <th>count</th>\n",
       "      <th>unique</th>\n",
       "      <th>top</th>\n",
       "      <th>freq</th>\n",
       "      <th>mean</th>\n",
       "      <th>std</th>\n",
       "      <th>min</th>\n",
       "      <th>25%</th>\n",
       "      <th>50%</th>\n",
       "      <th>75%</th>\n",
       "      <th>max</th>\n",
       "    </tr>\n",
       "  </thead>\n",
       "  <tbody>\n",
       "    <tr>\n",
       "      <th>year</th>\n",
       "      <td>440236.0</td>\n",
       "      <td>NaN</td>\n",
       "      <td>NaN</td>\n",
       "      <td>NaN</td>\n",
       "      <td>2010.040101</td>\n",
       "      <td>3.977945</td>\n",
       "      <td>1982.0</td>\n",
       "      <td>2007.0</td>\n",
       "      <td>2012.0</td>\n",
       "      <td>2013.0</td>\n",
       "      <td>2015.0</td>\n",
       "    </tr>\n",
       "    <tr>\n",
       "      <th>make</th>\n",
       "      <td>432193</td>\n",
       "      <td>92</td>\n",
       "      <td>Ford</td>\n",
       "      <td>73708</td>\n",
       "      <td>NaN</td>\n",
       "      <td>NaN</td>\n",
       "      <td>NaN</td>\n",
       "      <td>NaN</td>\n",
       "      <td>NaN</td>\n",
       "      <td>NaN</td>\n",
       "      <td>NaN</td>\n",
       "    </tr>\n",
       "    <tr>\n",
       "      <th>model</th>\n",
       "      <td>432113</td>\n",
       "      <td>959</td>\n",
       "      <td>Altima</td>\n",
       "      <td>15454</td>\n",
       "      <td>NaN</td>\n",
       "      <td>NaN</td>\n",
       "      <td>NaN</td>\n",
       "      <td>NaN</td>\n",
       "      <td>NaN</td>\n",
       "      <td>NaN</td>\n",
       "      <td>NaN</td>\n",
       "    </tr>\n",
       "    <tr>\n",
       "      <th>trim</th>\n",
       "      <td>431899</td>\n",
       "      <td>1922</td>\n",
       "      <td>Base</td>\n",
       "      <td>43853</td>\n",
       "      <td>NaN</td>\n",
       "      <td>NaN</td>\n",
       "      <td>NaN</td>\n",
       "      <td>NaN</td>\n",
       "      <td>NaN</td>\n",
       "      <td>NaN</td>\n",
       "      <td>NaN</td>\n",
       "    </tr>\n",
       "    <tr>\n",
       "      <th>body</th>\n",
       "      <td>429843</td>\n",
       "      <td>85</td>\n",
       "      <td>Sedan</td>\n",
       "      <td>157639</td>\n",
       "      <td>NaN</td>\n",
       "      <td>NaN</td>\n",
       "      <td>NaN</td>\n",
       "      <td>NaN</td>\n",
       "      <td>NaN</td>\n",
       "      <td>NaN</td>\n",
       "      <td>NaN</td>\n",
       "    </tr>\n",
       "    <tr>\n",
       "      <th>transmission</th>\n",
       "      <td>388775</td>\n",
       "      <td>2</td>\n",
       "      <td>automatic</td>\n",
       "      <td>375061</td>\n",
       "      <td>NaN</td>\n",
       "      <td>NaN</td>\n",
       "      <td>NaN</td>\n",
       "      <td>NaN</td>\n",
       "      <td>NaN</td>\n",
       "      <td>NaN</td>\n",
       "      <td>NaN</td>\n",
       "    </tr>\n",
       "    <tr>\n",
       "      <th>vin</th>\n",
       "      <td>440236</td>\n",
       "      <td>440236</td>\n",
       "      <td>2fmdk3jc4bba41556</td>\n",
       "      <td>1</td>\n",
       "      <td>NaN</td>\n",
       "      <td>NaN</td>\n",
       "      <td>NaN</td>\n",
       "      <td>NaN</td>\n",
       "      <td>NaN</td>\n",
       "      <td>NaN</td>\n",
       "      <td>NaN</td>\n",
       "    </tr>\n",
       "    <tr>\n",
       "      <th>state</th>\n",
       "      <td>440236</td>\n",
       "      <td>38</td>\n",
       "      <td>fl</td>\n",
       "      <td>65618</td>\n",
       "      <td>NaN</td>\n",
       "      <td>NaN</td>\n",
       "      <td>NaN</td>\n",
       "      <td>NaN</td>\n",
       "      <td>NaN</td>\n",
       "      <td>NaN</td>\n",
       "      <td>NaN</td>\n",
       "    </tr>\n",
       "    <tr>\n",
       "      <th>condition</th>\n",
       "      <td>430831.0</td>\n",
       "      <td>NaN</td>\n",
       "      <td>NaN</td>\n",
       "      <td>NaN</td>\n",
       "      <td>3.425077</td>\n",
       "      <td>0.949973</td>\n",
       "      <td>1.0</td>\n",
       "      <td>2.7</td>\n",
       "      <td>3.6</td>\n",
       "      <td>4.2</td>\n",
       "      <td>5.0</td>\n",
       "    </tr>\n",
       "    <tr>\n",
       "      <th>odometer</th>\n",
       "      <td>440167.0</td>\n",
       "      <td>NaN</td>\n",
       "      <td>NaN</td>\n",
       "      <td>NaN</td>\n",
       "      <td>68344.421604</td>\n",
       "      <td>53542.203908</td>\n",
       "      <td>1.0</td>\n",
       "      <td>28258.0</td>\n",
       "      <td>52098.0</td>\n",
       "      <td>99272.0</td>\n",
       "      <td>999999.0</td>\n",
       "    </tr>\n",
       "    <tr>\n",
       "      <th>color</th>\n",
       "      <td>439650</td>\n",
       "      <td>20</td>\n",
       "      <td>black</td>\n",
       "      <td>87115</td>\n",
       "      <td>NaN</td>\n",
       "      <td>NaN</td>\n",
       "      <td>NaN</td>\n",
       "      <td>NaN</td>\n",
       "      <td>NaN</td>\n",
       "      <td>NaN</td>\n",
       "      <td>NaN</td>\n",
       "    </tr>\n",
       "    <tr>\n",
       "      <th>interior</th>\n",
       "      <td>439650</td>\n",
       "      <td>17</td>\n",
       "      <td>black</td>\n",
       "      <td>192442</td>\n",
       "      <td>NaN</td>\n",
       "      <td>NaN</td>\n",
       "      <td>NaN</td>\n",
       "      <td>NaN</td>\n",
       "      <td>NaN</td>\n",
       "      <td>NaN</td>\n",
       "      <td>NaN</td>\n",
       "    </tr>\n",
       "    <tr>\n",
       "      <th>seller</th>\n",
       "      <td>440236</td>\n",
       "      <td>13025</td>\n",
       "      <td>nissan-infiniti lt</td>\n",
       "      <td>15823</td>\n",
       "      <td>NaN</td>\n",
       "      <td>NaN</td>\n",
       "      <td>NaN</td>\n",
       "      <td>NaN</td>\n",
       "      <td>NaN</td>\n",
       "      <td>NaN</td>\n",
       "      <td>NaN</td>\n",
       "    </tr>\n",
       "    <tr>\n",
       "      <th>sellingprice</th>\n",
       "      <td>440236.0</td>\n",
       "      <td>NaN</td>\n",
       "      <td>NaN</td>\n",
       "      <td>NaN</td>\n",
       "      <td>13592.209588</td>\n",
       "      <td>9751.479098</td>\n",
       "      <td>1.0</td>\n",
       "      <td>6900.0</td>\n",
       "      <td>12100.0</td>\n",
       "      <td>18200.0</td>\n",
       "      <td>230000.0</td>\n",
       "    </tr>\n",
       "    <tr>\n",
       "      <th>saledate</th>\n",
       "      <td>440236</td>\n",
       "      <td>3597</td>\n",
       "      <td>Tue Feb 10 2015 01:30:00 GMT-0800 (PST)</td>\n",
       "      <td>4209</td>\n",
       "      <td>NaN</td>\n",
       "      <td>NaN</td>\n",
       "      <td>NaN</td>\n",
       "      <td>NaN</td>\n",
       "      <td>NaN</td>\n",
       "      <td>NaN</td>\n",
       "      <td>NaN</td>\n",
       "    </tr>\n",
       "  </tbody>\n",
       "</table>\n",
       "</div>"
      ],
      "text/plain": [
       "                 count  unique                                      top  \\\n",
       "year          440236.0     NaN                                      NaN   \n",
       "make            432193      92                                     Ford   \n",
       "model           432113     959                                   Altima   \n",
       "trim            431899    1922                                     Base   \n",
       "body            429843      85                                    Sedan   \n",
       "transmission    388775       2                                automatic   \n",
       "vin             440236  440236                        2fmdk3jc4bba41556   \n",
       "state           440236      38                                       fl   \n",
       "condition     430831.0     NaN                                      NaN   \n",
       "odometer      440167.0     NaN                                      NaN   \n",
       "color           439650      20                                    black   \n",
       "interior        439650      17                                    black   \n",
       "seller          440236   13025                       nissan-infiniti lt   \n",
       "sellingprice  440236.0     NaN                                      NaN   \n",
       "saledate        440236    3597  Tue Feb 10 2015 01:30:00 GMT-0800 (PST)   \n",
       "\n",
       "                freq          mean           std     min      25%      50%  \\\n",
       "year             NaN   2010.040101      3.977945  1982.0   2007.0   2012.0   \n",
       "make           73708           NaN           NaN     NaN      NaN      NaN   \n",
       "model          15454           NaN           NaN     NaN      NaN      NaN   \n",
       "trim           43853           NaN           NaN     NaN      NaN      NaN   \n",
       "body          157639           NaN           NaN     NaN      NaN      NaN   \n",
       "transmission  375061           NaN           NaN     NaN      NaN      NaN   \n",
       "vin                1           NaN           NaN     NaN      NaN      NaN   \n",
       "state          65618           NaN           NaN     NaN      NaN      NaN   \n",
       "condition        NaN      3.425077      0.949973     1.0      2.7      3.6   \n",
       "odometer         NaN  68344.421604  53542.203908     1.0  28258.0  52098.0   \n",
       "color          87115           NaN           NaN     NaN      NaN      NaN   \n",
       "interior      192442           NaN           NaN     NaN      NaN      NaN   \n",
       "seller         15823           NaN           NaN     NaN      NaN      NaN   \n",
       "sellingprice     NaN  13592.209588   9751.479098     1.0   6900.0  12100.0   \n",
       "saledate        4209           NaN           NaN     NaN      NaN      NaN   \n",
       "\n",
       "                  75%       max  \n",
       "year           2013.0    2015.0  \n",
       "make              NaN       NaN  \n",
       "model             NaN       NaN  \n",
       "trim              NaN       NaN  \n",
       "body              NaN       NaN  \n",
       "transmission      NaN       NaN  \n",
       "vin               NaN       NaN  \n",
       "state             NaN       NaN  \n",
       "condition         4.2       5.0  \n",
       "odometer      99272.0  999999.0  \n",
       "color             NaN       NaN  \n",
       "interior          NaN       NaN  \n",
       "seller            NaN       NaN  \n",
       "sellingprice  18200.0  230000.0  \n",
       "saledate          NaN       NaN  "
      ]
     },
     "execution_count": 4,
     "metadata": {},
     "output_type": "execute_result"
    }
   ],
   "source": [
    "train.describe(include = \"all\").T"
   ]
  },
  {
   "cell_type": "code",
   "execution_count": 5,
   "id": "3f4686b4",
   "metadata": {},
   "outputs": [
    {
     "data": {
      "text/html": [
       "<div>\n",
       "<style scoped>\n",
       "    .dataframe tbody tr th:only-of-type {\n",
       "        vertical-align: middle;\n",
       "    }\n",
       "\n",
       "    .dataframe tbody tr th {\n",
       "        vertical-align: top;\n",
       "    }\n",
       "\n",
       "    .dataframe thead th {\n",
       "        text-align: right;\n",
       "    }\n",
       "</style>\n",
       "<table border=\"1\" class=\"dataframe\">\n",
       "  <thead>\n",
       "    <tr style=\"text-align: right;\">\n",
       "      <th></th>\n",
       "      <th>year</th>\n",
       "      <th>make</th>\n",
       "      <th>model</th>\n",
       "      <th>trim</th>\n",
       "      <th>body</th>\n",
       "      <th>transmission</th>\n",
       "      <th>vin</th>\n",
       "      <th>state</th>\n",
       "      <th>condition</th>\n",
       "      <th>odometer</th>\n",
       "      <th>color</th>\n",
       "      <th>interior</th>\n",
       "      <th>seller</th>\n",
       "      <th>saledate</th>\n",
       "    </tr>\n",
       "  </thead>\n",
       "  <tbody>\n",
       "    <tr>\n",
       "      <th>0</th>\n",
       "      <td>2005</td>\n",
       "      <td>Cadillac</td>\n",
       "      <td>CTS</td>\n",
       "      <td>Base</td>\n",
       "      <td>Sedan</td>\n",
       "      <td>automatic</td>\n",
       "      <td>1g6dp567450124779</td>\n",
       "      <td>ca</td>\n",
       "      <td>2.7</td>\n",
       "      <td>116970.0</td>\n",
       "      <td>silver</td>\n",
       "      <td>black</td>\n",
       "      <td>lexus of stevens creek</td>\n",
       "      <td>Wed Jan 14 2015 04:30:00 GMT-0800 (PST)</td>\n",
       "    </tr>\n",
       "    <tr>\n",
       "      <th>1</th>\n",
       "      <td>2014</td>\n",
       "      <td>GMC</td>\n",
       "      <td>Savana Cargo</td>\n",
       "      <td>2500</td>\n",
       "      <td>Van</td>\n",
       "      <td>NaN</td>\n",
       "      <td>1gtw7fca7e1902207</td>\n",
       "      <td>pa</td>\n",
       "      <td>4.4</td>\n",
       "      <td>6286.0</td>\n",
       "      <td>white</td>\n",
       "      <td>gray</td>\n",
       "      <td>u-haul</td>\n",
       "      <td>Fri Feb 27 2015 01:00:00 GMT-0800 (PST)</td>\n",
       "    </tr>\n",
       "    <tr>\n",
       "      <th>2</th>\n",
       "      <td>2013</td>\n",
       "      <td>Nissan</td>\n",
       "      <td>Murano</td>\n",
       "      <td>S</td>\n",
       "      <td>SUV</td>\n",
       "      <td>automatic</td>\n",
       "      <td>jn8az1mw6dw303497</td>\n",
       "      <td>oh</td>\n",
       "      <td>4.6</td>\n",
       "      <td>11831.0</td>\n",
       "      <td>gray</td>\n",
       "      <td>black</td>\n",
       "      <td>nissan-infiniti lt</td>\n",
       "      <td>Tue Feb 24 2015 01:30:00 GMT-0800 (PST)</td>\n",
       "    </tr>\n",
       "    <tr>\n",
       "      <th>3</th>\n",
       "      <td>2013</td>\n",
       "      <td>Chevrolet</td>\n",
       "      <td>Impala</td>\n",
       "      <td>LS Fleet</td>\n",
       "      <td>Sedan</td>\n",
       "      <td>automatic</td>\n",
       "      <td>2g1wf5e34d1160703</td>\n",
       "      <td>fl</td>\n",
       "      <td>2.3</td>\n",
       "      <td>57105.0</td>\n",
       "      <td>silver</td>\n",
       "      <td>black</td>\n",
       "      <td>onemain rem/auto club of miami inc dba north dad</td>\n",
       "      <td>Fri Mar 06 2015 02:00:00 GMT-0800 (PST)</td>\n",
       "    </tr>\n",
       "    <tr>\n",
       "      <th>4</th>\n",
       "      <td>2013</td>\n",
       "      <td>Nissan</td>\n",
       "      <td>Titan</td>\n",
       "      <td>SV</td>\n",
       "      <td>Crew Cab</td>\n",
       "      <td>automatic</td>\n",
       "      <td>1n6aa0ec3dn301209</td>\n",
       "      <td>tn</td>\n",
       "      <td>2.9</td>\n",
       "      <td>31083.0</td>\n",
       "      <td>black</td>\n",
       "      <td>black</td>\n",
       "      <td>nissan north america inc.</td>\n",
       "      <td>Wed Jun 03 2015 03:30:00 GMT-0700 (PDT)</td>\n",
       "    </tr>\n",
       "  </tbody>\n",
       "</table>\n",
       "</div>"
      ],
      "text/plain": [
       "   year       make         model      trim      body transmission  \\\n",
       "0  2005   Cadillac           CTS      Base     Sedan    automatic   \n",
       "1  2014        GMC  Savana Cargo      2500       Van          NaN   \n",
       "2  2013     Nissan        Murano         S       SUV    automatic   \n",
       "3  2013  Chevrolet        Impala  LS Fleet     Sedan    automatic   \n",
       "4  2013     Nissan         Titan        SV  Crew Cab    automatic   \n",
       "\n",
       "                 vin state  condition  odometer   color interior  \\\n",
       "0  1g6dp567450124779    ca        2.7  116970.0  silver    black   \n",
       "1  1gtw7fca7e1902207    pa        4.4    6286.0   white     gray   \n",
       "2  jn8az1mw6dw303497    oh        4.6   11831.0    gray    black   \n",
       "3  2g1wf5e34d1160703    fl        2.3   57105.0  silver    black   \n",
       "4  1n6aa0ec3dn301209    tn        2.9   31083.0   black    black   \n",
       "\n",
       "                                             seller  \\\n",
       "0                            lexus of stevens creek   \n",
       "1                                            u-haul   \n",
       "2                                nissan-infiniti lt   \n",
       "3  onemain rem/auto club of miami inc dba north dad   \n",
       "4                         nissan north america inc.   \n",
       "\n",
       "                                  saledate  \n",
       "0  Wed Jan 14 2015 04:30:00 GMT-0800 (PST)  \n",
       "1  Fri Feb 27 2015 01:00:00 GMT-0800 (PST)  \n",
       "2  Tue Feb 24 2015 01:30:00 GMT-0800 (PST)  \n",
       "3  Fri Mar 06 2015 02:00:00 GMT-0800 (PST)  \n",
       "4  Wed Jun 03 2015 03:30:00 GMT-0700 (PDT)  "
      ]
     },
     "metadata": {},
     "output_type": "display_data"
    }
   ],
   "source": [
    "display(test.head())"
   ]
  },
  {
   "cell_type": "code",
   "execution_count": 6,
   "id": "631cca74",
   "metadata": {},
   "outputs": [
    {
     "data": {
      "text/html": [
       "<div>\n",
       "<style scoped>\n",
       "    .dataframe tbody tr th:only-of-type {\n",
       "        vertical-align: middle;\n",
       "    }\n",
       "\n",
       "    .dataframe tbody tr th {\n",
       "        vertical-align: top;\n",
       "    }\n",
       "\n",
       "    .dataframe thead th {\n",
       "        text-align: right;\n",
       "    }\n",
       "</style>\n",
       "<table border=\"1\" class=\"dataframe\">\n",
       "  <thead>\n",
       "    <tr style=\"text-align: right;\">\n",
       "      <th></th>\n",
       "      <th>count</th>\n",
       "      <th>unique</th>\n",
       "      <th>top</th>\n",
       "      <th>freq</th>\n",
       "      <th>mean</th>\n",
       "      <th>std</th>\n",
       "      <th>min</th>\n",
       "      <th>25%</th>\n",
       "      <th>50%</th>\n",
       "      <th>75%</th>\n",
       "      <th>max</th>\n",
       "    </tr>\n",
       "  </thead>\n",
       "  <tbody>\n",
       "    <tr>\n",
       "      <th>year</th>\n",
       "      <td>110058.0</td>\n",
       "      <td>NaN</td>\n",
       "      <td>NaN</td>\n",
       "      <td>NaN</td>\n",
       "      <td>2010.060005</td>\n",
       "      <td>3.96019</td>\n",
       "      <td>1982.0</td>\n",
       "      <td>2007.0</td>\n",
       "      <td>2012.0</td>\n",
       "      <td>2013.0</td>\n",
       "      <td>2015.0</td>\n",
       "    </tr>\n",
       "    <tr>\n",
       "      <th>make</th>\n",
       "      <td>107997</td>\n",
       "      <td>85</td>\n",
       "      <td>Ford</td>\n",
       "      <td>18383</td>\n",
       "      <td>NaN</td>\n",
       "      <td>NaN</td>\n",
       "      <td>NaN</td>\n",
       "      <td>NaN</td>\n",
       "      <td>NaN</td>\n",
       "      <td>NaN</td>\n",
       "      <td>NaN</td>\n",
       "    </tr>\n",
       "    <tr>\n",
       "      <th>model</th>\n",
       "      <td>107979</td>\n",
       "      <td>824</td>\n",
       "      <td>Altima</td>\n",
       "      <td>3736</td>\n",
       "      <td>NaN</td>\n",
       "      <td>NaN</td>\n",
       "      <td>NaN</td>\n",
       "      <td>NaN</td>\n",
       "      <td>NaN</td>\n",
       "      <td>NaN</td>\n",
       "      <td>NaN</td>\n",
       "    </tr>\n",
       "    <tr>\n",
       "      <th>trim</th>\n",
       "      <td>107944</td>\n",
       "      <td>1496</td>\n",
       "      <td>Base</td>\n",
       "      <td>11007</td>\n",
       "      <td>NaN</td>\n",
       "      <td>NaN</td>\n",
       "      <td>NaN</td>\n",
       "      <td>NaN</td>\n",
       "      <td>NaN</td>\n",
       "      <td>NaN</td>\n",
       "      <td>NaN</td>\n",
       "    </tr>\n",
       "    <tr>\n",
       "      <th>body</th>\n",
       "      <td>107464</td>\n",
       "      <td>77</td>\n",
       "      <td>Sedan</td>\n",
       "      <td>39255</td>\n",
       "      <td>NaN</td>\n",
       "      <td>NaN</td>\n",
       "      <td>NaN</td>\n",
       "      <td>NaN</td>\n",
       "      <td>NaN</td>\n",
       "      <td>NaN</td>\n",
       "      <td>NaN</td>\n",
       "    </tr>\n",
       "    <tr>\n",
       "      <th>transmission</th>\n",
       "      <td>97047</td>\n",
       "      <td>2</td>\n",
       "      <td>automatic</td>\n",
       "      <td>93584</td>\n",
       "      <td>NaN</td>\n",
       "      <td>NaN</td>\n",
       "      <td>NaN</td>\n",
       "      <td>NaN</td>\n",
       "      <td>NaN</td>\n",
       "      <td>NaN</td>\n",
       "      <td>NaN</td>\n",
       "    </tr>\n",
       "    <tr>\n",
       "      <th>vin</th>\n",
       "      <td>110058</td>\n",
       "      <td>110058</td>\n",
       "      <td>1g6dp567450124779</td>\n",
       "      <td>1</td>\n",
       "      <td>NaN</td>\n",
       "      <td>NaN</td>\n",
       "      <td>NaN</td>\n",
       "      <td>NaN</td>\n",
       "      <td>NaN</td>\n",
       "      <td>NaN</td>\n",
       "      <td>NaN</td>\n",
       "    </tr>\n",
       "    <tr>\n",
       "      <th>state</th>\n",
       "      <td>110058</td>\n",
       "      <td>38</td>\n",
       "      <td>fl</td>\n",
       "      <td>16295</td>\n",
       "      <td>NaN</td>\n",
       "      <td>NaN</td>\n",
       "      <td>NaN</td>\n",
       "      <td>NaN</td>\n",
       "      <td>NaN</td>\n",
       "      <td>NaN</td>\n",
       "      <td>NaN</td>\n",
       "    </tr>\n",
       "    <tr>\n",
       "      <th>condition</th>\n",
       "      <td>107679.0</td>\n",
       "      <td>NaN</td>\n",
       "      <td>NaN</td>\n",
       "      <td>NaN</td>\n",
       "      <td>3.423222</td>\n",
       "      <td>0.951301</td>\n",
       "      <td>1.0</td>\n",
       "      <td>2.7</td>\n",
       "      <td>3.6</td>\n",
       "      <td>4.2</td>\n",
       "      <td>5.0</td>\n",
       "    </tr>\n",
       "    <tr>\n",
       "      <th>odometer</th>\n",
       "      <td>110039.0</td>\n",
       "      <td>NaN</td>\n",
       "      <td>NaN</td>\n",
       "      <td>NaN</td>\n",
       "      <td>68074.331601</td>\n",
       "      <td>53520.988173</td>\n",
       "      <td>1.0</td>\n",
       "      <td>28313.5</td>\n",
       "      <td>51922.0</td>\n",
       "      <td>98852.5</td>\n",
       "      <td>999999.0</td>\n",
       "    </tr>\n",
       "    <tr>\n",
       "      <th>color</th>\n",
       "      <td>109900</td>\n",
       "      <td>20</td>\n",
       "      <td>black</td>\n",
       "      <td>22006</td>\n",
       "      <td>NaN</td>\n",
       "      <td>NaN</td>\n",
       "      <td>NaN</td>\n",
       "      <td>NaN</td>\n",
       "      <td>NaN</td>\n",
       "      <td>NaN</td>\n",
       "      <td>NaN</td>\n",
       "    </tr>\n",
       "    <tr>\n",
       "      <th>interior</th>\n",
       "      <td>109900</td>\n",
       "      <td>17</td>\n",
       "      <td>black</td>\n",
       "      <td>48176</td>\n",
       "      <td>NaN</td>\n",
       "      <td>NaN</td>\n",
       "      <td>NaN</td>\n",
       "      <td>NaN</td>\n",
       "      <td>NaN</td>\n",
       "      <td>NaN</td>\n",
       "      <td>NaN</td>\n",
       "    </tr>\n",
       "    <tr>\n",
       "      <th>seller</th>\n",
       "      <td>110058</td>\n",
       "      <td>7623</td>\n",
       "      <td>ford motor credit company,llc</td>\n",
       "      <td>3858</td>\n",
       "      <td>NaN</td>\n",
       "      <td>NaN</td>\n",
       "      <td>NaN</td>\n",
       "      <td>NaN</td>\n",
       "      <td>NaN</td>\n",
       "      <td>NaN</td>\n",
       "      <td>NaN</td>\n",
       "    </tr>\n",
       "    <tr>\n",
       "      <th>saledate</th>\n",
       "      <td>110058</td>\n",
       "      <td>2817</td>\n",
       "      <td>Tue Feb 17 2015 01:30:00 GMT-0800 (PST)</td>\n",
       "      <td>1039</td>\n",
       "      <td>NaN</td>\n",
       "      <td>NaN</td>\n",
       "      <td>NaN</td>\n",
       "      <td>NaN</td>\n",
       "      <td>NaN</td>\n",
       "      <td>NaN</td>\n",
       "      <td>NaN</td>\n",
       "    </tr>\n",
       "  </tbody>\n",
       "</table>\n",
       "</div>"
      ],
      "text/plain": [
       "                 count  unique                                      top  \\\n",
       "year          110058.0     NaN                                      NaN   \n",
       "make            107997      85                                     Ford   \n",
       "model           107979     824                                   Altima   \n",
       "trim            107944    1496                                     Base   \n",
       "body            107464      77                                    Sedan   \n",
       "transmission     97047       2                                automatic   \n",
       "vin             110058  110058                        1g6dp567450124779   \n",
       "state           110058      38                                       fl   \n",
       "condition     107679.0     NaN                                      NaN   \n",
       "odometer      110039.0     NaN                                      NaN   \n",
       "color           109900      20                                    black   \n",
       "interior        109900      17                                    black   \n",
       "seller          110058    7623            ford motor credit company,llc   \n",
       "saledate        110058    2817  Tue Feb 17 2015 01:30:00 GMT-0800 (PST)   \n",
       "\n",
       "               freq          mean           std     min      25%      50%  \\\n",
       "year            NaN   2010.060005       3.96019  1982.0   2007.0   2012.0   \n",
       "make          18383           NaN           NaN     NaN      NaN      NaN   \n",
       "model          3736           NaN           NaN     NaN      NaN      NaN   \n",
       "trim          11007           NaN           NaN     NaN      NaN      NaN   \n",
       "body          39255           NaN           NaN     NaN      NaN      NaN   \n",
       "transmission  93584           NaN           NaN     NaN      NaN      NaN   \n",
       "vin               1           NaN           NaN     NaN      NaN      NaN   \n",
       "state         16295           NaN           NaN     NaN      NaN      NaN   \n",
       "condition       NaN      3.423222      0.951301     1.0      2.7      3.6   \n",
       "odometer        NaN  68074.331601  53520.988173     1.0  28313.5  51922.0   \n",
       "color         22006           NaN           NaN     NaN      NaN      NaN   \n",
       "interior      48176           NaN           NaN     NaN      NaN      NaN   \n",
       "seller         3858           NaN           NaN     NaN      NaN      NaN   \n",
       "saledate       1039           NaN           NaN     NaN      NaN      NaN   \n",
       "\n",
       "                  75%       max  \n",
       "year           2013.0    2015.0  \n",
       "make              NaN       NaN  \n",
       "model             NaN       NaN  \n",
       "trim              NaN       NaN  \n",
       "body              NaN       NaN  \n",
       "transmission      NaN       NaN  \n",
       "vin               NaN       NaN  \n",
       "state             NaN       NaN  \n",
       "condition         4.2       5.0  \n",
       "odometer      98852.5  999999.0  \n",
       "color             NaN       NaN  \n",
       "interior          NaN       NaN  \n",
       "seller            NaN       NaN  \n",
       "saledate          NaN       NaN  "
      ]
     },
     "execution_count": 6,
     "metadata": {},
     "output_type": "execute_result"
    }
   ],
   "source": [
    "test.describe(include = \"all\").T"
   ]
  },
  {
   "cell_type": "code",
   "execution_count": 7,
   "id": "02f37a2e",
   "metadata": {},
   "outputs": [
    {
     "name": "stdout",
     "output_type": "stream",
     "text": [
      "<class 'pandas.core.frame.DataFrame'>\n",
      "RangeIndex: 110058 entries, 0 to 110057\n",
      "Data columns (total 14 columns):\n",
      " #   Column        Non-Null Count   Dtype  \n",
      "---  ------        --------------   -----  \n",
      " 0   year          110058 non-null  int64  \n",
      " 1   make          107997 non-null  object \n",
      " 2   model         107979 non-null  object \n",
      " 3   trim          107944 non-null  object \n",
      " 4   body          107464 non-null  object \n",
      " 5   transmission  97047 non-null   object \n",
      " 6   vin           110058 non-null  object \n",
      " 7   state         110058 non-null  object \n",
      " 8   condition     107679 non-null  float64\n",
      " 9   odometer      110039 non-null  float64\n",
      " 10  color         109900 non-null  object \n",
      " 11  interior      109900 non-null  object \n",
      " 12  seller        110058 non-null  object \n",
      " 13  saledate      110058 non-null  object \n",
      "dtypes: float64(2), int64(1), object(11)\n",
      "memory usage: 11.8+ MB\n"
     ]
    }
   ],
   "source": [
    "test.info()"
   ]
  },
  {
   "cell_type": "code",
   "execution_count": 8,
   "id": "faaef957",
   "metadata": {},
   "outputs": [
    {
     "name": "stdout",
     "output_type": "stream",
     "text": [
      "Временной период на train от 2014-01-01 01:15:00+00:00 до 2015-07-20 19:30:00+00:00 \n",
      "Временной период на test от 2014-01-01 01:15:00+00:00 до 2015-07-20 19:30:00+00:00 \n"
     ]
    }
   ],
   "source": [
    "train['saledate'] = pd.to_datetime(train['saledate'], errors='coerce', utc=True)\n",
    "test['saledate'] = pd.to_datetime(test['saledate'], errors='coerce', utc=True)\n",
    "print(f\"Временной период на train от {np.min(train['saledate'])} до {np.max(train['saledate'])} \")\n",
    "print(f\"Временной период на test от {np.min(train['saledate'])} до {np.max(train['saledate'])} \")"
   ]
  },
  {
   "cell_type": "code",
   "execution_count": 9,
   "id": "1bdaadc1",
   "metadata": {},
   "outputs": [
    {
     "data": {
      "image/png": "[encoded data removed]",
      "text/plain": [
       "<Figure size 1008x576 with 6 Axes>"
      ]
     },
     "metadata": {
      "needs_background": "light"
     },
     "output_type": "display_data"
    }
   ],
   "source": [
    "digital_features=train.select_dtypes(exclude=['object'])#построим гистограммы для числовых признаков\n",
    "digital_features.hist(figsize=(14,8), bins=30)\n",
    "plt.show()"
   ]
  },
  {
   "cell_type": "markdown",
   "id": "3c650cb4",
   "metadata": {},
   "source": [
    "Нам даны 15 признаков на обучающем датасете, в том числе целевой признак sellingprice, 440236 строк. В тестовом наборе данных дано 14 признаков, без целевого признака и 110058 строк. Большинство признаков категориальных, но есть и числовые, например как odometer. В данных есть пропуски в обоих датасетах. Период продажи автомобилей с 01.01.2014г. по 20.07.2015г. Уникальных значений в каждом столбце значительное количество. Распределение по году выпуска показывает, что в основном продажа автомобилей осуществляется более свежего года. Состояние автомобилей не равномерное. Пробег автомобилей в основном имеет к низкую отметку. Продажа автомобилей в среднем 13592."
   ]
  },
  {
   "cell_type": "markdown",
   "id": "b9be7671",
   "metadata": {},
   "source": [
    "## 2. Предобработка данных"
   ]
  },
  {
   "cell_type": "code",
   "execution_count": 10,
   "id": "d7e0f8be",
   "metadata": {},
   "outputs": [
    {
     "data": {
      "text/plain": [
       "year                0\n",
       "vin                 0\n",
       "state               0\n",
       "seller              0\n",
       "sellingprice        0\n",
       "saledate            0\n",
       "odometer           69\n",
       "color             586\n",
       "interior          586\n",
       "make             8043\n",
       "model            8123\n",
       "trim             8337\n",
       "condition        9405\n",
       "body            10393\n",
       "transmission    51461\n",
       "dtype: int64"
      ]
     },
     "execution_count": 10,
     "metadata": {},
     "output_type": "execute_result"
    }
   ],
   "source": [
    "#посмотрим на количество пропусков\n",
    "train.isna().sum().sort_values()"
   ]
  },
  {
   "cell_type": "markdown",
   "id": "4a6c5444",
   "metadata": {},
   "source": [
    "Есть небольшое количество пропусков в столбцах odometer, color, interior. В других столбцах есть подавляющее число пропусков. Transmission и body лидируют."
   ]
  },
  {
   "cell_type": "code",
   "execution_count": 11,
   "id": "9de4775c",
   "metadata": {},
   "outputs": [
    {
     "data": {
      "text/plain": [
       "0"
      ]
     },
     "execution_count": 11,
     "metadata": {},
     "output_type": "execute_result"
    }
   ],
   "source": [
    "train.duplicated().sum()#проверим наличие дубликатов"
   ]
  },
  {
   "cell_type": "code",
   "execution_count": 12,
   "id": "16cdd852",
   "metadata": {},
   "outputs": [
    {
     "data": {
      "text/plain": [
       "year                0\n",
       "vin                 0\n",
       "state               0\n",
       "seller              0\n",
       "saledate            0\n",
       "odometer           19\n",
       "color             158\n",
       "interior          158\n",
       "make             2061\n",
       "model            2079\n",
       "trim             2114\n",
       "condition        2379\n",
       "body             2594\n",
       "transmission    13011\n",
       "dtype: int64"
      ]
     },
     "execution_count": 12,
     "metadata": {},
     "output_type": "execute_result"
    }
   ],
   "source": [
    "test.isna().sum().sort_values()"
   ]
  },
  {
   "cell_type": "code",
   "execution_count": 13,
   "id": "90f2f3a7",
   "metadata": {},
   "outputs": [
    {
     "data": {
      "text/plain": [
       "0"
      ]
     },
     "execution_count": 13,
     "metadata": {},
     "output_type": "execute_result"
    }
   ],
   "source": [
    "test.duplicated().sum()"
   ]
  },
  {
   "cell_type": "markdown",
   "id": "d26a6352",
   "metadata": {},
   "source": [
    "Количество пропущенных значений по столбцам идентичны с датасетом train. Количество пропусков меньше, так как размер датасета меньше train. "
   ]
  },
  {
   "cell_type": "code",
   "execution_count": 14,
   "id": "3c40da0e",
   "metadata": {},
   "outputs": [
    {
     "data": {
      "image/png": "[encoded data removed]",
      "text/plain": [
       "<Figure size 864x432 with 2 Axes>"
      ]
     },
     "metadata": {
      "needs_background": "light"
     },
     "output_type": "display_data"
    }
   ],
   "source": [
    "#посмотрим на корреляцию\n",
    "plt.figure(figsize=(12, 6))\n",
    "matrix = np.triu(train.corr())\n",
    "sns.heatmap(train.corr(), annot=True, center= 0, cmap= 'coolwarm', mask=matrix)\n",
    "plt.title('Матрица корреляции');"
   ]
  },
  {
   "cell_type": "markdown",
   "id": "ee418fcd",
   "metadata": {},
   "source": [
    "Средняя положительная корреляция между столбцами condition и sellingprice. Средняя отрицательная корреляция между condition и odometer."
   ]
  },
  {
   "cell_type": "code",
   "execution_count": 15,
   "id": "5b536233",
   "metadata": {},
   "outputs": [
    {
     "data": {
      "text/html": [
       "<div>\n",
       "<style scoped>\n",
       "    .dataframe tbody tr th:only-of-type {\n",
       "        vertical-align: middle;\n",
       "    }\n",
       "\n",
       "    .dataframe tbody tr th {\n",
       "        vertical-align: top;\n",
       "    }\n",
       "\n",
       "    .dataframe thead th {\n",
       "        text-align: right;\n",
       "    }\n",
       "</style>\n",
       "<table border=\"1\" class=\"dataframe\">\n",
       "  <thead>\n",
       "    <tr style=\"text-align: right;\">\n",
       "      <th></th>\n",
       "      <th>make</th>\n",
       "      <th>model</th>\n",
       "      <th>trim</th>\n",
       "      <th>body</th>\n",
       "      <th>transmission</th>\n",
       "      <th>condition</th>\n",
       "      <th>odometer</th>\n",
       "      <th>color</th>\n",
       "      <th>interior</th>\n",
       "    </tr>\n",
       "  </thead>\n",
       "  <tbody>\n",
       "    <tr>\n",
       "      <th>make</th>\n",
       "      <td>1.000000</td>\n",
       "      <td>0.994971</td>\n",
       "      <td>0.981875</td>\n",
       "      <td>0.877313</td>\n",
       "      <td>0.023535</td>\n",
       "      <td>-0.012414</td>\n",
       "      <td>0.001002</td>\n",
       "      <td>0.001532</td>\n",
       "      <td>0.001532</td>\n",
       "    </tr>\n",
       "    <tr>\n",
       "      <th>model</th>\n",
       "      <td>0.994971</td>\n",
       "      <td>1.000000</td>\n",
       "      <td>0.976931</td>\n",
       "      <td>0.872853</td>\n",
       "      <td>0.023140</td>\n",
       "      <td>-0.012553</td>\n",
       "      <td>0.000980</td>\n",
       "      <td>0.003790</td>\n",
       "      <td>0.003790</td>\n",
       "    </tr>\n",
       "    <tr>\n",
       "      <th>trim</th>\n",
       "      <td>0.981875</td>\n",
       "      <td>0.976931</td>\n",
       "      <td>1.000000</td>\n",
       "      <td>0.893508</td>\n",
       "      <td>0.022742</td>\n",
       "      <td>-0.006351</td>\n",
       "      <td>0.003585</td>\n",
       "      <td>0.001327</td>\n",
       "      <td>0.001327</td>\n",
       "    </tr>\n",
       "    <tr>\n",
       "      <th>body</th>\n",
       "      <td>0.877313</td>\n",
       "      <td>0.872853</td>\n",
       "      <td>0.893508</td>\n",
       "      <td>1.000000</td>\n",
       "      <td>0.023568</td>\n",
       "      <td>0.026693</td>\n",
       "      <td>0.006419</td>\n",
       "      <td>0.002120</td>\n",
       "      <td>0.002120</td>\n",
       "    </tr>\n",
       "    <tr>\n",
       "      <th>transmission</th>\n",
       "      <td>0.023535</td>\n",
       "      <td>0.023140</td>\n",
       "      <td>0.022742</td>\n",
       "      <td>0.023568</td>\n",
       "      <td>1.000000</td>\n",
       "      <td>0.020664</td>\n",
       "      <td>0.010129</td>\n",
       "      <td>0.010180</td>\n",
       "      <td>0.010180</td>\n",
       "    </tr>\n",
       "    <tr>\n",
       "      <th>condition</th>\n",
       "      <td>-0.012414</td>\n",
       "      <td>-0.012553</td>\n",
       "      <td>-0.006351</td>\n",
       "      <td>0.026693</td>\n",
       "      <td>0.020664</td>\n",
       "      <td>1.000000</td>\n",
       "      <td>0.059642</td>\n",
       "      <td>0.027352</td>\n",
       "      <td>0.027352</td>\n",
       "    </tr>\n",
       "    <tr>\n",
       "      <th>odometer</th>\n",
       "      <td>0.001002</td>\n",
       "      <td>0.000980</td>\n",
       "      <td>0.003585</td>\n",
       "      <td>0.006419</td>\n",
       "      <td>0.010129</td>\n",
       "      <td>0.059642</td>\n",
       "      <td>1.000000</td>\n",
       "      <td>0.034380</td>\n",
       "      <td>0.034380</td>\n",
       "    </tr>\n",
       "    <tr>\n",
       "      <th>color</th>\n",
       "      <td>0.001532</td>\n",
       "      <td>0.003790</td>\n",
       "      <td>0.001327</td>\n",
       "      <td>0.002120</td>\n",
       "      <td>0.010180</td>\n",
       "      <td>0.027352</td>\n",
       "      <td>0.034380</td>\n",
       "      <td>1.000000</td>\n",
       "      <td>1.000000</td>\n",
       "    </tr>\n",
       "    <tr>\n",
       "      <th>interior</th>\n",
       "      <td>0.001532</td>\n",
       "      <td>0.003790</td>\n",
       "      <td>0.001327</td>\n",
       "      <td>0.002120</td>\n",
       "      <td>0.010180</td>\n",
       "      <td>0.027352</td>\n",
       "      <td>0.034380</td>\n",
       "      <td>1.000000</td>\n",
       "      <td>1.000000</td>\n",
       "    </tr>\n",
       "  </tbody>\n",
       "</table>\n",
       "</div>"
      ],
      "text/plain": [
       "                  make     model      trim      body  transmission  condition  \\\n",
       "make          1.000000  0.994971  0.981875  0.877313      0.023535  -0.012414   \n",
       "model         0.994971  1.000000  0.976931  0.872853      0.023140  -0.012553   \n",
       "trim          0.981875  0.976931  1.000000  0.893508      0.022742  -0.006351   \n",
       "body          0.877313  0.872853  0.893508  1.000000      0.023568   0.026693   \n",
       "transmission  0.023535  0.023140  0.022742  0.023568      1.000000   0.020664   \n",
       "condition    -0.012414 -0.012553 -0.006351  0.026693      0.020664   1.000000   \n",
       "odometer      0.001002  0.000980  0.003585  0.006419      0.010129   0.059642   \n",
       "color         0.001532  0.003790  0.001327  0.002120      0.010180   0.027352   \n",
       "interior      0.001532  0.003790  0.001327  0.002120      0.010180   0.027352   \n",
       "\n",
       "              odometer     color  interior  \n",
       "make          0.001002  0.001532  0.001532  \n",
       "model         0.000980  0.003790  0.003790  \n",
       "trim          0.003585  0.001327  0.001327  \n",
       "body          0.006419  0.002120  0.002120  \n",
       "transmission  0.010129  0.010180  0.010180  \n",
       "condition     0.059642  0.027352  0.027352  \n",
       "odometer      1.000000  0.034380  0.034380  \n",
       "color         0.034380  1.000000  1.000000  \n",
       "interior      0.034380  1.000000  1.000000  "
      ]
     },
     "execution_count": 15,
     "metadata": {},
     "output_type": "execute_result"
    }
   ],
   "source": [
    "#посмотрим на корреляцию пропущенных значений в столбцах\n",
    "train_1 = train.iloc[:, [i for i, n in enumerate(np.var(train.isnull(), axis = 'rows')) if n > 0]]\n",
    "train_1.isnull().corr()"
   ]
  },
  {
   "cell_type": "markdown",
   "id": "6340c792",
   "metadata": {},
   "source": [
    "Очень сильная положительная корреляция model с make, trim, сильная корреляция с body. Используем эти данные чтобы создать синтетические признаки."
   ]
  },
  {
   "cell_type": "markdown",
   "id": "9e92d2db",
   "metadata": {},
   "source": [
    "__Рассмотрим столбец model__"
   ]
  },
  {
   "cell_type": "code",
   "execution_count": 16,
   "id": "0abf6384",
   "metadata": {},
   "outputs": [],
   "source": [
    "train.model = train.model.astype(str).str.lower()\n",
    "test.model = test.model.astype(str).str.lower()"
   ]
  },
  {
   "cell_type": "code",
   "execution_count": 17,
   "id": "abe4fdcc",
   "metadata": {},
   "outputs": [
    {
     "name": "stdout",
     "output_type": "stream",
     "text": [
      "840\n"
     ]
    },
    {
     "data": {
      "text/plain": [
       "altima      0.035104\n",
       "f-150       0.025913\n",
       "fusion      0.023269\n",
       "camry       0.022715\n",
       "escape      0.021459\n",
       "focus       0.018676\n",
       "nan         0.018451\n",
       "accord      0.016414\n",
       "3 series    0.014551\n",
       "impala      0.014322\n",
       "Name: model, dtype: float64"
      ]
     },
     "execution_count": 17,
     "metadata": {},
     "output_type": "execute_result"
    }
   ],
   "source": [
    "print(train['model'].nunique())\n",
    "train['model'].value_counts(normalize=True)[0:10]"
   ]
  },
  {
   "cell_type": "code",
   "execution_count": 18,
   "id": "05d97bc8",
   "metadata": {},
   "outputs": [
    {
     "name": "stdout",
     "output_type": "stream",
     "text": [
      "747\n"
     ]
    },
    {
     "data": {
      "text/plain": [
       "altima           0.033946\n",
       "f-150            0.024869\n",
       "fusion           0.023197\n",
       "camry            0.022016\n",
       "escape           0.020862\n",
       "nan              0.018890\n",
       "focus            0.018790\n",
       "accord           0.016573\n",
       "3 series         0.015101\n",
       "grand caravan    0.014556\n",
       "Name: model, dtype: float64"
      ]
     },
     "execution_count": 18,
     "metadata": {},
     "output_type": "execute_result"
    }
   ],
   "source": [
    "print(test['model'].nunique())\n",
    "test['model'].value_counts(normalize=True)[0:10]"
   ]
  },
  {
   "cell_type": "code",
   "execution_count": 19,
   "id": "8e321be0",
   "metadata": {},
   "outputs": [
    {
     "data": {
      "text/plain": [
       "altima      0.033946\n",
       "f-150       0.024869\n",
       "fusion      0.023197\n",
       "camry       0.022016\n",
       "escape      0.020862\n",
       "focus       0.018790\n",
       "nan         0.018890\n",
       "accord      0.016573\n",
       "3 series    0.015101\n",
       "impala      0.014002\n",
       "Name: model, dtype: float64"
      ]
     },
     "execution_count": 19,
     "metadata": {},
     "output_type": "execute_result"
    }
   ],
   "source": [
    "model_top = list(train['model'].value_counts(normalize=True)[0:10].index)\n",
    "test['model'].value_counts(normalize=True).filter(items=model_top)"
   ]
  },
  {
   "cell_type": "markdown",
   "id": "320e1146",
   "metadata": {},
   "source": [
    "Мы видим что в обучающей выборке самые популярные модели есть с пропуском, так же как и в тестовом наборе данных. Сравнив выборки, можно сделать вывод, что в обучающем наборе не хватет модели grand caravan, а в тестовом наборе impala. Заменим пропущенные значения тех моделей, которые мы выявили в топе 10 моделей."
   ]
  },
  {
   "cell_type": "code",
   "execution_count": 20,
   "id": "b01f5923",
   "metadata": {},
   "outputs": [
    {
     "name": "stdout",
     "output_type": "stream",
     "text": [
      "840\n"
     ]
    },
    {
     "data": {
      "text/plain": [
       "altima      0.035104\n",
       "f-150       0.025913\n",
       "fusion      0.023269\n",
       "camry       0.022715\n",
       "escape      0.021459\n",
       "focus       0.018676\n",
       "nan         0.018451\n",
       "accord      0.016414\n",
       "3 series    0.014551\n",
       "impala      0.014322\n",
       "Name: model, dtype: float64"
      ]
     },
     "execution_count": 20,
     "metadata": {},
     "output_type": "execute_result"
    }
   ],
   "source": [
    "train[['model']] = train[['model']].fillna('Grand caravan')\n",
    "print(train['model'].nunique())\n",
    "train['model'].value_counts(normalize=True)[0:10]"
   ]
  },
  {
   "cell_type": "code",
   "execution_count": 21,
   "id": "3b04fffb",
   "metadata": {},
   "outputs": [],
   "source": [
    "train_dic={'nan':'grand caravan'}\n",
    "test_dic={'nan':'impala'}\n",
    "train['model'].replace(train_dic, inplace=True)\n",
    "test['model'].replace(test_dic, inplace=True)"
   ]
  },
  {
   "cell_type": "markdown",
   "id": "2d5a5c9a",
   "metadata": {},
   "source": [
    "__Столбец vin__"
   ]
  },
  {
   "cell_type": "code",
   "execution_count": 22,
   "id": "c7c547d4",
   "metadata": {},
   "outputs": [
    {
     "data": {
      "text/plain": [
       "True"
      ]
     },
     "execution_count": 22,
     "metadata": {},
     "output_type": "execute_result"
    }
   ],
   "source": [
    "#посмотрим есть ли дубликаты в идентификаторе автомобиля\n",
    "train['vin'].is_unique #дубликатов нет"
   ]
  },
  {
   "cell_type": "markdown",
   "id": "382658a3",
   "metadata": {},
   "source": [
    "__Столбец trim__"
   ]
  },
  {
   "cell_type": "code",
   "execution_count": 23,
   "id": "9cd849a1",
   "metadata": {},
   "outputs": [
    {
     "name": "stdout",
     "output_type": "stream",
     "text": [
      "1922\n"
     ]
    },
    {
     "data": {
      "text/plain": [
       "Base       43853\n",
       "SE         34465\n",
       "LX         16490\n",
       "Limited    14514\n",
       "LT         13374\n",
       "Name: trim, dtype: int64"
      ]
     },
     "execution_count": 23,
     "metadata": {},
     "output_type": "execute_result"
    }
   ],
   "source": [
    "print(train['trim'].nunique())\n",
    "train['trim'].value_counts()[0:5]"
   ]
  },
  {
   "cell_type": "code",
   "execution_count": 24,
   "id": "36a038f6",
   "metadata": {},
   "outputs": [
    {
     "name": "stdout",
     "output_type": "stream",
     "text": [
      "1496\n"
     ]
    },
    {
     "data": {
      "text/plain": [
       "Base       11007\n",
       "SE          8715\n",
       "LX          4094\n",
       "Limited     3536\n",
       "LT          3268\n",
       "Name: trim, dtype: int64"
      ]
     },
     "execution_count": 24,
     "metadata": {},
     "output_type": "execute_result"
    }
   ],
   "source": [
    "print(test['trim'].nunique())\n",
    "test['trim'].value_counts()[0:5]"
   ]
  },
  {
   "cell_type": "markdown",
   "id": "eddf880b",
   "metadata": {},
   "source": [
    "Заменим пропущенные значения модификации автомобиля топовым значением"
   ]
  },
  {
   "cell_type": "markdown",
   "id": "6eb81ad7",
   "metadata": {},
   "source": [
    "__Столбец body__"
   ]
  },
  {
   "cell_type": "code",
   "execution_count": 25,
   "id": "cb4ddd57",
   "metadata": {},
   "outputs": [],
   "source": [
    "train.model = train.body.astype(str).str.lower()\n",
    "test.model = test.body.astype(str).str.lower()"
   ]
  },
  {
   "cell_type": "code",
   "execution_count": 26,
   "id": "ad23ff8d",
   "metadata": {},
   "outputs": [
    {
     "name": "stdout",
     "output_type": "stream",
     "text": [
      "['suv' 'Sedan' 'sedan' nan 'SUV' 'wagon' 'Minivan' 'Extended Cab'\n",
      " 'Regular Cab' 'Coupe' 'SuperCrew' 'Wagon' 'convertible' 'Crew Cab'\n",
      " 'SuperCab' 'Convertible' 'Hatchback' 'minivan' 'hatchback' 'G Coupe'\n",
      " 'G Convertible' 'coupe' 'Access Cab' 'G Sedan' 'regular cab'\n",
      " 'e-series van' 'supercrew' 'Quad Cab' 'tsx sport wagon' 'Van' 'g sedan'\n",
      " 'E-Series Van' 'CTS Coupe' 'Koup' 'King Cab' 'extended cab' 'double cab'\n",
      " 'Elantra Coupe' 'koup' 'access cab' 'Double Cab' 'crew cab' 'quad cab'\n",
      " 'g coupe' 'CrewMax Cab' 'supercab' 'g convertible' 'Genesis Coupe' 'van'\n",
      " 'G37 Coupe' 'club cab' 'Beetle Convertible' 'Mega Cab' 'regular-cab'\n",
      " 'Xtracab' 'cts coupe' 'genesis coupe' 'Club Cab' 'q60 coupe' 'mega cab'\n",
      " 'crewmax cab' 'Promaster Cargo Van' 'king cab' 'CTS-V Coupe'\n",
      " 'TSX Sport Wagon' 'CTS Wagon' 'Cab Plus 4' 'G37 Convertible'\n",
      " 'Transit Van' 'Q60 Convertible' 'elantra coupe' 'beetle convertible'\n",
      " 'Q60 Coupe' 'promaster cargo van' 'Cab Plus' 'transit van'\n",
      " 'g37 convertible' 'g37 coupe' 'Ram Van' 'granturismo convertible'\n",
      " 'GranTurismo Convertible' 'cab plus 4' 'xtracab' 'cts-v coupe'\n",
      " 'q60 convertible' 'CTS-V Wagon']\n"
     ]
    }
   ],
   "source": [
    "print(train['body'].unique())"
   ]
  },
  {
   "cell_type": "code",
   "execution_count": 27,
   "id": "f73d7100",
   "metadata": {},
   "outputs": [
    {
     "name": "stdout",
     "output_type": "stream",
     "text": [
      "['Sedan' 'Van' 'SUV' 'Crew Cab' 'wagon' 'G Sedan' 'Hatchback' 'sedan'\n",
      " 'Convertible' 'crew cab' nan 'van' 'Minivan' 'Wagon' 'Coupe' 'suv'\n",
      " 'supercrew' 'minivan' 'SuperCrew' 'quad cab' 'g coupe' 'CrewMax Cab'\n",
      " 'Regular Cab' 'G37 Coupe' 'hatchback' 'Quad Cab' 'regular cab' 'coupe'\n",
      " 'E-Series Van' 'Extended Cab' 'supercab' 'e-series van' 'Access Cab'\n",
      " 'G Coupe' 'convertible' 'Double Cab' 'extended cab' 'SuperCab' 'king cab'\n",
      " 'g sedan' 'CTS Coupe' 'genesis coupe' 'Beetle Convertible' 'access cab'\n",
      " 'Promaster Cargo Van' 'crewmax cab' 'G Convertible' 'Mega Cab' 'koup'\n",
      " 'Elantra Coupe' 'Koup' 'Q60 Convertible' 'g convertible' 'Q60 Coupe'\n",
      " 'double cab' 'Club Cab' 'King Cab' 'CTS-V Coupe' 'Xtracab'\n",
      " 'Genesis Coupe' 'tsx sport wagon' 'club cab' 'mega cab' 'cts coupe'\n",
      " 'elantra coupe' 'cts-v coupe' 'granturismo convertible' 'Cab Plus'\n",
      " 'TSX Sport Wagon' 'promaster cargo van' 'G37 Convertible' 'regular-cab'\n",
      " 'Transit Van' 'CTS Wagon' 'transit van' 'GranTurismo Convertible'\n",
      " 'q60 convertible' 'xtracab']\n"
     ]
    }
   ],
   "source": [
    "print(test['body'].unique())"
   ]
  },
  {
   "cell_type": "code",
   "execution_count": 28,
   "id": "95193d85",
   "metadata": {},
   "outputs": [
    {
     "data": {
      "text/plain": [
       "array(['Sedan', 'Van', 'SUV', 'Crew Cab', 'wagon', 'G Sedan', 'Hatchback',\n",
       "       'sedan', 'Convertible', 'cab', nan, 'van', 'Minivan', 'Wagon',\n",
       "       'Coupe', 'suv', 'supercrew', 'SuperCrew', 'coupe', 'CrewMax Cab',\n",
       "       'Regular Cab', 'G37 Coupe', 'hatchback', 'Quad Cab',\n",
       "       'E-Series Van', 'Extended Cab', 'Access Cab', 'G Coupe',\n",
       "       'convertible', 'Double Cab', 'SuperCab', 'CTS Coupe',\n",
       "       'Beetle Convertible', 'Promaster Cargo Van', 'G Convertible',\n",
       "       'Mega Cab', 'Elantra Coupe', 'Koup', 'Q60 Convertible',\n",
       "       'Q60 Coupe', 'Club Cab', 'King Cab', 'CTS-V Coupe', 'Xtracab',\n",
       "       'Genesis Coupe', 'Cab Plus', 'TSX Sport Wagon', 'G37 Convertible',\n",
       "       'Transit Van', 'CTS Wagon', 'GranTurismo Convertible'],\n",
       "      dtype=object)"
      ]
     },
     "execution_count": 28,
     "metadata": {},
     "output_type": "execute_result"
    }
   ],
   "source": [
    "body_dic={'nan':None, 'incomplete - cutaway':None,\n",
    "          \"extended cab\":\"cab\",'regular cab':'cab',\n",
    "          'crew cab':'cab','supercab':'cab','access cab':'cab',\n",
    "          'quad cab':'cab','king cab':'cab','double cab':'cab',\n",
    "          'crewmax cab':'cab','club cab':'cab',\n",
    "          'mega cab':'cab','regular-cab':'cab','xtracab':'cab',\n",
    "          'cab plus 4':'cab','cab plus':'cab',\n",
    "          'sport utility vehicle (suv)/multi-purpose vehicle (mpv)':'suv',\n",
    "          'g coupe':'coupe','g sedan':'sedan','e-series van':'van',\n",
    "          'minivan':'van','sedan/saloon':'sedan','cargo van':'van',\n",
    "          'cts coupe':'coupe', 'elantra coupe':'coupe',\n",
    "          'hatchback/liftback/notchback':'hatchback','convertible/cabriolet':'cab',\n",
    "           'genesis coupe': 'coupe','incomplete':None, 'g37 coupe':'coupe',\n",
    "           'q60 coupe':'coupe','promaster cargo van':'van','cts-v coupe':'coupe',\n",
    "          'transit van':'van','g convertible':'convertible','g37 convertible':'convertible',\n",
    "          'q60 convertible':'convertible','ram van':'van','granturismo convertible':'convertible',\n",
    "          'cts-v wagon':'wagon', 'tsx sport wagon': 'wagon',\n",
    "          'cts wagon':'wagon','koup':'coupe','beetle convertible':'convertible'\n",
    "         }\n",
    "train['body'].replace(body_dic, inplace=True)\n",
    "test['body'].replace(body_dic, inplace=True)\n",
    "test['body'].unique()"
   ]
  },
  {
   "cell_type": "code",
   "execution_count": 29,
   "id": "d3318053",
   "metadata": {},
   "outputs": [
    {
     "name": "stdout",
     "output_type": "stream",
     "text": [
      "50\n"
     ]
    },
    {
     "data": {
      "text/plain": [
       "Sedan      39255\n",
       "SUV        23540\n",
       "sedan       8510\n",
       "suv         4755\n",
       "Minivan     4250\n",
       "Name: body, dtype: int64"
      ]
     },
     "execution_count": 29,
     "metadata": {},
     "output_type": "execute_result"
    }
   ],
   "source": [
    "print(test['body'].nunique())\n",
    "test['body'].value_counts()[0:5]"
   ]
  },
  {
   "cell_type": "markdown",
   "id": "316ebde4",
   "metadata": {},
   "source": [
    "Заменим пропущенные значения столбца body топовым значением."
   ]
  },
  {
   "cell_type": "markdown",
   "id": "42ef273c",
   "metadata": {},
   "source": [
    "__Столбец transmission__"
   ]
  },
  {
   "cell_type": "code",
   "execution_count": 30,
   "id": "bc586156",
   "metadata": {},
   "outputs": [
    {
     "name": "stdout",
     "output_type": "stream",
     "text": [
      "2\n"
     ]
    },
    {
     "data": {
      "text/plain": [
       "automatic    375061\n",
       "manual        13714\n",
       "Name: transmission, dtype: int64"
      ]
     },
     "execution_count": 30,
     "metadata": {},
     "output_type": "execute_result"
    }
   ],
   "source": [
    "print(train['transmission'].nunique())\n",
    "train['transmission'].value_counts()[0:2]"
   ]
  },
  {
   "cell_type": "code",
   "execution_count": 31,
   "id": "612ae131",
   "metadata": {},
   "outputs": [
    {
     "name": "stdout",
     "output_type": "stream",
     "text": [
      "2\n"
     ]
    },
    {
     "data": {
      "text/plain": [
       "automatic    93584\n",
       "manual        3463\n",
       "Name: transmission, dtype: int64"
      ]
     },
     "execution_count": 31,
     "metadata": {},
     "output_type": "execute_result"
    }
   ],
   "source": [
    "print(test['transmission'].nunique())\n",
    "test['transmission'].value_counts()[0:2]"
   ]
  },
  {
   "cell_type": "markdown",
   "id": "a97d418d",
   "metadata": {},
   "source": [
    "Так как в данных нет универсальной коробки передач, можем предположить, что пропущенные данные имеют вид универсальной коробки. Заменим пропущенные значения заглушкой"
   ]
  },
  {
   "cell_type": "code",
   "execution_count": 32,
   "id": "908e24d4",
   "metadata": {},
   "outputs": [],
   "source": [
    "train.transmission.fillna('univercal', inplace = True)\n",
    "test.transmission.fillna('univercal', inplace = True)"
   ]
  },
  {
   "cell_type": "markdown",
   "id": "4ce66fa0",
   "metadata": {},
   "source": [
    "__Столбец state__"
   ]
  },
  {
   "cell_type": "code",
   "execution_count": 33,
   "id": "1796be97",
   "metadata": {},
   "outputs": [
    {
     "data": {
      "text/plain": [
       "array(['md', 'mo', 'nj', 'tx', 'mi', 'nc', 'fl', 'oh', 'ca', 'az', 'ga',\n",
       "       'tn', 'in', 'pa', 'va', 'wi', 'co', 'ny', 'il', 'nv', 'mn', 'wa',\n",
       "       'sc', 'la', 'ne', 'ok', 'or', 'on', 'ma', 'ab', 'pr', 'hi', 'ut',\n",
       "       'qc', 'ms', 'nm', 'ns', 'al'], dtype=object)"
      ]
     },
     "execution_count": 33,
     "metadata": {},
     "output_type": "execute_result"
    }
   ],
   "source": [
    "train.state.unique()"
   ]
  },
  {
   "cell_type": "code",
   "execution_count": 34,
   "id": "4ea8bcda",
   "metadata": {},
   "outputs": [
    {
     "data": {
      "text/plain": [
       "array(['ca', 'pa', 'oh', 'fl', 'tn', 'nc', 'il', 'ga', 'in', 'mi', 'tx',\n",
       "       'wi', 'ny', 'pr', 'sc', 'wa', 'mn', 'md', 'co', 'va', 'la', 'nv',\n",
       "       'mo', 'ut', 'on', 'ma', 'qc', 'ms', 'nj', 'az', 'hi', 'or', 'ab',\n",
       "       'ne', 'nm', 'ns', 'ok', 'al'], dtype=object)"
      ]
     },
     "execution_count": 34,
     "metadata": {},
     "output_type": "execute_result"
    }
   ],
   "source": [
    "test.state.unique()"
   ]
  },
  {
   "cell_type": "markdown",
   "id": "9853effc",
   "metadata": {},
   "source": [
    "__Столбец odometer__ (столбец odometer и condition пересекаются, это было выявлено в ходе заполнения пропусков)"
   ]
  },
  {
   "cell_type": "code",
   "execution_count": 35,
   "id": "6cd27c03",
   "metadata": {},
   "outputs": [
    {
     "data": {
      "text/plain": [
       "array([111041.,  31034.,  35619., ..., 188944.,  87635., 174269.])"
      ]
     },
     "execution_count": 35,
     "metadata": {},
     "output_type": "execute_result"
    }
   ],
   "source": [
    "train.odometer.unique()"
   ]
  },
  {
   "cell_type": "code",
   "execution_count": 36,
   "id": "da996eca",
   "metadata": {},
   "outputs": [
    {
     "data": {
      "text/plain": [
       "array([116970.,   6286.,  11831., ...,  99488.,  66085., 124036.])"
      ]
     },
     "execution_count": 36,
     "metadata": {},
     "output_type": "execute_result"
    }
   ],
   "source": [
    "test.odometer.unique()"
   ]
  },
  {
   "cell_type": "markdown",
   "id": "b450f8a8",
   "metadata": {},
   "source": [
    "Так как целью проекта было предсказание стоимости автомобиля на вторичном рынке, отсюда следует, что так или иначе новых машин без пробега здесь нет, поэтому пропущенные значения пробега мы заполним средним"
   ]
  },
  {
   "cell_type": "code",
   "execution_count": 37,
   "id": "c0449e9b",
   "metadata": {},
   "outputs": [],
   "source": [
    "train['odometer'] = train['odometer'].fillna(train['odometer'].mean())\n",
    "test['odometer'] = test['odometer'].fillna(test['odometer'].mean())"
   ]
  },
  {
   "cell_type": "markdown",
   "id": "47730107",
   "metadata": {},
   "source": [
    "__Столбец condition__"
   ]
  },
  {
   "cell_type": "code",
   "execution_count": 38,
   "id": "c186d0a1",
   "metadata": {},
   "outputs": [
    {
     "data": {
      "text/plain": [
       "array([4.2, 3.5, 2.2, 2.8, 2. , 2.5, 3.4, 4.8, 1.9, 1. , 3.1, 2.7, 3.6,\n",
       "       2.9, 4.1, 2.6, 2.1, 3. , 4.9, 4.7, 4. , 3.3, 3.8, 3.7, 4.5, 4.6,\n",
       "       5. , 4.3, 2.4, 2.3, 3.9, nan, 3.2, 4.4, 1.4, 1.5, 1.7, 1.2, 1.3,\n",
       "       1.6, 1.8, 1.1])"
      ]
     },
     "execution_count": 38,
     "metadata": {},
     "output_type": "execute_result"
    }
   ],
   "source": [
    "train.condition.unique()"
   ]
  },
  {
   "cell_type": "code",
   "execution_count": 39,
   "id": "9d78cdc9",
   "metadata": {},
   "outputs": [
    {
     "data": {
      "text/plain": [
       "1.9    33207\n",
       "3.5    21016\n",
       "3.7    20399\n",
       "4.4    20027\n",
       "4.3    19712\n",
       "4.2    19345\n",
       "3.6    18209\n",
       "4.1    18108\n",
       "2.0    16431\n",
       "4.0    15797\n",
       "3.9    15623\n",
       "2.8    15012\n",
       "2.9    14823\n",
       "3.8    14785\n",
       "3.4    13654\n",
       "2.7    12837\n",
       "4.9    10305\n",
       "4.8    10040\n",
       "2.5     9900\n",
       "4.6     9897\n",
       "4.5     9660\n",
       "2.6     9403\n",
       "4.7     9058\n",
       "5.0     8862\n",
       "3.3     8459\n",
       "3.0     8451\n",
       "3.2     7861\n",
       "2.4     7378\n",
       "2.1     7260\n",
       "3.1     7258\n",
       "2.3     6436\n",
       "1.0     5855\n",
       "2.2     4742\n",
       "1.8      249\n",
       "1.7      198\n",
       "1.6      132\n",
       "1.5      123\n",
       "1.4      103\n",
       "1.2       74\n",
       "1.1       74\n",
       "1.3       68\n",
       "Name: condition, dtype: int64"
      ]
     },
     "execution_count": 39,
     "metadata": {},
     "output_type": "execute_result"
    }
   ],
   "source": [
    "train.condition.value_counts()"
   ]
  },
  {
   "cell_type": "code",
   "execution_count": 40,
   "id": "50402c9c",
   "metadata": {},
   "outputs": [
    {
     "data": {
      "text/plain": [
       "1.9    8429\n",
       "3.5    5233\n",
       "4.4    5096\n",
       "3.7    5066\n",
       "4.3    4832\n",
       "4.2    4631\n",
       "3.6    4574\n",
       "4.1    4552\n",
       "2.0    4117\n",
       "3.9    3995\n",
       "4.0    3921\n",
       "2.8    3864\n",
       "2.9    3810\n",
       "3.8    3669\n",
       "3.4    3422\n",
       "2.7    3235\n",
       "4.9    2626\n",
       "4.6    2557\n",
       "4.8    2521\n",
       "4.5    2463\n",
       "2.5    2444\n",
       "2.6    2290\n",
       "5.0    2218\n",
       "3.0    2194\n",
       "4.7    2152\n",
       "3.3    1976\n",
       "3.2    1919\n",
       "3.1    1791\n",
       "2.1    1782\n",
       "2.4    1780\n",
       "2.3    1603\n",
       "1.0    1468\n",
       "2.2    1199\n",
       "1.8      69\n",
       "1.6      43\n",
       "1.7      42\n",
       "1.4      29\n",
       "1.2      21\n",
       "1.5      20\n",
       "1.1      13\n",
       "1.3      13\n",
       "Name: condition, dtype: int64"
      ]
     },
     "execution_count": 40,
     "metadata": {},
     "output_type": "execute_result"
    }
   ],
   "source": [
    "test.condition.value_counts()"
   ]
  },
  {
   "cell_type": "markdown",
   "id": "520e5730",
   "metadata": {},
   "source": [
    "Заменим пропущенные значения на 0. Возможно состояние отличное, поэтому появились пропущенные значения."
   ]
  },
  {
   "cell_type": "code",
   "execution_count": 41,
   "id": "6670f6db",
   "metadata": {},
   "outputs": [
    {
     "data": {
      "image/png": "[encoded data removed]",
      "text/plain": [
       "<Figure size 432x288 with 1 Axes>"
      ]
     },
     "metadata": {
      "needs_background": "light"
     },
     "output_type": "display_data"
    }
   ],
   "source": [
    "train.condition.hist(bins=100)\n",
    "plt.xlabel(\"Сondition\")\n",
    "plt.ylabel(\"Количество автомобилей\")\n",
    "plt.title(\"Количество автомобилей столбца condition\", pad=20, fontweight=\"black\", fontsize=20)\n",
    "plt.xticks(rotation=90)\n",
    "plt.show()"
   ]
  },
  {
   "cell_type": "markdown",
   "id": "31d854bb",
   "metadata": {},
   "source": [
    "Большинство продаж состояния 1,9, видимо это среднее состояние машин."
   ]
  },
  {
   "cell_type": "code",
   "execution_count": 42,
   "id": "e6d23c79",
   "metadata": {},
   "outputs": [
    {
     "data": {
      "image/png": "[encoded data removed]",
      "text/plain": [
       "<Figure size 432x288 with 1 Axes>"
      ]
     },
     "metadata": {
      "needs_background": "light"
     },
     "output_type": "display_data"
    }
   ],
   "source": [
    "train['condition'].groupby(train['year']).sum().plot.bar()\n",
    "plt.xlabel(\"year\")\n",
    "plt.ylabel(\"Количество автомобилей\")\n",
    "plt.title(\"Состояние автомобиля в зависимости от года выпуска\", pad=20, fontweight=\"black\", fontsize=20)\n",
    "plt.xticks(rotation=90)\n",
    "plt.show()"
   ]
  },
  {
   "cell_type": "markdown",
   "id": "46d1133d",
   "metadata": {},
   "source": [
    "Среднее состояние 1,9 в основном с 2011г. по 2014г."
   ]
  },
  {
   "cell_type": "code",
   "execution_count": 43,
   "id": "ef90fedd",
   "metadata": {},
   "outputs": [
    {
     "data": {
      "text/html": [
       "<div>\n",
       "<style scoped>\n",
       "    .dataframe tbody tr th:only-of-type {\n",
       "        vertical-align: middle;\n",
       "    }\n",
       "\n",
       "    .dataframe tbody tr th {\n",
       "        vertical-align: top;\n",
       "    }\n",
       "\n",
       "    .dataframe thead th {\n",
       "        text-align: right;\n",
       "    }\n",
       "</style>\n",
       "<table border=\"1\" class=\"dataframe\">\n",
       "  <thead>\n",
       "    <tr style=\"text-align: right;\">\n",
       "      <th></th>\n",
       "      <th>year</th>\n",
       "      <th>make</th>\n",
       "      <th>model</th>\n",
       "      <th>trim</th>\n",
       "      <th>body</th>\n",
       "      <th>transmission</th>\n",
       "      <th>vin</th>\n",
       "      <th>state</th>\n",
       "      <th>condition</th>\n",
       "      <th>odometer</th>\n",
       "      <th>color</th>\n",
       "      <th>interior</th>\n",
       "      <th>seller</th>\n",
       "      <th>sellingprice</th>\n",
       "      <th>saledate</th>\n",
       "    </tr>\n",
       "  </thead>\n",
       "  <tbody>\n",
       "    <tr>\n",
       "      <th>45</th>\n",
       "      <td>2014</td>\n",
       "      <td>Ford</td>\n",
       "      <td>wagon</td>\n",
       "      <td>Limited</td>\n",
       "      <td>Wagon</td>\n",
       "      <td>automatic</td>\n",
       "      <td>2fmgk5d85ebd31213</td>\n",
       "      <td>mo</td>\n",
       "      <td>5.0</td>\n",
       "      <td>5261.0</td>\n",
       "      <td>blue</td>\n",
       "      <td>black</td>\n",
       "      <td>ford motor credit company</td>\n",
       "      <td>26700</td>\n",
       "      <td>2015-02-09 21:30:00+00:00</td>\n",
       "    </tr>\n",
       "    <tr>\n",
       "      <th>63</th>\n",
       "      <td>2011</td>\n",
       "      <td>NaN</td>\n",
       "      <td>nan</td>\n",
       "      <td>NaN</td>\n",
       "      <td>NaN</td>\n",
       "      <td>automatic</td>\n",
       "      <td>1fdne1bw5bda64735</td>\n",
       "      <td>ga</td>\n",
       "      <td>5.0</td>\n",
       "      <td>67159.0</td>\n",
       "      <td>white</td>\n",
       "      <td>gray</td>\n",
       "      <td>vpsi, inc</td>\n",
       "      <td>13200</td>\n",
       "      <td>2015-06-03 20:00:00+00:00</td>\n",
       "    </tr>\n",
       "    <tr>\n",
       "      <th>80</th>\n",
       "      <td>2014</td>\n",
       "      <td>Ford</td>\n",
       "      <td>suv</td>\n",
       "      <td>EL King Ranch</td>\n",
       "      <td>SUV</td>\n",
       "      <td>automatic</td>\n",
       "      <td>1fmjk1j56eef49240</td>\n",
       "      <td>mn</td>\n",
       "      <td>5.0</td>\n",
       "      <td>10103.0</td>\n",
       "      <td>—</td>\n",
       "      <td>tan</td>\n",
       "      <td>ford motor credit company</td>\n",
       "      <td>36300</td>\n",
       "      <td>2015-02-10 18:00:00+00:00</td>\n",
       "    </tr>\n",
       "    <tr>\n",
       "      <th>100</th>\n",
       "      <td>2012</td>\n",
       "      <td>Infiniti</td>\n",
       "      <td>g convertible</td>\n",
       "      <td>G37</td>\n",
       "      <td>G Convertible</td>\n",
       "      <td>automatic</td>\n",
       "      <td>jn1cv6fe0cm202714</td>\n",
       "      <td>ca</td>\n",
       "      <td>5.0</td>\n",
       "      <td>37284.0</td>\n",
       "      <td>blue</td>\n",
       "      <td>gray</td>\n",
       "      <td>aaero sweet company</td>\n",
       "      <td>26500</td>\n",
       "      <td>2015-01-20 20:15:00+00:00</td>\n",
       "    </tr>\n",
       "    <tr>\n",
       "      <th>104</th>\n",
       "      <td>2014</td>\n",
       "      <td>Chevrolet</td>\n",
       "      <td>suv</td>\n",
       "      <td>LT</td>\n",
       "      <td>SUV</td>\n",
       "      <td>automatic</td>\n",
       "      <td>1gnskbe08er171418</td>\n",
       "      <td>mi</td>\n",
       "      <td>5.0</td>\n",
       "      <td>19293.0</td>\n",
       "      <td>silver</td>\n",
       "      <td>beige</td>\n",
       "      <td>gm remarketing</td>\n",
       "      <td>41700</td>\n",
       "      <td>2015-06-03 20:00:00+00:00</td>\n",
       "    </tr>\n",
       "    <tr>\n",
       "      <th>...</th>\n",
       "      <td>...</td>\n",
       "      <td>...</td>\n",
       "      <td>...</td>\n",
       "      <td>...</td>\n",
       "      <td>...</td>\n",
       "      <td>...</td>\n",
       "      <td>...</td>\n",
       "      <td>...</td>\n",
       "      <td>...</td>\n",
       "      <td>...</td>\n",
       "      <td>...</td>\n",
       "      <td>...</td>\n",
       "      <td>...</td>\n",
       "      <td>...</td>\n",
       "      <td>...</td>\n",
       "    </tr>\n",
       "    <tr>\n",
       "      <th>440109</th>\n",
       "      <td>2014</td>\n",
       "      <td>Chevrolet</td>\n",
       "      <td>sedan</td>\n",
       "      <td>LS</td>\n",
       "      <td>Sedan</td>\n",
       "      <td>automatic</td>\n",
       "      <td>1g11b5sl3ef228428</td>\n",
       "      <td>fl</td>\n",
       "      <td>5.0</td>\n",
       "      <td>5221.0</td>\n",
       "      <td>blue</td>\n",
       "      <td>gray</td>\n",
       "      <td>gm financial</td>\n",
       "      <td>14800</td>\n",
       "      <td>2014-12-30 04:15:00+00:00</td>\n",
       "    </tr>\n",
       "    <tr>\n",
       "      <th>440116</th>\n",
       "      <td>2012</td>\n",
       "      <td>Ford</td>\n",
       "      <td>sedan</td>\n",
       "      <td>SEL</td>\n",
       "      <td>Sedan</td>\n",
       "      <td>automatic</td>\n",
       "      <td>3fahp0ja0cr363253</td>\n",
       "      <td>co</td>\n",
       "      <td>5.0</td>\n",
       "      <td>21584.0</td>\n",
       "      <td>black</td>\n",
       "      <td>black</td>\n",
       "      <td>ford motor credit company,llc pd</td>\n",
       "      <td>14800</td>\n",
       "      <td>2015-05-26 21:00:00+00:00</td>\n",
       "    </tr>\n",
       "    <tr>\n",
       "      <th>440152</th>\n",
       "      <td>2015</td>\n",
       "      <td>Chevrolet</td>\n",
       "      <td>suv</td>\n",
       "      <td>LS</td>\n",
       "      <td>SUV</td>\n",
       "      <td>automatic</td>\n",
       "      <td>2gnfleek4f6175951</td>\n",
       "      <td>mi</td>\n",
       "      <td>5.0</td>\n",
       "      <td>7925.0</td>\n",
       "      <td>blue</td>\n",
       "      <td>black</td>\n",
       "      <td>larry hudson chevrolet buick gmc inc</td>\n",
       "      <td>19300</td>\n",
       "      <td>2015-05-27 19:30:00+00:00</td>\n",
       "    </tr>\n",
       "    <tr>\n",
       "      <th>440153</th>\n",
       "      <td>2013</td>\n",
       "      <td>Chevrolet</td>\n",
       "      <td>suv</td>\n",
       "      <td>LS</td>\n",
       "      <td>SUV</td>\n",
       "      <td>automatic</td>\n",
       "      <td>1gnkvfed8dj120063</td>\n",
       "      <td>mi</td>\n",
       "      <td>5.0</td>\n",
       "      <td>23646.0</td>\n",
       "      <td>blue</td>\n",
       "      <td>gray</td>\n",
       "      <td>gm financial leasing</td>\n",
       "      <td>22000</td>\n",
       "      <td>2015-01-14 17:30:00+00:00</td>\n",
       "    </tr>\n",
       "    <tr>\n",
       "      <th>440168</th>\n",
       "      <td>2015</td>\n",
       "      <td>BMW</td>\n",
       "      <td>suv</td>\n",
       "      <td>xDrive28i</td>\n",
       "      <td>SUV</td>\n",
       "      <td>automatic</td>\n",
       "      <td>wbavl1c53fvy32371</td>\n",
       "      <td>nj</td>\n",
       "      <td>5.0</td>\n",
       "      <td>6953.0</td>\n",
       "      <td>gray</td>\n",
       "      <td>black</td>\n",
       "      <td>bmw north america greer</td>\n",
       "      <td>33750</td>\n",
       "      <td>2015-02-09 22:00:00+00:00</td>\n",
       "    </tr>\n",
       "  </tbody>\n",
       "</table>\n",
       "<p>8862 rows × 15 columns</p>\n",
       "</div>"
      ],
      "text/plain": [
       "        year       make          model           trim           body  \\\n",
       "45      2014       Ford          wagon        Limited          Wagon   \n",
       "63      2011        NaN            nan            NaN            NaN   \n",
       "80      2014       Ford            suv  EL King Ranch            SUV   \n",
       "100     2012   Infiniti  g convertible            G37  G Convertible   \n",
       "104     2014  Chevrolet            suv             LT            SUV   \n",
       "...      ...        ...            ...            ...            ...   \n",
       "440109  2014  Chevrolet          sedan             LS          Sedan   \n",
       "440116  2012       Ford          sedan            SEL          Sedan   \n",
       "440152  2015  Chevrolet            suv             LS            SUV   \n",
       "440153  2013  Chevrolet            suv             LS            SUV   \n",
       "440168  2015        BMW            suv      xDrive28i            SUV   \n",
       "\n",
       "       transmission                vin state  condition  odometer   color  \\\n",
       "45        automatic  2fmgk5d85ebd31213    mo        5.0    5261.0    blue   \n",
       "63        automatic  1fdne1bw5bda64735    ga        5.0   67159.0   white   \n",
       "80        automatic  1fmjk1j56eef49240    mn        5.0   10103.0       —   \n",
       "100       automatic  jn1cv6fe0cm202714    ca        5.0   37284.0    blue   \n",
       "104       automatic  1gnskbe08er171418    mi        5.0   19293.0  silver   \n",
       "...             ...                ...   ...        ...       ...     ...   \n",
       "440109    automatic  1g11b5sl3ef228428    fl        5.0    5221.0    blue   \n",
       "440116    automatic  3fahp0ja0cr363253    co        5.0   21584.0   black   \n",
       "440152    automatic  2gnfleek4f6175951    mi        5.0    7925.0    blue   \n",
       "440153    automatic  1gnkvfed8dj120063    mi        5.0   23646.0    blue   \n",
       "440168    automatic  wbavl1c53fvy32371    nj        5.0    6953.0    gray   \n",
       "\n",
       "       interior                                seller  sellingprice  \\\n",
       "45        black             ford motor credit company         26700   \n",
       "63         gray                             vpsi, inc         13200   \n",
       "80          tan             ford motor credit company         36300   \n",
       "100        gray                   aaero sweet company         26500   \n",
       "104       beige                        gm remarketing         41700   \n",
       "...         ...                                   ...           ...   \n",
       "440109     gray                          gm financial         14800   \n",
       "440116    black      ford motor credit company,llc pd         14800   \n",
       "440152    black  larry hudson chevrolet buick gmc inc         19300   \n",
       "440153     gray                  gm financial leasing         22000   \n",
       "440168    black               bmw north america greer         33750   \n",
       "\n",
       "                        saledate  \n",
       "45     2015-02-09 21:30:00+00:00  \n",
       "63     2015-06-03 20:00:00+00:00  \n",
       "80     2015-02-10 18:00:00+00:00  \n",
       "100    2015-01-20 20:15:00+00:00  \n",
       "104    2015-06-03 20:00:00+00:00  \n",
       "...                          ...  \n",
       "440109 2014-12-30 04:15:00+00:00  \n",
       "440116 2015-05-26 21:00:00+00:00  \n",
       "440152 2015-05-27 19:30:00+00:00  \n",
       "440153 2015-01-14 17:30:00+00:00  \n",
       "440168 2015-02-09 22:00:00+00:00  \n",
       "\n",
       "[8862 rows x 15 columns]"
      ]
     },
     "execution_count": 43,
     "metadata": {},
     "output_type": "execute_result"
    }
   ],
   "source": [
    "train[train['condition']==train['condition'].max()]"
   ]
  },
  {
   "cell_type": "code",
   "execution_count": 44,
   "id": "b78de5e9",
   "metadata": {},
   "outputs": [
    {
     "data": {
      "text/html": [
       "<div>\n",
       "<style scoped>\n",
       "    .dataframe tbody tr th:only-of-type {\n",
       "        vertical-align: middle;\n",
       "    }\n",
       "\n",
       "    .dataframe tbody tr th {\n",
       "        vertical-align: top;\n",
       "    }\n",
       "\n",
       "    .dataframe thead th {\n",
       "        text-align: right;\n",
       "    }\n",
       "</style>\n",
       "<table border=\"1\" class=\"dataframe\">\n",
       "  <thead>\n",
       "    <tr style=\"text-align: right;\">\n",
       "      <th></th>\n",
       "      <th>year</th>\n",
       "      <th>make</th>\n",
       "      <th>model</th>\n",
       "      <th>trim</th>\n",
       "      <th>body</th>\n",
       "      <th>transmission</th>\n",
       "      <th>vin</th>\n",
       "      <th>state</th>\n",
       "      <th>condition</th>\n",
       "      <th>odometer</th>\n",
       "      <th>color</th>\n",
       "      <th>interior</th>\n",
       "      <th>seller</th>\n",
       "      <th>sellingprice</th>\n",
       "      <th>saledate</th>\n",
       "    </tr>\n",
       "  </thead>\n",
       "  <tbody>\n",
       "    <tr>\n",
       "      <th>9</th>\n",
       "      <td>2005</td>\n",
       "      <td>Ford</td>\n",
       "      <td>wagon</td>\n",
       "      <td>Limited</td>\n",
       "      <td>wagon</td>\n",
       "      <td>automatic</td>\n",
       "      <td>1fmdk06135ga45438</td>\n",
       "      <td>oh</td>\n",
       "      <td>1.0</td>\n",
       "      <td>149364.0</td>\n",
       "      <td>black</td>\n",
       "      <td>tan</td>\n",
       "      <td>wells fargo dealer services</td>\n",
       "      <td>325</td>\n",
       "      <td>2015-06-15 22:00:00+00:00</td>\n",
       "    </tr>\n",
       "    <tr>\n",
       "      <th>37</th>\n",
       "      <td>2013</td>\n",
       "      <td>Chevrolet</td>\n",
       "      <td>sedan</td>\n",
       "      <td>LT</td>\n",
       "      <td>Sedan</td>\n",
       "      <td>automatic</td>\n",
       "      <td>1g11c5sa3df299624</td>\n",
       "      <td>ca</td>\n",
       "      <td>1.0</td>\n",
       "      <td>47359.0</td>\n",
       "      <td>white</td>\n",
       "      <td>black</td>\n",
       "      <td>fox rent a car tra</td>\n",
       "      <td>4000</td>\n",
       "      <td>2015-02-02 21:00:00+00:00</td>\n",
       "    </tr>\n",
       "    <tr>\n",
       "      <th>91</th>\n",
       "      <td>2004</td>\n",
       "      <td>Ford</td>\n",
       "      <td>supercab</td>\n",
       "      <td>XLT</td>\n",
       "      <td>SuperCab</td>\n",
       "      <td>univercal</td>\n",
       "      <td>1ftpx12584nb89868</td>\n",
       "      <td>ca</td>\n",
       "      <td>1.0</td>\n",
       "      <td>108069.0</td>\n",
       "      <td>black</td>\n",
       "      <td>gray</td>\n",
       "      <td>jpmorgan chase bank,n.a.</td>\n",
       "      <td>2800</td>\n",
       "      <td>2014-12-16 05:00:00+00:00</td>\n",
       "    </tr>\n",
       "    <tr>\n",
       "      <th>166</th>\n",
       "      <td>1996</td>\n",
       "      <td>Lincoln</td>\n",
       "      <td>sedan</td>\n",
       "      <td>Executive</td>\n",
       "      <td>Sedan</td>\n",
       "      <td>automatic</td>\n",
       "      <td>1lnlm81w4ty734791</td>\n",
       "      <td>fl</td>\n",
       "      <td>1.0</td>\n",
       "      <td>154780.0</td>\n",
       "      <td>beige</td>\n",
       "      <td>tan</td>\n",
       "      <td>all star autos</td>\n",
       "      <td>800</td>\n",
       "      <td>2015-02-17 23:00:00+00:00</td>\n",
       "    </tr>\n",
       "    <tr>\n",
       "      <th>238</th>\n",
       "      <td>2001</td>\n",
       "      <td>Isuzu</td>\n",
       "      <td>suv</td>\n",
       "      <td>LS</td>\n",
       "      <td>SUV</td>\n",
       "      <td>automatic</td>\n",
       "      <td>4s2dm58w914313901</td>\n",
       "      <td>va</td>\n",
       "      <td>1.0</td>\n",
       "      <td>123773.0</td>\n",
       "      <td>silver</td>\n",
       "      <td>gray</td>\n",
       "      <td>automotive remarketing inc</td>\n",
       "      <td>900</td>\n",
       "      <td>2015-01-13 17:05:00+00:00</td>\n",
       "    </tr>\n",
       "    <tr>\n",
       "      <th>...</th>\n",
       "      <td>...</td>\n",
       "      <td>...</td>\n",
       "      <td>...</td>\n",
       "      <td>...</td>\n",
       "      <td>...</td>\n",
       "      <td>...</td>\n",
       "      <td>...</td>\n",
       "      <td>...</td>\n",
       "      <td>...</td>\n",
       "      <td>...</td>\n",
       "      <td>...</td>\n",
       "      <td>...</td>\n",
       "      <td>...</td>\n",
       "      <td>...</td>\n",
       "      <td>...</td>\n",
       "    </tr>\n",
       "    <tr>\n",
       "      <th>439575</th>\n",
       "      <td>2000</td>\n",
       "      <td>Lincoln</td>\n",
       "      <td>sedan</td>\n",
       "      <td>V8</td>\n",
       "      <td>Sedan</td>\n",
       "      <td>automatic</td>\n",
       "      <td>1lnhm87a6yy798551</td>\n",
       "      <td>az</td>\n",
       "      <td>1.0</td>\n",
       "      <td>232343.0</td>\n",
       "      <td>red</td>\n",
       "      <td>tan</td>\n",
       "      <td>cash time title loans</td>\n",
       "      <td>650</td>\n",
       "      <td>2015-01-13 19:00:00+00:00</td>\n",
       "    </tr>\n",
       "    <tr>\n",
       "      <th>439621</th>\n",
       "      <td>2009</td>\n",
       "      <td>Mazda</td>\n",
       "      <td>coupe</td>\n",
       "      <td>Sport</td>\n",
       "      <td>coupe</td>\n",
       "      <td>automatic</td>\n",
       "      <td>jm1fe17p990401113</td>\n",
       "      <td>tx</td>\n",
       "      <td>1.0</td>\n",
       "      <td>90539.0</td>\n",
       "      <td>black</td>\n",
       "      <td>black</td>\n",
       "      <td>santander consumer</td>\n",
       "      <td>2100</td>\n",
       "      <td>2015-06-02 22:30:00+00:00</td>\n",
       "    </tr>\n",
       "    <tr>\n",
       "      <th>439922</th>\n",
       "      <td>2001</td>\n",
       "      <td>Honda</td>\n",
       "      <td>sedan</td>\n",
       "      <td>Value Package</td>\n",
       "      <td>Sedan</td>\n",
       "      <td>univercal</td>\n",
       "      <td>1hgcf86691a076674</td>\n",
       "      <td>oh</td>\n",
       "      <td>1.0</td>\n",
       "      <td>1.0</td>\n",
       "      <td>silver</td>\n",
       "      <td>gray</td>\n",
       "      <td>select remarketing group llc/loan max title</td>\n",
       "      <td>300</td>\n",
       "      <td>2014-12-30 05:00:00+00:00</td>\n",
       "    </tr>\n",
       "    <tr>\n",
       "      <th>440147</th>\n",
       "      <td>2009</td>\n",
       "      <td>Honda</td>\n",
       "      <td>minivan</td>\n",
       "      <td>EX</td>\n",
       "      <td>Minivan</td>\n",
       "      <td>automatic</td>\n",
       "      <td>5fnrl384x9b052581</td>\n",
       "      <td>fl</td>\n",
       "      <td>1.0</td>\n",
       "      <td>46756.0</td>\n",
       "      <td>gray</td>\n",
       "      <td>gray</td>\n",
       "      <td>regional acceptance corporation / greenville</td>\n",
       "      <td>3300</td>\n",
       "      <td>2014-12-22 01:30:00+00:00</td>\n",
       "    </tr>\n",
       "    <tr>\n",
       "      <th>440163</th>\n",
       "      <td>2005</td>\n",
       "      <td>Ford</td>\n",
       "      <td>regular cab</td>\n",
       "      <td>XL</td>\n",
       "      <td>cab</td>\n",
       "      <td>manual</td>\n",
       "      <td>1ftyr10d25pa98206</td>\n",
       "      <td>fl</td>\n",
       "      <td>1.0</td>\n",
       "      <td>135639.0</td>\n",
       "      <td>white</td>\n",
       "      <td>gray</td>\n",
       "      <td>autonation ford fort lauderdale</td>\n",
       "      <td>600</td>\n",
       "      <td>2015-06-16 05:05:00+00:00</td>\n",
       "    </tr>\n",
       "  </tbody>\n",
       "</table>\n",
       "<p>5855 rows × 15 columns</p>\n",
       "</div>"
      ],
      "text/plain": [
       "        year       make        model           trim      body transmission  \\\n",
       "9       2005       Ford        wagon        Limited     wagon    automatic   \n",
       "37      2013  Chevrolet        sedan             LT     Sedan    automatic   \n",
       "91      2004       Ford     supercab            XLT  SuperCab    univercal   \n",
       "166     1996    Lincoln        sedan      Executive     Sedan    automatic   \n",
       "238     2001      Isuzu          suv             LS       SUV    automatic   \n",
       "...      ...        ...          ...            ...       ...          ...   \n",
       "439575  2000    Lincoln        sedan             V8     Sedan    automatic   \n",
       "439621  2009      Mazda        coupe          Sport     coupe    automatic   \n",
       "439922  2001      Honda        sedan  Value Package     Sedan    univercal   \n",
       "440147  2009      Honda      minivan             EX   Minivan    automatic   \n",
       "440163  2005       Ford  regular cab             XL       cab       manual   \n",
       "\n",
       "                      vin state  condition  odometer   color interior  \\\n",
       "9       1fmdk06135ga45438    oh        1.0  149364.0   black      tan   \n",
       "37      1g11c5sa3df299624    ca        1.0   47359.0   white    black   \n",
       "91      1ftpx12584nb89868    ca        1.0  108069.0   black     gray   \n",
       "166     1lnlm81w4ty734791    fl        1.0  154780.0   beige      tan   \n",
       "238     4s2dm58w914313901    va        1.0  123773.0  silver     gray   \n",
       "...                   ...   ...        ...       ...     ...      ...   \n",
       "439575  1lnhm87a6yy798551    az        1.0  232343.0     red      tan   \n",
       "439621  jm1fe17p990401113    tx        1.0   90539.0   black    black   \n",
       "439922  1hgcf86691a076674    oh        1.0       1.0  silver     gray   \n",
       "440147  5fnrl384x9b052581    fl        1.0   46756.0    gray     gray   \n",
       "440163  1ftyr10d25pa98206    fl        1.0  135639.0   white     gray   \n",
       "\n",
       "                                              seller  sellingprice  \\\n",
       "9                        wells fargo dealer services           325   \n",
       "37                                fox rent a car tra          4000   \n",
       "91                          jpmorgan chase bank,n.a.          2800   \n",
       "166                                   all star autos           800   \n",
       "238                       automotive remarketing inc           900   \n",
       "...                                              ...           ...   \n",
       "439575                         cash time title loans           650   \n",
       "439621                            santander consumer          2100   \n",
       "439922   select remarketing group llc/loan max title           300   \n",
       "440147  regional acceptance corporation / greenville          3300   \n",
       "440163               autonation ford fort lauderdale           600   \n",
       "\n",
       "                        saledate  \n",
       "9      2015-06-15 22:00:00+00:00  \n",
       "37     2015-02-02 21:00:00+00:00  \n",
       "91     2014-12-16 05:00:00+00:00  \n",
       "166    2015-02-17 23:00:00+00:00  \n",
       "238    2015-01-13 17:05:00+00:00  \n",
       "...                          ...  \n",
       "439575 2015-01-13 19:00:00+00:00  \n",
       "439621 2015-06-02 22:30:00+00:00  \n",
       "439922 2014-12-30 05:00:00+00:00  \n",
       "440147 2014-12-22 01:30:00+00:00  \n",
       "440163 2015-06-16 05:05:00+00:00  \n",
       "\n",
       "[5855 rows x 15 columns]"
      ]
     },
     "execution_count": 44,
     "metadata": {},
     "output_type": "execute_result"
    }
   ],
   "source": [
    "train[train['condition']==train['condition'].min()]"
   ]
  },
  {
   "cell_type": "code",
   "execution_count": 45,
   "id": "4668ed10",
   "metadata": {},
   "outputs": [],
   "source": [
    "knn_imputer = KNNImputer(n_neighbors=2, weights=\"uniform\")\n",
    "col_condition = ['condition']\n",
    "train[col_condition] = knn_imputer.fit_transform(train[col_condition])\n",
    "test[col_condition] = knn_imputer.transform(test[col_condition])"
   ]
  },
  {
   "cell_type": "markdown",
   "id": "bc46a1e7",
   "metadata": {},
   "source": [
    "Максимальное состояние автомобиля имеет как средний, так и высокий пробег. Поэтому мы решили обработать пропуски методом ближайших соседей."
   ]
  },
  {
   "cell_type": "markdown",
   "id": "ebb7e518",
   "metadata": {},
   "source": [
    "__Столбец color__"
   ]
  },
  {
   "cell_type": "code",
   "execution_count": 46,
   "id": "cb565caf",
   "metadata": {},
   "outputs": [
    {
     "data": {
      "text/plain": [
       "array(['black', 'gold', 'silver', 'blue', 'white', 'gray', '—', 'red',\n",
       "       'brown', 'green', 'beige', 'orange', nan, 'off-white', 'burgundy',\n",
       "       'yellow', 'charcoal', 'purple', 'turquoise', 'lime', 'pink'],\n",
       "      dtype=object)"
      ]
     },
     "execution_count": 46,
     "metadata": {},
     "output_type": "execute_result"
    }
   ],
   "source": [
    "train.color.unique()"
   ]
  },
  {
   "cell_type": "code",
   "execution_count": 47,
   "id": "d89f91fe",
   "metadata": {},
   "outputs": [
    {
     "data": {
      "text/plain": [
       "array(['silver', 'white', 'gray', 'black', 'blue', 'red', 'burgundy',\n",
       "       'off-white', 'gold', 'green', 'orange', 'charcoal', 'brown', '—',\n",
       "       'beige', 'yellow', 'purple', nan, 'turquoise', 'pink', 'lime'],\n",
       "      dtype=object)"
      ]
     },
     "execution_count": 47,
     "metadata": {},
     "output_type": "execute_result"
    }
   ],
   "source": [
    "test.color.unique()"
   ]
  },
  {
   "cell_type": "code",
   "execution_count": 48,
   "id": "85204d8a",
   "metadata": {},
   "outputs": [
    {
     "data": {
      "text/plain": [
       "black     0.198146\n",
       "white     0.191400\n",
       "silver    0.149362\n",
       "gray      0.148491\n",
       "blue      0.091521\n",
       "red       0.078503\n",
       "—         0.044399\n",
       "green     0.020414\n",
       "gold      0.020321\n",
       "beige     0.016506\n",
       "Name: color, dtype: float64"
      ]
     },
     "execution_count": 48,
     "metadata": {},
     "output_type": "execute_result"
    }
   ],
   "source": [
    "color_top = list(train['color'].value_counts(normalize=True)[0:10].index)\n",
    "train['color'].value_counts(normalize=True).filter(items=color_top)"
   ]
  },
  {
   "cell_type": "code",
   "execution_count": 49,
   "id": "a5f9b511",
   "metadata": {},
   "outputs": [
    {
     "data": {
      "text/plain": [
       "black     0.200237\n",
       "white     0.190428\n",
       "silver    0.148863\n",
       "gray      0.148753\n",
       "blue      0.092630\n",
       "red       0.076288\n",
       "—         0.045023\n",
       "green     0.020655\n",
       "gold      0.020082\n",
       "beige     0.016615\n",
       "Name: color, dtype: float64"
      ]
     },
     "execution_count": 49,
     "metadata": {},
     "output_type": "execute_result"
    }
   ],
   "source": [
    "color_top = list(test['color'].value_counts(normalize=True)[0:10].index)\n",
    "test['color'].value_counts(normalize=True).filter(items=color_top)"
   ]
  },
  {
   "cell_type": "markdown",
   "id": "33441ded",
   "metadata": {},
   "source": [
    "Заменим значения цвета топовым значением"
   ]
  },
  {
   "cell_type": "code",
   "execution_count": 50,
   "id": "80727c4d",
   "metadata": {},
   "outputs": [],
   "source": [
    "train['color'] = train['color'].str.replace(\"—\", \"black\")\n",
    "test['color'] = test['color'].str.replace(\"—\", \"black\")"
   ]
  },
  {
   "cell_type": "markdown",
   "id": "2fc5be3e",
   "metadata": {},
   "source": [
    "__Столбец seller___"
   ]
  },
  {
   "cell_type": "code",
   "execution_count": 51,
   "id": "cb7e7c73",
   "metadata": {},
   "outputs": [
    {
     "name": "stdout",
     "output_type": "stream",
     "text": [
      "13025\n"
     ]
    },
    {
     "data": {
      "text/plain": [
       "nissan-infiniti lt                       0.035942\n",
       "ford motor credit company,llc            0.034700\n",
       "the hertz corporation                    0.033373\n",
       "santander consumer                       0.027781\n",
       "avis corporation                         0.022938\n",
       "nissan infiniti lt                       0.018090\n",
       "wells fargo dealer services              0.016039\n",
       "enterprise veh exchange/rental           0.012530\n",
       "tdaf remarketing                         0.012275\n",
       "ge fleet services for itself/servicer    0.012193\n",
       "Name: seller, dtype: float64"
      ]
     },
     "execution_count": 51,
     "metadata": {},
     "output_type": "execute_result"
    }
   ],
   "source": [
    "print(train['seller'].nunique())\n",
    "train['seller'].value_counts(normalize=True)[0:10]"
   ]
  },
  {
   "cell_type": "code",
   "execution_count": 52,
   "id": "3baa126c",
   "metadata": {},
   "outputs": [
    {
     "name": "stdout",
     "output_type": "stream",
     "text": [
      "7623\n"
     ]
    },
    {
     "data": {
      "text/plain": [
       "ford motor credit company,llc            0.035054\n",
       "nissan-infiniti lt                       0.035000\n",
       "the hertz corporation                    0.032637\n",
       "santander consumer                       0.027649\n",
       "avis corporation                         0.022079\n",
       "nissan infiniti lt                       0.018090\n",
       "wells fargo dealer services              0.015583\n",
       "hyundai motor finance                    0.012393\n",
       "enterprise veh exchange/rental           0.012130\n",
       "ge fleet services for itself/servicer    0.011839\n",
       "Name: seller, dtype: float64"
      ]
     },
     "execution_count": 52,
     "metadata": {},
     "output_type": "execute_result"
    }
   ],
   "source": [
    "print(test['seller'].nunique())\n",
    "test['seller'].value_counts(normalize=True)[0:10]"
   ]
  },
  {
   "cell_type": "code",
   "execution_count": 53,
   "id": "ea334c58",
   "metadata": {},
   "outputs": [
    {
     "data": {
      "text/plain": [
       "nissan-infiniti lt                       0.035000\n",
       "ford motor credit company,llc            0.035054\n",
       "the hertz corporation                    0.032637\n",
       "santander consumer                       0.027649\n",
       "avis corporation                         0.022079\n",
       "nissan infiniti lt                       0.018090\n",
       "wells fargo dealer services              0.015583\n",
       "enterprise veh exchange/rental           0.012130\n",
       "tdaf remarketing                         0.011712\n",
       "ge fleet services for itself/servicer    0.011839\n",
       "Name: seller, dtype: float64"
      ]
     },
     "execution_count": 53,
     "metadata": {},
     "output_type": "execute_result"
    }
   ],
   "source": [
    "seller_top = list(train['seller'].value_counts(normalize=True)[0:10].index)\n",
    "test['seller'].value_counts(normalize=True).filter(items=seller_top)"
   ]
  },
  {
   "cell_type": "markdown",
   "id": "0ad4c0f5",
   "metadata": {},
   "source": [
    "Топ 10 отличается по продавцам в набрах данных. Здесь пропущенных значений нет, все значения уникальны. Так как это б/у автомобили, мы удалим этот столбец, у него очень много уникальных значений, и много слов в каждой строке, которые мы не сможем сгруппировать."
   ]
  },
  {
   "cell_type": "markdown",
   "id": "73b3b3af",
   "metadata": {},
   "source": [
    "__Стобец make__"
   ]
  },
  {
   "cell_type": "code",
   "execution_count": 54,
   "id": "51b90a94",
   "metadata": {},
   "outputs": [],
   "source": [
    "train.make = train.make.astype(str).str.lower()\n",
    "test.make = test.make.astype(str).str.lower()"
   ]
  },
  {
   "cell_type": "code",
   "execution_count": 55,
   "id": "1ab3b3e7",
   "metadata": {},
   "outputs": [
    {
     "data": {
      "text/plain": [
       "array(['ford', 'nissan', 'hummer', 'lincoln', 'pontiac', 'hyundai', 'nan',\n",
       "       'buick', 'chevrolet', 'honda', 'acura', 'cadillac', 'gmc', 'saab',\n",
       "       'dodge', 'mercedes-benz', 'toyota', 'volkswagen', 'bmw',\n",
       "       'infiniti', 'chrysler', 'kia', 'jaguar', 'subaru', 'jeep', 'lexus',\n",
       "       'mercedes', 'scion', 'fiat', 'suzuki', 'mazda', 'volvo', 'audi',\n",
       "       'mini', 'isuzu', 'mitsubishi', 'smart', 'porsche', 'land rover',\n",
       "       'saturn', 'ram', 'oldsmobile', 'mercury', 'bentley', 'fisker',\n",
       "       'maserati', 'tesla', 'landrover', 'vw', 'gmc truck', 'rolls-royce',\n",
       "       'ferrari', 'plymouth', 'lamborghini', 'geo', 'ford truck',\n",
       "       'aston martin', 'daewoo', 'mercedes-b', 'dodge tk', 'mazda tk',\n",
       "       'dot', 'airstream'], dtype=object)"
      ]
     },
     "execution_count": 55,
     "metadata": {},
     "output_type": "execute_result"
    }
   ],
   "source": [
    "train.make.unique()"
   ]
  },
  {
   "cell_type": "code",
   "execution_count": 56,
   "id": "d0f591a1",
   "metadata": {},
   "outputs": [
    {
     "data": {
      "text/plain": [
       "array(['cadillac', 'gmc', 'nissan', 'chevrolet', 'volkswagen', 'hyundai',\n",
       "       'ford', 'infiniti', 'subaru', 'kia', 'bmw', 'nan', 'mitsubishi',\n",
       "       'dodge', 'oldsmobile', 'volvo', 'pontiac', 'acura', 'honda',\n",
       "       'toyota', 'audi', 'jeep', 'lincoln', 'chrysler', 'mercedes-benz',\n",
       "       'ram', 'scion', 'mercury', 'lexus', 'saturn', 'mazda', 'porsche',\n",
       "       'mini', 'smart', 'buick', 'hummer', 'jaguar', 'fiat', 'saab',\n",
       "       'suzuki', 'land rover', 'landrover', 'geo', 'chev truck',\n",
       "       'bentley', 'isuzu', 'aston martin', 'maserati', 'daewoo', 'vw',\n",
       "       'tesla', 'mercedes', 'ferrari', 'fisker', 'rolls-royce', 'lotus',\n",
       "       'plymouth', 'hyundai tk', 'ford tk'], dtype=object)"
      ]
     },
     "execution_count": 56,
     "metadata": {},
     "output_type": "execute_result"
    }
   ],
   "source": [
    "test.make.unique()"
   ]
  },
  {
   "cell_type": "code",
   "execution_count": 57,
   "id": "804ff271",
   "metadata": {},
   "outputs": [],
   "source": [
    "#переименуем некоторые значения столбца чтобы не дублировать марки машин\n",
    "def replace(a, b):\n",
    "    train['make'].replace(a, b, inplace=True)\n",
    "\n",
    "replace('mazda tk','mazda')\n",
    "replace('dodge tk','dodge')\n",
    "replace('mercedes-b','mercedes-benz')\n",
    "replace('vw','volkswagen')\n",
    "replace('mercedes','mercedes-benz')\n",
    "replace('landrover','land rover')"
   ]
  },
  {
   "cell_type": "code",
   "execution_count": 58,
   "id": "69759e20",
   "metadata": {},
   "outputs": [],
   "source": [
    "def replace(a, b):\n",
    "    test['make'].replace(a, b, inplace=True)\n",
    "\n",
    "replace('mazda tk','mazda')\n",
    "replace('dodge tk','dodge')\n",
    "replace('mercedes-b','mercedes-benz')\n",
    "replace('vw','volkswagen')\n",
    "replace('mercedes','mercedes-benz')\n",
    "replace('landrover','land rover')\n",
    "replace('hyundai tk','hyundai')\n",
    "replace('ford tk','ford')"
   ]
  },
  {
   "cell_type": "code",
   "execution_count": 59,
   "id": "57d555d1",
   "metadata": {},
   "outputs": [
    {
     "data": {
      "image/png": "[encoded data removed]",
      "text/plain": [
       "<Figure size 1008x432 with 1 Axes>"
      ]
     },
     "metadata": {
      "needs_background": "light"
     },
     "output_type": "display_data"
    }
   ],
   "source": [
    "plt.figure(figsize=(14,6))\n",
    "counts = train[\"make\"].value_counts()\n",
    "sns.barplot(x=counts.index, y=counts.values)\n",
    "plt.xlabel(\"Марка автомобиля\")\n",
    "plt.ylabel(\"Количество проданных автомобилей\")\n",
    "plt.title(\"Продажи по маркам автомобилей\", pad=20, fontweight=\"black\", fontsize=20)\n",
    "plt.xticks(rotation=90)\n",
    "plt.show()"
   ]
  },
  {
   "cell_type": "code",
   "execution_count": 60,
   "id": "e50fad52",
   "metadata": {},
   "outputs": [
    {
     "name": "stdout",
     "output_type": "stream",
     "text": [
      "Name : ford\n",
      "Counts : 18466\n",
      "Name : chevrolet\n",
      "Counts : 11801\n",
      "Name : nissan\n",
      "Counts : 10485\n",
      "Name : toyota\n",
      "Counts : 7728\n",
      "Name : dodge\n",
      "Counts : 6188\n",
      "Name : honda\n",
      "Counts : 5382\n",
      "Name : hyundai\n",
      "Counts : 4410\n",
      "Name : bmw\n",
      "Counts : 4136\n",
      "Name : kia\n",
      "Counts : 3571\n",
      "Name : mercedes-benz\n",
      "Counts : 3471\n",
      "Name : chrysler\n",
      "Counts : 3459\n",
      "Name : jeep\n",
      "Counts : 3069\n",
      "Name : infiniti\n",
      "Counts : 3002\n",
      "Name : volkswagen\n",
      "Counts : 2515\n",
      "Name : lexus\n",
      "Counts : 2430\n",
      "Name : nan\n",
      "Counts : 2061\n",
      "Name : gmc\n",
      "Counts : 2059\n",
      "Name : mazda\n",
      "Counts : 1676\n",
      "Name : cadillac\n",
      "Counts : 1496\n",
      "Name : lincoln\n",
      "Counts : 1153\n",
      "Name : acura\n",
      "Counts : 1151\n",
      "Name : audi\n",
      "Counts : 1124\n",
      "Name : buick\n",
      "Counts : 1019\n",
      "Name : subaru\n",
      "Counts : 1015\n",
      "Name : ram\n",
      "Counts : 889\n",
      "Name : pontiac\n",
      "Counts : 866\n",
      "Name : mitsubishi\n",
      "Counts : 806\n",
      "Name : volvo\n",
      "Counts : 765\n",
      "Name : mini\n",
      "Counts : 674\n",
      "Name : saturn\n",
      "Counts : 544\n",
      "Name : mercury\n",
      "Counts : 434\n",
      "Name : land rover\n",
      "Counts : 371\n",
      "Name : scion\n",
      "Counts : 318\n",
      "Name : jaguar\n",
      "Counts : 297\n",
      "Name : porsche\n",
      "Counts : 280\n",
      "Name : suzuki\n",
      "Counts : 222\n",
      "Name : fiat\n",
      "Counts : 181\n",
      "Name : hummer\n",
      "Counts : 174\n",
      "Name : saab\n",
      "Counts : 93\n",
      "Name : oldsmobile\n",
      "Counts : 88\n",
      "Name : smart\n",
      "Counts : 81\n",
      "Name : isuzu\n",
      "Counts : 38\n",
      "Name : bentley\n",
      "Counts : 23\n",
      "Name : maserati\n",
      "Counts : 21\n",
      "Name : tesla\n",
      "Counts : 6\n",
      "Name : plymouth\n",
      "Counts : 4\n",
      "Name : geo\n",
      "Counts : 3\n",
      "Name : rolls-royce\n",
      "Counts : 3\n",
      "Name : aston martin\n",
      "Counts : 2\n",
      "Name : daewoo\n",
      "Counts : 2\n",
      "Name : ferrari\n",
      "Counts : 2\n",
      "Name : fisker\n",
      "Counts : 2\n",
      "Name : lotus\n",
      "Counts : 1\n",
      "Name : chev truck\n",
      "Counts : 1\n"
     ]
    }
   ],
   "source": [
    "for idx, name in enumerate(test['make'].value_counts().index.tolist()):\n",
    "    print('Name :', name)\n",
    "    print('Counts :', test['make'].value_counts()[idx])"
   ]
  },
  {
   "cell_type": "markdown",
   "id": "622cafda",
   "metadata": {},
   "source": [
    "Данные в датасетах стали похожими по топ моделям. Пропущенные значения заменим топовым значением. Самую большую часть проданных автомобилей являются марки ford, chevrolet, nissan."
   ]
  },
  {
   "cell_type": "code",
   "execution_count": 61,
   "id": "aaead1c4",
   "metadata": {},
   "outputs": [],
   "source": [
    "train_make={'nan':'ford'}\n",
    "test_make={'nan':'ford'}\n",
    "train['make'].replace(train_make, inplace=True)\n",
    "test['make'].replace(test_make, inplace=True)"
   ]
  },
  {
   "cell_type": "markdown",
   "id": "5e07d626",
   "metadata": {},
   "source": [
    "__Столбец iterior__"
   ]
  },
  {
   "cell_type": "code",
   "execution_count": 62,
   "id": "5f2ad4e4",
   "metadata": {},
   "outputs": [
    {
     "data": {
      "text/plain": [
       "array(['black', 'beige', 'gray', 'tan', 'brown', '—', 'off-white', nan,\n",
       "       'blue', 'white', 'silver', 'red', 'green', 'gold', 'purple',\n",
       "       'orange', 'burgundy', 'yellow'], dtype=object)"
      ]
     },
     "execution_count": 62,
     "metadata": {},
     "output_type": "execute_result"
    }
   ],
   "source": [
    "train.interior.unique()"
   ]
  },
  {
   "cell_type": "code",
   "execution_count": 63,
   "id": "da07b907",
   "metadata": {},
   "outputs": [
    {
     "data": {
      "text/plain": [
       "array(['black', 'gray', 'beige', 'tan', '—', 'brown', 'red', 'silver',\n",
       "       nan, 'blue', 'purple', 'off-white', 'green', 'orange', 'gold',\n",
       "       'burgundy', 'white', 'yellow'], dtype=object)"
      ]
     },
     "execution_count": 63,
     "metadata": {},
     "output_type": "execute_result"
    }
   ],
   "source": [
    "test.interior.unique()"
   ]
  },
  {
   "cell_type": "code",
   "execution_count": 64,
   "id": "ad83c878",
   "metadata": {},
   "outputs": [
    {
     "data": {
      "text/plain": [
       "black        0.437716\n",
       "gray         0.320353\n",
       "beige        0.106626\n",
       "tan          0.078947\n",
       "—            0.030850\n",
       "brown        0.015508\n",
       "red          0.002434\n",
       "blue         0.002013\n",
       "silver       0.001920\n",
       "off-white    0.000848\n",
       "Name: interior, dtype: float64"
      ]
     },
     "execution_count": 64,
     "metadata": {},
     "output_type": "execute_result"
    }
   ],
   "source": [
    "interior_top = list(train['interior'].value_counts(normalize=True)[0:10].index)\n",
    "train['interior'].value_counts(normalize=True).filter(items=interior_top)"
   ]
  },
  {
   "cell_type": "code",
   "execution_count": 65,
   "id": "0ad5c4d8",
   "metadata": {},
   "outputs": [
    {
     "data": {
      "text/plain": [
       "black        0.438362\n",
       "gray         0.318326\n",
       "beige        0.108562\n",
       "tan          0.078781\n",
       "—            0.030755\n",
       "brown        0.015141\n",
       "red          0.002402\n",
       "blue         0.002193\n",
       "silver       0.002047\n",
       "off-white    0.000974\n",
       "Name: interior, dtype: float64"
      ]
     },
     "execution_count": 65,
     "metadata": {},
     "output_type": "execute_result"
    }
   ],
   "source": [
    "interior_top = list(test['interior'].value_counts(normalize=True)[0:10].index)\n",
    "test['interior'].value_counts(normalize=True).filter(items=interior_top)"
   ]
  },
  {
   "cell_type": "code",
   "execution_count": 66,
   "id": "9ebae51b",
   "metadata": {},
   "outputs": [],
   "source": [
    "train['interior'] = train['interior'].str.replace(\"—\", \"black\")\n",
    "test['interior'] = test['interior'].str.replace(\"—\", \"black\")"
   ]
  },
  {
   "cell_type": "markdown",
   "id": "9acf6670",
   "metadata": {},
   "source": [
    "Заменим значения nan на топовое значение."
   ]
  },
  {
   "cell_type": "code",
   "execution_count": 67,
   "id": "35246aef",
   "metadata": {},
   "outputs": [],
   "source": [
    "mode_train = train['trim'].value_counts().index[0]\n",
    "train['trim'].fillna(value=mode_train, inplace=True)\n",
    "\n",
    "mode_test = test['trim'].value_counts().index[0]\n",
    "test['trim'].fillna(value=mode_test, inplace=True)"
   ]
  },
  {
   "cell_type": "code",
   "execution_count": 68,
   "id": "e59054d9",
   "metadata": {},
   "outputs": [],
   "source": [
    "body_train = train['body'].value_counts().index[0]\n",
    "train['body'].fillna(value=body_train, inplace=True)\n",
    "\n",
    "body_test = test['body'].value_counts().index[0]\n",
    "test['body'].fillna(value=body_test, inplace=True)"
   ]
  },
  {
   "cell_type": "code",
   "execution_count": 69,
   "id": "277423ca",
   "metadata": {},
   "outputs": [],
   "source": [
    "color_train = train['color'].value_counts().index[0]\n",
    "train['color'].fillna(value=color_train, inplace=True)\n",
    "\n",
    "color_test = test['color'].value_counts().index[0]\n",
    "test['color'].fillna(value=color_test, inplace=True)"
   ]
  },
  {
   "cell_type": "code",
   "execution_count": 70,
   "id": "7a82373d",
   "metadata": {},
   "outputs": [],
   "source": [
    "interior_train = train['interior'].value_counts().index[0]\n",
    "train['interior'].fillna(value=interior_train, inplace=True)\n",
    "\n",
    "interior_test = test['interior'].value_counts().index[0]\n",
    "test['interior'].fillna(value=interior_test, inplace=True)"
   ]
  },
  {
   "cell_type": "code",
   "execution_count": 71,
   "id": "ba6d32ed",
   "metadata": {},
   "outputs": [
    {
     "name": "stdout",
     "output_type": "stream",
     "text": [
      "year            0\n",
      "make            0\n",
      "model           0\n",
      "trim            0\n",
      "body            0\n",
      "transmission    0\n",
      "vin             0\n",
      "state           0\n",
      "condition       0\n",
      "odometer        0\n",
      "color           0\n",
      "interior        0\n",
      "seller          0\n",
      "sellingprice    0\n",
      "saledate        0\n",
      "dtype: int64\n"
     ]
    }
   ],
   "source": [
    "print(train.isnull().sum())"
   ]
  },
  {
   "cell_type": "code",
   "execution_count": 72,
   "id": "82e21f52",
   "metadata": {},
   "outputs": [
    {
     "name": "stdout",
     "output_type": "stream",
     "text": [
      "year            0\n",
      "make            0\n",
      "model           0\n",
      "trim            0\n",
      "body            0\n",
      "transmission    0\n",
      "vin             0\n",
      "state           0\n",
      "condition       0\n",
      "odometer        0\n",
      "color           0\n",
      "interior        0\n",
      "seller          0\n",
      "saledate        0\n",
      "dtype: int64\n"
     ]
    }
   ],
   "source": [
    "print(test.isnull().sum())"
   ]
  },
  {
   "cell_type": "markdown",
   "id": "d181b07c",
   "metadata": {},
   "source": [
    "Все пропущенные значения обработаны."
   ]
  },
  {
   "cell_type": "markdown",
   "id": "ecedad23",
   "metadata": {},
   "source": [
    "__Целевой признак sellingprice__"
   ]
  },
  {
   "cell_type": "markdown",
   "id": "e9fbfa30",
   "metadata": {},
   "source": [
    "Разобьем на бины цену продажи автомобиля, найдем максимум и минимум"
   ]
  },
  {
   "cell_type": "code",
   "execution_count": 73,
   "id": "06ed384f",
   "metadata": {},
   "outputs": [
    {
     "data": {
      "text/plain": [
       "(-229.0, 23000.9]       380505\n",
       "(23000.9, 46000.8]       55916\n",
       "(46000.8, 69000.7]        3046\n",
       "(69000.7, 92000.6]         576\n",
       "(92000.6, 115000.5]        116\n",
       "(115000.5, 138000.4]        40\n",
       "(138000.4, 161000.3]        27\n",
       "(161000.3, 184000.2]         9\n",
       "(207000.1, 230000.0]         1\n",
       "(184000.2, 207000.1]         0\n",
       "Name: sellingprice, dtype: int64"
      ]
     },
     "execution_count": 73,
     "metadata": {},
     "output_type": "execute_result"
    }
   ],
   "source": [
    "train['sellingprice'].value_counts(bins=10)"
   ]
  },
  {
   "cell_type": "code",
   "execution_count": 74,
   "id": "19226a22",
   "metadata": {},
   "outputs": [
    {
     "data": {
      "text/html": [
       "<div>\n",
       "<style scoped>\n",
       "    .dataframe tbody tr th:only-of-type {\n",
       "        vertical-align: middle;\n",
       "    }\n",
       "\n",
       "    .dataframe tbody tr th {\n",
       "        vertical-align: top;\n",
       "    }\n",
       "\n",
       "    .dataframe thead th {\n",
       "        text-align: right;\n",
       "    }\n",
       "</style>\n",
       "<table border=\"1\" class=\"dataframe\">\n",
       "  <thead>\n",
       "    <tr style=\"text-align: right;\">\n",
       "      <th></th>\n",
       "      <th>year</th>\n",
       "      <th>make</th>\n",
       "      <th>model</th>\n",
       "      <th>trim</th>\n",
       "      <th>body</th>\n",
       "      <th>transmission</th>\n",
       "      <th>vin</th>\n",
       "      <th>state</th>\n",
       "      <th>condition</th>\n",
       "      <th>odometer</th>\n",
       "      <th>color</th>\n",
       "      <th>interior</th>\n",
       "      <th>seller</th>\n",
       "      <th>sellingprice</th>\n",
       "      <th>saledate</th>\n",
       "    </tr>\n",
       "  </thead>\n",
       "  <tbody>\n",
       "    <tr>\n",
       "      <th>392004</th>\n",
       "      <td>2014</td>\n",
       "      <td>ford</td>\n",
       "      <td>suv</td>\n",
       "      <td>Titanium</td>\n",
       "      <td>SUV</td>\n",
       "      <td>automatic</td>\n",
       "      <td>1fmcu9j98eua23833</td>\n",
       "      <td>mo</td>\n",
       "      <td>4.3</td>\n",
       "      <td>27802.0</td>\n",
       "      <td>green</td>\n",
       "      <td>tan</td>\n",
       "      <td>ford-lincoln dealer program</td>\n",
       "      <td>230000</td>\n",
       "      <td>2015-02-24 18:00:00+00:00</td>\n",
       "    </tr>\n",
       "  </tbody>\n",
       "</table>\n",
       "</div>"
      ],
      "text/plain": [
       "        year  make model      trim body transmission                vin state  \\\n",
       "392004  2014  ford   suv  Titanium  SUV    automatic  1fmcu9j98eua23833    mo   \n",
       "\n",
       "        condition  odometer  color interior                       seller  \\\n",
       "392004        4.3   27802.0  green      tan  ford-lincoln dealer program   \n",
       "\n",
       "        sellingprice                  saledate  \n",
       "392004        230000 2015-02-24 18:00:00+00:00  "
      ]
     },
     "execution_count": 74,
     "metadata": {},
     "output_type": "execute_result"
    }
   ],
   "source": [
    "train[train['sellingprice']==train['sellingprice'].max()]"
   ]
  },
  {
   "cell_type": "code",
   "execution_count": 75,
   "id": "8dbac7a8",
   "metadata": {},
   "outputs": [
    {
     "data": {
      "text/html": [
       "<div>\n",
       "<style scoped>\n",
       "    .dataframe tbody tr th:only-of-type {\n",
       "        vertical-align: middle;\n",
       "    }\n",
       "\n",
       "    .dataframe tbody tr th {\n",
       "        vertical-align: top;\n",
       "    }\n",
       "\n",
       "    .dataframe thead th {\n",
       "        text-align: right;\n",
       "    }\n",
       "</style>\n",
       "<table border=\"1\" class=\"dataframe\">\n",
       "  <thead>\n",
       "    <tr style=\"text-align: right;\">\n",
       "      <th></th>\n",
       "      <th>year</th>\n",
       "      <th>make</th>\n",
       "      <th>model</th>\n",
       "      <th>trim</th>\n",
       "      <th>body</th>\n",
       "      <th>transmission</th>\n",
       "      <th>vin</th>\n",
       "      <th>state</th>\n",
       "      <th>condition</th>\n",
       "      <th>odometer</th>\n",
       "      <th>color</th>\n",
       "      <th>interior</th>\n",
       "      <th>seller</th>\n",
       "      <th>sellingprice</th>\n",
       "      <th>saledate</th>\n",
       "    </tr>\n",
       "  </thead>\n",
       "  <tbody>\n",
       "    <tr>\n",
       "      <th>137962</th>\n",
       "      <td>2003</td>\n",
       "      <td>mercedes-benz</td>\n",
       "      <td>sedan</td>\n",
       "      <td>E500</td>\n",
       "      <td>Sedan</td>\n",
       "      <td>automatic</td>\n",
       "      <td>wdbuf70j73a269529</td>\n",
       "      <td>ga</td>\n",
       "      <td>2.1</td>\n",
       "      <td>1.000000</td>\n",
       "      <td>black</td>\n",
       "      <td>black</td>\n",
       "      <td>peoples credit company inc</td>\n",
       "      <td>1</td>\n",
       "      <td>2015-01-06 01:30:00+00:00</td>\n",
       "    </tr>\n",
       "    <tr>\n",
       "      <th>418021</th>\n",
       "      <td>2002</td>\n",
       "      <td>ford</td>\n",
       "      <td>crew cab</td>\n",
       "      <td>XLT</td>\n",
       "      <td>Crew Cab</td>\n",
       "      <td>univercal</td>\n",
       "      <td>1ftsw31f52ed16477</td>\n",
       "      <td>ca</td>\n",
       "      <td>2.0</td>\n",
       "      <td>68344.421604</td>\n",
       "      <td>white</td>\n",
       "      <td>gray</td>\n",
       "      <td>laa leasing</td>\n",
       "      <td>1</td>\n",
       "      <td>2015-02-04 20:00:00+00:00</td>\n",
       "    </tr>\n",
       "  </tbody>\n",
       "</table>\n",
       "</div>"
      ],
      "text/plain": [
       "        year           make     model  trim      body transmission  \\\n",
       "137962  2003  mercedes-benz     sedan  E500     Sedan    automatic   \n",
       "418021  2002           ford  crew cab   XLT  Crew Cab    univercal   \n",
       "\n",
       "                      vin state  condition      odometer  color interior  \\\n",
       "137962  wdbuf70j73a269529    ga        2.1      1.000000  black    black   \n",
       "418021  1ftsw31f52ed16477    ca        2.0  68344.421604  white     gray   \n",
       "\n",
       "                            seller  sellingprice                  saledate  \n",
       "137962  peoples credit company inc             1 2015-01-06 01:30:00+00:00  \n",
       "418021                 laa leasing             1 2015-02-04 20:00:00+00:00  "
      ]
     },
     "execution_count": 75,
     "metadata": {},
     "output_type": "execute_result"
    }
   ],
   "source": [
    "train[train['sellingprice']==train['sellingprice'].min()]"
   ]
  },
  {
   "cell_type": "code",
   "execution_count": 76,
   "id": "8fa4705c",
   "metadata": {},
   "outputs": [
    {
     "data": {
      "text/html": [
       "<div>\n",
       "<style scoped>\n",
       "    .dataframe tbody tr th:only-of-type {\n",
       "        vertical-align: middle;\n",
       "    }\n",
       "\n",
       "    .dataframe tbody tr th {\n",
       "        vertical-align: top;\n",
       "    }\n",
       "\n",
       "    .dataframe thead th {\n",
       "        text-align: right;\n",
       "    }\n",
       "</style>\n",
       "<table border=\"1\" class=\"dataframe\">\n",
       "  <thead>\n",
       "    <tr style=\"text-align: right;\">\n",
       "      <th></th>\n",
       "      <th>year</th>\n",
       "      <th>make</th>\n",
       "      <th>model</th>\n",
       "      <th>trim</th>\n",
       "      <th>body</th>\n",
       "      <th>transmission</th>\n",
       "      <th>vin</th>\n",
       "      <th>state</th>\n",
       "      <th>condition</th>\n",
       "      <th>odometer</th>\n",
       "      <th>color</th>\n",
       "      <th>interior</th>\n",
       "      <th>seller</th>\n",
       "      <th>sellingprice</th>\n",
       "      <th>saledate</th>\n",
       "    </tr>\n",
       "  </thead>\n",
       "  <tbody>\n",
       "    <tr>\n",
       "      <th>26083</th>\n",
       "      <td>2013</td>\n",
       "      <td>rolls-royce</td>\n",
       "      <td>sedan</td>\n",
       "      <td>Base</td>\n",
       "      <td>sedan</td>\n",
       "      <td>automatic</td>\n",
       "      <td>sca664s52dux52152</td>\n",
       "      <td>fl</td>\n",
       "      <td>4.2</td>\n",
       "      <td>7852.0</td>\n",
       "      <td>white</td>\n",
       "      <td>beige</td>\n",
       "      <td>flag/landrover southpointe</td>\n",
       "      <td>171500</td>\n",
       "      <td>2015-06-16 20:05:00+00:00</td>\n",
       "    </tr>\n",
       "    <tr>\n",
       "      <th>189179</th>\n",
       "      <td>2014</td>\n",
       "      <td>bmw</td>\n",
       "      <td>coupe</td>\n",
       "      <td>Base</td>\n",
       "      <td>Coupe</td>\n",
       "      <td>automatic</td>\n",
       "      <td>wby2z2c59evx64214</td>\n",
       "      <td>ca</td>\n",
       "      <td>5.0</td>\n",
       "      <td>60.0</td>\n",
       "      <td>white</td>\n",
       "      <td>brown</td>\n",
       "      <td>ferrari of orange county</td>\n",
       "      <td>165000</td>\n",
       "      <td>2015-01-14 20:00:00+00:00</td>\n",
       "    </tr>\n",
       "    <tr>\n",
       "      <th>195471</th>\n",
       "      <td>2012</td>\n",
       "      <td>rolls-royce</td>\n",
       "      <td>sedan</td>\n",
       "      <td>EWB</td>\n",
       "      <td>sedan</td>\n",
       "      <td>automatic</td>\n",
       "      <td>sca664l50cux65625</td>\n",
       "      <td>ca</td>\n",
       "      <td>3.6</td>\n",
       "      <td>11832.0</td>\n",
       "      <td>white</td>\n",
       "      <td>black</td>\n",
       "      <td>bentley scottsdale</td>\n",
       "      <td>169000</td>\n",
       "      <td>2015-06-17 22:30:00+00:00</td>\n",
       "    </tr>\n",
       "    <tr>\n",
       "      <th>218054</th>\n",
       "      <td>2012</td>\n",
       "      <td>rolls-royce</td>\n",
       "      <td>sedan</td>\n",
       "      <td>Base</td>\n",
       "      <td>sedan</td>\n",
       "      <td>automatic</td>\n",
       "      <td>sca664s59cux50803</td>\n",
       "      <td>ca</td>\n",
       "      <td>4.4</td>\n",
       "      <td>5215.0</td>\n",
       "      <td>white</td>\n",
       "      <td>tan</td>\n",
       "      <td>financial services remarketing (bmw int)</td>\n",
       "      <td>167000</td>\n",
       "      <td>2015-06-17 22:30:00+00:00</td>\n",
       "    </tr>\n",
       "    <tr>\n",
       "      <th>291685</th>\n",
       "      <td>2012</td>\n",
       "      <td>rolls-royce</td>\n",
       "      <td>sedan</td>\n",
       "      <td>Base</td>\n",
       "      <td>Sedan</td>\n",
       "      <td>automatic</td>\n",
       "      <td>sca664s58cux50727</td>\n",
       "      <td>fl</td>\n",
       "      <td>4.5</td>\n",
       "      <td>14316.0</td>\n",
       "      <td>black</td>\n",
       "      <td>beige</td>\n",
       "      <td>braman motorcars</td>\n",
       "      <td>169500</td>\n",
       "      <td>2015-01-13 17:40:00+00:00</td>\n",
       "    </tr>\n",
       "    <tr>\n",
       "      <th>327282</th>\n",
       "      <td>2011</td>\n",
       "      <td>rolls-royce</td>\n",
       "      <td>sedan</td>\n",
       "      <td>Base</td>\n",
       "      <td>Sedan</td>\n",
       "      <td>automatic</td>\n",
       "      <td>sca664s58bux50113</td>\n",
       "      <td>ca</td>\n",
       "      <td>4.2</td>\n",
       "      <td>12912.0</td>\n",
       "      <td>black</td>\n",
       "      <td>black</td>\n",
       "      <td>financial services remarketing (bmw int)</td>\n",
       "      <td>163000</td>\n",
       "      <td>2015-01-28 02:00:00+00:00</td>\n",
       "    </tr>\n",
       "    <tr>\n",
       "      <th>359111</th>\n",
       "      <td>2015</td>\n",
       "      <td>mercedes-benz</td>\n",
       "      <td>sedan</td>\n",
       "      <td>S65 AMG</td>\n",
       "      <td>Sedan</td>\n",
       "      <td>automatic</td>\n",
       "      <td>wddug7kb2fa102347</td>\n",
       "      <td>ca</td>\n",
       "      <td>4.1</td>\n",
       "      <td>5277.0</td>\n",
       "      <td>white</td>\n",
       "      <td>white</td>\n",
       "      <td>mercedes-benz usa</td>\n",
       "      <td>173000</td>\n",
       "      <td>2015-05-20 22:00:00+00:00</td>\n",
       "    </tr>\n",
       "    <tr>\n",
       "      <th>360913</th>\n",
       "      <td>2013</td>\n",
       "      <td>bentley</td>\n",
       "      <td>convertible</td>\n",
       "      <td>V8</td>\n",
       "      <td>Convertible</td>\n",
       "      <td>automatic</td>\n",
       "      <td>scbgt3za7dc084568</td>\n",
       "      <td>fl</td>\n",
       "      <td>4.4</td>\n",
       "      <td>2968.0</td>\n",
       "      <td>black</td>\n",
       "      <td>red</td>\n",
       "      <td>the collection</td>\n",
       "      <td>163000</td>\n",
       "      <td>2015-02-11 17:15:00+00:00</td>\n",
       "    </tr>\n",
       "    <tr>\n",
       "      <th>392004</th>\n",
       "      <td>2014</td>\n",
       "      <td>ford</td>\n",
       "      <td>suv</td>\n",
       "      <td>Titanium</td>\n",
       "      <td>SUV</td>\n",
       "      <td>automatic</td>\n",
       "      <td>1fmcu9j98eua23833</td>\n",
       "      <td>mo</td>\n",
       "      <td>4.3</td>\n",
       "      <td>27802.0</td>\n",
       "      <td>green</td>\n",
       "      <td>tan</td>\n",
       "      <td>ford-lincoln dealer program</td>\n",
       "      <td>230000</td>\n",
       "      <td>2015-02-24 18:00:00+00:00</td>\n",
       "    </tr>\n",
       "    <tr>\n",
       "      <th>423302</th>\n",
       "      <td>2011</td>\n",
       "      <td>ferrari</td>\n",
       "      <td>coupe</td>\n",
       "      <td>Base</td>\n",
       "      <td>coupe</td>\n",
       "      <td>automatic</td>\n",
       "      <td>zff67nfa1b0178698</td>\n",
       "      <td>fl</td>\n",
       "      <td>4.6</td>\n",
       "      <td>12116.0</td>\n",
       "      <td>red</td>\n",
       "      <td>black</td>\n",
       "      <td>platinum motor cars</td>\n",
       "      <td>183000</td>\n",
       "      <td>2015-06-16 20:40:00+00:00</td>\n",
       "    </tr>\n",
       "  </tbody>\n",
       "</table>\n",
       "</div>"
      ],
      "text/plain": [
       "        year           make        model      trim         body transmission  \\\n",
       "26083   2013    rolls-royce        sedan      Base        sedan    automatic   \n",
       "189179  2014            bmw        coupe      Base        Coupe    automatic   \n",
       "195471  2012    rolls-royce        sedan       EWB        sedan    automatic   \n",
       "218054  2012    rolls-royce        sedan      Base        sedan    automatic   \n",
       "291685  2012    rolls-royce        sedan      Base        Sedan    automatic   \n",
       "327282  2011    rolls-royce        sedan      Base        Sedan    automatic   \n",
       "359111  2015  mercedes-benz        sedan   S65 AMG        Sedan    automatic   \n",
       "360913  2013        bentley  convertible        V8  Convertible    automatic   \n",
       "392004  2014           ford          suv  Titanium          SUV    automatic   \n",
       "423302  2011        ferrari        coupe      Base        coupe    automatic   \n",
       "\n",
       "                      vin state  condition  odometer  color interior  \\\n",
       "26083   sca664s52dux52152    fl        4.2    7852.0  white    beige   \n",
       "189179  wby2z2c59evx64214    ca        5.0      60.0  white    brown   \n",
       "195471  sca664l50cux65625    ca        3.6   11832.0  white    black   \n",
       "218054  sca664s59cux50803    ca        4.4    5215.0  white      tan   \n",
       "291685  sca664s58cux50727    fl        4.5   14316.0  black    beige   \n",
       "327282  sca664s58bux50113    ca        4.2   12912.0  black    black   \n",
       "359111  wddug7kb2fa102347    ca        4.1    5277.0  white    white   \n",
       "360913  scbgt3za7dc084568    fl        4.4    2968.0  black      red   \n",
       "392004  1fmcu9j98eua23833    mo        4.3   27802.0  green      tan   \n",
       "423302  zff67nfa1b0178698    fl        4.6   12116.0    red    black   \n",
       "\n",
       "                                          seller  sellingprice  \\\n",
       "26083                 flag/landrover southpointe        171500   \n",
       "189179                  ferrari of orange county        165000   \n",
       "195471                        bentley scottsdale        169000   \n",
       "218054  financial services remarketing (bmw int)        167000   \n",
       "291685                          braman motorcars        169500   \n",
       "327282  financial services remarketing (bmw int)        163000   \n",
       "359111                         mercedes-benz usa        173000   \n",
       "360913                            the collection        163000   \n",
       "392004               ford-lincoln dealer program        230000   \n",
       "423302                       platinum motor cars        183000   \n",
       "\n",
       "                        saledate  \n",
       "26083  2015-06-16 20:05:00+00:00  \n",
       "189179 2015-01-14 20:00:00+00:00  \n",
       "195471 2015-06-17 22:30:00+00:00  \n",
       "218054 2015-06-17 22:30:00+00:00  \n",
       "291685 2015-01-13 17:40:00+00:00  \n",
       "327282 2015-01-28 02:00:00+00:00  \n",
       "359111 2015-05-20 22:00:00+00:00  \n",
       "360913 2015-02-11 17:15:00+00:00  \n",
       "392004 2015-02-24 18:00:00+00:00  \n",
       "423302 2015-06-16 20:40:00+00:00  "
      ]
     },
     "execution_count": 76,
     "metadata": {},
     "output_type": "execute_result"
    }
   ],
   "source": [
    "#посмотрим на дорогие автомобили\n",
    "train[train['sellingprice']>161000.3]"
   ]
  },
  {
   "cell_type": "markdown",
   "id": "857fb8e4",
   "metadata": {},
   "source": [
    "По цене продажи мы видим аномально минимальную стоимость двух автомобилей по цене 1. Также один автомобиль с максимальной стоимостью 230000. Попробуем удалить строки с минимальной ценой из обучающей выборки, чтобы не исказить данные по прогнозированию."
   ]
  },
  {
   "cell_type": "code",
   "execution_count": 77,
   "id": "c33e0756",
   "metadata": {},
   "outputs": [],
   "source": [
    "train = train.loc[(train['sellingprice']>1)]"
   ]
  },
  {
   "cell_type": "code",
   "execution_count": 78,
   "id": "afcfa9d1",
   "metadata": {},
   "outputs": [
    {
     "data": {
      "image/png": "[encoded data removed]",
      "text/plain": [
       "<Figure size 1080x432 with 1 Axes>"
      ]
     },
     "metadata": {
      "needs_background": "light"
     },
     "output_type": "display_data"
    }
   ],
   "source": [
    "def scatter_plot(cols):\n",
    "    x=1\n",
    "    plt.figure(figsize=(15,6))\n",
    "    for col in cols:\n",
    "        plt.subplot(1,2,x)\n",
    "        sns.scatterplot(x=col, y=\"sellingprice\",data=train,color=\"blue\")\n",
    "        plt.title(f\"Распределение {col} по цене продажи машины\",fontweight=\"black\",fontsize=20,pad=10)\n",
    "        plt.tight_layout()\n",
    "        x+=1\n",
    "        \n",
    "scatter_plot([\"year\"])"
   ]
  },
  {
   "cell_type": "markdown",
   "id": "4f8cc803",
   "metadata": {},
   "source": [
    "Большая часть автомобилей было продано 2005 года выпуска и выше."
   ]
  },
  {
   "cell_type": "code",
   "execution_count": 79,
   "id": "a74bf30a",
   "metadata": {},
   "outputs": [
    {
     "name": "stderr",
     "output_type": "stream",
     "text": [
      "C:\\Users\\User\\AppData\\Local\\Temp\\ipykernel_11368\\1285295524.py:3: UserWarning: \n",
      "\n",
      "`distplot` is a deprecated function and will be removed in seaborn v0.14.0.\n",
      "\n",
      "Please adapt your code to use either `displot` (a figure-level function with\n",
      "similar flexibility) or `histplot` (an axes-level function for histograms).\n",
      "\n",
      "For a guide to updating your code to use the new functions, please see\n",
      "https://gist.github.com/mwaskom/de44147ed2974457ad6372750bbe5751\n",
      "\n",
      "  sns.distplot(train[\"sellingprice\"],color=\"blue\",kde=True)\n"
     ]
    },
    {
     "data": {
      "image/png": "[encoded data removed]",
      "text/plain": [
       "<Figure size 1080x432 with 2 Axes>"
      ]
     },
     "metadata": {
      "needs_background": "light"
     },
     "output_type": "display_data"
    }
   ],
   "source": [
    "plt.figure(figsize=(15,6))\n",
    "plt.subplot(1,2,1)\n",
    "sns.distplot(train[\"sellingprice\"],color=\"blue\",kde=True)\n",
    "plt.title(\"Стоимость проданного автомобиля\",fontweight=\"black\",pad=20,fontsize=20)\n",
    "\n",
    "plt.subplot(1,2,2)\n",
    "sns.boxplot(y=train[\"sellingprice\"],palette=\"Set2\")\n",
    "plt.title(\"Ящик с усами стоимости проданного автомобиля\",fontweight=\"black\",pad=20,fontsize=20)\n",
    "plt.tight_layout()\n",
    "plt.show()"
   ]
  },
  {
   "cell_type": "markdown",
   "id": "38a7fad7",
   "metadata": {},
   "source": [
    "Распределение стоимости автомобиля по графику показывает нам, что цена имеет пик в районе 22000. Цена имеет выбросы от этой стоимости. Но как мы уже увидели, это действительно дорогие марки и модели автомобилей с их техническими характеристиками."
   ]
  },
  {
   "cell_type": "code",
   "execution_count": 80,
   "id": "596ad5fb",
   "metadata": {},
   "outputs": [
    {
     "name": "stdout",
     "output_type": "stream",
     "text": [
      "<class 'pandas.core.frame.DataFrame'>\n",
      "Int64Index: 440234 entries, 0 to 440235\n",
      "Data columns (total 15 columns):\n",
      " #   Column        Non-Null Count   Dtype              \n",
      "---  ------        --------------   -----              \n",
      " 0   year          440234 non-null  int64              \n",
      " 1   make          440234 non-null  object             \n",
      " 2   model         440234 non-null  object             \n",
      " 3   trim          440234 non-null  object             \n",
      " 4   body          440234 non-null  object             \n",
      " 5   transmission  440234 non-null  object             \n",
      " 6   vin           440234 non-null  object             \n",
      " 7   state         440234 non-null  object             \n",
      " 8   condition     440234 non-null  float64            \n",
      " 9   odometer      440234 non-null  float64            \n",
      " 10  color         440234 non-null  object             \n",
      " 11  interior      440234 non-null  object             \n",
      " 12  seller        440234 non-null  object             \n",
      " 13  sellingprice  440234 non-null  int64              \n",
      " 14  saledate      440234 non-null  datetime64[ns, UTC]\n",
      "dtypes: datetime64[ns, UTC](1), float64(2), int64(2), object(10)\n",
      "memory usage: 53.7+ MB\n"
     ]
    }
   ],
   "source": [
    "train.info()"
   ]
  },
  {
   "cell_type": "code",
   "execution_count": 81,
   "id": "c9ebd7ce",
   "metadata": {},
   "outputs": [
    {
     "name": "stdout",
     "output_type": "stream",
     "text": [
      "<class 'pandas.core.frame.DataFrame'>\n",
      "RangeIndex: 110058 entries, 0 to 110057\n",
      "Data columns (total 14 columns):\n",
      " #   Column        Non-Null Count   Dtype              \n",
      "---  ------        --------------   -----              \n",
      " 0   year          110058 non-null  int64              \n",
      " 1   make          110058 non-null  object             \n",
      " 2   model         110058 non-null  object             \n",
      " 3   trim          110058 non-null  object             \n",
      " 4   body          110058 non-null  object             \n",
      " 5   transmission  110058 non-null  object             \n",
      " 6   vin           110058 non-null  object             \n",
      " 7   state         110058 non-null  object             \n",
      " 8   condition     110058 non-null  float64            \n",
      " 9   odometer      110058 non-null  float64            \n",
      " 10  color         110058 non-null  object             \n",
      " 11  interior      110058 non-null  object             \n",
      " 12  seller        110058 non-null  object             \n",
      " 13  saledate      110058 non-null  datetime64[ns, UTC]\n",
      "dtypes: datetime64[ns, UTC](1), float64(2), int64(1), object(10)\n",
      "memory usage: 11.8+ MB\n"
     ]
    }
   ],
   "source": [
    "test.info()"
   ]
  },
  {
   "cell_type": "markdown",
   "id": "3ce6c53c",
   "metadata": {},
   "source": [
    "## 3. EDA"
   ]
  },
  {
   "cell_type": "markdown",
   "id": "bf21cce0",
   "metadata": {},
   "source": [
    "Преобразуем время продажи автомобиля и создадим новые признаки из даты."
   ]
  },
  {
   "cell_type": "code",
   "execution_count": 82,
   "id": "179c4a25",
   "metadata": {},
   "outputs": [],
   "source": [
    "train['saledate'] = pd.to_datetime(train.saledate, format='%Y-%m-%d %H:%M:%S', errors='coerce')\n",
    "test['saledate'] = pd.to_datetime(test.saledate, format='%Y-%m-%d %H:%M:%S', errors='coerce')"
   ]
  },
  {
   "cell_type": "code",
   "execution_count": 83,
   "id": "a457f08c",
   "metadata": {},
   "outputs": [],
   "source": [
    "#создадим год продажи автомобиля\n",
    "train['year_sale'] = train['saledate'].dt.year\n",
    "\n",
    "#Добавим признак возраста по дате производства\n",
    "train['age'] = train['year_sale'] - train['year']\n",
    "\n",
    "#добавим сгруппированный по 5 лет признак продажи\n",
    "train['age5'] = train['age']//5"
   ]
  },
  {
   "cell_type": "code",
   "execution_count": 84,
   "id": "3244084a",
   "metadata": {},
   "outputs": [],
   "source": [
    "#создадим признаки для тестовых данных\n",
    "test['year_sale'] = test['saledate'].dt.year\n",
    "test['age'] = test['year_sale'] - test['year']\n",
    "test['age5'] = test['age']//5"
   ]
  },
  {
   "cell_type": "code",
   "execution_count": 85,
   "id": "55ff9cd8",
   "metadata": {},
   "outputs": [
    {
     "data": {
      "image/png": "[encoded data removed]",
      "text/plain": [
       "<Figure size 432x288 with 1 Axes>"
      ]
     },
     "metadata": {
      "needs_background": "light"
     },
     "output_type": "display_data"
    }
   ],
   "source": [
    "#Посмотрим зависимость стоимости от возраста на тренировочном датасете\n",
    "train.groupby('age5').sellingprice.median().plot(kind='barh')\n",
    "plt.xlabel(\"Стоимость автомобиля\")\n",
    "plt.ylabel(\"Сгруппированный по 5 лет признак продажи\")\n",
    "plt.title(\"Зависимость стоимости продажи от возраста автомобиля\", pad=20, fontweight=\"black\", fontsize=20)\n",
    "plt.xticks(rotation=90)\n",
    "plt.show()"
   ]
  },
  {
   "cell_type": "markdown",
   "id": "124b6dfb",
   "metadata": {},
   "source": [
    "Прослеживается снижение цены от границы 1 (5 лет) и до 5 (25 лет), стоимость машин на границе 6 (30 лет) выросла, т.е. это раритетные автомобили. Добавим признак раритетных автомобилей."
   ]
  },
  {
   "cell_type": "code",
   "execution_count": 86,
   "id": "87e028ec",
   "metadata": {},
   "outputs": [],
   "source": [
    "train['raritet'] = train['age5'].apply(lambda x: 1 if x>5 else 0)\n",
    "test['raritet'] = test['age5'].apply(lambda x: 1 if x>5 else 0)"
   ]
  },
  {
   "cell_type": "code",
   "execution_count": 87,
   "id": "0c456f36",
   "metadata": {},
   "outputs": [
    {
     "data": {
      "image/png": "[encoded data removed]",
      "text/plain": [
       "<Figure size 432x288 with 1 Axes>"
      ]
     },
     "metadata": {
      "needs_background": "light"
     },
     "output_type": "display_data"
    }
   ],
   "source": [
    "train.groupby('raritet').sellingprice.median().plot(kind='barh')\n",
    "plt.xlabel(\"Стоимость проданных автомобилей\")\n",
    "plt.ylabel(\"Раритетные автомобили позиция 1\")\n",
    "plt.title(\"Зависимость проданных автомобилей по раритету\", pad=20, fontweight=\"black\", fontsize=20)\n",
    "plt.xticks(rotation=90)\n",
    "plt.show()"
   ]
  },
  {
   "cell_type": "markdown",
   "id": "a43e5aa6",
   "metadata": {},
   "source": [
    "По графику можно понять что раритетные автомобили стоят до 3000 и их порядком меньше, чем современных."
   ]
  },
  {
   "cell_type": "markdown",
   "id": "d414b364",
   "metadata": {},
   "source": [
    "Из даты продажи создадим признаки день, месяц, день недели, недели. Чтобы создать на их основе отклонения sin и cos по календарю продаж"
   ]
  },
  {
   "cell_type": "code",
   "execution_count": 88,
   "id": "f7f0ee0d",
   "metadata": {},
   "outputs": [],
   "source": [
    "train['day'] = train['saledate'].dt.day\n",
    "train['dayofweek'] = train['saledate'].dt.dayofweek \n",
    "train['week'] = train['saledate'].dt.isocalendar().week\n",
    "train['month'] = train['saledate'].dt.month"
   ]
  },
  {
   "cell_type": "code",
   "execution_count": 89,
   "id": "1ccd6eb4",
   "metadata": {},
   "outputs": [],
   "source": [
    "test['day'] = test['saledate'].dt.day\n",
    "test['dayofweek'] = test['saledate'].dt.dayofweek \n",
    "test['week'] = test['saledate'].dt.isocalendar().week\n",
    "test['month'] = test['saledate'].dt.month"
   ]
  },
  {
   "cell_type": "code",
   "execution_count": 90,
   "id": "95070543",
   "metadata": {},
   "outputs": [],
   "source": [
    "train['day_sin'] = np.sin(2 * np.pi * train['day']/31)\n",
    "train['day_cos'] = np.cos(2 * np.pi * train['day']/31)\n",
    "\n",
    "train['dayofweek_sin'] = np.sin(2 * np.pi * train['dayofweek']/6)\n",
    "train['dayofweek_cos'] = np.cos(2 * np.pi * train['dayofweek']/6)\n",
    "\n",
    "train['week_sin'] = np.sin(2 * np.pi * train['week']/52)\n",
    "train['week_cos'] = np.cos(2 * np.pi * train['week']/52)\n",
    "\n",
    "train['month_sin'] = np.sin(2 * np.pi * train['month']/12)\n",
    "train['month_cos'] = np.cos(2 * np.pi * train['month']/12)\n",
    "\n",
    "#выходные \n",
    "train[\"is_weekend\"] = train['dayofweek'].isin([5, 6]).astype(int)\n",
    "train[\"is_sunday\"] = train['dayofweek'].eq(6).astype(int)"
   ]
  },
  {
   "cell_type": "code",
   "execution_count": 91,
   "id": "ae3aa83c",
   "metadata": {},
   "outputs": [],
   "source": [
    "test['day_sin'] = np.sin(2 * np.pi * test['day']/31)\n",
    "test['day_cos'] = np.cos(2 * np.pi * test['day']/31)\n",
    "\n",
    "test['dayofweek_sin'] = np.sin(2 * np.pi * train['dayofweek']/6)\n",
    "test['dayofweek_cos'] = np.cos(2 * np.pi * train['dayofweek']/6)\n",
    "\n",
    "test['week_sin'] = np.sin(2 * np.pi * test['week']/52)\n",
    "test['week_cos'] = np.cos(2 * np.pi * test['week']/52)\n",
    "\n",
    "test['month_sin'] = np.sin(2 * np.pi * test['month']/12)\n",
    "test['month_cos'] = np.cos(2 * np.pi * test['month']/12)\n",
    "\n",
    "#выходные \n",
    "test[\"is_weekend\"] = test['dayofweek'].isin([5, 6]).astype(int)\n",
    "test[\"is_sunday\"] = test['dayofweek'].eq(6).astype(int)"
   ]
  },
  {
   "cell_type": "markdown",
   "id": "9738684e",
   "metadata": {},
   "source": [
    "Так же создадим новые синтетические признаки из признаков которые между собой сильно зависят, это odometer, condition. Make и trim, body. Model и trim."
   ]
  },
  {
   "cell_type": "code",
   "execution_count": 92,
   "id": "48e5cc66",
   "metadata": {},
   "outputs": [],
   "source": [
    "train['condition_odometer'] = train['condition']/train['odometer']\n",
    "test['condition_odometer'] = test['condition']/test['odometer']"
   ]
  },
  {
   "cell_type": "code",
   "execution_count": 93,
   "id": "482195b1",
   "metadata": {},
   "outputs": [],
   "source": [
    "train['make_trim'] = train['make']+train['trim']\n",
    "test['make_trim'] = test['make']+test['trim']\n",
    "train['make_body'] = train['make']+train['body']\n",
    "test['make_body'] = test['make']+test['body']"
   ]
  },
  {
   "cell_type": "code",
   "execution_count": 94,
   "id": "ec475589",
   "metadata": {},
   "outputs": [],
   "source": [
    "train['model_trim'] = train['model']+train['trim']\n",
    "test['model_trim'] = test['model']+test['trim']"
   ]
  },
  {
   "cell_type": "markdown",
   "id": "83ab21c7",
   "metadata": {},
   "source": [
    "Создадим поле для записей числовых признаков, чтобы посмотреть их корреляцию"
   ]
  },
  {
   "cell_type": "code",
   "execution_count": 95,
   "id": "c7133cf5",
   "metadata": {},
   "outputs": [],
   "source": [
    "#числовые признаки\n",
    "num_cols = ['odometer', 'condition', 'age', 'age5', 'condition_odometer']"
   ]
  },
  {
   "cell_type": "code",
   "execution_count": 96,
   "id": "f4d490c0",
   "metadata": {},
   "outputs": [
    {
     "data": {
      "image/png": "[encoded data removed]",
      "text/plain": [
       "<Figure size 432x288 with 2 Axes>"
      ]
     },
     "metadata": {
      "needs_background": "light"
     },
     "output_type": "display_data"
    }
   ],
   "source": [
    "plt.title(\"Матрица корреляции числовых признаков\", pad=20, fontweight=\"black\", fontsize=20)\n",
    "sns.heatmap(train[num_cols].corr(), annot = True, fmt='.1g', vmin=-1, vmax=1, center= 0, \n",
    "            cmap= 'coolwarm', linewidths=3, linecolor='black');"
   ]
  },
  {
   "cell_type": "markdown",
   "id": "c6cebe93",
   "metadata": {},
   "source": [
    "Возраст сильно коррелирует друг с другом, поэтому оставим признак только age"
   ]
  },
  {
   "cell_type": "code",
   "execution_count": 97,
   "id": "ecf11aab",
   "metadata": {},
   "outputs": [],
   "source": [
    "num_cols = ['odometer', 'condition', 'age', 'condition_odometer']"
   ]
  },
  {
   "cell_type": "code",
   "execution_count": 98,
   "id": "817ae6e9",
   "metadata": {},
   "outputs": [
    {
     "name": "stderr",
     "output_type": "stream",
     "text": [
      "C:\\Users\\User\\AppData\\Local\\Temp\\ipykernel_11368\\872231492.py:4: UserWarning: \n",
      "\n",
      "`distplot` is a deprecated function and will be removed in seaborn v0.14.0.\n",
      "\n",
      "Please adapt your code to use either `displot` (a figure-level function with\n",
      "similar flexibility) or `histplot` (an axes-level function for histograms).\n",
      "\n",
      "For a guide to updating your code to use the new functions, please see\n",
      "https://gist.github.com/mwaskom/de44147ed2974457ad6372750bbe5751\n",
      "\n",
      "  sns.distplot(train[i].dropna(), kde = False, rug=False)\n"
     ]
    },
    {
     "data": {
      "image/png": "[encoded data removed]",
      "text/plain": [
       "<Figure size 432x288 with 1 Axes>"
      ]
     },
     "metadata": {
      "needs_background": "light"
     },
     "output_type": "display_data"
    },
    {
     "data": {
      "image/png": "[encoded data removed]",
      "text/plain": [
       "<Figure size 432x288 with 1 Axes>"
      ]
     },
     "metadata": {
      "needs_background": "light"
     },
     "output_type": "display_data"
    },
    {
     "data": {
      "image/png": "[encoded data removed]",
      "text/plain": [
       "<Figure size 432x288 with 1 Axes>"
      ]
     },
     "metadata": {
      "needs_background": "light"
     },
     "output_type": "display_data"
    },
    {
     "data": {
      "image/png": "[encoded data removed]",
      "text/plain": [
       "<Figure size 432x288 with 1 Axes>"
      ]
     },
     "metadata": {
      "needs_background": "light"
     },
     "output_type": "display_data"
    }
   ],
   "source": [
    "#Посмотрим распределение числовых признаков\n",
    "for i in num_cols:\n",
    "    plt.figure()\n",
    "    sns.distplot(train[i].dropna(), kde = False, rug=False)\n",
    "    plt.title(i)\n",
    "    plt.show()"
   ]
  },
  {
   "cell_type": "markdown",
   "id": "ae78494e",
   "metadata": {},
   "source": [
    "Числовые признаки распределены более менее нормально, кроме condition и condition_odometer."
   ]
  },
  {
   "cell_type": "code",
   "execution_count": 99,
   "id": "b9e1877c",
   "metadata": {},
   "outputs": [
    {
     "name": "stderr",
     "output_type": "stream",
     "text": [
      "C:\\Users\\User\\AppData\\Roaming\\Python\\Python39\\site-packages\\numpy\\core\\fromnumeric.py:3721: FutureWarning: Dropping of nuisance columns in DataFrame reductions (with 'numeric_only=None') is deprecated; in a future version this will raise TypeError.  Select only valid columns before calling the reduction.\n",
      "  return var(axis=axis, dtype=dtype, out=out, ddof=ddof, **kwargs)\n"
     ]
    },
    {
     "data": {
      "text/html": [
       "<div>\n",
       "<style scoped>\n",
       "    .dataframe tbody tr th:only-of-type {\n",
       "        vertical-align: middle;\n",
       "    }\n",
       "\n",
       "    .dataframe tbody tr th {\n",
       "        vertical-align: top;\n",
       "    }\n",
       "\n",
       "    .dataframe thead th {\n",
       "        text-align: right;\n",
       "    }\n",
       "</style>\n",
       "<table border=\"1\" class=\"dataframe\">\n",
       "  <thead>\n",
       "    <tr style=\"text-align: right;\">\n",
       "      <th></th>\n",
       "      <th>year</th>\n",
       "      <th>condition</th>\n",
       "      <th>odometer</th>\n",
       "      <th>sellingprice</th>\n",
       "      <th>year_sale</th>\n",
       "      <th>age</th>\n",
       "      <th>age5</th>\n",
       "      <th>raritet</th>\n",
       "      <th>day</th>\n",
       "      <th>dayofweek</th>\n",
       "      <th>week</th>\n",
       "      <th>month</th>\n",
       "    </tr>\n",
       "  </thead>\n",
       "  <tbody>\n",
       "    <tr>\n",
       "      <th>year</th>\n",
       "      <td>1.000000</td>\n",
       "      <td>0.538998</td>\n",
       "      <td>-0.774291</td>\n",
       "      <td>0.586842</td>\n",
       "      <td>0.116474</td>\n",
       "      <td>-0.997221</td>\n",
       "      <td>-0.951721</td>\n",
       "      <td>-0.035153</td>\n",
       "      <td>-0.023312</td>\n",
       "      <td>-0.048322</td>\n",
       "      <td>-0.032745</td>\n",
       "      <td>-0.049148</td>\n",
       "    </tr>\n",
       "    <tr>\n",
       "      <th>condition</th>\n",
       "      <td>0.538998</td>\n",
       "      <td>1.000000</td>\n",
       "      <td>-0.528691</td>\n",
       "      <td>0.532972</td>\n",
       "      <td>0.033211</td>\n",
       "      <td>-0.539719</td>\n",
       "      <td>-0.510645</td>\n",
       "      <td>-0.008241</td>\n",
       "      <td>-0.013659</td>\n",
       "      <td>0.000472</td>\n",
       "      <td>0.003878</td>\n",
       "      <td>-0.015018</td>\n",
       "    </tr>\n",
       "    <tr>\n",
       "      <th>odometer</th>\n",
       "      <td>-0.774291</td>\n",
       "      <td>-0.528691</td>\n",
       "      <td>1.000000</td>\n",
       "      <td>-0.582987</td>\n",
       "      <td>-0.087971</td>\n",
       "      <td>0.772305</td>\n",
       "      <td>0.738062</td>\n",
       "      <td>0.001373</td>\n",
       "      <td>0.014776</td>\n",
       "      <td>0.027355</td>\n",
       "      <td>0.029650</td>\n",
       "      <td>0.042991</td>\n",
       "    </tr>\n",
       "    <tr>\n",
       "      <th>sellingprice</th>\n",
       "      <td>0.586842</td>\n",
       "      <td>0.532972</td>\n",
       "      <td>-0.582987</td>\n",
       "      <td>1.000000</td>\n",
       "      <td>0.077358</td>\n",
       "      <td>-0.584536</td>\n",
       "      <td>-0.556518</td>\n",
       "      <td>-0.005566</td>\n",
       "      <td>-0.010610</td>\n",
       "      <td>-0.001741</td>\n",
       "      <td>-0.015981</td>\n",
       "      <td>-0.031180</td>\n",
       "    </tr>\n",
       "    <tr>\n",
       "      <th>year_sale</th>\n",
       "      <td>0.116474</td>\n",
       "      <td>0.033211</td>\n",
       "      <td>-0.087971</td>\n",
       "      <td>0.077358</td>\n",
       "      <td>1.000000</td>\n",
       "      <td>-0.042157</td>\n",
       "      <td>-0.062633</td>\n",
       "      <td>0.001786</td>\n",
       "      <td>-0.289508</td>\n",
       "      <td>-0.147524</td>\n",
       "      <td>-0.601781</td>\n",
       "      <td>-0.824648</td>\n",
       "    </tr>\n",
       "    <tr>\n",
       "      <th>age</th>\n",
       "      <td>-0.997221</td>\n",
       "      <td>-0.539719</td>\n",
       "      <td>0.772305</td>\n",
       "      <td>-0.584536</td>\n",
       "      <td>-0.042157</td>\n",
       "      <td>1.000000</td>\n",
       "      <td>0.952693</td>\n",
       "      <td>0.035496</td>\n",
       "      <td>0.001735</td>\n",
       "      <td>0.037544</td>\n",
       "      <td>-0.012200</td>\n",
       "      <td>-0.012417</td>\n",
       "    </tr>\n",
       "    <tr>\n",
       "      <th>age5</th>\n",
       "      <td>-0.951721</td>\n",
       "      <td>-0.510645</td>\n",
       "      <td>0.738062</td>\n",
       "      <td>-0.556518</td>\n",
       "      <td>-0.062633</td>\n",
       "      <td>0.952693</td>\n",
       "      <td>1.000000</td>\n",
       "      <td>0.036600</td>\n",
       "      <td>0.007235</td>\n",
       "      <td>0.040180</td>\n",
       "      <td>0.006408</td>\n",
       "      <td>0.011194</td>\n",
       "    </tr>\n",
       "    <tr>\n",
       "      <th>raritet</th>\n",
       "      <td>-0.035153</td>\n",
       "      <td>-0.008241</td>\n",
       "      <td>0.001373</td>\n",
       "      <td>-0.005566</td>\n",
       "      <td>0.001786</td>\n",
       "      <td>0.035496</td>\n",
       "      <td>0.036600</td>\n",
       "      <td>1.000000</td>\n",
       "      <td>-0.000803</td>\n",
       "      <td>-0.001737</td>\n",
       "      <td>-0.001090</td>\n",
       "      <td>-0.001495</td>\n",
       "    </tr>\n",
       "    <tr>\n",
       "      <th>day</th>\n",
       "      <td>-0.023312</td>\n",
       "      <td>-0.013659</td>\n",
       "      <td>0.014776</td>\n",
       "      <td>-0.010610</td>\n",
       "      <td>-0.289508</td>\n",
       "      <td>0.001735</td>\n",
       "      <td>0.007235</td>\n",
       "      <td>-0.000803</td>\n",
       "      <td>1.000000</td>\n",
       "      <td>0.085009</td>\n",
       "      <td>0.080706</td>\n",
       "      <td>0.162115</td>\n",
       "    </tr>\n",
       "    <tr>\n",
       "      <th>dayofweek</th>\n",
       "      <td>-0.048322</td>\n",
       "      <td>0.000472</td>\n",
       "      <td>0.027355</td>\n",
       "      <td>-0.001741</td>\n",
       "      <td>-0.147524</td>\n",
       "      <td>0.037544</td>\n",
       "      <td>0.040180</td>\n",
       "      <td>-0.001737</td>\n",
       "      <td>0.085009</td>\n",
       "      <td>1.000000</td>\n",
       "      <td>0.116281</td>\n",
       "      <td>0.105279</td>\n",
       "    </tr>\n",
       "    <tr>\n",
       "      <th>week</th>\n",
       "      <td>-0.032745</td>\n",
       "      <td>0.003878</td>\n",
       "      <td>0.029650</td>\n",
       "      <td>-0.015981</td>\n",
       "      <td>-0.601781</td>\n",
       "      <td>-0.012200</td>\n",
       "      <td>0.006408</td>\n",
       "      <td>-0.001090</td>\n",
       "      <td>0.080706</td>\n",
       "      <td>0.116281</td>\n",
       "      <td>1.000000</td>\n",
       "      <td>0.830281</td>\n",
       "    </tr>\n",
       "    <tr>\n",
       "      <th>month</th>\n",
       "      <td>-0.049148</td>\n",
       "      <td>-0.015018</td>\n",
       "      <td>0.042991</td>\n",
       "      <td>-0.031180</td>\n",
       "      <td>-0.824648</td>\n",
       "      <td>-0.012417</td>\n",
       "      <td>0.011194</td>\n",
       "      <td>-0.001495</td>\n",
       "      <td>0.162115</td>\n",
       "      <td>0.105279</td>\n",
       "      <td>0.830281</td>\n",
       "      <td>1.000000</td>\n",
       "    </tr>\n",
       "  </tbody>\n",
       "</table>\n",
       "</div>"
      ],
      "text/plain": [
       "                  year  condition  odometer  sellingprice  year_sale  \\\n",
       "year          1.000000   0.538998 -0.774291      0.586842   0.116474   \n",
       "condition     0.538998   1.000000 -0.528691      0.532972   0.033211   \n",
       "odometer     -0.774291  -0.528691  1.000000     -0.582987  -0.087971   \n",
       "sellingprice  0.586842   0.532972 -0.582987      1.000000   0.077358   \n",
       "year_sale     0.116474   0.033211 -0.087971      0.077358   1.000000   \n",
       "age          -0.997221  -0.539719  0.772305     -0.584536  -0.042157   \n",
       "age5         -0.951721  -0.510645  0.738062     -0.556518  -0.062633   \n",
       "raritet      -0.035153  -0.008241  0.001373     -0.005566   0.001786   \n",
       "day          -0.023312  -0.013659  0.014776     -0.010610  -0.289508   \n",
       "dayofweek    -0.048322   0.000472  0.027355     -0.001741  -0.147524   \n",
       "week         -0.032745   0.003878  0.029650     -0.015981  -0.601781   \n",
       "month        -0.049148  -0.015018  0.042991     -0.031180  -0.824648   \n",
       "\n",
       "                   age      age5   raritet       day  dayofweek      week  \\\n",
       "year         -0.997221 -0.951721 -0.035153 -0.023312  -0.048322 -0.032745   \n",
       "condition    -0.539719 -0.510645 -0.008241 -0.013659   0.000472  0.003878   \n",
       "odometer      0.772305  0.738062  0.001373  0.014776   0.027355  0.029650   \n",
       "sellingprice -0.584536 -0.556518 -0.005566 -0.010610  -0.001741 -0.015981   \n",
       "year_sale    -0.042157 -0.062633  0.001786 -0.289508  -0.147524 -0.601781   \n",
       "age           1.000000  0.952693  0.035496  0.001735   0.037544 -0.012200   \n",
       "age5          0.952693  1.000000  0.036600  0.007235   0.040180  0.006408   \n",
       "raritet       0.035496  0.036600  1.000000 -0.000803  -0.001737 -0.001090   \n",
       "day           0.001735  0.007235 -0.000803  1.000000   0.085009  0.080706   \n",
       "dayofweek     0.037544  0.040180 -0.001737  0.085009   1.000000  0.116281   \n",
       "week         -0.012200  0.006408 -0.001090  0.080706   0.116281  1.000000   \n",
       "month        -0.012417  0.011194 -0.001495  0.162115   0.105279  0.830281   \n",
       "\n",
       "                 month  \n",
       "year         -0.049148  \n",
       "condition    -0.015018  \n",
       "odometer      0.042991  \n",
       "sellingprice -0.031180  \n",
       "year_sale    -0.824648  \n",
       "age          -0.012417  \n",
       "age5          0.011194  \n",
       "raritet      -0.001495  \n",
       "day           0.162115  \n",
       "dayofweek     0.105279  \n",
       "week          0.830281  \n",
       "month         1.000000  "
      ]
     },
     "execution_count": 99,
     "metadata": {},
     "output_type": "execute_result"
    }
   ],
   "source": [
    "#посмотрим на матрицу корреляцию получившихся признаков\n",
    "train_1 = train.iloc[:, [i for i, n in enumerate(np.var(train, axis = 'rows')) if n > 0]]\n",
    "train_1.corr()"
   ]
  },
  {
   "cell_type": "markdown",
   "id": "07050247",
   "metadata": {},
   "source": [
    "Year_sale и month имеют сильную отрицательную корреляцию, удалим эти столбцы. Есть некоторые признаки, которые мы создали из даты продажи, которые между собой сильно коррелируют, в дальнейшем оставим только их производные, sin и cos. Так же с прошлой корреляции мы видели как interior и color сильно коррелируют между собой, поэтому мы решили удалить признак interior, так как считаем что он не будет иметь веса при обучении, на самом деле так и есть, при продаже автомобиля одно из основных в выборе принятие решения о покупке автомобиля имеет значение на цвет кузова."
   ]
  },
  {
   "cell_type": "code",
   "execution_count": 100,
   "id": "42879a11",
   "metadata": {},
   "outputs": [
    {
     "name": "stderr",
     "output_type": "stream",
     "text": [
      "C:\\Users\\User\\AppData\\Local\\Temp\\ipykernel_11368\\139477590.py:2: DeprecationWarning: `np.object` is a deprecated alias for the builtin `object`. To silence this warning, use `object` by itself. Doing this will not modify any behavior and is safe. \n",
      "Deprecated in NumPy 1.20; for more details and guidance: https://numpy.org/devdocs/release/1.20.0-notes.html#deprecations\n",
      "  train = train.astype({'raritet': np.object})\n",
      "C:\\Users\\User\\AppData\\Local\\Temp\\ipykernel_11368\\139477590.py:3: DeprecationWarning: `np.object` is a deprecated alias for the builtin `object`. To silence this warning, use `object` by itself. Doing this will not modify any behavior and is safe. \n",
      "Deprecated in NumPy 1.20; for more details and guidance: https://numpy.org/devdocs/release/1.20.0-notes.html#deprecations\n",
      "  test = test.astype({'raritet': np.object})\n"
     ]
    }
   ],
   "source": [
    "#переведем бинарный признак в категориальный\n",
    "train = train.astype({'raritet': np.object})\n",
    "test = test.astype({'raritet': np.object})"
   ]
  },
  {
   "cell_type": "markdown",
   "id": "f523a0b3",
   "metadata": {},
   "source": [
    "## 4. Кодирование данных и деление выборки"
   ]
  },
  {
   "cell_type": "markdown",
   "id": "2115f737",
   "metadata": {},
   "source": [
    "Удалим не нужные признаки из датасетов. Поделим выборки, масштабируем, закодируем данные и будем обучать модели."
   ]
  },
  {
   "cell_type": "code",
   "execution_count": 101,
   "id": "b3b7efaf",
   "metadata": {},
   "outputs": [],
   "source": [
    "train.drop(columns=['saledate', 'year', 'year_sale', 'age5', 'vin', 'interior', \\\n",
    "                    'seller', 'day', 'dayofweek', 'week', 'month'], axis=1, inplace=True)"
   ]
  },
  {
   "cell_type": "code",
   "execution_count": 102,
   "id": "68fdad26",
   "metadata": {},
   "outputs": [],
   "source": [
    "test.drop(columns=['saledate', 'year', 'year_sale', 'age5', 'vin', 'interior', \\\n",
    "                    'seller', 'day', 'dayofweek', 'week', 'month'], axis=1, inplace=True)"
   ]
  },
  {
   "cell_type": "code",
   "execution_count": 103,
   "id": "e31eb158",
   "metadata": {},
   "outputs": [],
   "source": [
    "#выделим признаки на train\n",
    "X = train.drop(columns=['sellingprice'], inplace=False)\n",
    "y = train['sellingprice']"
   ]
  },
  {
   "cell_type": "code",
   "execution_count": 104,
   "id": "a133f2c7",
   "metadata": {},
   "outputs": [
    {
     "data": {
      "text/plain": [
       "['condition',\n",
       " 'odometer',\n",
       " 'age',\n",
       " 'day_sin',\n",
       " 'day_cos',\n",
       " 'dayofweek_sin',\n",
       " 'dayofweek_cos',\n",
       " 'week_sin',\n",
       " 'week_cos',\n",
       " 'month_sin',\n",
       " 'month_cos',\n",
       " 'is_weekend',\n",
       " 'is_sunday',\n",
       " 'condition_odometer']"
      ]
     },
     "execution_count": 104,
     "metadata": {},
     "output_type": "execute_result"
    }
   ],
   "source": [
    "#разделим признаки на числовые и объекты\n",
    "cat_columns = X.select_dtypes(include='object').columns.tolist()\n",
    "num_columns = X.select_dtypes(include='number').columns.tolist()\n",
    "num_columns"
   ]
  },
  {
   "cell_type": "code",
   "execution_count": 105,
   "id": "3b01632d",
   "metadata": {},
   "outputs": [],
   "source": [
    "#закодируем и масштабируем признаки\n",
    "column_transformer = make_column_transformer(\n",
    "    (\n",
    "        StandardScaler(),\n",
    "        num_columns\n",
    "    ),\n",
    "    (\n",
    "        OneHotEncoder(handle_unknown='ignore'),\n",
    "        make_column_selector(dtype_include='object')\n",
    "    ),\n",
    "    remainder='passthrough',\n",
    "    verbose_feature_names_out=False\n",
    ")"
   ]
  },
  {
   "cell_type": "code",
   "execution_count": 106,
   "id": "817fe34f",
   "metadata": {},
   "outputs": [],
   "source": [
    "X_transformed = column_transformer.fit_transform(X)"
   ]
  },
  {
   "cell_type": "code",
   "execution_count": 107,
   "id": "1f6b64ed",
   "metadata": {},
   "outputs": [
    {
     "data": {
      "text/plain": [
       "['condition',\n",
       " 'odometer',\n",
       " 'age',\n",
       " 'day_sin',\n",
       " 'day_cos',\n",
       " 'dayofweek_sin',\n",
       " 'dayofweek_cos',\n",
       " 'week_sin',\n",
       " 'week_cos',\n",
       " 'month_sin',\n",
       " 'month_cos',\n",
       " 'is_weekend',\n",
       " 'is_sunday',\n",
       " 'condition_odometer',\n",
       " 'make_acura',\n",
       " 'make_airstream',\n",
       " 'make_aston martin',\n",
       " 'make_audi',\n",
       " 'make_bentley',\n",
       " 'make_bmw',\n",
       " 'make_buick',\n",
       " 'make_cadillac',\n",
       " 'make_chevrolet',\n",
       " 'make_chrysler',\n",
       " 'make_daewoo',\n",
       " 'make_dodge',\n",
       " 'make_dot',\n",
       " 'make_ferrari',\n",
       " 'make_fiat',\n",
       " 'make_fisker',\n",
       " 'make_ford',\n",
       " 'make_ford truck',\n",
       " 'make_geo',\n",
       " 'make_gmc',\n",
       " 'make_gmc truck',\n",
       " 'make_honda',\n",
       " 'make_hummer',\n",
       " 'make_hyundai',\n",
       " 'make_infiniti',\n",
       " 'make_isuzu',\n",
       " 'make_jaguar',\n",
       " 'make_jeep',\n",
       " 'make_kia',\n",
       " 'make_lamborghini',\n",
       " 'make_land rover',\n",
       " 'make_lexus',\n",
       " 'make_lincoln',\n",
       " 'make_maserati',\n",
       " 'make_mazda',\n",
       " 'make_mercedes-benz',\n",
       " 'make_mercury',\n",
       " 'make_mini',\n",
       " 'make_mitsubishi',\n",
       " 'make_nissan',\n",
       " 'make_oldsmobile',\n",
       " 'make_plymouth',\n",
       " 'make_pontiac',\n",
       " 'make_porsche',\n",
       " 'make_ram',\n",
       " 'make_rolls-royce',\n",
       " 'make_saab',\n",
       " 'make_saturn',\n",
       " 'make_scion',\n",
       " 'make_smart',\n",
       " 'make_subaru',\n",
       " 'make_suzuki',\n",
       " 'make_tesla',\n",
       " 'make_toyota',\n",
       " 'make_volkswagen',\n",
       " 'make_volvo',\n",
       " 'model_access cab',\n",
       " 'model_beetle convertible',\n",
       " 'model_cab plus',\n",
       " 'model_cab plus 4',\n",
       " 'model_club cab',\n",
       " 'model_convertible',\n",
       " 'model_coupe',\n",
       " 'model_crew cab',\n",
       " 'model_crewmax cab',\n",
       " 'model_cts coupe',\n",
       " 'model_cts wagon',\n",
       " 'model_cts-v coupe',\n",
       " 'model_cts-v wagon',\n",
       " 'model_double cab',\n",
       " 'model_e-series van',\n",
       " 'model_elantra coupe',\n",
       " 'model_extended cab',\n",
       " 'model_g convertible',\n",
       " 'model_g coupe',\n",
       " 'model_g sedan',\n",
       " 'model_g37 convertible',\n",
       " 'model_g37 coupe',\n",
       " 'model_genesis coupe',\n",
       " 'model_granturismo convertible',\n",
       " 'model_hatchback',\n",
       " 'model_king cab',\n",
       " 'model_koup',\n",
       " 'model_mega cab',\n",
       " 'model_minivan',\n",
       " 'model_nan',\n",
       " 'model_promaster cargo van',\n",
       " 'model_q60 convertible',\n",
       " 'model_q60 coupe',\n",
       " 'model_quad cab',\n",
       " 'model_ram van',\n",
       " 'model_regular cab',\n",
       " 'model_regular-cab',\n",
       " 'model_sedan',\n",
       " 'model_supercab',\n",
       " 'model_supercrew',\n",
       " 'model_suv',\n",
       " 'model_transit van',\n",
       " 'model_tsx sport wagon',\n",
       " 'model_van',\n",
       " 'model_wagon',\n",
       " 'model_xtracab',\n",
       " 'trim_!',\n",
       " 'trim_& coun fwd',\n",
       " 'trim_& coun fwd limited',\n",
       " 'trim_& coun fwd lx',\n",
       " 'trim_& country lx',\n",
       " 'trim_(1999.5) XE',\n",
       " 'trim_+',\n",
       " 'trim_1',\n",
       " 'trim_1.6',\n",
       " 'trim_1.6 Base',\n",
       " 'trim_1.6 S',\n",
       " 'trim_1.6 S Plus',\n",
       " 'trim_1.6 SL',\n",
       " 'trim_1.6 SV',\n",
       " 'trim_1.8',\n",
       " 'trim_1.8 Base',\n",
       " 'trim_1.8 Krom',\n",
       " 'trim_1.8 S',\n",
       " 'trim_1.8 S Krom Edition',\n",
       " 'trim_1.8 SL',\n",
       " 'trim_1.8 TFSI Premium',\n",
       " 'trim_1.8 TFSI Premium Plus',\n",
       " 'trim_1.8T',\n",
       " 'trim_1.8T Avant quattro',\n",
       " 'trim_1.8T Classic',\n",
       " 'trim_1.8T quattro',\n",
       " 'trim_1.9',\n",
       " 'trim_10th Anniversary',\n",
       " 'trim_128i',\n",
       " 'trim_128i SULEV',\n",
       " 'trim_135i',\n",
       " 'trim_135is',\n",
       " 'trim_150 Low Roof',\n",
       " 'trim_1500',\n",
       " 'trim_1500 4x2',\n",
       " 'trim_1500 4x2 cr sle',\n",
       " 'trim_1500 4x2 cr sle1',\n",
       " 'trim_1500 4x2 ex sle',\n",
       " 'trim_1500 4x2 slt',\n",
       " 'trim_1500 4x4 cr slt',\n",
       " 'trim_1500 4x4 ex sle',\n",
       " 'trim_1500 4x4 v8 slt',\n",
       " 'trim_1500 High Roof',\n",
       " 'trim_1500 LS',\n",
       " 'trim_1500 LT',\n",
       " 'trim_1500 LT1',\n",
       " 'trim_1500 LTZ',\n",
       " 'trim_1500 Low Roof',\n",
       " 'trim_1500 Maxi',\n",
       " 'trim_1500 S',\n",
       " 'trim_1500 SLE',\n",
       " 'trim_1500 SLT',\n",
       " 'trim_1500 SV',\n",
       " 'trim_1500 awd cr denali',\n",
       " 'trim_1500 base',\n",
       " 'trim_1500 lramie slt',\n",
       " 'trim_1794',\n",
       " 'trim_1794 FFV',\n",
       " 'trim_180hp',\n",
       " 'trim_180hp quattro',\n",
       " 'trim_190E 2.3',\n",
       " 'trim_1LS Fleet',\n",
       " 'trim_1LT',\n",
       " 'trim_1LT Fleet',\n",
       " 'trim_1SS',\n",
       " 'trim_2',\n",
       " 'trim_2+2',\n",
       " 'trim_2.0',\n",
       " 'trim_2.0 S',\n",
       " 'trim_2.0 SL',\n",
       " 'trim_2.0 SR',\n",
       " 'trim_2.0 TDI Premium',\n",
       " 'trim_2.0 TDI Premium Plus',\n",
       " 'trim_2.0 TFSI Premium Plus quattro',\n",
       " 'trim_2.0 TFSI Premium quattro',\n",
       " 'trim_2.0 TFSI Prestige quattro',\n",
       " 'trim_2.0L TDI',\n",
       " 'trim_2.0T',\n",
       " 'trim_2.0T Avant Premium quattro',\n",
       " 'trim_2.0T Avant quattro',\n",
       " 'trim_2.0T PZEV',\n",
       " 'trim_2.0T PZEV Premium',\n",
       " 'trim_2.0T Premium',\n",
       " 'trim_2.0T Premium Avant quattro',\n",
       " 'trim_2.0T Premium Plus',\n",
       " 'trim_2.0T Premium Plus quattro',\n",
       " 'trim_2.0T Premium quattro',\n",
       " 'trim_2.0T Premium quattro ',\n",
       " 'trim_2.0T Prestige',\n",
       " 'trim_2.0T Prestige quattro',\n",
       " 'trim_2.0T R-Spec',\n",
       " 'trim_2.0T SportCombi',\n",
       " 'trim_2.0T Turbo ',\n",
       " 'trim_2.0T Turbo PZEV',\n",
       " 'trim_2.0T White Turbo Launch Edition',\n",
       " 'trim_2.0T White Turbo Launch Edition PZEV',\n",
       " 'trim_2.0T quattro',\n",
       " 'trim_2.0XT Premium',\n",
       " 'trim_2.0XT Touring',\n",
       " 'trim_2.0i',\n",
       " 'trim_2.0i Limited PZEV',\n",
       " 'trim_2.0i PZEV',\n",
       " 'trim_2.0i Premium PZEV',\n",
       " 'trim_2.0i Sport Limited PZEV',\n",
       " 'trim_2.0i Sport Premium PZEV',\n",
       " 'trim_2.2',\n",
       " 'trim_2.2 Premium',\n",
       " 'trim_2.3',\n",
       " 'trim_2.3 Premium',\n",
       " 'trim_2.3t',\n",
       " 'trim_2.4',\n",
       " 'trim_2.4M',\n",
       " 'trim_2.4T',\n",
       " 'trim_2.4i',\n",
       " 'trim_2.5',\n",
       " 'trim_2.5 GT',\n",
       " 'trim_2.5 GT Limited',\n",
       " 'trim_2.5 I',\n",
       " 'trim_2.5 I Limited',\n",
       " 'trim_2.5 PZEV',\n",
       " 'trim_2.5 Premium',\n",
       " 'trim_2.5 RS',\n",
       " 'trim_2.5 S',\n",
       " 'trim_2.5 SL',\n",
       " 'trim_2.5 SV',\n",
       " 'trim_2.5 TS',\n",
       " 'trim_2.5 X',\n",
       " 'trim_2.5 X L.L.Bean Edition',\n",
       " 'trim_2.5 X Premium Package',\n",
       " 'trim_2.5 XT',\n",
       " 'trim_2.5 XT Limited',\n",
       " 'trim_2.5 i',\n",
       " 'trim_2.5GT Limited',\n",
       " 'trim_2.5I',\n",
       " 'trim_2.5I Limited',\n",
       " 'trim_2.5L',\n",
       " 'trim_2.5L ',\n",
       " 'trim_2.5L Blush Edition',\n",
       " 'trim_2.5L Blush Edition PZEV',\n",
       " 'trim_2.5L Final Edition',\n",
       " 'trim_2.5L Final Edition PZEV',\n",
       " 'trim_2.5L PZEV',\n",
       " 'trim_2.5L Red Rock Edition',\n",
       " 'trim_2.5L Red Rock Edition PZEV',\n",
       " 'trim_2.5T',\n",
       " 'trim_2.5T SE',\n",
       " 'trim_2.5X',\n",
       " 'trim_2.5X Limited',\n",
       " 'trim_2.5X Limited PZEV',\n",
       " 'trim_2.5X PZEV',\n",
       " 'trim_2.5X Premium',\n",
       " 'trim_2.5X Premium PZEV',\n",
       " 'trim_2.5X Touring',\n",
       " 'trim_2.5X Touring PZEV',\n",
       " 'trim_2.5XT',\n",
       " 'trim_2.5XT Limited',\n",
       " 'trim_2.5XT Premium',\n",
       " 'trim_2.5XT Touring',\n",
       " 'trim_2.5i',\n",
       " 'trim_2.5i Limited',\n",
       " 'trim_2.5i Limited PZEV',\n",
       " 'trim_2.5i PZEV',\n",
       " 'trim_2.5i Premium',\n",
       " 'trim_2.5i Premium PZEV',\n",
       " 'trim_2.5i Special Edition',\n",
       " 'trim_2.5i Sport',\n",
       " 'trim_2.5i Sport PZEV',\n",
       " 'trim_2.5i Touring PZEV',\n",
       " 'trim_2.7T S-Line quattro',\n",
       " 'trim_2.7T quattro',\n",
       " 'trim_2.8',\n",
       " 'trim_2.8 Avant quattro',\n",
       " 'trim_2.8 quattro',\n",
       " 'trim_2.9',\n",
       " 'trim_225hp quattro',\n",
       " 'trim_228i',\n",
       " 'trim_25 4x4 cr sle',\n",
       " 'trim_250 High Roof',\n",
       " 'trim_250 Low Roof',\n",
       " 'trim_250 Medium Roof',\n",
       " 'trim_2500',\n",
       " 'trim_2500 118 WB',\n",
       " 'trim_2500 140 WB',\n",
       " 'trim_2500 144 WB',\n",
       " 'trim_2500 144 WB Cargo',\n",
       " 'trim_2500 144 WB Crew',\n",
       " 'trim_2500 144 WB Passenger',\n",
       " 'trim_2500 170 WB',\n",
       " 'trim_2500 170 WB Cargo',\n",
       " 'trim_2500 170 WB Passenger',\n",
       " 'trim_2500 4x4',\n",
       " 'trim_2500 High Ceiling 118 WB',\n",
       " 'trim_2500 High Roof',\n",
       " 'trim_2500 High Roof 140 WB',\n",
       " 'trim_2500 High Roof 158 WB',\n",
       " 'trim_2500 LS',\n",
       " 'trim_2500 LT',\n",
       " 'trim_2500 S',\n",
       " 'trim_2500 SH Ceiling 140 WB',\n",
       " 'trim_2500 SLE',\n",
       " 'trim_2500 SV',\n",
       " 'trim_2500 lramie slt',\n",
       " 'trim_2500k lt',\n",
       " 'trim_250hp quattro',\n",
       " 'trim_25th Anniversary',\n",
       " 'trim_2LS Fleet',\n",
       " 'trim_2LT',\n",
       " 'trim_2SS',\n",
       " 'trim_2wd ext',\n",
       " 'trim_2wd ext base',\n",
       " 'trim_2wd ext ls',\n",
       " 'trim_3',\n",
       " 'trim_3.0',\n",
       " 'trim_3.0 Avant quattro',\n",
       " 'trim_3.0 Premium',\n",
       " 'trim_3.0 R',\n",
       " 'trim_3.0 R L.L.Bean Edition',\n",
       " 'trim_3.0 R Limited',\n",
       " 'trim_3.0 R VDC Limited',\n",
       " 'trim_3.0 quattro',\n",
       " 'trim_3.0L',\n",
       " 'trim_3.0L Sportwagon',\n",
       " 'trim_3.0R Limited',\n",
       " 'trim_3.0T Premium Plus quattro',\n",
       " 'trim_3.0T Premium quattro',\n",
       " 'trim_3.0T Prestige quattro',\n",
       " 'trim_3.0T S line Prestige quattro',\n",
       " 'trim_3.0T quattro',\n",
       " 'trim_3.0i',\n",
       " 'trim_3.0si',\n",
       " 'trim_3.2',\n",
       " 'trim_3.2 ',\n",
       " 'trim_3.2 Avant quattro',\n",
       " 'trim_3.2 Premier Plus',\n",
       " 'trim_3.2 Premium',\n",
       " 'trim_3.2 Premium Plus quattro',\n",
       " 'trim_3.2 Premium quattro',\n",
       " 'trim_3.2 R-Design',\n",
       " 'trim_3.2 Special Edition',\n",
       " 'trim_3.2 Type-S',\n",
       " 'trim_3.2 quattro',\n",
       " 'trim_3.2L',\n",
       " 'trim_3.5',\n",
       " 'trim_3.5 Premium',\n",
       " 'trim_3.5 S',\n",
       " 'trim_3.5 SE',\n",
       " 'trim_3.5 SE-R',\n",
       " 'trim_3.5 SL',\n",
       " 'trim_3.5 SR',\n",
       " 'trim_3.5 SV',\n",
       " 'trim_3.5 Special Edition',\n",
       " 'trim_3.5L',\n",
       " 'trim_3.5XS',\n",
       " 'trim_3.6',\n",
       " 'trim_3.6 4Motion',\n",
       " 'trim_3.6 Premium quattro',\n",
       " 'trim_3.6 quattro',\n",
       " 'trim_3.6R Limited',\n",
       " 'trim_3.6R Premium',\n",
       " 'trim_3.6R Touring',\n",
       " 'trim_3.6l se se',\n",
       " 'trim_3.8',\n",
       " 'trim_3.8 Grand Touring',\n",
       " 'trim_3.8 R-Spec',\n",
       " 'trim_3.8 Track',\n",
       " 'trim_3.8 Ultimate',\n",
       " 'trim_300E',\n",
       " 'trim_300E 2.8',\n",
       " 'trim_300SL',\n",
       " 'trim_318i',\n",
       " 'trim_318ti',\n",
       " 'trim_320i',\n",
       " 'trim_320i xDrive',\n",
       " 'trim_323Ci',\n",
       " 'trim_323i',\n",
       " 'trim_323is',\n",
       " 'trim_325Ci',\n",
       " 'trim_325i',\n",
       " 'trim_325is',\n",
       " 'trim_325xi',\n",
       " 'trim_328Ci',\n",
       " 'trim_328d',\n",
       " 'trim_328d xDrive',\n",
       " 'trim_328i',\n",
       " 'trim_328i SULEV',\n",
       " 'trim_328i xDrive',\n",
       " 'trim_328i xDrive SULEV',\n",
       " 'trim_328is',\n",
       " 'trim_328xi',\n",
       " 'trim_330Ci',\n",
       " 'trim_330i',\n",
       " 'trim_330xi',\n",
       " 'trim_335d',\n",
       " 'trim_335i',\n",
       " 'trim_335i xDrive',\n",
       " 'trim_335is',\n",
       " 'trim_335xi',\n",
       " 'trim_350 XL High Roof',\n",
       " 'trim_350 XL Low Roof',\n",
       " 'trim_350 XL Medium Roof',\n",
       " 'trim_3500',\n",
       " 'trim_3500 170 WB',\n",
       " 'trim_3500 170 WB Cargo',\n",
       " 'trim_3500 High Roof 140 WB',\n",
       " 'trim_3500 High Roof 158 WB',\n",
       " 'trim_3500 S',\n",
       " 'trim_3500 SH Ceiling 158 WB',\n",
       " 'trim_3500 SV',\n",
       " 'trim_3500 sport',\n",
       " 'trim_4',\n",
       " 'trim_4.0',\n",
       " 'trim_4.0 S',\n",
       " 'trim_4.0 SE',\n",
       " 'trim_4.0T quattro',\n",
       " 'trim_4.2',\n",
       " 'trim_4.2 Premium quattro',\n",
       " 'trim_4.2 Prestige quattro',\n",
       " 'trim_4.2 quattro',\n",
       " 'trim_4.2 quattro Spyder',\n",
       " 'trim_4.2i',\n",
       " 'trim_4.4i',\n",
       " 'trim_4.6',\n",
       " 'trim_4.6 HSE',\n",
       " 'trim_4.6 SE',\n",
       " 'trim_4.6 Vitesse',\n",
       " 'trim_4.6is',\n",
       " 'trim_4.8i',\n",
       " 'trim_4.8is',\n",
       " 'trim_400SEL',\n",
       " 'trim_420SEL',\n",
       " 'trim_427',\n",
       " 'trim_428i',\n",
       " 'trim_428i SULEV',\n",
       " 'trim_428i xDrive',\n",
       " 'trim_428i xDrive SULEV',\n",
       " 'trim_435i',\n",
       " 'trim_435i xDrive',\n",
       " 'trim_454SS',\n",
       " 'trim_470',\n",
       " 'trim_4S',\n",
       " 'trim_4c',\n",
       " 'trim_4c 1.8t',\n",
       " 'trim_4c base',\n",
       " 'trim_4c comfort',\n",
       " 'trim_4c le',\n",
       " 'trim_4c ls w/1fl',\n",
       " 'trim_4c ls w/1ls',\n",
       " 'trim_4c lt w/2lt',\n",
       " 'trim_4c ltz',\n",
       " 'trim_4c se',\n",
       " 'trim_4wd i',\n",
       " 'trim_4wd s',\n",
       " 'trim_4x2',\n",
       " 'trim_4x2 6c carrera',\n",
       " 'trim_4x2 6c carrera s',\n",
       " 'trim_4x2 6c cxl',\n",
       " 'trim_4x2 carrera',\n",
       " 'trim_4x2 cr limited',\n",
       " 'trim_4x2 ed bauer',\n",
       " 'trim_4x2 ex lt w/1lt',\n",
       " 'trim_4x2 ex xl',\n",
       " 'trim_4x2 ext',\n",
       " 'trim_4x2 ext base',\n",
       " 'trim_4x2 ext lariat',\n",
       " 'trim_4x2 ext ls',\n",
       " 'trim_4x2 ext silverado',\n",
       " 'trim_4x2 ext xl',\n",
       " 'trim_4x2 ext xlt',\n",
       " 'trim_4x2 reg',\n",
       " 'trim_4x2 reg base',\n",
       " 'trim_4x2 reg ls',\n",
       " 'trim_4x2 reg silver ls',\n",
       " 'trim_4x2 reg silverado',\n",
       " 'trim_4x2 reg xl',\n",
       " 'trim_4x2 reg xlt',\n",
       " 'trim_4x2 rg work truck',\n",
       " 'trim_4x2 rg xl',\n",
       " 'trim_4x2 sls',\n",
       " 'trim_4x2 suv',\n",
       " 'trim_4x2 v10 xlt',\n",
       " 'trim_4x2 v6',\n",
       " 'trim_4x2 v6 limited',\n",
       " 'trim_4x2 v6 rwd',\n",
       " 'trim_4x2 v6 se',\n",
       " 'trim_4x2 v6 sr5',\n",
       " 'trim_4x2 v6 sxt',\n",
       " 'trim_4x2 v6 xl',\n",
       " 'trim_4x2 v6 xls',\n",
       " 'trim_4x2 v6 xls sport',\n",
       " 'trim_4x2 v6 xlt',\n",
       " 'trim_4x2 v8',\n",
       " 'trim_4x2 v8 300c srt8',\n",
       " 'trim_4x2 v8 c srt8',\n",
       " 'trim_4x2 v8 ed bauer',\n",
       " 'trim_4x2 v8 limited',\n",
       " 'trim_4x2 v8 lt',\n",
       " 'trim_4x2 v8 slt',\n",
       " 'trim_4x2 v8 sr5',\n",
       " 'trim_4x2 v8 x-sp',\n",
       " 'trim_4x2 v8 xlt',\n",
       " 'trim_4x2 v8 xlt prm',\n",
       " 'trim_4x2 xlt',\n",
       " 'trim_4x4',\n",
       " 'trim_4x4 4c',\n",
       " 'trim_4x4 4c hybrid',\n",
       " 'trim_4x4 4c limited',\n",
       " 'trim_4x4 4c north',\n",
       " 'trim_4x4 4c s',\n",
       " 'trim_4x4 4c se',\n",
       " 'trim_4x4 4c sport',\n",
       " 'trim_4x4 6c sahara',\n",
       " 'trim_4x4 6c se',\n",
       " 'trim_4x4 6c sport',\n",
       " 'trim_4x4 base',\n",
       " 'trim_4x4 cr',\n",
       " 'trim_4x4 cr king ranch',\n",
       " 'trim_4x4 cr lariat',\n",
       " 'trim_4x4 cr rt',\n",
       " 'trim_4x4 cr rtl',\n",
       " 'trim_4x4 cr srw xlt',\n",
       " 'trim_4x4 cr xlt',\n",
       " 'trim_4x4 crew lariat',\n",
       " 'trim_4x4 dx',\n",
       " 'trim_4x4 ed bauer',\n",
       " 'trim_4x4 ex',\n",
       " 'trim_4x4 ex fx4',\n",
       " 'trim_4x4 ex stx',\n",
       " 'trim_4x4 ex xl',\n",
       " 'trim_4x4 ex xlt',\n",
       " 'trim_4x4 ex-l',\n",
       " 'trim_4x4 ext',\n",
       " 'trim_4x4 ext classic ls',\n",
       " 'trim_4x4 ext lariat',\n",
       " 'trim_4x4 ext lariat o/r',\n",
       " 'trim_4x4 ext silver z71',\n",
       " 'trim_4x4 ext silverado',\n",
       " 'trim_4x4 ext slt',\n",
       " 'trim_4x4 ext xlt',\n",
       " 'trim_4x4 ext xlt off/rd',\n",
       " 'trim_4x4 le',\n",
       " 'trim_4x4 lx',\n",
       " 'trim_4x4 mg slt',\n",
       " 'trim_4x4 reg silver ls',\n",
       " 'trim_4x4 reg silverado',\n",
       " 'trim_4x4 reg xlt',\n",
       " 'trim_4x4 rg xl',\n",
       " 'trim_4x4 slt',\n",
       " 'trim_4x4 sport',\n",
       " 'trim_4x4 v6',\n",
       " 'trim_4x4 v6 ed bauer',\n",
       " 'trim_4x4 v6 ex',\n",
       " 'trim_4x4 v6 limited',\n",
       " 'trim_4x4 v6 nbx',\n",
       " 'trim_4x4 v6 xls',\n",
       " 'trim_4x4 v6 xlt',\n",
       " 'trim_4x4 v6 xlt pop 2',\n",
       " 'trim_4x4 v6 xlt sport',\n",
       " 'trim_4x4 v8 limited',\n",
       " 'trim_4x4 v8 sle',\n",
       " 'trim_4x4 v8 slt',\n",
       " 'trim_4x4 v8 sr5',\n",
       " 'trim_4x4 xlt',\n",
       " 'trim_5 lt',\n",
       " 'trim_5-Passenger',\n",
       " 'trim_5.0',\n",
       " 'trim_5.0 R-Spec',\n",
       " 'trim_5.2 quattro',\n",
       " 'trim_5.2 quattro Spyder',\n",
       " 'trim_5.3i',\n",
       " 'trim_500SL',\n",
       " 'trim_50th Anniversary',\n",
       " 'trim_525i',\n",
       " 'trim_525xi',\n",
       " 'trim_528i',\n",
       " 'trim_528i xDrive',\n",
       " 'trim_528xi',\n",
       " 'trim_530i',\n",
       " 'trim_530xi',\n",
       " 'trim_535d',\n",
       " 'trim_535d xDrive',\n",
       " 'trim_535i',\n",
       " 'trim_535i xDrive',\n",
       " 'trim_535xi',\n",
       " 'trim_540i',\n",
       " 'trim_545i',\n",
       " 'trim_550i',\n",
       " 'trim_550i xDrive',\n",
       " 'trim_60',\n",
       " 'trim_60th Anniversary',\n",
       " 'trim_640i',\n",
       " 'trim_640i xDrive',\n",
       " 'trim_645Ci',\n",
       " 'trim_650i',\n",
       " 'trim_650i xDrive',\n",
       " 'trim_6c rubicon',\n",
       " 'trim_6c rubicon ul',\n",
       " 'trim_6c se',\n",
       " 'trim_6c sport',\n",
       " 'trim_6c unlimited',\n",
       " 'trim_6c x',\n",
       " 'trim_7-Passenger',\n",
       " 'trim_70th Anniversary',\n",
       " 'trim_740Ld xDrive',\n",
       " 'trim_740Li',\n",
       " 'trim_740Li xDrive',\n",
       " 'trim_740i',\n",
       " 'trim_740iL',\n",
       " 'trim_745Li',\n",
       " 'trim_745i',\n",
       " 'trim_750Li',\n",
       " 'trim_750Li xDrive',\n",
       " 'trim_750i',\n",
       " 'trim_750i xDrive',\n",
       " 'trim_750iL',\n",
       " 'trim_750li',\n",
       " 'trim_750li xdr',\n",
       " 'trim_760Li',\n",
       " 'trim_85',\n",
       " 'trim_850i',\n",
       " 'trim_Abarth',\n",
       " 'trim_ActiveHybrid 3',\n",
       " 'trim_ActiveHybrid 5',\n",
       " 'trim_Adrenalin',\n",
       " 'trim_Advance Package',\n",
       " 'trim_Advance and Entertainment Packages',\n",
       " 'trim_Advanced',\n",
       " 'trim_Aero',\n",
       " 'trim_Aero SportCombi',\n",
       " 'trim_Alpha',\n",
       " 'trim_Altitude',\n",
       " 'trim_Altitude Edition',\n",
       " 'trim_American Value Package',\n",
       " 'trim_Arc',\n",
       " 'trim_Arc 2.3T',\n",
       " 'trim_Arc 3.0t',\n",
       " 'trim_Autobahn',\n",
       " 'trim_Autobahn PZEV',\n",
       " 'trim_Autobiography',\n",
       " 'trim_Avant quattro',\n",
       " 'trim_Aveo5 1LT',\n",
       " 'trim_Aveo5 2LT',\n",
       " 'trim_Aveo5 LS',\n",
       " 'trim_Aveo5 Special Value',\n",
       " 'trim_B2300',\n",
       " 'trim_B2500 SE',\n",
       " 'trim_B3000',\n",
       " 'trim_B3000 Dual Sport',\n",
       " 'trim_B3000 SE',\n",
       " 'trim_B4000',\n",
       " 'trim_B4000 SE',\n",
       " 'trim_BEV',\n",
       " 'trim_BRABUS cabriolet',\n",
       " 'trim_BRABUS coupe',\n",
       " 'trim_Base',\n",
       " 'trim_Base (1999.5)',\n",
       " 'trim_Base 7-Passenger',\n",
       " 'trim_Base PZEV',\n",
       " 'trim_Bi-Color Edition',\n",
       " 'trim_Big Horn',\n",
       " 'trim_BigHorn',\n",
       " 'trim_Black Edition',\n",
       " 'trim_Black Tie Edition',\n",
       " 'trim_Blue',\n",
       " 'trim_Boss 302',\n",
       " 'trim_Bullitt',\n",
       " 'trim_C',\n",
       " 'trim_C Abarth',\n",
       " 'trim_C HEMI',\n",
       " 'trim_C John Varvatos',\n",
       " 'trim_C John Varvatos Luxury',\n",
       " 'trim_C Lounge',\n",
       " 'trim_C Luxury Series',\n",
       " 'trim_C Pop',\n",
       " 'trim_C/V',\n",
       " 'trim_C220',\n",
       " 'trim_C230',\n",
       " 'trim_C230 Kompressor',\n",
       " 'trim_C230 Sport',\n",
       " 'trim_C240',\n",
       " 'trim_C240 4MATIC',\n",
       " 'trim_C240 Luxury',\n",
       " 'trim_C240 Luxury 4MATIC',\n",
       " 'trim_C250',\n",
       " 'trim_C250 Sport',\n",
       " 'trim_C280',\n",
       " 'trim_C280 Luxury',\n",
       " 'trim_C280 Luxury 4MATIC',\n",
       " 'trim_C300',\n",
       " 'trim_C300 Luxury',\n",
       " 'trim_C300 Luxury 4MATIC',\n",
       " 'trim_C300 Sport',\n",
       " 'trim_C300 Sport 4MATIC',\n",
       " 'trim_C32 AMG',\n",
       " 'trim_C320',\n",
       " 'trim_C320 4MATIC',\n",
       " 'trim_C320 Luxury 4MATIC',\n",
       " 'trim_C320 Sport',\n",
       " 'trim_C350',\n",
       " 'trim_C350 4MATIC',\n",
       " 'trim_C350 Luxury',\n",
       " 'trim_C350 Luxury 4MATIC',\n",
       " 'trim_C350 Sport',\n",
       " 'trim_C400 Sport 4MATIC',\n",
       " 'trim_C55 AMG',\n",
       " 'trim_C63 AMG',\n",
       " 'trim_CE',\n",
       " 'trim_CE 7-Passenger',\n",
       " 'trim_CL500',\n",
       " 'trim_CL55 AMG',\n",
       " 'trim_CL550',\n",
       " 'trim_CL550 4MATIC',\n",
       " 'trim_CL600',\n",
       " 'trim_CL63 AMG',\n",
       " 'trim_CL65 AMG',\n",
       " 'trim_CLA250',\n",
       " 'trim_CLA250 4MATIC',\n",
       " 'trim_CLA45 AMG',\n",
       " 'trim_CLK320',\n",
       " 'trim_CLK350',\n",
       " 'trim_CLK430',\n",
       " 'trim_CLK500',\n",
       " 'trim_CLK55 AMG',\n",
       " 'trim_CLK550',\n",
       " 'trim_CLK63 AMG',\n",
       " 'trim_CLS500',\n",
       " 'trim_CLS55 AMG',\n",
       " 'trim_CLS550',\n",
       " 'trim_CLS550 4MATIC',\n",
       " 'trim_CLS63 AMG',\n",
       " 'trim_CLS63 AMG 4MATIC S-Model',\n",
       " 'trim_CX',\n",
       " 'trim_CXL',\n",
       " 'trim_CXL Plus',\n",
       " 'trim_CXL Premium',\n",
       " 'trim_CXL Turbo',\n",
       " 'trim_CXL1',\n",
       " 'trim_CXL2',\n",
       " 'trim_CXS',\n",
       " 'trim_Cambiocorsa',\n",
       " 'trim_Cargo',\n",
       " 'trim_Cargo Van XL',\n",
       " 'trim_Cargo Van XL LWB',\n",
       " 'trim_Cargo Van XLT',\n",
       " 'trim_Cargo Van XLT LWB',\n",
       " 'trim_Carrera',\n",
       " 'trim_Carrera 4',\n",
       " 'trim_Carrera 4 GTS',\n",
       " 'trim_Carrera 4S',\n",
       " 'trim_Carrera Black Edition',\n",
       " 'trim_Carrera S',\n",
       " 'trim_Carrera S (Midyear Redesign)',\n",
       " 'trim_Cartier',\n",
       " 'trim_Cheyenne',\n",
       " 'trim_Choice',\n",
       " 'trim_Cinco',\n",
       " 'trim_Citadel',\n",
       " 'trim_Classic',\n",
       " 'trim_Cloth',\n",
       " 'trim_Club',\n",
       " 'trim_Concours',\n",
       " 'trim_Convenience',\n",
       " 'trim_Convenience Group',\n",
       " 'trim_Convenience Group 2',\n",
       " 'trim_Country',\n",
       " 'trim_Crew',\n",
       " 'trim_Crossover',\n",
       " 'trim_Crossroad',\n",
       " 'trim_Custom',\n",
       " \"trim_D'elegance\",\n",
       " 'trim_DE',\n",
       " 'trim_DHS',\n",
       " 'trim_DTS',\n",
       " 'trim_DX',\n",
       " 'trim_DX V6',\n",
       " 'trim_DX-V6',\n",
       " 'trim_DX-VP',\n",
       " 'trim_Dark Flint Edition',\n",
       " 'trim_Deluxe',\n",
       " 'trim_Denali',\n",
       " 'trim_Detonator',\n",
       " 'trim_Diamond Edition',\n",
       " 'trim_Diesel',\n",
       " \"trim_Driver's Edition PZEV\",\n",
       " 'trim_Duro Cross V6',\n",
       " 'trim_Duro Cross V8',\n",
       " 'trim_Dynamic Premium',\n",
       " 'trim_E-150',\n",
       " 'trim_E-150 XL',\n",
       " 'trim_E-150 XLT',\n",
       " 'trim_E-250',\n",
       " 'trim_E-350 Super Duty',\n",
       " 'trim_E-350 Super Duty Chateau',\n",
       " 'trim_E-350 Super Duty XL',\n",
       " 'trim_E-350 Super Duty XLT',\n",
       " 'trim_E250 Luxury BlueTEC 4MATIC',\n",
       " 'trim_E250 Sport BlueTEC',\n",
       " 'trim_E300D',\n",
       " 'trim_E320',\n",
       " 'trim_E320 4MATIC',\n",
       " 'trim_E320 BLUETEC',\n",
       " 'trim_E320 BlueTEC',\n",
       " 'trim_E320 CDI',\n",
       " 'trim_E350',\n",
       " 'trim_E350 4MATIC',\n",
       " 'trim_E350 BlueTEC',\n",
       " 'trim_E350 Luxury',\n",
       " 'trim_E350 Luxury 4MATIC',\n",
       " 'trim_E350 Sport',\n",
       " 'trim_E350 Sport 4MATIC',\n",
       " 'trim_E350 Sport BlueTEC',\n",
       " 'trim_E400 Hybrid',\n",
       " 'trim_E400 Sport Hybrid',\n",
       " 'trim_E420',\n",
       " 'trim_E430',\n",
       " 'trim_E430 4MATIC',\n",
       " 'trim_E500',\n",
       " 'trim_E500 4MATIC',\n",
       " 'trim_E55 AMG',\n",
       " 'trim_E550',\n",
       " 'trim_E550 4MATIC',\n",
       " 'trim_E550 Sport 4MATIC',\n",
       " 'trim_E63 AMG',\n",
       " 'trim_E63 AMG 4MATIC',\n",
       " 'trim_E63 AMG 4MATIC S-Model',\n",
       " 'trim_EDGE',\n",
       " 'trim_EL King Ranch',\n",
       " 'trim_EL Limited',\n",
       " 'trim_EL SSV Fleet',\n",
       " 'trim_EL XL',\n",
       " 'trim_EL XLT',\n",
       " 'trim_ES',\n",
       " 'trim_ES V6',\n",
       " 'trim_ES-Sport',\n",
       " 'trim_ES-V6',\n",
       " 'trim_ESC',\n",
       " 'trim_ETC',\n",
       " 'trim_EWB',\n",
       " 'trim_EX',\n",
       " 'trim_EX Hybrid',\n",
       " 'trim_EX PZEV',\n",
       " 'trim_EX Special Edition',\n",
       " 'trim_EX Turbo',\n",
       " 'trim_EX V-6',\n",
       " 'trim_EX V6',\n",
       " 'trim_EX-L',\n",
       " 'trim_EX-L V-6',\n",
       " 'trim_EX-L V-6 w/Navigation',\n",
       " 'trim_EX-L w/Navigation',\n",
       " 'trim_EX-L w/Rear Entertainment',\n",
       " 'trim_EX-P',\n",
       " 'trim_EX35',\n",
       " 'trim_EX35 Journey',\n",
       " 'trim_EX37',\n",
       " 'trim_EXT LT',\n",
       " 'trim_Easy',\n",
       " 'trim_Ebony Edition',\n",
       " 'trim_Eco',\n",
       " 'trim_Eco-Sport',\n",
       " 'trim_EcoBoost',\n",
       " 'trim_Econoline',\n",
       " 'trim_Eddie Bauer',\n",
       " 'trim_Edge',\n",
       " 'trim_Edge Plus',\n",
       " 'trim_Edition 30 PZEV',\n",
       " 'trim_Electric',\n",
       " 'trim_Enthusiast',\n",
       " 'trim_Executive',\n",
       " 'trim_Executive GT DuoSelect',\n",
       " 'trim_Executive L Fleet',\n",
       " 'trim_Executive PZEV',\n",
       " 'trim_Executive SULEV',\n",
       " 'trim_Express',\n",
       " 'trim_Expresso',\n",
       " 'trim_F Sport',\n",
       " 'trim_FE+ S',\n",
       " 'trim_FE+ SV',\n",
       " 'trim_FX2',\n",
       " 'trim_FX35',\n",
       " 'trim_FX37',\n",
       " 'trim_FX4',\n",
       " 'trim_FX4 Level II',\n",
       " 'trim_FX4 Off-Road',\n",
       " 'trim_FX50',\n",
       " 'trim_Family Value',\n",
       " 'trim_Five',\n",
       " 'trim_Fleet',\n",
       " 'trim_Formula',\n",
       " 'trim_Forte5 EX',\n",
       " 'trim_G',\n",
       " 'trim_G1500',\n",
       " 'trim_G25',\n",
       " 'trim_G25 Journey',\n",
       " 'trim_G25x',\n",
       " 'trim_G3500',\n",
       " 'trim_G37',\n",
       " 'trim_G37 Journey',\n",
       " 'trim_G37 Sport',\n",
       " 'trim_G37x',\n",
       " 'trim_G500',\n",
       " 'trim_G55 AMG',\n",
       " 'trim_G550',\n",
       " 'trim_G63 AMG',\n",
       " 'trim_GL',\n",
       " 'trim_GL (1999.5)',\n",
       " 'trim_GL 1.8T',\n",
       " 'trim_GL PZEV',\n",
       " 'trim_GL TDI',\n",
       " 'trim_GL V6',\n",
       " 'trim_GL1',\n",
       " 'trim_GL2',\n",
       " 'trim_GL320 BlueTEC',\n",
       " 'trim_GL320 CDI',\n",
       " 'trim_GL350 BlueTEC',\n",
       " 'trim_GL350 BlueTEC 4MATIC',\n",
       " 'trim_GL4',\n",
       " 'trim_GL450',\n",
       " 'trim_GL450 4MATIC',\n",
       " 'trim_GL550',\n",
       " 'trim_GL550 4MATIC',\n",
       " 'trim_GL63 AMG',\n",
       " 'trim_GLA250 4MATIC',\n",
       " 'trim_GLE',\n",
       " 'trim_GLI',\n",
       " 'trim_GLI 1.8T',\n",
       " 'trim_GLI VR6',\n",
       " 'trim_GLK250 BlueTEC 4MATIC',\n",
       " 'trim_GLK350',\n",
       " 'trim_GLK350 4MATIC',\n",
       " 'trim_GLS',\n",
       " 'trim_GLS (1999.5)',\n",
       " 'trim_GLS 1.8T',\n",
       " 'trim_GLS 1.8T 4Motion',\n",
       " 'trim_GLS PZEV',\n",
       " 'trim_GLS Special Value',\n",
       " 'trim_GLS TDI',\n",
       " 'trim_GLS V6',\n",
       " 'trim_GLS V6 4Motion',\n",
       " 'trim_GLS VR6',\n",
       " 'trim_GLS VR6 (1999.5)',\n",
       " 'trim_GLS Wolfsburg Edition 1.8T',\n",
       " 'trim_GLT',\n",
       " 'trim_GLT SE',\n",
       " 'trim_GLTS',\n",
       " 'trim_GLX',\n",
       " 'trim_GLX 1.8T',\n",
       " 'trim_GLX 4Motion',\n",
       " 'trim_GLX Sport',\n",
       " 'trim_GLX V6',\n",
       " 'trim_GLX V6 4Motion',\n",
       " 'trim_GLX VR6',\n",
       " 'trim_GLX VR6 (1999.5)',\n",
       " 'trim_GS',\n",
       " 'trim_GS Convenience',\n",
       " 'trim_GS PZEV',\n",
       " 'trim_GS Plus',\n",
       " 'trim_GS-Sport',\n",
       " 'trim_GSR',\n",
       " 'trim_GSX',\n",
       " 'trim_GT',\n",
       " 'trim_GT Deluxe',\n",
       " 'trim_GT Limited',\n",
       " 'trim_GT Limited Edition',\n",
       " 'trim_GT Premium',\n",
       " 'trim_GT-S',\n",
       " 'trim_GT1',\n",
       " 'trim_GT2',\n",
       " 'trim_GTC',\n",
       " 'trim_GTP',\n",
       " 'trim_GTS',\n",
       " 'trim_GTS V6',\n",
       " 'trim_GTZ',\n",
       " 'trim_GTZ V6',\n",
       " 'trim_GX',\n",
       " 'trim_GXE',\n",
       " 'trim_GXP',\n",
       " 'trim_Gran Sport',\n",
       " 'trim_Grand Sport',\n",
       " 'trim_Grand Touring',\n",
       " 'trim_Green Line',\n",
       " 'trim_H6-3.0 35th Anniversary Edition',\n",
       " 'trim_H6-3.0 L.L. Bean Edition',\n",
       " 'trim_HD',\n",
       " 'trim_HD LS',\n",
       " 'trim_HD SLT',\n",
       " ...]"
      ]
     },
     "execution_count": 107,
     "metadata": {},
     "output_type": "execute_result"
    }
   ],
   "source": [
    "column_transformer.get_feature_names_out().tolist()"
   ]
  },
  {
   "cell_type": "code",
   "execution_count": 108,
   "id": "9898db5c",
   "metadata": {},
   "outputs": [],
   "source": [
    "# Transformer для test\n",
    "X_test = column_transformer.transform(test)"
   ]
  },
  {
   "cell_type": "code",
   "execution_count": 109,
   "id": "303c7de4",
   "metadata": {},
   "outputs": [
    {
     "name": "stdout",
     "output_type": "stream",
     "text": [
      "(176093, 7794) (176093,)\n",
      "(264141, 7794) (264141,)\n"
     ]
    }
   ],
   "source": [
    "#разделим данные\n",
    "X_train, X_val, y_train, y_val = train_test_split(X_transformed, y, train_size=0.40, random_state=RANDOM_STATE)\n",
    "\n",
    "print(X_train.shape, y_train.shape)\n",
    "print(X_val.shape, y_val.shape)"
   ]
  },
  {
   "cell_type": "code",
   "execution_count": 110,
   "id": "b81bb15c",
   "metadata": {},
   "outputs": [],
   "source": [
    "#напишем метрику MAPE\n",
    "def mape(y_true, y_pred):\n",
    "    return np.mean(np.abs((y_pred-y_true)/y_true))"
   ]
  },
  {
   "cell_type": "markdown",
   "id": "0acd7b64",
   "metadata": {},
   "source": [
    "# 5. Обучение моделей"
   ]
  },
  {
   "cell_type": "markdown",
   "id": "f83f881a",
   "metadata": {},
   "source": [
    "При масштабирование получилось много признаков, поэтому мы не можем использовать для моделей GridSearchCV, ядро умирает. Проанализируем несколько моделей и выберим лучшую."
   ]
  },
  {
   "cell_type": "markdown",
   "id": "8cb7660e",
   "metadata": {},
   "source": [
    "### LinearRegression"
   ]
  },
  {
   "cell_type": "code",
   "execution_count": 111,
   "id": "82dcc69a",
   "metadata": {
    "scrolled": true
   },
   "outputs": [
    {
     "name": "stdout",
     "output_type": "stream",
     "text": [
      "Точность модели LinearRegression по метрике MAPE: 51.59%\n"
     ]
    }
   ],
   "source": [
    "lr = LinearRegression().fit(X_train, y_train)\n",
    "predict_test = lr.predict(X_val)\n",
    "print(f\"Точность модели LinearRegression по метрике MAPE: {(mape(y_val, predict_test))*100:0.2f}%\")"
   ]
  },
  {
   "cell_type": "markdown",
   "id": "78d57229",
   "metadata": {},
   "source": [
    "### Ridge"
   ]
  },
  {
   "cell_type": "code",
   "execution_count": 112,
   "id": "b4190a4b",
   "metadata": {},
   "outputs": [
    {
     "name": "stdout",
     "output_type": "stream",
     "text": [
      "Точность модели Ridge по метрике MAPE: 51.88%\n"
     ]
    }
   ],
   "source": [
    "model_rg = Ridge(random_state=RANDOM_STATE).fit(X_train, y_train)\n",
    "predict_test_rg = model_rg.predict(X_val)\n",
    "print(f\"Точность модели Ridge по метрике MAPE: {(mape(y_val, predict_test_rg))*100:0.2f}%\")"
   ]
  },
  {
   "cell_type": "markdown",
   "id": "2ef0fbd6",
   "metadata": {},
   "source": [
    "### DecisionTreeRegressor"
   ]
  },
  {
   "cell_type": "code",
   "execution_count": 113,
   "id": "19ef0919",
   "metadata": {},
   "outputs": [
    {
     "name": "stdout",
     "output_type": "stream",
     "text": [
      "Точность модели DecisionTreeRegressor по метрике MAPE: 26.98%\n"
     ]
    }
   ],
   "source": [
    "dtr = DecisionTreeRegressor(random_state=RANDOM_STATE)\n",
    "dtr.fit(X_train,y_train) \n",
    "predict_dtr_val = dtr.predict(X_val)\n",
    "print(f\"Точность модели DecisionTreeRegressor по метрике MAPE: {(mape(y_val, predict_dtr_val))*100:0.2f}%\")"
   ]
  },
  {
   "cell_type": "markdown",
   "id": "9f56ba5f",
   "metadata": {},
   "source": [
    "### CatBoostRegressor"
   ]
  },
  {
   "cell_type": "code",
   "execution_count": 114,
   "id": "b5b48666",
   "metadata": {},
   "outputs": [],
   "source": [
    "model = CatBoostRegressor(iterations = 5000,\n",
    "                          random_seed = RANDOM_STATE,\n",
    "                          eval_metric='MAPE',\n",
    "                          custom_metric=['R2', 'MAE'],\n",
    "                          silent=True,\n",
    "                         )\n",
    "model.fit(X_train, y_train,\n",
    "         eval_set=(X_val, y_val),\n",
    "         verbose_eval=0,\n",
    "         use_best_model=True,\n",
    "         )\n",
    "\n",
    "model.save_model('catboost.model')"
   ]
  },
  {
   "cell_type": "code",
   "execution_count": 115,
   "id": "fbd60bb6",
   "metadata": {},
   "outputs": [
    {
     "data": {
      "text/plain": [
       "{'learn': {'MAE': 1642.0328865052786,\n",
       "  'MAPE': 0.22093571834510328,\n",
       "  'R2': 0.9335594018394068,\n",
       "  'RMSE': 2519.892051500108},\n",
       " 'validation': {'MAE': 1696.48126786008,\n",
       "  'MAPE': 0.22393088675547235,\n",
       "  'R2': 0.9250742506812083,\n",
       "  'RMSE': 2664.7143431382215}}"
      ]
     },
     "execution_count": 115,
     "metadata": {},
     "output_type": "execute_result"
    }
   ],
   "source": [
    "model.get_best_score()"
   ]
  },
  {
   "cell_type": "code",
   "execution_count": 116,
   "id": "6704ad2c",
   "metadata": {},
   "outputs": [],
   "source": [
    "predict_val = model.predict(X_val)"
   ]
  },
  {
   "cell_type": "code",
   "execution_count": 117,
   "id": "6b3102f3",
   "metadata": {},
   "outputs": [
    {
     "name": "stdout",
     "output_type": "stream",
     "text": [
      "Точность модели CatBoostRegressor по метрике MAPE: 22.39%\n"
     ]
    }
   ],
   "source": [
    "print(f\"Точность модели CatBoostRegressor по метрике MAPE: {(mape(y_val, predict_val))*100:0.2f}%\")"
   ]
  },
  {
   "cell_type": "markdown",
   "id": "b28a0ff8",
   "metadata": {},
   "source": [
    "Попробуем взять таргет в логорифм - это позволит уменьшить влияние выбросов на обучение модели (используем для этого np.log и np.exp)."
   ]
  },
  {
   "cell_type": "code",
   "execution_count": 118,
   "id": "04eb6ea9",
   "metadata": {},
   "outputs": [],
   "source": [
    "model.fit(X_train, np.log(y_train),\n",
    "         eval_set=(X_val, np.log(y_val)),\n",
    "         verbose_eval=0,\n",
    "         use_best_model=True,\n",
    "         )\n",
    "\n",
    "model.save_model('catboost_log.model')"
   ]
  },
  {
   "cell_type": "code",
   "execution_count": 119,
   "id": "55e65f90",
   "metadata": {},
   "outputs": [
    {
     "data": {
      "text/plain": [
       "{'learn': {'MAE': 0.1589394921528436,\n",
       "  'MAPE': 0.018554756841004705,\n",
       "  'R2': 0.9323672902426976,\n",
       "  'RMSE': 0.24037033230756322},\n",
       " 'validation': {'MAE': 0.1644671692324262,\n",
       "  'MAPE': 0.01924916421832082,\n",
       "  'R2': 0.9247474330968061,\n",
       "  'RMSE': 0.25285272946681897}}"
      ]
     },
     "execution_count": 119,
     "metadata": {},
     "output_type": "execute_result"
    }
   ],
   "source": [
    "model.get_best_score()"
   ]
  },
  {
   "cell_type": "code",
   "execution_count": 120,
   "id": "3ed0e602",
   "metadata": {},
   "outputs": [],
   "source": [
    "predict_val = np.exp(model.predict(X_val))# pазлогарифмируем предсказания модели\n",
    "predict_submission = np.exp(model.predict(X_test))# submission для CatBoost с логарифмированием"
   ]
  },
  {
   "cell_type": "code",
   "execution_count": 121,
   "id": "ad914605",
   "metadata": {},
   "outputs": [
    {
     "name": "stdout",
     "output_type": "stream",
     "text": [
      "Точность модели CatBoostRegressor c log по метрике MAPE: 17.70%\n"
     ]
    }
   ],
   "source": [
    "print(f\"Точность модели CatBoostRegressor c log по метрике MAPE: {(mape(y_val, predict_val))*100:0.2f}%\")"
   ]
  },
  {
   "cell_type": "code",
   "execution_count": 122,
   "id": "b84d7914",
   "metadata": {},
   "outputs": [
    {
     "name": "stdout",
     "output_type": "stream",
     "text": [
      "feature: make, importance: 3.929137798330316\n",
      "feature: model, importance: 2.433763603111332\n",
      "feature: trim, importance: 26.894790205538005\n",
      "feature: body, importance: 0.037961822094956986\n",
      "feature: transmission, importance: 0.029428749488879677\n",
      "feature: state, importance: 0.017213125963220895\n",
      "feature: condition, importance: 0.16589001046585247\n",
      "feature: odometer, importance: 0.21884582880271697\n",
      "feature: color, importance: 0.22119009300802817\n",
      "feature: sellingprice, importance: 0.07020029677755274\n",
      "feature: age, importance: 0.5739424714732856\n",
      "feature: raritet, importance: 0.012950322622392704\n",
      "feature: day_sin, importance: 0.004901151791540126\n",
      "feature: day_cos, importance: 20.974375613459156\n",
      "feature: dayofweek_sin, importance: 0.38424803514379163\n",
      "feature: dayofweek_cos, importance: 0.0\n",
      "feature: week_sin, importance: 0.01104214228811977\n",
      "feature: week_cos, importance: 0.5410854706443655\n",
      "feature: month_sin, importance: 0.09706904530978049\n",
      "feature: month_cos, importance: 2.4653264022911174\n",
      "feature: is_weekend, importance: 0.031102138027722815\n",
      "feature: is_sunday, importance: 0.2030457233024277\n",
      "feature: condition_odometer, importance: 0.07821471030020112\n",
      "feature: make_trim, importance: 0.36860948603111643\n",
      "feature: make_body, importance: 0.0\n",
      "feature: model_trim, importance: 0.13366248665913397\n"
     ]
    }
   ],
   "source": [
    "# выведим веса признаков CatBoost оказавших больше влияние на прогноз таргета\n",
    "for feat, importance in zip(train.columns, model.feature_importances_):\n",
    "    print('feature: {f}, importance: {i}'.format(f=feat, i=importance))"
   ]
  },
  {
   "cell_type": "markdown",
   "id": "192a75fc",
   "metadata": {},
   "source": [
    "### Заполнение submission"
   ]
  },
  {
   "cell_type": "code",
   "execution_count": 123,
   "id": "f3eb0c04",
   "metadata": {},
   "outputs": [
    {
     "name": "stdout",
     "output_type": "stream",
     "text": [
      "<class 'pandas.core.frame.DataFrame'>\n",
      "RangeIndex: 110058 entries, 0 to 110057\n",
      "Data columns (total 2 columns):\n",
      " #   Column        Non-Null Count   Dtype  \n",
      "---  ------        --------------   -----  \n",
      " 0   vin           110058 non-null  object \n",
      " 1   sellingprice  110058 non-null  float64\n",
      "dtypes: float64(1), object(1)\n",
      "memory usage: 1.7+ MB\n"
     ]
    }
   ],
   "source": [
    "sample.info()"
   ]
  },
  {
   "cell_type": "code",
   "execution_count": 124,
   "id": "616a50de",
   "metadata": {},
   "outputs": [
    {
     "data": {
      "text/html": [
       "<div>\n",
       "<style scoped>\n",
       "    .dataframe tbody tr th:only-of-type {\n",
       "        vertical-align: middle;\n",
       "    }\n",
       "\n",
       "    .dataframe tbody tr th {\n",
       "        vertical-align: top;\n",
       "    }\n",
       "\n",
       "    .dataframe thead th {\n",
       "        text-align: right;\n",
       "    }\n",
       "</style>\n",
       "<table border=\"1\" class=\"dataframe\">\n",
       "  <thead>\n",
       "    <tr style=\"text-align: right;\">\n",
       "      <th></th>\n",
       "      <th>vin</th>\n",
       "      <th>sellingprice</th>\n",
       "    </tr>\n",
       "  </thead>\n",
       "  <tbody>\n",
       "    <tr>\n",
       "      <th>0</th>\n",
       "      <td>1g6dp567450124779</td>\n",
       "      <td>3260.916549</td>\n",
       "    </tr>\n",
       "    <tr>\n",
       "      <th>1</th>\n",
       "      <td>1gtw7fca7e1902207</td>\n",
       "      <td>23080.958390</td>\n",
       "    </tr>\n",
       "    <tr>\n",
       "      <th>2</th>\n",
       "      <td>jn8az1mw6dw303497</td>\n",
       "      <td>17939.209600</td>\n",
       "    </tr>\n",
       "    <tr>\n",
       "      <th>3</th>\n",
       "      <td>2g1wf5e34d1160703</td>\n",
       "      <td>9107.054285</td>\n",
       "    </tr>\n",
       "    <tr>\n",
       "      <th>4</th>\n",
       "      <td>1n6aa0ec3dn301209</td>\n",
       "      <td>20034.714403</td>\n",
       "    </tr>\n",
       "    <tr>\n",
       "      <th>5</th>\n",
       "      <td>wvwvd63b93e175638</td>\n",
       "      <td>2196.306178</td>\n",
       "    </tr>\n",
       "    <tr>\n",
       "      <th>6</th>\n",
       "      <td>5npeb4ac4dh809686</td>\n",
       "      <td>11820.536053</td>\n",
       "    </tr>\n",
       "    <tr>\n",
       "      <th>7</th>\n",
       "      <td>1fm5k7b97dgb16454</td>\n",
       "      <td>14082.526869</td>\n",
       "    </tr>\n",
       "    <tr>\n",
       "      <th>8</th>\n",
       "      <td>jn1cv6ar5bm411441</td>\n",
       "      <td>17559.500944</td>\n",
       "    </tr>\n",
       "    <tr>\n",
       "      <th>9</th>\n",
       "      <td>3gnfc16j77g158033</td>\n",
       "      <td>8406.193027</td>\n",
       "    </tr>\n",
       "  </tbody>\n",
       "</table>\n",
       "</div>"
      ],
      "text/plain": [
       "                 vin  sellingprice\n",
       "0  1g6dp567450124779   3260.916549\n",
       "1  1gtw7fca7e1902207  23080.958390\n",
       "2  jn8az1mw6dw303497  17939.209600\n",
       "3  2g1wf5e34d1160703   9107.054285\n",
       "4  1n6aa0ec3dn301209  20034.714403\n",
       "5  wvwvd63b93e175638   2196.306178\n",
       "6  5npeb4ac4dh809686  11820.536053\n",
       "7  1fm5k7b97dgb16454  14082.526869\n",
       "8  jn1cv6ar5bm411441  17559.500944\n",
       "9  3gnfc16j77g158033   8406.193027"
      ]
     },
     "execution_count": 124,
     "metadata": {},
     "output_type": "execute_result"
    }
   ],
   "source": [
    "sample['sellingprice'] = predict_submission\n",
    "sample.to_csv('sample_submission.csv', index=False)\n",
    "sample.head(10)"
   ]
  },
  {
   "cell_type": "markdown",
   "id": "ba767a3f",
   "metadata": {},
   "source": [
    "___Вывод___"
   ]
  },
  {
   "cell_type": "markdown",
   "id": "dbab6941",
   "metadata": {},
   "source": [
    "Мы изучили данные по продажам автомобилей на вторичном рынке и построили модель предсказания цены автомобиля для участия в соревновании на kaggle. Было много пропусков, каждый столбец мы анализировали и заменяли пропуски различными техниками. Выделили из некоторых признаков новые признаки, так же создали множество синтетических признаков, в том числе числовые и категориальные. Большое количество времени было затрачено на отбор финальных признаков, которые будут использоваться для обучения модели.\n",
    "\n",
    "\n",
    "Сначала была использована линейная модель, показавшая на необработанных данных метрику MAPE 51,5%. Далее мы применили регуляризацию линейной модели с помощью Right, но значение метрики только ухудшилось. Затем мы обучили модель DecisionTreeRegressor, который показал метрику МАРЕ 27%. Значение все равно было довольно большим и мы решили обучить более тяжелую модель градиентного бустинга Сatboost, которая показала метрику МАРЕ 22%. Так как у нас есть много выбросов в целевом признаке, мы решили логарифмировать его, и получили метрику на этой же модели 17,7%.\n",
    "\n",
    "Наибольшее влияние на прогнозирование стоимости автомобиля лучшего прогноза составили такие признаки как trim, day, make, model, month."
   ]
  }
 ],
 "metadata": {
  "kernelspec": {
   "display_name": "Python 3 (ipykernel)",
   "language": "python",
   "name": "python3"
  },
  "language_info": {
   "codemirror_mode": {
    "name": "ipython",
    "version": 3
   },
   "file_extension": ".py",
   "mimetype": "text/x-python",
   "name": "python",
   "nbconvert_exporter": "python",
   "pygments_lexer": "ipython3",
   "version": "3.9.12"
  }
 },
 "nbformat": 4,
 "nbformat_minor": 5
}
