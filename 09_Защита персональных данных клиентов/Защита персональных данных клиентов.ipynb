{
 "cells": [
  {
   "cell_type": "markdown",
   "metadata": {},
   "source": [
    "# Защита персональных данных клиентов"
   ]
  },
  {
   "cell_type": "markdown",
   "metadata": {},
   "source": [
    "Вам нужно защитить данные клиентов страховой компании «Хоть потоп». Разработайте такой метод преобразования данных, чтобы по ним было сложно восстановить персональную информацию. Обоснуйте корректность его работы.\n",
    "\n",
    "Нужно защитить данные, чтобы при преобразовании качество моделей машинного обучения не ухудшилось. Подбирать наилучшую модель не требуется."
   ]
  },
  {
   "cell_type": "markdown",
   "metadata": {},
   "source": [
    "## План выполнения проекта:\n",
    "\n",
    "1. Загрузить и изучить данные.\n",
    "2. Ответить на вопрос и обосновать решение. Признаки умножают на обратимую матрицу. Изменится ли качество линейной регрессии\n",
    "2.1. Изменится. Приведите примеры матриц.\n",
    "2.2. Не изменится. Укажите, как связаны параметры линейной регрессии в исходной задаче и в преобразованной.\n",
    "3. Предложить алгоритм преобразования данных для решения задачи. Обосновать, почему качество линейной регрессии не поменяется.\n",
    "4. Запрограммировать этот алгоритм, применив матричные операции. Проверить, что качество линейной регрессии из sklearn не отличается до и после преобразования. Применить метрику R2."
   ]
  },
  {
   "cell_type": "markdown",
   "metadata": {},
   "source": [
    "## Загрузка данных"
   ]
  },
  {
   "cell_type": "code",
   "execution_count": 1,
   "metadata": {},
   "outputs": [],
   "source": [
    "import numpy as np\n",
    "import pandas as pd\n",
    "import matplotlib.pyplot as plt\n",
    "import seaborn as sns\n",
    "from numpy.linalg import inv\n",
    "from sklearn.model_selection import train_test_split\n",
    "from sklearn.linear_model import LinearRegression\n",
    "from sklearn.metrics import r2_score"
   ]
  },
  {
   "cell_type": "code",
   "execution_count": 2,
   "metadata": {},
   "outputs": [
    {
     "name": "stdout",
     "output_type": "stream",
     "text": [
      "   Пол  Возраст  Зарплата  Члены семьи  Страховые выплаты\n",
      "0    1     41.0   49600.0            1                  0\n",
      "1    0     46.0   38000.0            1                  1\n",
      "2    0     29.0   21000.0            0                  0\n",
      "3    0     21.0   41700.0            2                  0\n",
      "4    1     28.0   26100.0            0                  0\n"
     ]
    }
   ],
   "source": [
    "df = pd.read_csv('/datasets/insurance.csv')\n",
    "print(df.head())#выведим 5 строк датасета"
   ]
  },
  {
   "cell_type": "code",
   "execution_count": 3,
   "metadata": {},
   "outputs": [
    {
     "name": "stdout",
     "output_type": "stream",
     "text": [
      "<class 'pandas.core.frame.DataFrame'>\n",
      "RangeIndex: 5000 entries, 0 to 4999\n",
      "Data columns (total 5 columns):\n",
      " #   Column             Non-Null Count  Dtype  \n",
      "---  ------             --------------  -----  \n",
      " 0   Пол                5000 non-null   int64  \n",
      " 1   Возраст            5000 non-null   float64\n",
      " 2   Зарплата           5000 non-null   float64\n",
      " 3   Члены семьи        5000 non-null   int64  \n",
      " 4   Страховые выплаты  5000 non-null   int64  \n",
      "dtypes: float64(2), int64(3)\n",
      "memory usage: 195.4 KB\n"
     ]
    }
   ],
   "source": [
    "df.info()#изучим тип данных"
   ]
  },
  {
   "cell_type": "code",
   "execution_count": 4,
   "metadata": {},
   "outputs": [
    {
     "data": {
      "text/plain": [
       "Пол                  int64\n",
       "Возраст              int64\n",
       "Зарплата             int64\n",
       "Члены семьи          int64\n",
       "Страховые выплаты    int64\n",
       "dtype: object"
      ]
     },
     "execution_count": 4,
     "metadata": {},
     "output_type": "execute_result"
    }
   ],
   "source": [
    "df['Возраст'] = df['Возраст'].astype(int)#переведем float в целые числа\n",
    "df['Зарплата'] = df['Зарплата'].astype(int)\n",
    "df.dtypes#проверим что все переведено в целочисленные значения"
   ]
  },
  {
   "cell_type": "code",
   "execution_count": 5,
   "metadata": {},
   "outputs": [],
   "source": [
    "features = df.drop('Страховые выплаты', axis=1)#выделим признаки\n",
    "target = df['Страховые выплаты']#выделим целевой признак"
   ]
  },
  {
   "cell_type": "code",
   "execution_count": 6,
   "metadata": {},
   "outputs": [
    {
     "data": {
      "text/html": [
       "<div>\n",
       "<style scoped>\n",
       "    .dataframe tbody tr th:only-of-type {\n",
       "        vertical-align: middle;\n",
       "    }\n",
       "\n",
       "    .dataframe tbody tr th {\n",
       "        vertical-align: top;\n",
       "    }\n",
       "\n",
       "    .dataframe thead th {\n",
       "        text-align: right;\n",
       "    }\n",
       "</style>\n",
       "<table border=\"1\" class=\"dataframe\">\n",
       "  <thead>\n",
       "    <tr style=\"text-align: right;\">\n",
       "      <th></th>\n",
       "      <th>Пол</th>\n",
       "      <th>Возраст</th>\n",
       "      <th>Зарплата</th>\n",
       "      <th>Члены семьи</th>\n",
       "      <th>Страховые выплаты</th>\n",
       "    </tr>\n",
       "  </thead>\n",
       "  <tbody>\n",
       "    <tr>\n",
       "      <th>count</th>\n",
       "      <td>5000.000000</td>\n",
       "      <td>5000.000000</td>\n",
       "      <td>5000.000000</td>\n",
       "      <td>5000.000000</td>\n",
       "      <td>5000.000000</td>\n",
       "    </tr>\n",
       "    <tr>\n",
       "      <th>mean</th>\n",
       "      <td>0.499000</td>\n",
       "      <td>30.952800</td>\n",
       "      <td>39916.359400</td>\n",
       "      <td>1.194200</td>\n",
       "      <td>0.148000</td>\n",
       "    </tr>\n",
       "    <tr>\n",
       "      <th>std</th>\n",
       "      <td>0.500049</td>\n",
       "      <td>8.440807</td>\n",
       "      <td>9900.082063</td>\n",
       "      <td>1.091387</td>\n",
       "      <td>0.463183</td>\n",
       "    </tr>\n",
       "    <tr>\n",
       "      <th>min</th>\n",
       "      <td>0.000000</td>\n",
       "      <td>18.000000</td>\n",
       "      <td>5300.000000</td>\n",
       "      <td>0.000000</td>\n",
       "      <td>0.000000</td>\n",
       "    </tr>\n",
       "    <tr>\n",
       "      <th>25%</th>\n",
       "      <td>0.000000</td>\n",
       "      <td>24.000000</td>\n",
       "      <td>33300.000000</td>\n",
       "      <td>0.000000</td>\n",
       "      <td>0.000000</td>\n",
       "    </tr>\n",
       "    <tr>\n",
       "      <th>50%</th>\n",
       "      <td>0.000000</td>\n",
       "      <td>30.000000</td>\n",
       "      <td>40200.000000</td>\n",
       "      <td>1.000000</td>\n",
       "      <td>0.000000</td>\n",
       "    </tr>\n",
       "    <tr>\n",
       "      <th>75%</th>\n",
       "      <td>1.000000</td>\n",
       "      <td>37.000000</td>\n",
       "      <td>46600.000000</td>\n",
       "      <td>2.000000</td>\n",
       "      <td>0.000000</td>\n",
       "    </tr>\n",
       "    <tr>\n",
       "      <th>max</th>\n",
       "      <td>1.000000</td>\n",
       "      <td>65.000000</td>\n",
       "      <td>79000.000000</td>\n",
       "      <td>6.000000</td>\n",
       "      <td>5.000000</td>\n",
       "    </tr>\n",
       "  </tbody>\n",
       "</table>\n",
       "</div>"
      ],
      "text/plain": [
       "               Пол      Возраст      Зарплата  Члены семьи  Страховые выплаты\n",
       "count  5000.000000  5000.000000   5000.000000  5000.000000        5000.000000\n",
       "mean      0.499000    30.952800  39916.359400     1.194200           0.148000\n",
       "std       0.500049     8.440807   9900.082063     1.091387           0.463183\n",
       "min       0.000000    18.000000   5300.000000     0.000000           0.000000\n",
       "25%       0.000000    24.000000  33300.000000     0.000000           0.000000\n",
       "50%       0.000000    30.000000  40200.000000     1.000000           0.000000\n",
       "75%       1.000000    37.000000  46600.000000     2.000000           0.000000\n",
       "max       1.000000    65.000000  79000.000000     6.000000           5.000000"
      ]
     },
     "execution_count": 6,
     "metadata": {},
     "output_type": "execute_result"
    }
   ],
   "source": [
    "df.describe()#для описательной статистике вызовем функцию"
   ]
  },
  {
   "cell_type": "code",
   "execution_count": 7,
   "metadata": {},
   "outputs": [
    {
     "data": {
      "image/png": "[encoded data removed]",
      "text/plain": [
       "<Figure size 720x360 with 2 Axes>"
      ]
     },
     "metadata": {
      "needs_background": "light"
     },
     "output_type": "display_data"
    }
   ],
   "source": [
    "fig, ax = plt.subplots(figsize=(10, 5))\n",
    "sns.heatmap(df.corr(),  vmin = -1, vmax = +1, annot = True, cmap = 'coolwarm');#построим тепловую карту"
   ]
  },
  {
   "cell_type": "markdown",
   "metadata": {},
   "source": [
    "___Комментарии:___ Мы проанализировали датафрейм, состоящий из пяти столбцов, из которых, целевой признак-страховые выплаты, численный. В столбце пол, бинарные данные, мужчина или женщина. В столбце возраст - от 18 лет до 65, в среднем 31 год. Зарплата от 5300 до 79000, в среднем 40000 руб, членов семьи до 6, страховые выплаты производились клиентам от 0 до 5 раз. По тепловой карте мы видим сильную корреляцию в зависимости от возраста и страховых выплат, следовательно можем предположить что возраст влияет на количество выплаченных стравых вознаграждений клиентам."
   ]
  },
  {
   "cell_type": "markdown",
   "metadata": {},
   "source": [
    "## Умножение матриц"
   ]
  },
  {
   "cell_type": "markdown",
   "metadata": {},
   "source": [
    "В этом задании вы можете записывать формулы в *Jupyter Notebook.*\n",
    "\n",
    "Чтобы записать формулу внутри текста, окружите её символами доллара \\\\$; если снаружи —  двойными символами \\\\$\\\\$. Эти формулы записываются на языке вёрстки *LaTeX.* \n",
    "\n",
    "Для примера мы записали формулы линейной регрессии. Можете их скопировать и отредактировать, чтобы решить задачу.\n",
    "\n",
    "Работать в *LaTeX* необязательно."
   ]
  },
  {
   "cell_type": "markdown",
   "metadata": {},
   "source": [
    "Обозначения:\n",
    "\n",
    "- $X$ — матрица признаков (нулевой столбец состоит из единиц)\n",
    "\n",
    "- $y$ — вектор целевого признака\n",
    "\n",
    "- $P$ — матрица, на которую умножаются признаки\n",
    "\n",
    "- $w$ — вектор весов линейной регрессии (нулевой элемент равен сдвигу)"
   ]
  },
  {
   "cell_type": "markdown",
   "metadata": {},
   "source": [
    "Предсказания:\n",
    "\n",
    "$$\n",
    "a = Xw\n",
    "$$\n",
    "или\n",
    "$$\n",
    "X' = XP\n",
    "$$\n",
    "\n",
    "Задача обучения:\n",
    "\n",
    "$$\n",
    "w = \\arg\\min_w MSE(Xw, y)\n",
    "$$\n",
    "\n",
    "Формула обучения:\n",
    "\n",
    "$$\n",
    "w = (X^T X)^{-1} X^T y\n",
    "$$\n",
    "\n",
    "Вектор весов линейной регрессии будет вычисляться по формуле:\n",
    "\n",
    "$$\n",
    "w' = ((XP)^T(XP))^{-1}(XP)^T y\n",
    "$$\n",
    "\n",
    "так как:\n",
    "\n",
    "$$\n",
    "(AB)^T = B^T A^T\n",
    "$$\n",
    "\n",
    "$$\n",
    "(AB)^{-1} = B^{-1} A^{-1}\n",
    "$$\n",
    "\n",
    "$$\n",
    "AA^{-1} = A^{-1} A = E\n",
    "$$\n",
    "\n",
    "$$\n",
    "AE = EA = A\n",
    "$$\n",
    "\n",
    "Получаем при раскрытии скобок:\n",
    "\n",
    "$$\n",
    "w' = (P^T(X^T X)P)^{-1} P^T X^T y\n",
    "$$\n",
    "\n",
    "Если:\n",
    "\n",
    "$$\n",
    " (P^T)^{-1}P^T =E\n",
    "$$\n",
    "\n",
    "Тогда:\n",
    "\n",
    "$$\n",
    "w' = P^{-1}(X^T X)^{-1}EX^T y = P^{-1}(X^T X)^{-1}X^T y\n",
    "$$\n",
    "\n",
    "получилась формула для w\n",
    "\n",
    "$$\n",
    "w' = P^{-1}(X^T X)^{-1}X^T y = P^{-1} w\n",
    "$$\n",
    "\n",
    "По уловию, матрица является обратимой, поэтому:\n",
    "\n",
    "$$\n",
    "PP^{-1}=E\n",
    "$$\n",
    "\n",
    "Подставим значения в формулу:\n",
    "\n",
    "$$\n",
    "A = XPP^{-1}w = XEw = Xw = A\n",
    "$$\n"
   ]
  },
  {
   "cell_type": "code",
   "execution_count": 8,
   "metadata": {},
   "outputs": [
    {
     "name": "stdout",
     "output_type": "stream",
     "text": [
      "[[1. 0.]\n",
      " [0. 1.]]\n"
     ]
    }
   ],
   "source": [
    "A = np.matrix([\n",
    "    [4, 3],\n",
    "    [5, 4]\n",
    "])#приведем пример матрицы\n",
    "B = np.linalg.inv(A)#найдем обратную матрицу\n",
    "X = A.dot(B)#умножим матрицу на обратную\n",
    "print(X)#получим ту же матрицу, только единичную"
   ]
  },
  {
   "cell_type": "markdown",
   "metadata": {},
   "source": [
    "**Ответ:** В результате получаем что качество линейной регресси не изменится, если признаки умножаться на обратимую матрицу\n",
    "\n",
    "**Обоснование:** В результате мы получаем что A = Xw = X'w' = A Предсказания признаков умноженных на обратимую матрицу равны предсказаниям."
   ]
  },
  {
   "cell_type": "markdown",
   "metadata": {},
   "source": [
    "## Алгоритм преобразования"
   ]
  },
  {
   "cell_type": "markdown",
   "metadata": {},
   "source": [
    "**Алгоритм**\n",
    "\n",
    "* Поделим признаки и целевой признак на обучающую и тестовую выборки\n",
    "* Обучим модель линейной регрессии на соответсвующих выборках и проверим качество на среднеквадратичной ошибке R2\n",
    "* создадим массив случайных чисел распределения 4*4, так как признаков у нас 4, целевой признак 1. В результате будет одинаковая матрица, соответсвующая четырем столбцам признаков\n",
    "* проверим что матрица обратимая, чтобы не было ошибки, если она не обратимая\n",
    "* умножим признаки на сгенерированную матрицу\n",
    "* обучим линейную регрессию по новым признакам сгенерированной матрице, целевой признак не изменится согласно формуле\n",
    "* если мы проверим, что матрица не обратима, выводится ошибка, значит нужно создать цикл чтобы она сгенерировалась и проверялась на обратимость. Если матрица проходит проверку и она обратима, то она возвращается, если нет, то выходит из цикла."
   ]
  },
  {
   "cell_type": "markdown",
   "metadata": {},
   "source": [
    "## Проверка алгоритма"
   ]
  },
  {
   "cell_type": "code",
   "execution_count": 9,
   "metadata": {},
   "outputs": [
    {
     "name": "stdout",
     "output_type": "stream",
     "text": [
      "(3000, 4)\n",
      "(3000,)\n",
      "(2000, 4)\n",
      "(2000,)\n"
     ]
    }
   ],
   "source": [
    "features_train, features_test, target_train, target_test = train_test_split(features, target, test_size=0.4, random_state=12345)\n",
    "#отделяем 40% данных для тестовой выборки\n",
    "print(features_train.shape)\n",
    "print(target_train.shape)\n",
    "print(features_test.shape)\n",
    "print(target_test.shape)"
   ]
  },
  {
   "cell_type": "code",
   "execution_count": 10,
   "metadata": {},
   "outputs": [
    {
     "name": "stdout",
     "output_type": "stream",
     "text": [
      "Значение метрики на тестовой выборке R2: 0.42375177828833077\n"
     ]
    }
   ],
   "source": [
    "model = LinearRegression()#вызовим линейную регрессию\n",
    "model.fit(features_train, target_train)#обучим модель на тренировочной выборке\n",
    "predictions = model.predict(features_test)#сделаем предсказания\n",
    "print('Значение метрики на тестовой выборке R2:',r2_score(target_test, predictions))#напечатаем значение метрик R2"
   ]
  },
  {
   "cell_type": "code",
   "execution_count": 11,
   "metadata": {},
   "outputs": [
    {
     "name": "stdout",
     "output_type": "stream",
     "text": [
      "[[ 0.31359652  0.3545558  -0.30326966  1.61550223]\n",
      " [-0.85075141  1.91970216  0.64932931 -0.11261829]\n",
      " [ 0.95913603  0.15536744  1.90419771 -0.61574087]\n",
      " [ 0.16702571 -0.52339723 -0.65038873 -0.05580882]]\n",
      "Значение метрики на сгенерированной матрице R2: 0.4237517782883432\n"
     ]
    }
   ],
   "source": [
    "def get_rand_matrix(df):\n",
    "    det = 0\n",
    "    while det == 0:\n",
    "        matrix = np.random.normal(size=(df.shape[1], df.shape[1]))\n",
    "        det = np.linalg.det(matrix)\n",
    "    return matrix\n",
    "\n",
    "\n",
    "matrix = get_rand_matrix(features_train)\n",
    "print(matrix)\n",
    "\n",
    "features_train_w = features_train @ matrix\n",
    "features_test_w = features_test @ matrix\n",
    "\n",
    "model = LinearRegression()#вызовим линейную регрессию\n",
    "model.fit(features_train_w, target_train)#обучим модель на тренировочной выборке\n",
    "predictions_w = model.predict(features_test_w)#сделаем предсказания\n",
    "print('Значение метрики на сгенерированной матрице R2:',r2_score(target_test, predictions_w))#напечатаем значение метрик R2"
   ]
  },
  {
   "cell_type": "code",
   "execution_count": 12,
   "metadata": {},
   "outputs": [
    {
     "name": "stdout",
     "output_type": "stream",
     "text": [
      "[[ 0.14824332 -1.02217244 -0.25304939 -0.12574038]\n",
      " [-0.09296188 -0.58824194  0.46509925  0.16465893]\n",
      " [ 1.96809025  1.50308638 -3.43625569  1.06293779]\n",
      " [-0.06374531 -0.64544131  0.60448217  0.12012925]]\n",
      "Значение метрики на сгенерированной матрице R2: 0.4237517782881919\n"
     ]
    }
   ],
   "source": [
    "# Функция get_rand_matrix не принимает в качесте аргумента случайную матрицу, она ее генерирует. \n",
    "# а принимает наш датасет, из котиорого она вытаскивает размерность: df.shape[1] чтобы сгенерировать рандомную матрицу нужного размера\n",
    "# (не задаем цифрой, чтобы побольше автоматизации было), \n",
    "\n",
    "\n",
    "\n",
    "matrix = get_rand_matrix(features_train)\n",
    "print(matrix)\n",
    "\n",
    "features_train_w = features_train @ matrix\n",
    "\n",
    "\n",
    "# А тут описка,  меняем features_train на features_test\n",
    "# features_test_w = features_train @ matrix\n",
    "features_test_w = features_test @ matrix\n",
    "\n",
    "model = LinearRegression()#вызовим линейную регрессию\n",
    "model.fit(features_train_w, target_train)#обучим модель на тренировочной выборке\n",
    "predictions_w = model.predict(features_test_w)#сделаем предсказания\n",
    "print('Значение метрики на сгенерированной матрице R2:',r2_score(target_test, predictions_w))#напечатаем значение метрик R2"
   ]
  },
  {
   "cell_type": "markdown",
   "metadata": {},
   "source": [
    "___Вывод:___ Мы изучили данные клиентов и запрограммировали алгоритм, применив матричные операции. Применив метрику R2, убедились что качество линейной регрессии до и после преобразования не отличаются, в резултате можно обеспечить защиту данных клиентов путем умножения признаков на обратимую матрицу."
   ]
  }
 ],
 "metadata": {
  "ExecuteTimeLog": [
   {
    "duration": 47,
    "start_time": "2023-01-08T20:45:12.457Z"
   },
   {
    "duration": 402,
    "start_time": "2023-01-08T20:45:17.987Z"
   },
   {
    "duration": 83,
    "start_time": "2023-01-08T20:45:18.391Z"
   },
   {
    "duration": 10,
    "start_time": "2023-01-08T20:47:01.750Z"
   },
   {
    "duration": 445,
    "start_time": "2023-01-11T10:32:30.648Z"
   },
   {
    "duration": 111,
    "start_time": "2023-01-11T10:32:33.248Z"
   },
   {
    "duration": 11,
    "start_time": "2023-01-11T10:32:33.775Z"
   },
   {
    "duration": 180,
    "start_time": "2023-01-11T10:34:17.665Z"
   },
   {
    "duration": 3,
    "start_time": "2023-01-11T10:50:27.539Z"
   },
   {
    "duration": 563,
    "start_time": "2023-01-11T10:50:52.664Z"
   },
   {
    "duration": 4,
    "start_time": "2023-01-11T11:06:43.236Z"
   },
   {
    "duration": 86,
    "start_time": "2023-01-11T11:19:15.885Z"
   },
   {
    "duration": 87,
    "start_time": "2023-01-11T11:19:29.542Z"
   },
   {
    "duration": 8,
    "start_time": "2023-01-11T11:20:09.255Z"
   },
   {
    "duration": 445,
    "start_time": "2023-01-11T11:20:15.238Z"
   },
   {
    "duration": 37,
    "start_time": "2023-01-11T11:20:15.686Z"
   },
   {
    "duration": 15,
    "start_time": "2023-01-11T11:20:15.725Z"
   },
   {
    "duration": 83,
    "start_time": "2023-01-11T11:20:15.743Z"
   },
   {
    "duration": 9,
    "start_time": "2023-01-11T11:22:24.949Z"
   },
   {
    "duration": 80,
    "start_time": "2023-01-11T11:22:56.149Z"
   },
   {
    "duration": 85,
    "start_time": "2023-01-11T11:24:34.247Z"
   },
   {
    "duration": 78,
    "start_time": "2023-01-11T11:25:22.711Z"
   },
   {
    "duration": 82,
    "start_time": "2023-01-11T11:25:35.895Z"
   },
   {
    "duration": 90,
    "start_time": "2023-01-11T11:25:46.439Z"
   },
   {
    "duration": 79,
    "start_time": "2023-01-11T11:28:17.945Z"
   },
   {
    "duration": 93,
    "start_time": "2023-01-11T11:28:32.682Z"
   },
   {
    "duration": 89,
    "start_time": "2023-01-11T11:29:06.834Z"
   },
   {
    "duration": 86,
    "start_time": "2023-01-11T11:29:16.569Z"
   },
   {
    "duration": 119,
    "start_time": "2023-01-11T11:32:06.699Z"
   },
   {
    "duration": 93,
    "start_time": "2023-01-11T11:32:29.995Z"
   },
   {
    "duration": 368,
    "start_time": "2023-01-11T11:32:57.519Z"
   },
   {
    "duration": 33,
    "start_time": "2023-01-11T11:32:57.889Z"
   },
   {
    "duration": 11,
    "start_time": "2023-01-11T11:32:57.924Z"
   },
   {
    "duration": 145,
    "start_time": "2023-01-11T11:32:57.937Z"
   },
   {
    "duration": 87,
    "start_time": "2023-01-11T11:34:08.877Z"
   },
   {
    "duration": 80,
    "start_time": "2023-01-11T11:34:18.590Z"
   },
   {
    "duration": 73,
    "start_time": "2023-01-11T11:36:16.853Z"
   },
   {
    "duration": 4,
    "start_time": "2023-01-11T11:36:23.049Z"
   },
   {
    "duration": 5,
    "start_time": "2023-01-11T11:38:06.415Z"
   },
   {
    "duration": 4,
    "start_time": "2023-01-11T11:40:41.088Z"
   },
   {
    "duration": 8,
    "start_time": "2023-01-11T11:58:16.218Z"
   },
   {
    "duration": 804,
    "start_time": "2023-01-11T11:59:00.586Z"
   },
   {
    "duration": 1137,
    "start_time": "2023-01-11T11:59:05.450Z"
   },
   {
    "duration": 34,
    "start_time": "2023-01-11T11:59:06.589Z"
   },
   {
    "duration": 14,
    "start_time": "2023-01-11T11:59:06.625Z"
   },
   {
    "duration": 16,
    "start_time": "2023-01-11T11:59:06.642Z"
   },
   {
    "duration": 157,
    "start_time": "2023-01-11T11:59:06.660Z"
   },
   {
    "duration": 33,
    "start_time": "2023-01-11T11:59:57.304Z"
   },
   {
    "duration": 1087,
    "start_time": "2023-01-11T12:00:02.091Z"
   },
   {
    "duration": 33,
    "start_time": "2023-01-11T12:00:03.180Z"
   },
   {
    "duration": 12,
    "start_time": "2023-01-11T12:00:03.215Z"
   },
   {
    "duration": 77,
    "start_time": "2023-01-11T12:00:03.228Z"
   },
   {
    "duration": 205,
    "start_time": "2023-01-11T12:00:03.307Z"
   },
   {
    "duration": 14,
    "start_time": "2023-01-11T12:00:51.195Z"
   },
   {
    "duration": 9,
    "start_time": "2023-01-11T12:01:31.290Z"
   },
   {
    "duration": 9,
    "start_time": "2023-01-11T12:01:56.410Z"
   },
   {
    "duration": 5,
    "start_time": "2023-01-11T12:04:11.242Z"
   },
   {
    "duration": 1103,
    "start_time": "2023-01-11T12:04:15.250Z"
   },
   {
    "duration": 33,
    "start_time": "2023-01-11T12:04:16.355Z"
   },
   {
    "duration": 44,
    "start_time": "2023-01-11T12:04:16.389Z"
   },
   {
    "duration": 46,
    "start_time": "2023-01-11T12:04:16.435Z"
   },
   {
    "duration": 59,
    "start_time": "2023-01-11T12:04:16.483Z"
   },
   {
    "duration": 205,
    "start_time": "2023-01-11T12:04:16.544Z"
   },
   {
    "duration": 15,
    "start_time": "2023-01-11T12:04:53.740Z"
   },
   {
    "duration": 1091,
    "start_time": "2023-01-11T12:05:16.865Z"
   },
   {
    "duration": 35,
    "start_time": "2023-01-11T12:05:17.959Z"
   },
   {
    "duration": 12,
    "start_time": "2023-01-11T12:05:17.996Z"
   },
   {
    "duration": 17,
    "start_time": "2023-01-11T12:05:18.010Z"
   },
   {
    "duration": 11,
    "start_time": "2023-01-11T12:05:18.029Z"
   },
   {
    "duration": 169,
    "start_time": "2023-01-11T12:05:18.042Z"
   },
   {
    "duration": 15,
    "start_time": "2023-01-11T12:06:48.751Z"
   },
   {
    "duration": 12,
    "start_time": "2023-01-11T12:10:58.670Z"
   },
   {
    "duration": 10,
    "start_time": "2023-01-11T12:10:59.262Z"
   },
   {
    "duration": 11,
    "start_time": "2023-01-11T12:11:19.599Z"
   },
   {
    "duration": 12,
    "start_time": "2023-01-11T12:15:08.239Z"
   },
   {
    "duration": 16,
    "start_time": "2023-01-11T12:15:31.603Z"
   },
   {
    "duration": 6,
    "start_time": "2023-01-11T12:16:17.986Z"
   },
   {
    "duration": 13,
    "start_time": "2023-01-11T12:16:22.561Z"
   },
   {
    "duration": 9,
    "start_time": "2023-01-11T12:17:02.977Z"
   },
   {
    "duration": 6,
    "start_time": "2023-01-11T12:17:14.937Z"
   },
   {
    "duration": 10,
    "start_time": "2023-01-11T12:17:15.457Z"
   },
   {
    "duration": 48,
    "start_time": "2023-01-13T11:27:35.379Z"
   },
   {
    "duration": 1150,
    "start_time": "2023-01-13T11:27:42.517Z"
   },
   {
    "duration": 78,
    "start_time": "2023-01-13T11:27:43.670Z"
   },
   {
    "duration": 19,
    "start_time": "2023-01-13T11:27:43.751Z"
   },
   {
    "duration": 6,
    "start_time": "2023-01-13T11:27:43.773Z"
   },
   {
    "duration": 8,
    "start_time": "2023-01-13T11:27:43.781Z"
   },
   {
    "duration": 5,
    "start_time": "2023-01-13T11:27:43.791Z"
   },
   {
    "duration": 18,
    "start_time": "2023-01-13T11:27:43.798Z"
   },
   {
    "duration": 199,
    "start_time": "2023-01-13T11:27:43.818Z"
   },
   {
    "duration": 5,
    "start_time": "2023-01-13T11:28:24.856Z"
   },
   {
    "duration": 5,
    "start_time": "2023-01-13T11:28:26.088Z"
   },
   {
    "duration": 16,
    "start_time": "2023-01-13T11:29:48.665Z"
   },
   {
    "duration": 12,
    "start_time": "2023-01-13T11:30:43.545Z"
   },
   {
    "duration": 9,
    "start_time": "2023-01-13T11:30:51.994Z"
   },
   {
    "duration": 32,
    "start_time": "2023-01-13T11:31:01.978Z"
   },
   {
    "duration": 5,
    "start_time": "2023-01-13T11:45:38.664Z"
   },
   {
    "duration": 5,
    "start_time": "2023-01-13T11:45:58.103Z"
   },
   {
    "duration": 6,
    "start_time": "2023-01-13T11:47:54.753Z"
   },
   {
    "duration": 7,
    "start_time": "2023-01-13T11:49:06.210Z"
   },
   {
    "duration": 3,
    "start_time": "2023-01-13T12:07:37.042Z"
   },
   {
    "duration": 4,
    "start_time": "2023-01-13T12:07:51.827Z"
   },
   {
    "duration": 3,
    "start_time": "2023-01-13T12:08:02.862Z"
   },
   {
    "duration": 5,
    "start_time": "2023-01-13T12:20:06.361Z"
   },
   {
    "duration": 6,
    "start_time": "2023-01-13T12:20:16.376Z"
   },
   {
    "duration": 5,
    "start_time": "2023-01-13T12:20:35.043Z"
   },
   {
    "duration": 3,
    "start_time": "2023-01-13T12:23:36.517Z"
   },
   {
    "duration": 6,
    "start_time": "2023-01-13T12:24:10.294Z"
   },
   {
    "duration": 2,
    "start_time": "2023-01-13T12:30:33.785Z"
   },
   {
    "duration": 13,
    "start_time": "2023-01-13T12:55:37.802Z"
   },
   {
    "duration": 1111,
    "start_time": "2023-01-13T12:55:47.109Z"
   },
   {
    "duration": 36,
    "start_time": "2023-01-13T12:55:48.222Z"
   },
   {
    "duration": 12,
    "start_time": "2023-01-13T12:55:48.260Z"
   },
   {
    "duration": 32,
    "start_time": "2023-01-13T12:55:48.273Z"
   },
   {
    "duration": 11,
    "start_time": "2023-01-13T12:55:48.308Z"
   },
   {
    "duration": 29,
    "start_time": "2023-01-13T12:55:48.321Z"
   },
   {
    "duration": 4,
    "start_time": "2023-01-13T12:55:48.352Z"
   },
   {
    "duration": 12,
    "start_time": "2023-01-13T12:55:48.358Z"
   },
   {
    "duration": 12,
    "start_time": "2023-01-13T12:55:48.372Z"
   },
   {
    "duration": 7,
    "start_time": "2023-01-13T12:55:48.417Z"
   },
   {
    "duration": 273,
    "start_time": "2023-01-13T12:55:48.426Z"
   },
   {
    "duration": 13,
    "start_time": "2023-01-13T12:56:55.591Z"
   },
   {
    "duration": 1076,
    "start_time": "2023-01-13T12:57:19.801Z"
   },
   {
    "duration": 31,
    "start_time": "2023-01-13T12:57:20.879Z"
   },
   {
    "duration": 10,
    "start_time": "2023-01-13T12:57:20.912Z"
   },
   {
    "duration": 25,
    "start_time": "2023-01-13T12:57:20.924Z"
   },
   {
    "duration": 5,
    "start_time": "2023-01-13T12:57:20.950Z"
   },
   {
    "duration": 38,
    "start_time": "2023-01-13T12:57:20.957Z"
   },
   {
    "duration": 5,
    "start_time": "2023-01-13T12:57:20.997Z"
   },
   {
    "duration": 28,
    "start_time": "2023-01-13T12:57:21.003Z"
   },
   {
    "duration": 14,
    "start_time": "2023-01-13T12:57:21.033Z"
   },
   {
    "duration": 9,
    "start_time": "2023-01-13T12:57:21.050Z"
   },
   {
    "duration": 244,
    "start_time": "2023-01-13T12:57:21.061Z"
   },
   {
    "duration": 15,
    "start_time": "2023-01-13T13:06:44.410Z"
   },
   {
    "duration": 7,
    "start_time": "2023-01-13T13:09:15.275Z"
   },
   {
    "duration": 19,
    "start_time": "2023-01-13T13:09:17.259Z"
   },
   {
    "duration": 1045,
    "start_time": "2023-01-13T13:11:08.638Z"
   },
   {
    "duration": 32,
    "start_time": "2023-01-13T13:11:09.685Z"
   },
   {
    "duration": 12,
    "start_time": "2023-01-13T13:11:09.719Z"
   },
   {
    "duration": 58,
    "start_time": "2023-01-13T13:11:09.732Z"
   },
   {
    "duration": 34,
    "start_time": "2023-01-13T13:11:09.792Z"
   },
   {
    "duration": 48,
    "start_time": "2023-01-13T13:11:09.828Z"
   },
   {
    "duration": 5,
    "start_time": "2023-01-13T13:11:09.878Z"
   },
   {
    "duration": 22,
    "start_time": "2023-01-13T13:11:09.884Z"
   },
   {
    "duration": 166,
    "start_time": "2023-01-13T13:11:09.908Z"
   },
   {
    "duration": 0,
    "start_time": "2023-01-13T13:11:10.076Z"
   },
   {
    "duration": 0,
    "start_time": "2023-01-13T13:11:10.078Z"
   },
   {
    "duration": 3,
    "start_time": "2023-01-13T13:11:43.996Z"
   },
   {
    "duration": 1102,
    "start_time": "2023-01-13T13:11:48.410Z"
   },
   {
    "duration": 32,
    "start_time": "2023-01-13T13:11:49.514Z"
   },
   {
    "duration": 11,
    "start_time": "2023-01-13T13:11:49.548Z"
   },
   {
    "duration": 16,
    "start_time": "2023-01-13T13:11:49.561Z"
   },
   {
    "duration": 5,
    "start_time": "2023-01-13T13:11:49.580Z"
   },
   {
    "duration": 24,
    "start_time": "2023-01-13T13:11:49.587Z"
   },
   {
    "duration": 5,
    "start_time": "2023-01-13T13:11:49.613Z"
   },
   {
    "duration": 13,
    "start_time": "2023-01-13T13:11:49.620Z"
   },
   {
    "duration": 204,
    "start_time": "2023-01-13T13:11:49.635Z"
   },
   {
    "duration": 0,
    "start_time": "2023-01-13T13:11:49.841Z"
   },
   {
    "duration": 0,
    "start_time": "2023-01-13T13:11:49.842Z"
   },
   {
    "duration": 6,
    "start_time": "2023-01-13T13:13:26.894Z"
   },
   {
    "duration": 7,
    "start_time": "2023-01-13T13:13:27.902Z"
   },
   {
    "duration": 7,
    "start_time": "2023-01-13T13:13:37.790Z"
   },
   {
    "duration": 8,
    "start_time": "2023-01-13T13:13:39.021Z"
   },
   {
    "duration": 10,
    "start_time": "2023-01-13T13:16:21.471Z"
   },
   {
    "duration": 10,
    "start_time": "2023-01-13T13:16:52.687Z"
   },
   {
    "duration": 4,
    "start_time": "2023-01-13T13:25:35.555Z"
   },
   {
    "duration": 5,
    "start_time": "2023-01-13T13:25:39.315Z"
   },
   {
    "duration": 1044,
    "start_time": "2023-01-13T13:34:26.327Z"
   },
   {
    "duration": 31,
    "start_time": "2023-01-13T13:34:27.373Z"
   },
   {
    "duration": 10,
    "start_time": "2023-01-13T13:34:27.406Z"
   },
   {
    "duration": 12,
    "start_time": "2023-01-13T13:34:27.418Z"
   },
   {
    "duration": 4,
    "start_time": "2023-01-13T13:34:27.432Z"
   },
   {
    "duration": 27,
    "start_time": "2023-01-13T13:34:27.437Z"
   },
   {
    "duration": 4,
    "start_time": "2023-01-13T13:34:27.467Z"
   },
   {
    "duration": 45,
    "start_time": "2023-01-13T13:34:27.473Z"
   },
   {
    "duration": 13,
    "start_time": "2023-01-13T13:34:27.521Z"
   },
   {
    "duration": 4,
    "start_time": "2023-01-13T13:34:27.537Z"
   },
   {
    "duration": 5,
    "start_time": "2023-01-13T13:34:27.543Z"
   },
   {
    "duration": 182,
    "start_time": "2023-01-13T13:34:27.616Z"
   },
   {
    "duration": 11,
    "start_time": "2023-01-13T13:34:44.086Z"
   },
   {
    "duration": 4,
    "start_time": "2023-01-13T13:34:53.749Z"
   },
   {
    "duration": 4,
    "start_time": "2023-01-13T13:35:00.566Z"
   },
   {
    "duration": 3,
    "start_time": "2023-01-13T13:35:58.662Z"
   },
   {
    "duration": 4,
    "start_time": "2023-01-13T13:37:01.415Z"
   },
   {
    "duration": 5,
    "start_time": "2023-01-13T13:38:31.400Z"
   },
   {
    "duration": 3,
    "start_time": "2023-01-13T14:04:02.179Z"
   },
   {
    "duration": 1117,
    "start_time": "2023-01-13T14:04:06.039Z"
   },
   {
    "duration": 32,
    "start_time": "2023-01-13T14:04:07.158Z"
   },
   {
    "duration": 12,
    "start_time": "2023-01-13T14:04:07.191Z"
   },
   {
    "duration": 15,
    "start_time": "2023-01-13T14:04:07.205Z"
   },
   {
    "duration": 4,
    "start_time": "2023-01-13T14:04:07.222Z"
   },
   {
    "duration": 24,
    "start_time": "2023-01-13T14:04:07.227Z"
   },
   {
    "duration": 4,
    "start_time": "2023-01-13T14:04:07.253Z"
   },
   {
    "duration": 11,
    "start_time": "2023-01-13T14:04:07.259Z"
   },
   {
    "duration": 50,
    "start_time": "2023-01-13T14:04:07.272Z"
   },
   {
    "duration": 7,
    "start_time": "2023-01-13T14:04:07.324Z"
   },
   {
    "duration": 12,
    "start_time": "2023-01-13T14:04:07.333Z"
   },
   {
    "duration": 75,
    "start_time": "2023-01-13T14:04:07.348Z"
   },
   {
    "duration": 93,
    "start_time": "2023-01-13T14:04:07.426Z"
   },
   {
    "duration": 22,
    "start_time": "2023-01-13T14:05:00.487Z"
   },
   {
    "duration": 1025,
    "start_time": "2023-01-13T14:08:53.949Z"
   },
   {
    "duration": 31,
    "start_time": "2023-01-13T14:08:54.976Z"
   },
   {
    "duration": 25,
    "start_time": "2023-01-13T14:08:55.008Z"
   },
   {
    "duration": 13,
    "start_time": "2023-01-13T14:08:55.035Z"
   },
   {
    "duration": 3,
    "start_time": "2023-01-13T14:08:55.050Z"
   },
   {
    "duration": 25,
    "start_time": "2023-01-13T14:08:55.055Z"
   },
   {
    "duration": 5,
    "start_time": "2023-01-13T14:08:55.081Z"
   },
   {
    "duration": 30,
    "start_time": "2023-01-13T14:08:55.088Z"
   },
   {
    "duration": 10,
    "start_time": "2023-01-13T14:08:55.120Z"
   },
   {
    "duration": 4,
    "start_time": "2023-01-13T14:08:55.133Z"
   },
   {
    "duration": 77,
    "start_time": "2023-01-13T14:08:55.138Z"
   },
   {
    "duration": 6,
    "start_time": "2023-01-13T14:08:55.217Z"
   },
   {
    "duration": 93,
    "start_time": "2023-01-13T14:08:55.225Z"
   },
   {
    "duration": 2003,
    "start_time": "2023-01-13T14:42:11.650Z"
   },
   {
    "duration": 32,
    "start_time": "2023-01-13T14:42:13.656Z"
   },
   {
    "duration": 11,
    "start_time": "2023-01-13T14:42:13.690Z"
   },
   {
    "duration": 31,
    "start_time": "2023-01-13T14:42:13.703Z"
   },
   {
    "duration": 9,
    "start_time": "2023-01-13T14:42:13.736Z"
   },
   {
    "duration": 36,
    "start_time": "2023-01-13T14:42:13.747Z"
   },
   {
    "duration": 34,
    "start_time": "2023-01-13T14:42:13.784Z"
   },
   {
    "duration": 66,
    "start_time": "2023-01-13T14:42:13.819Z"
   },
   {
    "duration": 32,
    "start_time": "2023-01-13T14:42:13.887Z"
   },
   {
    "duration": 24,
    "start_time": "2023-01-13T14:42:13.921Z"
   },
   {
    "duration": 12,
    "start_time": "2023-01-13T14:42:13.947Z"
   },
   {
    "duration": 4,
    "start_time": "2023-01-13T14:42:14.007Z"
   },
   {
    "duration": 122,
    "start_time": "2023-01-13T14:42:14.014Z"
   },
   {
    "duration": 62,
    "start_time": "2023-01-13T17:04:43.996Z"
   },
   {
    "duration": 0,
    "start_time": "2023-01-13T17:04:44.060Z"
   },
   {
    "duration": 6,
    "start_time": "2023-01-13T17:05:24.636Z"
   },
   {
    "duration": 1109,
    "start_time": "2023-01-13T17:05:31.819Z"
   },
   {
    "duration": 96,
    "start_time": "2023-01-13T17:05:32.931Z"
   },
   {
    "duration": 12,
    "start_time": "2023-01-13T17:05:33.029Z"
   },
   {
    "duration": 17,
    "start_time": "2023-01-13T17:05:33.044Z"
   },
   {
    "duration": 5,
    "start_time": "2023-01-13T17:05:33.063Z"
   },
   {
    "duration": 40,
    "start_time": "2023-01-13T17:05:33.069Z"
   },
   {
    "duration": 5,
    "start_time": "2023-01-13T17:05:33.111Z"
   },
   {
    "duration": 15,
    "start_time": "2023-01-13T17:05:33.118Z"
   },
   {
    "duration": 48,
    "start_time": "2023-01-13T17:05:33.135Z"
   },
   {
    "duration": 12,
    "start_time": "2023-01-13T17:05:33.185Z"
   },
   {
    "duration": 8,
    "start_time": "2023-01-13T17:05:33.199Z"
   },
   {
    "duration": 89,
    "start_time": "2023-01-13T17:05:33.209Z"
   },
   {
    "duration": 91,
    "start_time": "2023-01-13T17:05:33.300Z"
   },
   {
    "duration": 1537,
    "start_time": "2023-01-14T05:02:31.707Z"
   },
   {
    "duration": 89,
    "start_time": "2023-01-14T05:02:33.246Z"
   },
   {
    "duration": 12,
    "start_time": "2023-01-14T05:02:33.336Z"
   },
   {
    "duration": 9,
    "start_time": "2023-01-14T05:02:34.325Z"
   },
   {
    "duration": 5,
    "start_time": "2023-01-14T05:02:35.301Z"
   },
   {
    "duration": 24,
    "start_time": "2023-01-14T05:02:37.579Z"
   },
   {
    "duration": 385,
    "start_time": "2023-01-14T05:03:04.935Z"
   },
   {
    "duration": 379,
    "start_time": "2023-01-14T05:04:05.895Z"
   },
   {
    "duration": 425,
    "start_time": "2023-01-14T05:08:02.537Z"
   },
   {
    "duration": 387,
    "start_time": "2023-01-14T05:08:12.265Z"
   },
   {
    "duration": 461,
    "start_time": "2023-01-14T05:08:19.802Z"
   },
   {
    "duration": 122,
    "start_time": "2023-01-14T06:24:05.045Z"
   },
   {
    "duration": 9,
    "start_time": "2023-01-14T09:36:36.234Z"
   },
   {
    "duration": 1909,
    "start_time": "2023-01-14T09:36:42.235Z"
   },
   {
    "duration": 37,
    "start_time": "2023-01-14T09:36:44.147Z"
   },
   {
    "duration": 11,
    "start_time": "2023-01-14T09:36:44.186Z"
   },
   {
    "duration": 22,
    "start_time": "2023-01-14T09:36:44.199Z"
   },
   {
    "duration": 25,
    "start_time": "2023-01-14T09:36:44.223Z"
   },
   {
    "duration": 39,
    "start_time": "2023-01-14T09:36:44.249Z"
   },
   {
    "duration": 421,
    "start_time": "2023-01-14T09:36:44.290Z"
   },
   {
    "duration": 5,
    "start_time": "2023-01-14T09:36:44.713Z"
   },
   {
    "duration": 32,
    "start_time": "2023-01-14T09:36:44.719Z"
   },
   {
    "duration": 17,
    "start_time": "2023-01-14T09:36:44.778Z"
   },
   {
    "duration": 20,
    "start_time": "2023-01-14T09:36:44.797Z"
   },
   {
    "duration": 63,
    "start_time": "2023-01-14T09:36:44.819Z"
   },
   {
    "duration": 92,
    "start_time": "2023-01-14T09:36:44.886Z"
   },
   {
    "duration": 95,
    "start_time": "2023-01-14T09:36:44.982Z"
   },
   {
    "duration": 9,
    "start_time": "2023-01-14T09:36:45.080Z"
   },
   {
    "duration": 3,
    "start_time": "2023-01-14T09:37:16.451Z"
   },
   {
    "duration": 6,
    "start_time": "2023-01-14T09:45:56.648Z"
   },
   {
    "duration": 6,
    "start_time": "2023-01-14T09:46:27.246Z"
   },
   {
    "duration": 309,
    "start_time": "2023-01-14T09:46:57.484Z"
   },
   {
    "duration": 6,
    "start_time": "2023-01-14T09:48:28.180Z"
   },
   {
    "duration": 103,
    "start_time": "2023-01-14T09:48:28.777Z"
   },
   {
    "duration": 6,
    "start_time": "2023-01-14T09:48:50.377Z"
   },
   {
    "duration": 41,
    "start_time": "2023-01-14T09:48:54.842Z"
   },
   {
    "duration": 6,
    "start_time": "2023-01-14T09:50:02.346Z"
   },
   {
    "duration": 107,
    "start_time": "2023-01-14T09:50:04.494Z"
   },
   {
    "duration": 6,
    "start_time": "2023-01-14T09:50:14.010Z"
   },
   {
    "duration": 53,
    "start_time": "2023-01-14T09:50:14.638Z"
   },
   {
    "duration": 1638,
    "start_time": "2023-01-14T09:50:31.908Z"
   },
   {
    "duration": 39,
    "start_time": "2023-01-14T09:50:33.548Z"
   },
   {
    "duration": 18,
    "start_time": "2023-01-14T09:50:33.589Z"
   },
   {
    "duration": 19,
    "start_time": "2023-01-14T09:50:33.608Z"
   },
   {
    "duration": 7,
    "start_time": "2023-01-14T09:50:33.630Z"
   },
   {
    "duration": 26,
    "start_time": "2023-01-14T09:50:33.639Z"
   },
   {
    "duration": 425,
    "start_time": "2023-01-14T09:50:33.667Z"
   },
   {
    "duration": 10,
    "start_time": "2023-01-14T09:50:34.094Z"
   },
   {
    "duration": 22,
    "start_time": "2023-01-14T09:50:34.106Z"
   },
   {
    "duration": 53,
    "start_time": "2023-01-14T09:50:34.130Z"
   },
   {
    "duration": 6,
    "start_time": "2023-01-14T09:50:34.192Z"
   },
   {
    "duration": 167,
    "start_time": "2023-01-14T09:50:34.200Z"
   },
   {
    "duration": 0,
    "start_time": "2023-01-14T09:50:34.369Z"
   },
   {
    "duration": 0,
    "start_time": "2023-01-14T09:50:34.371Z"
   },
   {
    "duration": 0,
    "start_time": "2023-01-14T09:50:34.379Z"
   },
   {
    "duration": 0,
    "start_time": "2023-01-14T09:50:34.380Z"
   },
   {
    "duration": 21,
    "start_time": "2023-01-14T09:51:25.589Z"
   },
   {
    "duration": 13,
    "start_time": "2023-01-14T09:51:26.937Z"
   },
   {
    "duration": 10,
    "start_time": "2023-01-14T09:53:17.022Z"
   },
   {
    "duration": 12,
    "start_time": "2023-01-14T09:53:50.338Z"
   },
   {
    "duration": 26,
    "start_time": "2023-01-14T09:53:56.174Z"
   },
   {
    "duration": 18,
    "start_time": "2023-01-14T10:07:28.870Z"
   },
   {
    "duration": 17,
    "start_time": "2023-01-14T10:08:48.340Z"
   },
   {
    "duration": 7,
    "start_time": "2023-01-14T10:09:20.551Z"
   },
   {
    "duration": 154,
    "start_time": "2023-01-14T10:09:27.351Z"
   },
   {
    "duration": 6,
    "start_time": "2023-01-14T10:10:14.585Z"
   },
   {
    "duration": 4,
    "start_time": "2023-01-14T10:10:16.262Z"
   },
   {
    "duration": 4,
    "start_time": "2023-01-14T10:10:17.207Z"
   },
   {
    "duration": 10,
    "start_time": "2023-01-14T10:10:20.038Z"
   },
   {
    "duration": 7,
    "start_time": "2023-01-14T10:15:00.437Z"
   },
   {
    "duration": 37,
    "start_time": "2023-01-14T10:15:22.457Z"
   },
   {
    "duration": 719,
    "start_time": "2023-01-14T10:16:16.202Z"
   },
   {
    "duration": 8,
    "start_time": "2023-01-14T10:17:39.660Z"
   },
   {
    "duration": 149,
    "start_time": "2023-01-14T10:17:41.039Z"
   },
   {
    "duration": 11,
    "start_time": "2023-01-14T10:19:12.074Z"
   },
   {
    "duration": 76,
    "start_time": "2023-01-14T10:19:30.411Z"
   },
   {
    "duration": 13973,
    "start_time": "2023-01-14T10:27:24.043Z"
   },
   {
    "duration": 18,
    "start_time": "2023-01-14T10:28:19.213Z"
   },
   {
    "duration": 18,
    "start_time": "2023-01-14T10:28:50.349Z"
   },
   {
    "duration": 4351,
    "start_time": "2023-01-14T10:30:21.052Z"
   },
   {
    "duration": 3207,
    "start_time": "2023-01-14T10:31:13.540Z"
   },
   {
    "duration": 3530,
    "start_time": "2023-01-14T10:31:36.233Z"
   },
   {
    "duration": 4141,
    "start_time": "2023-01-14T10:32:03.374Z"
   },
   {
    "duration": 6,
    "start_time": "2023-01-14T10:33:41.566Z"
   },
   {
    "duration": 105,
    "start_time": "2023-01-14T10:33:42.391Z"
   },
   {
    "duration": 8,
    "start_time": "2023-01-14T10:38:39.856Z"
   },
   {
    "duration": 106,
    "start_time": "2023-01-14T10:38:42.105Z"
   },
   {
    "duration": 41,
    "start_time": "2023-01-14T10:39:23.038Z"
   },
   {
    "duration": 9,
    "start_time": "2023-01-14T12:23:27.088Z"
   },
   {
    "duration": 8,
    "start_time": "2023-01-14T12:23:46.484Z"
   },
   {
    "duration": 6,
    "start_time": "2023-01-14T12:24:04.929Z"
   },
   {
    "duration": 9,
    "start_time": "2023-01-14T12:24:26.160Z"
   },
   {
    "duration": 7,
    "start_time": "2023-01-14T12:25:01.985Z"
   },
   {
    "duration": 6,
    "start_time": "2023-01-14T12:25:02.641Z"
   },
   {
    "duration": 9,
    "start_time": "2023-01-14T12:25:03.345Z"
   },
   {
    "duration": 1451,
    "start_time": "2023-01-14T12:27:47.335Z"
   },
   {
    "duration": 82,
    "start_time": "2023-01-14T12:27:48.788Z"
   },
   {
    "duration": 11,
    "start_time": "2023-01-14T12:27:48.872Z"
   },
   {
    "duration": 12,
    "start_time": "2023-01-14T12:27:48.885Z"
   },
   {
    "duration": 5,
    "start_time": "2023-01-14T12:27:48.898Z"
   },
   {
    "duration": 27,
    "start_time": "2023-01-14T12:27:48.904Z"
   },
   {
    "duration": 445,
    "start_time": "2023-01-14T12:27:48.932Z"
   },
   {
    "duration": 4,
    "start_time": "2023-01-14T12:27:49.379Z"
   },
   {
    "duration": 13,
    "start_time": "2023-01-14T12:27:49.385Z"
   },
   {
    "duration": 10,
    "start_time": "2023-01-14T12:27:49.400Z"
   },
   {
    "duration": 66,
    "start_time": "2023-01-14T12:27:49.412Z"
   },
   {
    "duration": 302,
    "start_time": "2023-01-14T12:27:49.479Z"
   },
   {
    "duration": 0,
    "start_time": "2023-01-14T12:27:49.783Z"
   },
   {
    "duration": 0,
    "start_time": "2023-01-14T12:27:49.784Z"
   },
   {
    "duration": 0,
    "start_time": "2023-01-14T12:27:49.785Z"
   },
   {
    "duration": 0,
    "start_time": "2023-01-14T12:27:49.786Z"
   },
   {
    "duration": 582,
    "start_time": "2023-01-14T12:42:44.938Z"
   },
   {
    "duration": 579,
    "start_time": "2023-01-14T12:43:13.501Z"
   },
   {
    "duration": 8,
    "start_time": "2023-01-14T12:43:53.107Z"
   },
   {
    "duration": 71,
    "start_time": "2023-01-14T12:43:54.508Z"
   },
   {
    "duration": 11,
    "start_time": "2023-01-14T12:47:34.045Z"
   },
   {
    "duration": 7,
    "start_time": "2023-01-14T12:47:42.220Z"
   },
   {
    "duration": 1487,
    "start_time": "2023-01-14T12:48:03.885Z"
   },
   {
    "duration": 38,
    "start_time": "2023-01-14T12:48:05.374Z"
   },
   {
    "duration": 14,
    "start_time": "2023-01-14T12:48:05.414Z"
   },
   {
    "duration": 11,
    "start_time": "2023-01-14T12:48:05.431Z"
   },
   {
    "duration": 15,
    "start_time": "2023-01-14T12:48:05.443Z"
   },
   {
    "duration": 28,
    "start_time": "2023-01-14T12:48:05.460Z"
   },
   {
    "duration": 399,
    "start_time": "2023-01-14T12:48:05.490Z"
   },
   {
    "duration": 6,
    "start_time": "2023-01-14T12:48:05.891Z"
   },
   {
    "duration": 32,
    "start_time": "2023-01-14T12:48:05.899Z"
   },
   {
    "duration": 55,
    "start_time": "2023-01-14T12:48:05.933Z"
   },
   {
    "duration": 13,
    "start_time": "2023-01-14T12:48:05.990Z"
   },
   {
    "duration": 274,
    "start_time": "2023-01-14T12:48:06.005Z"
   },
   {
    "duration": 0,
    "start_time": "2023-01-14T12:48:06.281Z"
   },
   {
    "duration": 0,
    "start_time": "2023-01-14T12:48:06.282Z"
   },
   {
    "duration": 0,
    "start_time": "2023-01-14T12:48:06.283Z"
   },
   {
    "duration": 0,
    "start_time": "2023-01-14T12:48:06.284Z"
   },
   {
    "duration": 11,
    "start_time": "2023-01-14T12:55:25.757Z"
   },
   {
    "duration": 14,
    "start_time": "2023-01-14T12:58:38.735Z"
   },
   {
    "duration": 12,
    "start_time": "2023-01-14T13:00:20.896Z"
   },
   {
    "duration": 6,
    "start_time": "2023-01-14T13:00:46.672Z"
   },
   {
    "duration": 89,
    "start_time": "2023-01-14T13:01:01.792Z"
   },
   {
    "duration": 17,
    "start_time": "2023-01-14T13:23:58.579Z"
   },
   {
    "duration": 49,
    "start_time": "2023-01-14T13:24:18.839Z"
   },
   {
    "duration": 7,
    "start_time": "2023-01-14T13:24:33.267Z"
   },
   {
    "duration": 7,
    "start_time": "2023-01-14T13:25:01.763Z"
   },
   {
    "duration": 1452,
    "start_time": "2023-01-14T13:25:55.359Z"
   },
   {
    "duration": 36,
    "start_time": "2023-01-14T13:25:56.813Z"
   },
   {
    "duration": 12,
    "start_time": "2023-01-14T13:25:56.852Z"
   },
   {
    "duration": 9,
    "start_time": "2023-01-14T13:25:56.866Z"
   },
   {
    "duration": 5,
    "start_time": "2023-01-14T13:25:56.877Z"
   },
   {
    "duration": 27,
    "start_time": "2023-01-14T13:25:56.883Z"
   },
   {
    "duration": 375,
    "start_time": "2023-01-14T13:25:56.911Z"
   },
   {
    "duration": 6,
    "start_time": "2023-01-14T13:25:57.287Z"
   },
   {
    "duration": 12,
    "start_time": "2023-01-14T13:25:57.295Z"
   },
   {
    "duration": 10,
    "start_time": "2023-01-14T13:25:57.308Z"
   },
   {
    "duration": 60,
    "start_time": "2023-01-14T13:25:57.320Z"
   },
   {
    "duration": 296,
    "start_time": "2023-01-14T13:25:57.382Z"
   },
   {
    "duration": 0,
    "start_time": "2023-01-14T13:25:57.680Z"
   },
   {
    "duration": 0,
    "start_time": "2023-01-14T13:25:57.681Z"
   },
   {
    "duration": 0,
    "start_time": "2023-01-14T13:25:57.682Z"
   },
   {
    "duration": 0,
    "start_time": "2023-01-14T13:25:57.683Z"
   },
   {
    "duration": 6,
    "start_time": "2023-01-14T13:26:57.464Z"
   },
   {
    "duration": 111,
    "start_time": "2023-01-14T13:26:58.776Z"
   },
   {
    "duration": 1432,
    "start_time": "2023-01-14T13:27:06.741Z"
   },
   {
    "duration": 42,
    "start_time": "2023-01-14T13:27:08.175Z"
   },
   {
    "duration": 16,
    "start_time": "2023-01-14T13:27:08.219Z"
   },
   {
    "duration": 11,
    "start_time": "2023-01-14T13:27:08.237Z"
   },
   {
    "duration": 6,
    "start_time": "2023-01-14T13:27:08.250Z"
   },
   {
    "duration": 30,
    "start_time": "2023-01-14T13:27:08.258Z"
   },
   {
    "duration": 486,
    "start_time": "2023-01-14T13:27:08.290Z"
   },
   {
    "duration": 6,
    "start_time": "2023-01-14T13:27:08.778Z"
   },
   {
    "duration": 20,
    "start_time": "2023-01-14T13:27:08.785Z"
   },
   {
    "duration": 16,
    "start_time": "2023-01-14T13:27:08.807Z"
   },
   {
    "duration": 60,
    "start_time": "2023-01-14T13:27:08.824Z"
   },
   {
    "duration": 366,
    "start_time": "2023-01-14T13:27:08.886Z"
   },
   {
    "duration": 0,
    "start_time": "2023-01-14T13:27:09.254Z"
   },
   {
    "duration": 0,
    "start_time": "2023-01-14T13:27:09.255Z"
   },
   {
    "duration": 0,
    "start_time": "2023-01-14T13:27:09.256Z"
   },
   {
    "duration": 0,
    "start_time": "2023-01-14T13:27:09.257Z"
   },
   {
    "duration": 5143,
    "start_time": "2023-01-15T07:41:06.151Z"
   },
   {
    "duration": 155,
    "start_time": "2023-01-15T07:41:11.297Z"
   },
   {
    "duration": 17,
    "start_time": "2023-01-15T07:41:11.454Z"
   },
   {
    "duration": 12,
    "start_time": "2023-01-15T07:41:11.474Z"
   },
   {
    "duration": 67,
    "start_time": "2023-01-15T07:41:11.488Z"
   },
   {
    "duration": 96,
    "start_time": "2023-01-15T07:41:11.557Z"
   },
   {
    "duration": 835,
    "start_time": "2023-01-15T07:41:11.656Z"
   },
   {
    "duration": 60,
    "start_time": "2023-01-15T07:41:12.493Z"
   },
   {
    "duration": 18,
    "start_time": "2023-01-15T07:41:12.556Z"
   },
   {
    "duration": 79,
    "start_time": "2023-01-15T07:41:12.577Z"
   },
   {
    "duration": 8,
    "start_time": "2023-01-15T07:41:12.657Z"
   },
   {
    "duration": 502,
    "start_time": "2023-01-15T07:41:12.667Z"
   },
   {
    "duration": 0,
    "start_time": "2023-01-15T07:41:13.171Z"
   },
   {
    "duration": 0,
    "start_time": "2023-01-15T07:41:13.173Z"
   },
   {
    "duration": 0,
    "start_time": "2023-01-15T07:41:13.174Z"
   },
   {
    "duration": 0,
    "start_time": "2023-01-15T07:41:13.175Z"
   },
   {
    "duration": 15,
    "start_time": "2023-01-15T07:42:12.481Z"
   },
   {
    "duration": 131,
    "start_time": "2023-01-15T07:46:22.126Z"
   },
   {
    "duration": 4,
    "start_time": "2023-01-15T07:47:05.283Z"
   },
   {
    "duration": 6,
    "start_time": "2023-01-15T07:47:17.212Z"
   },
   {
    "duration": 4,
    "start_time": "2023-01-15T07:47:30.044Z"
   },
   {
    "duration": 5,
    "start_time": "2023-01-15T07:48:49.328Z"
   },
   {
    "duration": 12,
    "start_time": "2023-01-15T07:49:42.553Z"
   },
   {
    "duration": 50,
    "start_time": "2023-01-16T07:32:39.718Z"
   },
   {
    "duration": 1634,
    "start_time": "2023-01-16T07:32:45.668Z"
   },
   {
    "duration": 100,
    "start_time": "2023-01-16T07:32:47.304Z"
   },
   {
    "duration": 12,
    "start_time": "2023-01-16T07:32:47.405Z"
   },
   {
    "duration": 37,
    "start_time": "2023-01-16T07:32:47.418Z"
   },
   {
    "duration": 30,
    "start_time": "2023-01-16T07:32:47.457Z"
   },
   {
    "duration": 53,
    "start_time": "2023-01-16T07:32:47.489Z"
   },
   {
    "duration": 548,
    "start_time": "2023-01-16T07:32:47.544Z"
   },
   {
    "duration": 10,
    "start_time": "2023-01-16T07:32:48.094Z"
   },
   {
    "duration": 46,
    "start_time": "2023-01-16T07:32:48.113Z"
   },
   {
    "duration": 77,
    "start_time": "2023-01-16T07:32:48.160Z"
   },
   {
    "duration": 43,
    "start_time": "2023-01-16T07:32:48.239Z"
   },
   {
    "duration": 34,
    "start_time": "2023-01-16T07:32:48.285Z"
   },
   {
    "duration": 281,
    "start_time": "2023-01-16T07:32:48.321Z"
   },
   {
    "duration": 0,
    "start_time": "2023-01-16T07:32:48.604Z"
   },
   {
    "duration": 0,
    "start_time": "2023-01-16T07:32:48.613Z"
   },
   {
    "duration": 0,
    "start_time": "2023-01-16T07:32:48.614Z"
   },
   {
    "duration": 0,
    "start_time": "2023-01-16T07:32:48.616Z"
   },
   {
    "duration": 0,
    "start_time": "2023-01-16T07:32:48.617Z"
   },
   {
    "duration": 2177,
    "start_time": "2023-01-16T10:29:36.168Z"
   },
   {
    "duration": 44,
    "start_time": "2023-01-16T10:29:38.347Z"
   },
   {
    "duration": 12,
    "start_time": "2023-01-16T10:29:38.395Z"
   },
   {
    "duration": 43,
    "start_time": "2023-01-16T10:29:38.408Z"
   },
   {
    "duration": 14,
    "start_time": "2023-01-16T10:29:38.452Z"
   },
   {
    "duration": 52,
    "start_time": "2023-01-16T10:29:38.467Z"
   },
   {
    "duration": 447,
    "start_time": "2023-01-16T10:29:38.521Z"
   },
   {
    "duration": 5,
    "start_time": "2023-01-16T10:29:38.970Z"
   },
   {
    "duration": 59,
    "start_time": "2023-01-16T10:29:38.978Z"
   },
   {
    "duration": 55,
    "start_time": "2023-01-16T10:29:39.039Z"
   },
   {
    "duration": 12,
    "start_time": "2023-01-16T10:29:39.135Z"
   },
   {
    "duration": 32,
    "start_time": "2023-01-16T10:29:39.149Z"
   }
  ],
  "kernelspec": {
   "display_name": "Python 3 (ipykernel)",
   "language": "python",
   "name": "python3"
  },
  "language_info": {
   "codemirror_mode": {
    "name": "ipython",
    "version": 3
   },
   "file_extension": ".py",
   "mimetype": "text/x-python",
   "name": "python",
   "nbconvert_exporter": "python",
   "pygments_lexer": "ipython3",
   "version": "3.9.12"
  },
  "toc": {
   "base_numbering": 1,
   "nav_menu": {},
   "number_sections": true,
   "sideBar": true,
   "skip_h1_title": true,
   "title_cell": "Содержание",
   "title_sidebar": "Contents",
   "toc_cell": true,
   "toc_position": {},
   "toc_section_display": true,
   "toc_window_display": false
  }
 },
 "nbformat": 4,
 "nbformat_minor": 2
}
