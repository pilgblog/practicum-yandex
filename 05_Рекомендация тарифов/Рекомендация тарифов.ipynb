{
 "cells": [
  {
   "cell_type": "markdown",
   "metadata": {},
   "source": [
    "# Рекомендация тарифов"
   ]
  },
  {
   "cell_type": "markdown",
   "metadata": {},
   "source": [
    "В вашем распоряжении данные о поведении клиентов, которые уже перешли на эти тарифы (из проекта курса «Статистический анализ данных»). Нужно построить модель для задачи классификации, которая выберет подходящий тариф. Предобработка данных не понадобится — вы её уже сделали.\n",
    "\n",
    "Постройте модель с максимально большим значением *accuracy*. Чтобы сдать проект успешно, нужно довести долю правильных ответов по крайней мере до 0.75. Проверьте *accuracy* на тестовой выборке самостоятельно."
   ]
  },
  {
   "cell_type": "markdown",
   "metadata": {},
   "source": [
    "Задачи классификации - получение категориального ответа на основе набора признаков. Потроим модель которая выберет подходящий тариф на основе набора признаков."
   ]
  },
  {
   "cell_type": "markdown",
   "metadata": {},
   "source": [
    "### Структура данных:\n",
    "*  сalls — количество звонков\n",
    "*  minutes — суммарная длительность звонков в минутах\n",
    "*  messages — количество sms-сообщений\n",
    "*  mb_used — израсходованный интернет-трафик в Мб\n",
    "*  is_ultra — каким тарифом пользовался в течение месяца («Ультра» — 1, «Смарт» — 0)\n",
    "\n",
    "### План работы:\n",
    "1. Изучить файл с данными.\n",
    "2. Разбить данные на три выборки: обучающая, валидационная и тестовая.\n",
    "3. Исследовать два модели классификации: Дерево решений и Случайный лес.\n",
    "4. Найти оптимальные параметры для каждой модели и выбрать одну из них для обучения модели.\n",
    "5. Оценить точность обученной модели.\n",
    "6. Оценить адекватность модели."
   ]
  },
  {
   "cell_type": "markdown",
   "metadata": {},
   "source": [
    "## Откройте и изучите файл"
   ]
  },
  {
   "cell_type": "code",
   "execution_count": 1,
   "metadata": {},
   "outputs": [],
   "source": [
    "import pandas as pd\n",
    "import numpy as np\n",
    "import matplotlib.pyplot as plt\n",
    "from sklearn.metrics import accuracy_score\n",
    "from sklearn.preprocessing import StandardScaler\n",
    "from sklearn.tree import DecisionTreeClassifier\n",
    "from sklearn.model_selection import train_test_split\n",
    "from sklearn.ensemble import RandomForestClassifier\n",
    "from sklearn import tree\n",
    "from sklearn.model_selection import GridSearchCV\n",
    "from sklearn.dummy import DummyClassifier"
   ]
  },
  {
   "cell_type": "code",
   "execution_count": 2,
   "metadata": {},
   "outputs": [
    {
     "name": "stdout",
     "output_type": "stream",
     "text": [
      "(3214, 5)\n"
     ]
    },
    {
     "data": {
      "text/html": [
       "<div>\n",
       "<style scoped>\n",
       "    .dataframe tbody tr th:only-of-type {\n",
       "        vertical-align: middle;\n",
       "    }\n",
       "\n",
       "    .dataframe tbody tr th {\n",
       "        vertical-align: top;\n",
       "    }\n",
       "\n",
       "    .dataframe thead th {\n",
       "        text-align: right;\n",
       "    }\n",
       "</style>\n",
       "<table border=\"1\" class=\"dataframe\">\n",
       "  <thead>\n",
       "    <tr style=\"text-align: right;\">\n",
       "      <th></th>\n",
       "      <th>calls</th>\n",
       "      <th>minutes</th>\n",
       "      <th>messages</th>\n",
       "      <th>mb_used</th>\n",
       "      <th>is_ultra</th>\n",
       "    </tr>\n",
       "  </thead>\n",
       "  <tbody>\n",
       "    <tr>\n",
       "      <th>0</th>\n",
       "      <td>40.0</td>\n",
       "      <td>311.90</td>\n",
       "      <td>83.0</td>\n",
       "      <td>19915.42</td>\n",
       "      <td>0</td>\n",
       "    </tr>\n",
       "    <tr>\n",
       "      <th>1</th>\n",
       "      <td>85.0</td>\n",
       "      <td>516.75</td>\n",
       "      <td>56.0</td>\n",
       "      <td>22696.96</td>\n",
       "      <td>0</td>\n",
       "    </tr>\n",
       "    <tr>\n",
       "      <th>2</th>\n",
       "      <td>77.0</td>\n",
       "      <td>467.66</td>\n",
       "      <td>86.0</td>\n",
       "      <td>21060.45</td>\n",
       "      <td>0</td>\n",
       "    </tr>\n",
       "    <tr>\n",
       "      <th>3</th>\n",
       "      <td>106.0</td>\n",
       "      <td>745.53</td>\n",
       "      <td>81.0</td>\n",
       "      <td>8437.39</td>\n",
       "      <td>1</td>\n",
       "    </tr>\n",
       "    <tr>\n",
       "      <th>4</th>\n",
       "      <td>66.0</td>\n",
       "      <td>418.74</td>\n",
       "      <td>1.0</td>\n",
       "      <td>14502.75</td>\n",
       "      <td>0</td>\n",
       "    </tr>\n",
       "  </tbody>\n",
       "</table>\n",
       "</div>"
      ],
      "text/plain": [
       "   calls  minutes  messages   mb_used  is_ultra\n",
       "0   40.0   311.90      83.0  19915.42         0\n",
       "1   85.0   516.75      56.0  22696.96         0\n",
       "2   77.0   467.66      86.0  21060.45         0\n",
       "3  106.0   745.53      81.0   8437.39         1\n",
       "4   66.0   418.74       1.0  14502.75         0"
      ]
     },
     "metadata": {},
     "output_type": "display_data"
    }
   ],
   "source": [
    "df = pd.read_csv('/datasets/users_behavior.csv')#запишем датафрейм в переменную\n",
    "print(df.shape)#выведим количество строк и столбцов\n",
    "display(df.head())#выведим первые 5 строк"
   ]
  },
  {
   "cell_type": "code",
   "execution_count": 3,
   "metadata": {},
   "outputs": [
    {
     "name": "stdout",
     "output_type": "stream",
     "text": [
      "<class 'pandas.core.frame.DataFrame'>\n",
      "RangeIndex: 3214 entries, 0 to 3213\n",
      "Data columns (total 5 columns):\n",
      " #   Column    Non-Null Count  Dtype  \n",
      "---  ------    --------------  -----  \n",
      " 0   calls     3214 non-null   float64\n",
      " 1   minutes   3214 non-null   float64\n",
      " 2   messages  3214 non-null   float64\n",
      " 3   mb_used   3214 non-null   float64\n",
      " 4   is_ultra  3214 non-null   int64  \n",
      "dtypes: float64(4), int64(1)\n",
      "memory usage: 125.7 KB\n"
     ]
    }
   ],
   "source": [
    "df.info()#изучим тип переменных"
   ]
  },
  {
   "cell_type": "code",
   "execution_count": 4,
   "metadata": {},
   "outputs": [
    {
     "data": {
      "text/plain": [
       "(array([0, 1]), array([2229,  985]))"
      ]
     },
     "execution_count": 4,
     "metadata": {},
     "output_type": "execute_result"
    }
   ],
   "source": [
    "unique, counts = np.unique(df.is_ultra, return_counts = True)#посчитаем сколько раз встречается 0 и сколько раз 1\n",
    "unique, counts"
   ]
  },
  {
   "cell_type": "code",
   "execution_count": 5,
   "metadata": {},
   "outputs": [],
   "source": [
    "features = df.drop(['is_ultra'], axis=1)#выделим признаки\n",
    "target = df['is_ultra']#выделим целевой признак"
   ]
  },
  {
   "cell_type": "markdown",
   "metadata": {},
   "source": [
    "__Комментарии:___ В датасете пять столбцов, 3214 строк. Количество звонков, суммарная длительность звонков в минутах, количество sms сообщений, израсходованный интернет-трафик в Мб, каким тарифом пользовался в течение месяца ультра-1 или смарт-0. Все зависимые переменные-количественные, целевая переменная-категориальная. Следовательно задача классификации."
   ]
  },
  {
   "cell_type": "markdown",
   "metadata": {},
   "source": [
    "## Разбейте данные на выборки"
   ]
  },
  {
   "cell_type": "code",
   "execution_count": 6,
   "metadata": {},
   "outputs": [],
   "source": [
    "features_train, features_valid, target_train, target_valid = train_test_split(features, target, test_size=0.4, random_state=54321, stratify=target)\n",
    "#отделяем 40% данных для валидационной выборки\n",
    "features_train, features_test, target_train, target_test = train_test_split(\n",
    "   features_train, target_train, test_size=0.2, random_state=54321, stratify=target_train)#отделим 20% для тестовой выборки"
   ]
  },
  {
   "cell_type": "code",
   "execution_count": 7,
   "metadata": {},
   "outputs": [
    {
     "name": "stdout",
     "output_type": "stream",
     "text": [
      "(1542, 4)\n",
      "(1542,)\n",
      "(1286, 4)\n",
      "(1286,)\n",
      "(386, 4)\n",
      "(386,)\n"
     ]
    }
   ],
   "source": [
    "print(features_train.shape)\n",
    "print(target_train.shape)\n",
    "print(features_valid.shape)\n",
    "print(target_valid.shape)\n",
    "print(features_test.shape)\n",
    "print(target_test.shape)"
   ]
  },
  {
   "cell_type": "markdown",
   "metadata": {},
   "source": [
    "## Исследуйте модели"
   ]
  },
  {
   "cell_type": "code",
   "execution_count": 8,
   "metadata": {},
   "outputs": [
    {
     "name": "stdout",
     "output_type": "stream",
     "text": [
      "Accuracy\n",
      "Обучающая выборка: 1.0\n",
      "Тестовая выборка: 1.0\n"
     ]
    }
   ],
   "source": [
    "model = DecisionTreeClassifier(random_state=54321)#создадим модель для дерева решений\n",
    "model.fit(features, target)#обучим модель\n",
    "predictions_train = model.predict(features)#предскажем модель обучающей выборки\n",
    "accuracy_score(target, predictions_train)#посчитаем качество модели обучающей выборки\n",
    "predictions_test = model.predict(features_test)#предскажем модель тестовой выборки\n",
    "accuracy_score(target_test, predictions_test)#посчитаем качество модели тестовой выборки\n",
    "print(\"Accuracy\")\n",
    "print(\"Обучающая выборка:\", accuracy_score(target, predictions_train))\n",
    "print(\"Тестовая выборка:\", accuracy_score(target_test, predictions_test))"
   ]
  },
  {
   "cell_type": "markdown",
   "metadata": {},
   "source": [
    "___Комментарии:___ Результаты не отличаются. Обучающей и тестовой выборке предсказания одинковы."
   ]
  },
  {
   "cell_type": "markdown",
   "metadata": {},
   "source": [
    "#### Дерево решений"
   ]
  },
  {
   "cell_type": "code",
   "execution_count": 9,
   "metadata": {},
   "outputs": [
    {
     "name": "stdout",
     "output_type": "stream",
     "text": [
      "Accuracy лучшей модели: 0.8117610454262602\n"
     ]
    }
   ],
   "source": [
    "best_model_df = None\n",
    "best_result_df = 0\n",
    "for depth in range(1,7):#переберем значения от 1 до 6\n",
    "    model = DecisionTreeClassifier(random_state=54321, max_depth = depth)#создадим модель для дерева решений\n",
    "    model.fit(features_train, target_train)#обучим модель на обучающей выборке\n",
    "    predictions = model.predict(features)#предскажем модель\n",
    "    result = accuracy_score(target, predictions)#посчитаем качество модели\n",
    "    if result > best_result_df:\n",
    "        best_model_df = model\n",
    "        best_result_df = result\n",
    "print(\"Accuracy лучшей модели:\", best_result_df)        "
   ]
  },
  {
   "cell_type": "code",
   "execution_count": 10,
   "metadata": {},
   "outputs": [
    {
     "data": {
      "image/png": "[encoded data removed]",
      "text/plain": [
       "<Figure size 432x288 with 1 Axes>"
      ]
     },
     "metadata": {
      "needs_background": "light"
     },
     "output_type": "display_data"
    },
    {
     "name": "stdout",
     "output_type": "stream",
     "text": [
      "Accuracy лучшей модели: 0.7737169517884914\n"
     ]
    }
   ],
   "source": [
    "best_model_df = None\n",
    "best_result_df = 0\n",
    "retraining_train = []\n",
    "retraining_valid = []\n",
    "for depth in range(1,11):\n",
    "    model = DecisionTreeClassifier(random_state=54321, max_depth = depth)\n",
    "    model.fit(features_train, target_train)\n",
    "    predictions_valid = model.predict(features_valid)\n",
    "    result_v = accuracy_score(target_valid, predictions_valid)\n",
    "    retraining_train.append(result_v)\n",
    "    predictions_train = model.predict(features_train)\n",
    "    result_t = accuracy_score(target_train, predictions_train)\n",
    "    retraining_valid.append(result_t)\n",
    "    if result > best_result_df:\n",
    "        best_model_df = model\n",
    "        best_result_df = result_v     \n",
    "plt.plot(retraining_valid, \"g\", lw=2)\n",
    "plt.plot(retraining_train, \"b\", lw=2)\n",
    "plt.xlim([1, 10])\n",
    "plt.title(\"Decision tree classifer\")\n",
    "plt.show()\n",
    "print(\"Accuracy лучшей модели:\", best_result_df)"
   ]
  },
  {
   "cell_type": "markdown",
   "metadata": {},
   "source": [
    "#### Смена гиперпараметров"
   ]
  },
  {
   "cell_type": "code",
   "execution_count": 12,
   "metadata": {},
   "outputs": [
    {
     "name": "stdout",
     "output_type": "stream",
     "text": [
      "max_depth= 1 :0.7426127527216174\n",
      "max_depth= 2 :0.7558320373250389\n",
      "max_depth= 3 :0.7884914463452566\n",
      "max_depth= 4 :0.7869362363919129\n",
      "max_depth= 5 :0.7853810264385692\n"
     ]
    }
   ],
   "source": [
    "for depth in range(1,6):\n",
    "    model = DecisionTreeClassifier(random_state=54321, max_depth = depth)\n",
    "    model.fit(features_train, target_train)\n",
    "    predictions_valid = model.predict(features_valid)\n",
    "    print(\"max_depth=\", depth, \":\", end='')\n",
    "    print(accuracy_score(target_valid, predictions_valid))"
   ]
  },
  {
   "cell_type": "markdown",
   "metadata": {},
   "source": [
    "___Комментарии:___ Наилучшее качество модели получилось при глубине 3. Ответ на вопрос модель получила всего-то за три проверки значений признаков - это очень быстро."
   ]
  },
  {
   "cell_type": "code",
   "execution_count": 13,
   "metadata": {},
   "outputs": [
    {
     "data": {
      "image/png": "[encoded data removed]",
      "text/plain": [
       "<Figure size 864x864 with 1 Axes>"
      ]
     },
     "metadata": {
      "needs_background": "light"
     },
     "output_type": "display_data"
    },
    {
     "name": "stdout",
     "output_type": "stream",
     "text": [
      "Accuracy лучшей модели: 0.7884914463452566\n"
     ]
    }
   ],
   "source": [
    "model = DecisionTreeClassifier(random_state=54321, max_depth = 3)\n",
    "model.fit(features_train, target_train)\n",
    "plt.figure(figsize=(12,12))\n",
    "tree.plot_tree(model, fontsize=10)\n",
    "plt.show()\n",
    "predictions = model.predict(features_valid)\n",
    "result = accuracy_score(target_valid, predictions)\n",
    "\n",
    "print(\"Accuracy лучшей модели:\", result)"
   ]
  },
  {
   "cell_type": "markdown",
   "metadata": {},
   "source": [
    "___Комментарии:___ Дерево решений нам показывает как используются гиперпараметры, они уходят влево на третьей глубине."
   ]
  },
  {
   "cell_type": "markdown",
   "metadata": {},
   "source": [
    "#### Случайный лес"
   ]
  },
  {
   "cell_type": "code",
   "execution_count": 14,
   "metadata": {},
   "outputs": [
    {
     "name": "stdout",
     "output_type": "stream",
     "text": [
      "Accuracy наилучшей модели на валидационной выборке: 0.7923794712286159\n"
     ]
    }
   ],
   "source": [
    "best_model_rf = None\n",
    "best_result_rf = 0\n",
    "for est in range(1, 11):\n",
    "    model = RandomForestClassifier(random_state=54321, n_estimators=est)#обучим модель с заданным количество деревьев\n",
    "    model.fit(features_train, target_train)#обучим модель на тренировочной выборке\n",
    "    result = model.score(features_valid, target_valid)#посчитаем качество модели на валидационной выборке\n",
    "    if result>best_result_rf:\n",
    "        best_model_rf = model#сохраним наилучшую модель\n",
    "        best_result_rf = result#сохраним наилучшее значение метрики accuracy\n",
    "print(\"Accuracy наилучшей модели на валидационной выборке:\", best_result_rf)"
   ]
  },
  {
   "cell_type": "markdown",
   "metadata": {},
   "source": [
    "___Комментарии:___ Мы обучили модель случайного леса с числом деревьев от 1 до 10. Случайный лес медленнее всех: чем больше деревьев, тем неторопливее работает модель. Наилучшая модель accuracy на валидационной выборке 0,79. А качество на тестовой выборке должно получится не меньше 0,8."
   ]
  },
  {
   "cell_type": "code",
   "execution_count": null,
   "metadata": {},
   "outputs": [],
   "source": [
    "clf = RandomForestClassifier()\n",
    "parametrs = { 'n_estimators': range (10, 51, 10),\n",
    "              'max_depth': range (1,13, 2),\n",
    "              'min_samples_leaf': range (1,8),\n",
    "              'min_samples_split': range (2,10,2) }\n",
    "grid = GridSearchCV(clf, parametrs, cv=5)\n",
    "grid.fit(features_train, target_train)\n",
    "print(grid.best_params_)"
   ]
  },
  {
   "cell_type": "markdown",
   "metadata": {},
   "source": [
    "___Комментарии:___ Лучший результат по случайному лесу при глубине дерева 9, минимальное число образцов в листах 7, минимальное число образцов для сплита 8, число деревьев в лесу 10."
   ]
  },
  {
   "cell_type": "markdown",
   "metadata": {},
   "source": [
    "## Проверьте модель на тестовой выборке"
   ]
  },
  {
   "cell_type": "markdown",
   "metadata": {},
   "source": [
    "___Комментарии:___ Так как наилучшие результаты по случайному лесу accuracy 0,79, если учесть, что он медленее работает, мы выбираем модель дерево решений, здесь accuracy 0,82 при глубине 3, проверим ее на тестовой выборке."
   ]
  },
  {
   "cell_type": "code",
   "execution_count": null,
   "metadata": {},
   "outputs": [],
   "source": [
    "model = DecisionTreeClassifier(random_state=54321, max_depth=3)#создадим модель для дерева решений с гиперпараметром 4\n",
    "model.fit(features_train, target_train)#обучим модель на обучающей выборке\n",
    "predictions_test = model.predict(features_test)#предскажем модель\n",
    "result_test = accuracy_score(target_test, predictions_test)#посчитаем качество модели\n",
    "print(\"Accuracy лучшей модели:\", result_test)   "
   ]
  },
  {
   "cell_type": "markdown",
   "metadata": {},
   "source": [
    "___Вывод:___ Чтобы решить задачу классификации, которая выберит подходящий тариф на основе признаков, мы построили модель дерево решений с гиперпараметром четыре и применили ее на тестовой выборки, модель подходит. Accuracy лучшей модели здесь 0,82, то есть 8 правильных ответов из 10. "
   ]
  },
  {
   "cell_type": "code",
   "execution_count": null,
   "metadata": {},
   "outputs": [],
   "source": [
    "frames_features = [features_train, features_valid]\n",
    "result_features = pd.concat(frames_features) \n",
    "frames_target = [target_train, target_valid] \n",
    "result_target = pd.concat(frames_target) \n",
    "model = DecisionTreeClassifier(random_state=54321, max_depth=3)#создадим модель для дерева решений с гиперпараметром 4 \n",
    "model.fit(result_features, result_target)#обучим модель на обучающей выборке \n",
    "predictions_test = model.predict(features_test)#предскажем модель \n",
    "result_test = accuracy_score(target_test, predictions_test)#посчитаем качество модели \n",
    "print(\"Accuracy лучшей модели:\", result_test)"
   ]
  },
  {
   "cell_type": "markdown",
   "metadata": {},
   "source": [
    "## Проверьте модели на адекватность"
   ]
  },
  {
   "cell_type": "code",
   "execution_count": null,
   "metadata": {},
   "outputs": [],
   "source": [
    "dummy_clf = DummyClassifier(strategy=\"most_frequent\")\n",
    "dummy_clf.fit(features_test, target_test)\n",
    "DummyClassifier(strategy='most_frequent')\n",
    "dummy_clf.predict(features_test)\n",
    "\n",
    "dummy_clf.score(features_test, target_test)"
   ]
  },
  {
   "cell_type": "markdown",
   "metadata": {},
   "source": [
    "___Комментарии:___ 69% показывает точность модели."
   ]
  },
  {
   "cell_type": "markdown",
   "metadata": {},
   "source": [
    "___Выводы:___ Чтобы построить модель для задачи классификации, которая сделает выбор по подходящему тарифу, мы довели модель с максимально большим значением accuracy. Для этого мы изучили датасет, выяснили сколько строк по двум тарифам и выделили целевой признак и признаки. Разделили датасет на валидационную, обучающую и тестовую выборки, а также стратифицировали данные, чтобы они были равномерными. При исследовании модели нам показала данные что выборка по тестовой и обучающей модели качество одинаковое. Далее мы получили accuracy в дереве решений 0,82, наилучший гиперпарметр показал 0,78 при глубине три. Accuracy случайного леса составила 0,79, хотя лучший результат дерева при глубине 9. На тестовой модели дерево решений показала тоже 0,82 accuracy, значит это самая лучшая модель для решения классификации по выбору тарифа."
   ]
  }
 ],
 "metadata": {
  "ExecuteTimeLog": [
   {
    "duration": 75,
    "start_time": "2022-11-03T13:19:30.318Z"
   },
   {
    "duration": 46,
    "start_time": "2022-11-03T13:19:46.565Z"
   },
   {
    "duration": 453,
    "start_time": "2022-11-03T13:20:20.502Z"
   },
   {
    "duration": 166,
    "start_time": "2022-11-03T13:20:21.365Z"
   },
   {
    "duration": 51,
    "start_time": "2022-11-03T13:38:59.303Z"
   },
   {
    "duration": 11,
    "start_time": "2022-11-03T13:40:21.151Z"
   },
   {
    "duration": 11,
    "start_time": "2022-11-03T13:59:11.649Z"
   },
   {
    "duration": 47,
    "start_time": "2022-11-03T14:00:34.176Z"
   },
   {
    "duration": 38,
    "start_time": "2022-11-03T14:00:43.801Z"
   },
   {
    "duration": 2,
    "start_time": "2022-11-03T14:32:23.969Z"
   },
   {
    "duration": 34,
    "start_time": "2022-11-03T14:32:26.746Z"
   },
   {
    "duration": 10,
    "start_time": "2022-11-03T14:32:30.345Z"
   },
   {
    "duration": 5,
    "start_time": "2022-11-03T14:34:28.945Z"
   },
   {
    "duration": 4,
    "start_time": "2022-11-03T14:35:34.620Z"
   },
   {
    "duration": 32,
    "start_time": "2022-11-03T14:39:20.413Z"
   },
   {
    "duration": 3,
    "start_time": "2022-11-03T14:47:37.058Z"
   },
   {
    "duration": 36,
    "start_time": "2022-11-03T14:48:17.192Z"
   },
   {
    "duration": 10,
    "start_time": "2022-11-03T14:48:34.466Z"
   },
   {
    "duration": 9,
    "start_time": "2022-11-03T14:52:36.867Z"
   },
   {
    "duration": 6,
    "start_time": "2022-11-03T15:16:52.983Z"
   },
   {
    "duration": 1549,
    "start_time": "2022-11-03T15:17:00.322Z"
   },
   {
    "duration": 54,
    "start_time": "2022-11-03T15:17:01.873Z"
   },
   {
    "duration": 10,
    "start_time": "2022-11-03T15:17:01.928Z"
   },
   {
    "duration": 10,
    "start_time": "2022-11-03T15:17:01.940Z"
   },
   {
    "duration": 18,
    "start_time": "2022-11-03T15:17:01.951Z"
   },
   {
    "duration": 124,
    "start_time": "2022-11-03T15:17:01.970Z"
   },
   {
    "duration": 35,
    "start_time": "2022-11-03T15:20:36.402Z"
   },
   {
    "duration": 7,
    "start_time": "2022-11-03T15:20:40.786Z"
   },
   {
    "duration": 4,
    "start_time": "2022-11-03T15:21:00.195Z"
   },
   {
    "duration": 13,
    "start_time": "2022-11-03T15:23:13.955Z"
   },
   {
    "duration": 12,
    "start_time": "2022-11-03T15:23:27.619Z"
   },
   {
    "duration": 12,
    "start_time": "2022-11-03T15:25:44.773Z"
   },
   {
    "duration": 13,
    "start_time": "2022-11-03T15:25:59.013Z"
   },
   {
    "duration": 996,
    "start_time": "2022-11-03T15:26:04.268Z"
   },
   {
    "duration": 42,
    "start_time": "2022-11-03T15:26:05.266Z"
   },
   {
    "duration": 10,
    "start_time": "2022-11-03T15:26:05.310Z"
   },
   {
    "duration": 48,
    "start_time": "2022-11-03T15:26:05.322Z"
   },
   {
    "duration": 137,
    "start_time": "2022-11-03T15:26:05.372Z"
   },
   {
    "duration": 0,
    "start_time": "2022-11-03T15:26:05.510Z"
   },
   {
    "duration": 7,
    "start_time": "2022-11-03T15:26:33.173Z"
   },
   {
    "duration": 21,
    "start_time": "2022-11-03T15:28:17.462Z"
   },
   {
    "duration": 18,
    "start_time": "2022-11-03T15:29:06.440Z"
   },
   {
    "duration": 19,
    "start_time": "2022-11-03T15:37:59.107Z"
   },
   {
    "duration": 18,
    "start_time": "2022-11-03T15:38:10.043Z"
   },
   {
    "duration": 12,
    "start_time": "2022-11-03T15:38:28.956Z"
   },
   {
    "duration": 3,
    "start_time": "2022-11-03T15:38:55.532Z"
   },
   {
    "duration": 760,
    "start_time": "2022-11-03T16:17:49.350Z"
   },
   {
    "duration": 1046,
    "start_time": "2022-11-03T16:18:00.790Z"
   },
   {
    "duration": 43,
    "start_time": "2022-11-03T16:18:01.838Z"
   },
   {
    "duration": 11,
    "start_time": "2022-11-03T16:18:01.885Z"
   },
   {
    "duration": 21,
    "start_time": "2022-11-03T16:18:01.898Z"
   },
   {
    "duration": 847,
    "start_time": "2022-11-03T16:18:01.921Z"
   },
   {
    "duration": 5,
    "start_time": "2022-11-03T16:18:18.962Z"
   },
   {
    "duration": 5,
    "start_time": "2022-11-03T17:18:25.782Z"
   },
   {
    "duration": 70,
    "start_time": "2022-11-03T17:21:53.394Z"
   },
   {
    "duration": 1111,
    "start_time": "2022-11-03T17:21:58.505Z"
   },
   {
    "duration": 44,
    "start_time": "2022-11-03T17:21:59.618Z"
   },
   {
    "duration": 10,
    "start_time": "2022-11-03T17:21:59.663Z"
   },
   {
    "duration": 34,
    "start_time": "2022-11-03T17:21:59.675Z"
   },
   {
    "duration": 51,
    "start_time": "2022-11-03T17:21:59.710Z"
   },
   {
    "duration": 26,
    "start_time": "2022-11-03T17:23:46.525Z"
   },
   {
    "duration": 47,
    "start_time": "2022-11-04T06:10:13.275Z"
   },
   {
    "duration": 6,
    "start_time": "2022-11-04T06:11:28.521Z"
   },
   {
    "duration": 1234,
    "start_time": "2022-11-04T06:11:40.223Z"
   },
   {
    "duration": 144,
    "start_time": "2022-11-04T06:11:41.459Z"
   },
   {
    "duration": 15,
    "start_time": "2022-11-04T06:11:41.605Z"
   },
   {
    "duration": 23,
    "start_time": "2022-11-04T06:11:41.623Z"
   },
   {
    "duration": 29,
    "start_time": "2022-11-04T06:11:41.650Z"
   },
   {
    "duration": 36,
    "start_time": "2022-11-04T06:11:41.681Z"
   },
   {
    "duration": 135,
    "start_time": "2022-11-04T06:11:41.719Z"
   },
   {
    "duration": 19,
    "start_time": "2022-11-04T06:19:05.384Z"
   },
   {
    "duration": 1082,
    "start_time": "2022-11-04T06:26:31.507Z"
   },
   {
    "duration": 44,
    "start_time": "2022-11-04T06:26:32.591Z"
   },
   {
    "duration": 11,
    "start_time": "2022-11-04T06:26:32.637Z"
   },
   {
    "duration": 6,
    "start_time": "2022-11-04T06:26:32.649Z"
   },
   {
    "duration": 6,
    "start_time": "2022-11-04T06:26:32.657Z"
   },
   {
    "duration": 19,
    "start_time": "2022-11-04T06:26:32.665Z"
   },
   {
    "duration": 105,
    "start_time": "2022-11-04T06:37:32.310Z"
   },
   {
    "duration": 51,
    "start_time": "2022-11-04T06:38:47.186Z"
   },
   {
    "duration": 9,
    "start_time": "2022-11-04T06:41:48.098Z"
   },
   {
    "duration": 34,
    "start_time": "2022-11-04T06:42:00.051Z"
   },
   {
    "duration": 32,
    "start_time": "2022-11-04T06:44:49.172Z"
   },
   {
    "duration": 33,
    "start_time": "2022-11-04T06:45:10.100Z"
   },
   {
    "duration": 32,
    "start_time": "2022-11-04T06:45:29.338Z"
   },
   {
    "duration": 32,
    "start_time": "2022-11-04T07:03:18.749Z"
   },
   {
    "duration": 7,
    "start_time": "2022-11-04T07:11:40.553Z"
   },
   {
    "duration": 36,
    "start_time": "2022-11-04T07:14:34.338Z"
   },
   {
    "duration": 6,
    "start_time": "2022-11-04T07:16:17.955Z"
   },
   {
    "duration": 5,
    "start_time": "2022-11-04T07:45:15.896Z"
   },
   {
    "duration": 56,
    "start_time": "2022-11-04T07:50:54.437Z"
   },
   {
    "duration": 1083,
    "start_time": "2022-11-04T07:51:42.613Z"
   },
   {
    "duration": 41,
    "start_time": "2022-11-04T07:51:43.698Z"
   },
   {
    "duration": 11,
    "start_time": "2022-11-04T07:51:43.740Z"
   },
   {
    "duration": 8,
    "start_time": "2022-11-04T07:51:43.752Z"
   },
   {
    "duration": 167,
    "start_time": "2022-11-04T07:51:43.762Z"
   },
   {
    "duration": 0,
    "start_time": "2022-11-04T07:51:43.930Z"
   },
   {
    "duration": 8,
    "start_time": "2022-11-04T07:52:24.934Z"
   },
   {
    "duration": 6,
    "start_time": "2022-11-04T07:52:37.862Z"
   },
   {
    "duration": 10,
    "start_time": "2022-11-04T07:56:46.281Z"
   },
   {
    "duration": 3,
    "start_time": "2022-11-04T07:57:21.817Z"
   },
   {
    "duration": 3,
    "start_time": "2022-11-04T09:42:53.220Z"
   },
   {
    "duration": 991,
    "start_time": "2022-11-04T09:43:34.271Z"
   },
   {
    "duration": 41,
    "start_time": "2022-11-04T09:43:35.264Z"
   },
   {
    "duration": 10,
    "start_time": "2022-11-04T09:43:35.307Z"
   },
   {
    "duration": 5,
    "start_time": "2022-11-04T09:43:35.318Z"
   },
   {
    "duration": 9,
    "start_time": "2022-11-04T09:43:35.324Z"
   },
   {
    "duration": 7,
    "start_time": "2022-11-04T09:43:35.334Z"
   },
   {
    "duration": 4,
    "start_time": "2022-11-04T09:51:45.097Z"
   },
   {
    "duration": 986,
    "start_time": "2022-11-04T09:51:50.188Z"
   },
   {
    "duration": 42,
    "start_time": "2022-11-04T09:51:51.176Z"
   },
   {
    "duration": 11,
    "start_time": "2022-11-04T09:51:51.219Z"
   },
   {
    "duration": 8,
    "start_time": "2022-11-04T09:51:51.231Z"
   },
   {
    "duration": 4,
    "start_time": "2022-11-04T09:51:51.242Z"
   },
   {
    "duration": 7,
    "start_time": "2022-11-04T09:51:51.247Z"
   },
   {
    "duration": 9,
    "start_time": "2022-11-04T09:51:51.255Z"
   },
   {
    "duration": 128,
    "start_time": "2022-11-04T09:51:51.265Z"
   },
   {
    "duration": 26,
    "start_time": "2022-11-04T10:00:48.334Z"
   },
   {
    "duration": 33,
    "start_time": "2022-11-04T10:04:45.705Z"
   },
   {
    "duration": 24,
    "start_time": "2022-11-04T10:07:14.075Z"
   },
   {
    "duration": 11,
    "start_time": "2022-11-04T10:37:31.074Z"
   },
   {
    "duration": 681,
    "start_time": "2022-11-04T10:38:04.011Z"
   },
   {
    "duration": 789,
    "start_time": "2022-11-04T10:39:11.597Z"
   },
   {
    "duration": 735,
    "start_time": "2022-11-04T10:39:26.956Z"
   },
   {
    "duration": 658,
    "start_time": "2022-11-04T10:42:41.935Z"
   },
   {
    "duration": 697,
    "start_time": "2022-11-04T10:44:36.000Z"
   },
   {
    "duration": 735,
    "start_time": "2022-11-04T10:45:46.239Z"
   },
   {
    "duration": 13,
    "start_time": "2022-11-04T11:04:46.703Z"
   },
   {
    "duration": 37,
    "start_time": "2022-11-04T11:06:37.770Z"
   },
   {
    "duration": 34,
    "start_time": "2022-11-04T11:08:08.837Z"
   },
   {
    "duration": 20,
    "start_time": "2022-11-04T11:08:15.596Z"
   },
   {
    "duration": 15,
    "start_time": "2022-11-04T11:08:19.755Z"
   },
   {
    "duration": 50,
    "start_time": "2022-11-04T11:08:24.218Z"
   },
   {
    "duration": 35,
    "start_time": "2022-11-04T11:08:33.163Z"
   },
   {
    "duration": 49,
    "start_time": "2022-11-04T11:08:39.883Z"
   },
   {
    "duration": 10,
    "start_time": "2022-11-04T14:13:43.569Z"
   },
   {
    "duration": 9,
    "start_time": "2022-11-04T14:29:04.035Z"
   },
   {
    "duration": 1093,
    "start_time": "2022-11-04T14:29:39.304Z"
   },
   {
    "duration": 45,
    "start_time": "2022-11-04T14:29:40.398Z"
   },
   {
    "duration": 10,
    "start_time": "2022-11-04T14:29:40.445Z"
   },
   {
    "duration": 7,
    "start_time": "2022-11-04T14:29:40.457Z"
   },
   {
    "duration": 8,
    "start_time": "2022-11-04T14:29:40.466Z"
   },
   {
    "duration": 7,
    "start_time": "2022-11-04T14:29:40.475Z"
   },
   {
    "duration": 10,
    "start_time": "2022-11-04T14:29:40.483Z"
   },
   {
    "duration": 42,
    "start_time": "2022-11-04T14:29:40.494Z"
   },
   {
    "duration": 42,
    "start_time": "2022-11-04T14:29:40.538Z"
   },
   {
    "duration": 126,
    "start_time": "2022-11-04T14:29:40.582Z"
   },
   {
    "duration": 11,
    "start_time": "2022-11-04T14:30:13.702Z"
   },
   {
    "duration": 11,
    "start_time": "2022-11-04T14:30:19.049Z"
   },
   {
    "duration": 9,
    "start_time": "2022-11-04T14:31:55.352Z"
   },
   {
    "duration": 18,
    "start_time": "2022-11-04T14:45:04.630Z"
   },
   {
    "duration": 39,
    "start_time": "2022-11-04T14:46:18.293Z"
   },
   {
    "duration": 9,
    "start_time": "2022-11-04T14:46:23.870Z"
   },
   {
    "duration": 10,
    "start_time": "2022-11-04T14:48:55.503Z"
   },
   {
    "duration": 36,
    "start_time": "2022-11-04T14:52:19.083Z"
   },
   {
    "duration": 36,
    "start_time": "2022-11-04T14:56:44.460Z"
   },
   {
    "duration": 10,
    "start_time": "2022-11-04T15:11:14.177Z"
   },
   {
    "duration": 1079,
    "start_time": "2022-11-04T15:11:19.290Z"
   },
   {
    "duration": 43,
    "start_time": "2022-11-04T15:11:20.371Z"
   },
   {
    "duration": 10,
    "start_time": "2022-11-04T15:11:20.416Z"
   },
   {
    "duration": 39,
    "start_time": "2022-11-04T15:11:20.428Z"
   },
   {
    "duration": 34,
    "start_time": "2022-11-04T15:11:20.469Z"
   },
   {
    "duration": 37,
    "start_time": "2022-11-04T15:11:20.504Z"
   },
   {
    "duration": 31,
    "start_time": "2022-11-04T15:11:20.542Z"
   },
   {
    "duration": 75,
    "start_time": "2022-11-04T15:11:20.575Z"
   },
   {
    "duration": 43,
    "start_time": "2022-11-04T15:11:20.652Z"
   },
   {
    "duration": 44,
    "start_time": "2022-11-04T15:11:20.698Z"
   },
   {
    "duration": 49,
    "start_time": "2022-11-04T15:11:20.743Z"
   },
   {
    "duration": 248,
    "start_time": "2022-11-04T15:16:38.481Z"
   },
   {
    "duration": 248,
    "start_time": "2022-11-04T15:19:28.366Z"
   },
   {
    "duration": 91,
    "start_time": "2022-11-04T15:24:52.343Z"
   },
   {
    "duration": 4,
    "start_time": "2022-11-04T15:25:20.519Z"
   },
   {
    "duration": 1027,
    "start_time": "2022-11-04T15:25:25.570Z"
   },
   {
    "duration": 40,
    "start_time": "2022-11-04T15:25:26.598Z"
   },
   {
    "duration": 11,
    "start_time": "2022-11-04T15:25:26.640Z"
   },
   {
    "duration": 12,
    "start_time": "2022-11-04T15:25:26.653Z"
   },
   {
    "duration": 8,
    "start_time": "2022-11-04T15:25:26.666Z"
   },
   {
    "duration": 10,
    "start_time": "2022-11-04T15:25:26.675Z"
   },
   {
    "duration": 7,
    "start_time": "2022-11-04T15:25:26.687Z"
   },
   {
    "duration": 48,
    "start_time": "2022-11-04T15:25:26.696Z"
   },
   {
    "duration": 39,
    "start_time": "2022-11-04T15:25:26.746Z"
   },
   {
    "duration": 53,
    "start_time": "2022-11-04T15:25:26.787Z"
   },
   {
    "duration": 261,
    "start_time": "2022-11-04T15:25:26.842Z"
   },
   {
    "duration": 45,
    "start_time": "2022-11-04T15:25:27.104Z"
   },
   {
    "duration": 144,
    "start_time": "2022-11-04T15:27:28.978Z"
   },
   {
    "duration": 9,
    "start_time": "2022-11-04T16:04:48.621Z"
   },
   {
    "duration": 3,
    "start_time": "2022-11-04T16:07:20.966Z"
   },
   {
    "duration": 1052,
    "start_time": "2022-11-04T16:07:25.404Z"
   },
   {
    "duration": 41,
    "start_time": "2022-11-04T16:07:26.458Z"
   },
   {
    "duration": 9,
    "start_time": "2022-11-04T16:07:26.501Z"
   },
   {
    "duration": 24,
    "start_time": "2022-11-04T16:07:26.512Z"
   },
   {
    "duration": 9,
    "start_time": "2022-11-04T16:07:26.538Z"
   },
   {
    "duration": 15,
    "start_time": "2022-11-04T16:07:26.548Z"
   },
   {
    "duration": 10,
    "start_time": "2022-11-04T16:07:26.564Z"
   },
   {
    "duration": 34,
    "start_time": "2022-11-04T16:07:26.576Z"
   },
   {
    "duration": 36,
    "start_time": "2022-11-04T16:07:26.611Z"
   },
   {
    "duration": 36,
    "start_time": "2022-11-04T16:07:26.649Z"
   },
   {
    "duration": 263,
    "start_time": "2022-11-04T16:07:26.687Z"
   },
   {
    "duration": 100,
    "start_time": "2022-11-04T16:07:26.951Z"
   },
   {
    "duration": 9,
    "start_time": "2022-11-04T16:07:42.594Z"
   },
   {
    "duration": 29,
    "start_time": "2022-11-04T16:08:15.635Z"
   },
   {
    "duration": 13,
    "start_time": "2022-11-04T16:09:52.483Z"
   },
   {
    "duration": 27,
    "start_time": "2022-11-04T16:13:51.933Z"
   },
   {
    "duration": 26,
    "start_time": "2022-11-04T16:14:10.010Z"
   },
   {
    "duration": 51,
    "start_time": "2022-11-04T16:28:02.336Z"
   },
   {
    "duration": 26,
    "start_time": "2022-11-04T16:28:12.865Z"
   },
   {
    "duration": 27,
    "start_time": "2022-11-04T17:01:57.626Z"
   },
   {
    "duration": 853,
    "start_time": "2022-11-04T17:04:12.984Z"
   },
   {
    "duration": 760,
    "start_time": "2022-11-04T17:08:13.220Z"
   },
   {
    "duration": 749,
    "start_time": "2022-11-04T17:09:22.414Z"
   },
   {
    "duration": 48,
    "start_time": "2022-11-04T17:31:54.058Z"
   },
   {
    "duration": 3,
    "start_time": "2022-11-04T17:37:55.675Z"
   },
   {
    "duration": 10,
    "start_time": "2022-11-04T17:38:02.825Z"
   },
   {
    "duration": 1068,
    "start_time": "2022-11-04T17:39:25.406Z"
   },
   {
    "duration": 41,
    "start_time": "2022-11-04T17:39:26.476Z"
   },
   {
    "duration": 9,
    "start_time": "2022-11-04T17:39:26.519Z"
   },
   {
    "duration": 8,
    "start_time": "2022-11-04T17:39:26.530Z"
   },
   {
    "duration": 6,
    "start_time": "2022-11-04T17:39:26.540Z"
   },
   {
    "duration": 11,
    "start_time": "2022-11-04T17:39:26.547Z"
   },
   {
    "duration": 9,
    "start_time": "2022-11-04T17:39:26.560Z"
   },
   {
    "duration": 24,
    "start_time": "2022-11-04T17:39:26.571Z"
   },
   {
    "duration": 51,
    "start_time": "2022-11-04T17:39:26.596Z"
   },
   {
    "duration": 37,
    "start_time": "2022-11-04T17:39:26.649Z"
   },
   {
    "duration": 269,
    "start_time": "2022-11-04T17:39:26.688Z"
   },
   {
    "duration": 26,
    "start_time": "2022-11-04T17:39:26.958Z"
   },
   {
    "duration": 4151,
    "start_time": "2022-11-04T17:39:26.986Z"
   },
   {
    "duration": 4,
    "start_time": "2022-11-04T17:42:22.588Z"
   },
   {
    "duration": 8,
    "start_time": "2022-11-04T17:42:57.141Z"
   },
   {
    "duration": 94,
    "start_time": "2022-11-04T17:49:21.739Z"
   },
   {
    "duration": 46,
    "start_time": "2022-11-05T04:34:22.312Z"
   },
   {
    "duration": 1067,
    "start_time": "2022-11-05T04:34:32.893Z"
   },
   {
    "duration": 134,
    "start_time": "2022-11-05T04:34:33.962Z"
   },
   {
    "duration": 11,
    "start_time": "2022-11-05T04:34:34.097Z"
   },
   {
    "duration": 8,
    "start_time": "2022-11-05T04:34:34.109Z"
   },
   {
    "duration": 6,
    "start_time": "2022-11-05T04:34:34.119Z"
   },
   {
    "duration": 9,
    "start_time": "2022-11-05T04:34:34.126Z"
   },
   {
    "duration": 10,
    "start_time": "2022-11-05T04:34:34.137Z"
   },
   {
    "duration": 39,
    "start_time": "2022-11-05T04:34:34.149Z"
   },
   {
    "duration": 36,
    "start_time": "2022-11-05T04:34:34.189Z"
   },
   {
    "duration": 56,
    "start_time": "2022-11-05T04:34:34.226Z"
   },
   {
    "duration": 83,
    "start_time": "2022-11-05T04:34:34.284Z"
   },
   {
    "duration": 40,
    "start_time": "2022-11-05T04:34:51.144Z"
   },
   {
    "duration": 66,
    "start_time": "2022-11-05T04:34:56.168Z"
   },
   {
    "duration": 115,
    "start_time": "2022-11-05T04:35:02.472Z"
   },
   {
    "duration": 266,
    "start_time": "2022-11-05T04:35:07.719Z"
   },
   {
    "duration": 33,
    "start_time": "2022-11-05T04:41:40.572Z"
   },
   {
    "duration": 64,
    "start_time": "2022-11-05T04:41:46.635Z"
   },
   {
    "duration": 27,
    "start_time": "2022-11-05T04:41:56.796Z"
   },
   {
    "duration": 32,
    "start_time": "2022-11-05T04:42:04.011Z"
   },
   {
    "duration": 47,
    "start_time": "2022-11-05T04:56:20.787Z"
   },
   {
    "duration": 41,
    "start_time": "2022-11-05T04:57:04.547Z"
   },
   {
    "duration": 25,
    "start_time": "2022-11-05T05:25:31.913Z"
   },
   {
    "duration": 33,
    "start_time": "2022-11-05T05:26:01.202Z"
   },
   {
    "duration": 37,
    "start_time": "2022-11-05T05:26:20.465Z"
   },
   {
    "duration": 16,
    "start_time": "2022-11-05T06:05:01.706Z"
   },
   {
    "duration": 15,
    "start_time": "2022-11-05T06:09:08.909Z"
   },
   {
    "duration": 21,
    "start_time": "2022-11-05T06:10:23.863Z"
   },
   {
    "duration": 327,
    "start_time": "2022-11-05T06:12:13.880Z"
   },
   {
    "duration": 26,
    "start_time": "2022-11-05T06:12:30.329Z"
   },
   {
    "duration": 24,
    "start_time": "2022-11-05T06:21:16.787Z"
   },
   {
    "duration": 24,
    "start_time": "2022-11-05T06:31:04.561Z"
   },
   {
    "duration": 22,
    "start_time": "2022-11-05T06:36:36.708Z"
   },
   {
    "duration": 12,
    "start_time": "2022-11-05T06:41:37.862Z"
   },
   {
    "duration": 11,
    "start_time": "2022-11-05T06:42:42.424Z"
   },
   {
    "duration": 56,
    "start_time": "2022-11-06T13:25:48.471Z"
   },
   {
    "duration": 7,
    "start_time": "2022-11-06T13:25:51.934Z"
   },
   {
    "duration": 1068,
    "start_time": "2022-11-06T13:25:59.130Z"
   },
   {
    "duration": 113,
    "start_time": "2022-11-06T13:26:00.200Z"
   },
   {
    "duration": 12,
    "start_time": "2022-11-06T13:26:00.315Z"
   },
   {
    "duration": 26,
    "start_time": "2022-11-06T13:26:00.329Z"
   },
   {
    "duration": 24,
    "start_time": "2022-11-06T13:26:00.357Z"
   },
   {
    "duration": 19,
    "start_time": "2022-11-06T13:26:00.382Z"
   },
   {
    "duration": 31,
    "start_time": "2022-11-06T13:26:00.403Z"
   },
   {
    "duration": 91,
    "start_time": "2022-11-06T13:26:00.437Z"
   },
   {
    "duration": 42,
    "start_time": "2022-11-06T13:26:00.530Z"
   },
   {
    "duration": 61,
    "start_time": "2022-11-06T13:26:00.575Z"
   },
   {
    "duration": 315,
    "start_time": "2022-11-06T13:26:00.638Z"
   },
   {
    "duration": 10,
    "start_time": "2022-11-06T13:26:00.955Z"
   },
   {
    "duration": 988,
    "start_time": "2022-11-06T13:33:19.971Z"
   },
   {
    "duration": 43,
    "start_time": "2022-11-06T13:33:20.962Z"
   },
   {
    "duration": 9,
    "start_time": "2022-11-06T13:33:21.007Z"
   },
   {
    "duration": 11,
    "start_time": "2022-11-06T13:33:21.018Z"
   },
   {
    "duration": 5,
    "start_time": "2022-11-06T13:33:21.031Z"
   },
   {
    "duration": 10,
    "start_time": "2022-11-06T13:33:21.038Z"
   },
   {
    "duration": 17,
    "start_time": "2022-11-06T13:33:21.049Z"
   },
   {
    "duration": 37,
    "start_time": "2022-11-06T13:33:21.067Z"
   },
   {
    "duration": 35,
    "start_time": "2022-11-06T13:33:21.105Z"
   },
   {
    "duration": 30,
    "start_time": "2022-11-06T13:33:21.142Z"
   },
   {
    "duration": 266,
    "start_time": "2022-11-06T13:33:21.173Z"
   },
   {
    "duration": 9,
    "start_time": "2022-11-06T13:33:21.441Z"
   },
   {
    "duration": 1545,
    "start_time": "2022-11-06T13:48:07.819Z"
   },
   {
    "duration": 135,
    "start_time": "2022-11-06T13:48:09.366Z"
   },
   {
    "duration": 12,
    "start_time": "2022-11-06T13:48:09.502Z"
   },
   {
    "duration": 5,
    "start_time": "2022-11-06T13:48:09.516Z"
   },
   {
    "duration": 5,
    "start_time": "2022-11-06T13:48:09.522Z"
   },
   {
    "duration": 8,
    "start_time": "2022-11-06T13:48:09.528Z"
   },
   {
    "duration": 7,
    "start_time": "2022-11-06T13:48:09.537Z"
   },
   {
    "duration": 27,
    "start_time": "2022-11-06T13:48:09.545Z"
   },
   {
    "duration": 59,
    "start_time": "2022-11-06T13:48:09.573Z"
   },
   {
    "duration": 28,
    "start_time": "2022-11-06T13:48:09.634Z"
   },
   {
    "duration": 261,
    "start_time": "2022-11-06T13:48:09.663Z"
   },
   {
    "duration": 10,
    "start_time": "2022-11-06T13:48:09.926Z"
   },
   {
    "duration": 46,
    "start_time": "2022-11-08T08:14:29.694Z"
   },
   {
    "duration": 1096,
    "start_time": "2022-11-08T08:14:42.333Z"
   },
   {
    "duration": 74,
    "start_time": "2022-11-08T08:14:43.431Z"
   },
   {
    "duration": 11,
    "start_time": "2022-11-08T08:14:43.506Z"
   },
   {
    "duration": 10,
    "start_time": "2022-11-08T08:14:43.519Z"
   },
   {
    "duration": 7,
    "start_time": "2022-11-08T08:14:43.530Z"
   },
   {
    "duration": 106,
    "start_time": "2022-11-08T08:14:43.539Z"
   },
   {
    "duration": 0,
    "start_time": "2022-11-08T08:14:43.647Z"
   },
   {
    "duration": 0,
    "start_time": "2022-11-08T08:14:43.648Z"
   },
   {
    "duration": 0,
    "start_time": "2022-11-08T08:14:43.649Z"
   },
   {
    "duration": 0,
    "start_time": "2022-11-08T08:14:43.650Z"
   },
   {
    "duration": 0,
    "start_time": "2022-11-08T08:14:43.651Z"
   },
   {
    "duration": 0,
    "start_time": "2022-11-08T08:14:43.652Z"
   },
   {
    "duration": 8,
    "start_time": "2022-11-08T08:15:09.178Z"
   },
   {
    "duration": 9,
    "start_time": "2022-11-08T08:26:45.104Z"
   },
   {
    "duration": 8,
    "start_time": "2022-11-08T08:26:55.312Z"
   },
   {
    "duration": 7,
    "start_time": "2022-11-08T08:28:06.209Z"
   },
   {
    "duration": 21,
    "start_time": "2022-11-08T08:32:04.018Z"
   },
   {
    "duration": 18,
    "start_time": "2022-11-08T08:33:02.501Z"
   },
   {
    "duration": 16,
    "start_time": "2022-11-08T08:42:05.144Z"
   },
   {
    "duration": 11,
    "start_time": "2022-11-08T08:42:17.608Z"
   },
   {
    "duration": 15,
    "start_time": "2022-11-08T08:42:24.376Z"
   },
   {
    "duration": 14,
    "start_time": "2022-11-08T08:42:55.720Z"
   },
   {
    "duration": 1216,
    "start_time": "2022-11-08T08:43:03.797Z"
   },
   {
    "duration": 39,
    "start_time": "2022-11-08T08:43:05.016Z"
   },
   {
    "duration": 12,
    "start_time": "2022-11-08T08:43:05.057Z"
   },
   {
    "duration": 14,
    "start_time": "2022-11-08T08:43:05.071Z"
   },
   {
    "duration": 19,
    "start_time": "2022-11-08T08:43:05.087Z"
   },
   {
    "duration": 115,
    "start_time": "2022-11-08T08:43:05.108Z"
   },
   {
    "duration": 0,
    "start_time": "2022-11-08T08:43:05.225Z"
   },
   {
    "duration": 0,
    "start_time": "2022-11-08T08:43:05.227Z"
   },
   {
    "duration": 0,
    "start_time": "2022-11-08T08:43:05.229Z"
   },
   {
    "duration": 0,
    "start_time": "2022-11-08T08:43:05.230Z"
   },
   {
    "duration": 0,
    "start_time": "2022-11-08T08:43:05.231Z"
   },
   {
    "duration": 0,
    "start_time": "2022-11-08T08:43:05.232Z"
   },
   {
    "duration": 10,
    "start_time": "2022-11-08T08:43:52.898Z"
   },
   {
    "duration": 10,
    "start_time": "2022-11-08T08:44:16.730Z"
   },
   {
    "duration": 4,
    "start_time": "2022-11-08T08:49:16.777Z"
   },
   {
    "duration": 1090,
    "start_time": "2022-11-08T08:49:20.932Z"
   },
   {
    "duration": 40,
    "start_time": "2022-11-08T08:49:22.024Z"
   },
   {
    "duration": 11,
    "start_time": "2022-11-08T08:49:22.066Z"
   },
   {
    "duration": 8,
    "start_time": "2022-11-08T08:49:22.079Z"
   },
   {
    "duration": 16,
    "start_time": "2022-11-08T08:49:22.089Z"
   },
   {
    "duration": 124,
    "start_time": "2022-11-08T08:49:22.107Z"
   },
   {
    "duration": 0,
    "start_time": "2022-11-08T08:49:22.232Z"
   },
   {
    "duration": 0,
    "start_time": "2022-11-08T08:49:22.233Z"
   },
   {
    "duration": 0,
    "start_time": "2022-11-08T08:49:22.235Z"
   },
   {
    "duration": 0,
    "start_time": "2022-11-08T08:49:22.235Z"
   },
   {
    "duration": 0,
    "start_time": "2022-11-08T08:49:22.237Z"
   },
   {
    "duration": 0,
    "start_time": "2022-11-08T08:49:22.238Z"
   },
   {
    "duration": 4,
    "start_time": "2022-11-08T08:50:16.760Z"
   },
   {
    "duration": 4,
    "start_time": "2022-11-08T08:50:29.448Z"
   },
   {
    "duration": 9,
    "start_time": "2022-11-08T08:50:36.824Z"
   },
   {
    "duration": 12,
    "start_time": "2022-11-08T09:07:33.985Z"
   },
   {
    "duration": 3,
    "start_time": "2022-11-08T09:07:43.362Z"
   },
   {
    "duration": 10,
    "start_time": "2022-11-08T09:07:46.338Z"
   },
   {
    "duration": 11,
    "start_time": "2022-11-08T09:10:51.315Z"
   },
   {
    "duration": 8,
    "start_time": "2022-11-08T09:11:00.052Z"
   },
   {
    "duration": 13,
    "start_time": "2022-11-08T09:11:02.548Z"
   },
   {
    "duration": 11,
    "start_time": "2022-11-08T09:16:48.262Z"
   },
   {
    "duration": 20,
    "start_time": "2022-11-08T09:24:05.803Z"
   },
   {
    "duration": 18,
    "start_time": "2022-11-08T09:24:24.730Z"
   },
   {
    "duration": 11,
    "start_time": "2022-11-08T09:26:58.124Z"
   },
   {
    "duration": 25,
    "start_time": "2022-11-08T09:27:00.988Z"
   },
   {
    "duration": 9,
    "start_time": "2022-11-08T09:27:45.406Z"
   },
   {
    "duration": 14,
    "start_time": "2022-11-08T09:28:11.806Z"
   },
   {
    "duration": 18,
    "start_time": "2022-11-08T09:29:40.862Z"
   },
   {
    "duration": 19,
    "start_time": "2022-11-08T09:29:53.374Z"
   },
   {
    "duration": 14,
    "start_time": "2022-11-08T09:30:32.270Z"
   },
   {
    "duration": 11,
    "start_time": "2022-11-08T09:32:19.679Z"
   },
   {
    "duration": 9,
    "start_time": "2022-11-08T09:36:10.577Z"
   },
   {
    "duration": 17,
    "start_time": "2022-11-08T09:40:25.219Z"
   },
   {
    "duration": 14,
    "start_time": "2022-11-08T09:42:28.085Z"
   },
   {
    "duration": 4,
    "start_time": "2022-11-08T09:49:18.040Z"
   },
   {
    "duration": 13,
    "start_time": "2022-11-08T09:51:23.696Z"
   },
   {
    "duration": 12,
    "start_time": "2022-11-08T09:51:59.809Z"
   },
   {
    "duration": 5,
    "start_time": "2022-11-08T09:52:16.698Z"
   },
   {
    "duration": 9,
    "start_time": "2022-11-08T09:52:34.699Z"
   },
   {
    "duration": 75,
    "start_time": "2022-11-08T09:52:44.043Z"
   },
   {
    "duration": 5,
    "start_time": "2022-11-08T09:52:49.930Z"
   },
   {
    "duration": 27,
    "start_time": "2022-11-08T09:55:57.629Z"
   },
   {
    "duration": 35,
    "start_time": "2022-11-08T09:56:01.852Z"
   },
   {
    "duration": 30,
    "start_time": "2022-11-08T09:56:05.355Z"
   },
   {
    "duration": 40,
    "start_time": "2022-11-08T10:01:02.479Z"
   },
   {
    "duration": 38,
    "start_time": "2022-11-08T10:02:51.840Z"
   },
   {
    "duration": 230,
    "start_time": "2022-11-08T10:03:19.471Z"
   },
   {
    "duration": 37,
    "start_time": "2022-11-08T10:04:59.041Z"
   },
   {
    "duration": 9,
    "start_time": "2022-11-08T15:47:39.851Z"
   },
   {
    "duration": 47,
    "start_time": "2022-11-08T16:22:14.766Z"
   },
   {
    "duration": 40,
    "start_time": "2022-11-08T16:22:46.207Z"
   },
   {
    "duration": 16,
    "start_time": "2022-11-08T16:23:10.015Z"
   },
   {
    "duration": 15,
    "start_time": "2022-11-08T16:23:25.855Z"
   },
   {
    "duration": 36,
    "start_time": "2022-11-08T18:00:21.564Z"
   },
   {
    "duration": 9,
    "start_time": "2022-11-08T18:06:51.619Z"
   },
   {
    "duration": 1269,
    "start_time": "2022-11-08T18:07:11.696Z"
   },
   {
    "duration": 45,
    "start_time": "2022-11-08T18:07:12.967Z"
   },
   {
    "duration": 12,
    "start_time": "2022-11-08T18:07:13.014Z"
   },
   {
    "duration": 5,
    "start_time": "2022-11-08T18:07:13.029Z"
   },
   {
    "duration": 9,
    "start_time": "2022-11-08T18:07:13.036Z"
   },
   {
    "duration": 13,
    "start_time": "2022-11-08T18:07:13.047Z"
   },
   {
    "duration": 9,
    "start_time": "2022-11-08T18:07:13.062Z"
   },
   {
    "duration": 55,
    "start_time": "2022-11-08T18:07:13.073Z"
   },
   {
    "duration": 39,
    "start_time": "2022-11-08T18:07:13.130Z"
   },
   {
    "duration": 71,
    "start_time": "2022-11-08T18:07:13.173Z"
   },
   {
    "duration": 62,
    "start_time": "2022-11-08T18:07:13.246Z"
   },
   {
    "duration": 138,
    "start_time": "2022-11-08T18:07:13.310Z"
   },
   {
    "duration": 0,
    "start_time": "2022-11-08T18:07:13.450Z"
   },
   {
    "duration": 0,
    "start_time": "2022-11-08T18:07:13.451Z"
   },
   {
    "duration": 8,
    "start_time": "2022-11-08T18:07:30.088Z"
   },
   {
    "duration": 8,
    "start_time": "2022-11-08T18:26:35.680Z"
   },
   {
    "duration": 1123,
    "start_time": "2022-11-08T18:26:41.033Z"
   },
   {
    "duration": 40,
    "start_time": "2022-11-08T18:26:42.159Z"
   },
   {
    "duration": 10,
    "start_time": "2022-11-08T18:26:42.201Z"
   },
   {
    "duration": 5,
    "start_time": "2022-11-08T18:26:42.213Z"
   },
   {
    "duration": 7,
    "start_time": "2022-11-08T18:26:42.219Z"
   },
   {
    "duration": 10,
    "start_time": "2022-11-08T18:26:42.227Z"
   },
   {
    "duration": 4,
    "start_time": "2022-11-08T18:26:42.239Z"
   },
   {
    "duration": 56,
    "start_time": "2022-11-08T18:26:42.245Z"
   },
   {
    "duration": 36,
    "start_time": "2022-11-08T18:26:42.302Z"
   },
   {
    "duration": 28,
    "start_time": "2022-11-08T18:26:42.340Z"
   },
   {
    "duration": 55,
    "start_time": "2022-11-08T18:26:42.370Z"
   },
   {
    "duration": 104,
    "start_time": "2022-11-08T18:26:42.427Z"
   },
   {
    "duration": 0,
    "start_time": "2022-11-08T18:26:42.533Z"
   },
   {
    "duration": 0,
    "start_time": "2022-11-08T18:26:42.535Z"
   },
   {
    "duration": 1862,
    "start_time": "2022-11-08T18:40:31.368Z"
   },
   {
    "duration": 37,
    "start_time": "2022-11-08T18:40:33.233Z"
   },
   {
    "duration": 14,
    "start_time": "2022-11-08T18:40:33.272Z"
   },
   {
    "duration": 5,
    "start_time": "2022-11-08T18:40:33.288Z"
   },
   {
    "duration": 4,
    "start_time": "2022-11-08T18:40:33.298Z"
   },
   {
    "duration": 11,
    "start_time": "2022-11-08T18:40:33.303Z"
   },
   {
    "duration": 6,
    "start_time": "2022-11-08T18:40:33.315Z"
   },
   {
    "duration": 30,
    "start_time": "2022-11-08T18:40:33.322Z"
   },
   {
    "duration": 63,
    "start_time": "2022-11-08T18:40:33.354Z"
   },
   {
    "duration": 31,
    "start_time": "2022-11-08T18:40:33.419Z"
   },
   {
    "duration": 277,
    "start_time": "2022-11-08T18:40:33.452Z"
   },
   {
    "duration": 0,
    "start_time": "2022-11-08T18:40:33.731Z"
   },
   {
    "duration": 0,
    "start_time": "2022-11-08T18:40:33.732Z"
   },
   {
    "duration": 0,
    "start_time": "2022-11-08T18:40:33.733Z"
   },
   {
    "duration": 81,
    "start_time": "2022-11-08T18:46:09.190Z"
   },
   {
    "duration": 66,
    "start_time": "2022-11-08T18:46:37.815Z"
   },
   {
    "duration": 78,
    "start_time": "2022-11-08T18:47:15.399Z"
   },
   {
    "duration": 11,
    "start_time": "2022-11-08T18:47:27.303Z"
   },
   {
    "duration": 122,
    "start_time": "2022-11-08T18:47:54.007Z"
   },
   {
    "duration": 1422,
    "start_time": "2022-11-08T18:48:17.608Z"
   },
   {
    "duration": 35,
    "start_time": "2022-11-08T18:48:19.032Z"
   },
   {
    "duration": 12,
    "start_time": "2022-11-08T18:48:19.068Z"
   },
   {
    "duration": 23,
    "start_time": "2022-11-08T18:48:19.082Z"
   },
   {
    "duration": 32,
    "start_time": "2022-11-08T18:48:19.107Z"
   },
   {
    "duration": 47,
    "start_time": "2022-11-08T18:48:19.141Z"
   },
   {
    "duration": 3,
    "start_time": "2022-11-08T18:48:19.190Z"
   },
   {
    "duration": 47,
    "start_time": "2022-11-08T18:48:19.195Z"
   },
   {
    "duration": 36,
    "start_time": "2022-11-08T18:48:19.243Z"
   },
   {
    "duration": 34,
    "start_time": "2022-11-08T18:48:19.282Z"
   },
   {
    "duration": 236,
    "start_time": "2022-11-08T18:48:19.317Z"
   },
   {
    "duration": 0,
    "start_time": "2022-11-08T18:48:19.555Z"
   },
   {
    "duration": 0,
    "start_time": "2022-11-08T18:48:19.556Z"
   },
   {
    "duration": 0,
    "start_time": "2022-11-08T18:48:19.557Z"
   },
   {
    "duration": 0,
    "start_time": "2022-11-08T18:48:19.558Z"
   },
   {
    "duration": 4,
    "start_time": "2022-11-08T18:54:42.586Z"
   },
   {
    "duration": 80,
    "start_time": "2022-11-08T18:57:06.157Z"
   },
   {
    "duration": 68,
    "start_time": "2022-11-08T18:59:47.838Z"
   },
   {
    "duration": 75,
    "start_time": "2022-11-08T19:12:19.924Z"
   },
   {
    "duration": 22,
    "start_time": "2022-11-08T19:12:25.989Z"
   },
   {
    "duration": 3241,
    "start_time": "2022-11-08T19:18:03.622Z"
   },
   {
    "duration": 1979,
    "start_time": "2022-11-08T19:21:18.264Z"
   },
   {
    "duration": 2066,
    "start_time": "2022-11-08T19:28:24.044Z"
   },
   {
    "duration": 626,
    "start_time": "2022-11-08T19:30:49.949Z"
   },
   {
    "duration": 487,
    "start_time": "2022-11-08T19:31:39.582Z"
   },
   {
    "duration": 1105,
    "start_time": "2022-11-08T19:33:12.688Z"
   },
   {
    "duration": 75,
    "start_time": "2022-11-08T19:36:01.791Z"
   },
   {
    "duration": 953,
    "start_time": "2022-11-08T19:36:58.671Z"
   },
   {
    "duration": 243,
    "start_time": "2022-11-08T19:40:23.825Z"
   },
   {
    "duration": 233,
    "start_time": "2022-11-08T19:43:42.388Z"
   },
   {
    "duration": 215,
    "start_time": "2022-11-08T19:48:35.414Z"
   },
   {
    "duration": 48,
    "start_time": "2022-11-09T05:14:43.518Z"
   },
   {
    "duration": 1472,
    "start_time": "2022-11-09T05:14:48.786Z"
   },
   {
    "duration": 127,
    "start_time": "2022-11-09T05:14:50.261Z"
   },
   {
    "duration": 11,
    "start_time": "2022-11-09T05:14:50.390Z"
   },
   {
    "duration": 9,
    "start_time": "2022-11-09T05:14:50.404Z"
   },
   {
    "duration": 6,
    "start_time": "2022-11-09T05:14:50.414Z"
   },
   {
    "duration": 11,
    "start_time": "2022-11-09T05:14:50.422Z"
   },
   {
    "duration": 7,
    "start_time": "2022-11-09T05:14:50.434Z"
   },
   {
    "duration": 42,
    "start_time": "2022-11-09T05:14:50.442Z"
   },
   {
    "duration": 33,
    "start_time": "2022-11-09T05:14:50.486Z"
   },
   {
    "duration": 51,
    "start_time": "2022-11-09T05:14:50.522Z"
   },
   {
    "duration": 952,
    "start_time": "2022-11-09T05:14:50.574Z"
   },
   {
    "duration": 215,
    "start_time": "2022-11-09T05:14:51.528Z"
   },
   {
    "duration": 10,
    "start_time": "2022-11-09T05:14:51.745Z"
   },
   {
    "duration": 887,
    "start_time": "2022-11-09T05:21:26.295Z"
   },
   {
    "duration": 235,
    "start_time": "2022-11-09T05:25:42.610Z"
   },
   {
    "duration": 223,
    "start_time": "2022-11-09T05:27:02.771Z"
   },
   {
    "duration": 32,
    "start_time": "2022-11-09T05:27:38.035Z"
   },
   {
    "duration": 33,
    "start_time": "2022-11-09T05:28:23.059Z"
   },
   {
    "duration": 35,
    "start_time": "2022-11-09T05:28:37.059Z"
   },
   {
    "duration": 211,
    "start_time": "2022-11-09T05:28:59.043Z"
   },
   {
    "duration": 212,
    "start_time": "2022-11-09T05:29:24.772Z"
   },
   {
    "duration": 219,
    "start_time": "2022-11-09T05:29:28.772Z"
   },
   {
    "duration": 219,
    "start_time": "2022-11-09T05:29:34.484Z"
   },
   {
    "duration": 257,
    "start_time": "2022-11-09T05:30:25.924Z"
   },
   {
    "duration": 218,
    "start_time": "2022-11-09T05:31:05.350Z"
   },
   {
    "duration": 216,
    "start_time": "2022-11-09T05:32:29.686Z"
   },
   {
    "duration": 33,
    "start_time": "2022-11-09T05:33:06.166Z"
   },
   {
    "duration": 476,
    "start_time": "2022-11-09T05:56:11.609Z"
   },
   {
    "duration": 416,
    "start_time": "2022-11-09T05:58:40.453Z"
   },
   {
    "duration": 413,
    "start_time": "2022-11-09T06:00:11.750Z"
   },
   {
    "duration": 422,
    "start_time": "2022-11-09T06:06:53.946Z"
   },
   {
    "duration": 153,
    "start_time": "2022-11-09T06:22:15.969Z"
   },
   {
    "duration": 1420,
    "start_time": "2022-11-09T06:22:35.739Z"
   },
   {
    "duration": 39,
    "start_time": "2022-11-09T06:22:37.161Z"
   },
   {
    "duration": 11,
    "start_time": "2022-11-09T06:22:37.201Z"
   },
   {
    "duration": 23,
    "start_time": "2022-11-09T06:22:37.214Z"
   },
   {
    "duration": 7,
    "start_time": "2022-11-09T06:22:37.238Z"
   },
   {
    "duration": 12,
    "start_time": "2022-11-09T06:22:37.246Z"
   },
   {
    "duration": 18,
    "start_time": "2022-11-09T06:22:37.260Z"
   },
   {
    "duration": 54,
    "start_time": "2022-11-09T06:22:37.279Z"
   },
   {
    "duration": 108,
    "start_time": "2022-11-09T06:22:37.335Z"
   },
   {
    "duration": 0,
    "start_time": "2022-11-09T06:22:37.445Z"
   },
   {
    "duration": 0,
    "start_time": "2022-11-09T06:22:37.446Z"
   },
   {
    "duration": 0,
    "start_time": "2022-11-09T06:22:37.447Z"
   },
   {
    "duration": 0,
    "start_time": "2022-11-09T06:22:37.448Z"
   },
   {
    "duration": 0,
    "start_time": "2022-11-09T06:22:37.449Z"
   },
   {
    "duration": 3,
    "start_time": "2022-11-09T06:29:30.037Z"
   },
   {
    "duration": 1300,
    "start_time": "2022-11-09T06:29:34.436Z"
   },
   {
    "duration": 39,
    "start_time": "2022-11-09T06:29:35.738Z"
   },
   {
    "duration": 11,
    "start_time": "2022-11-09T06:29:35.778Z"
   },
   {
    "duration": 12,
    "start_time": "2022-11-09T06:29:35.792Z"
   },
   {
    "duration": 33,
    "start_time": "2022-11-09T06:29:35.806Z"
   },
   {
    "duration": 38,
    "start_time": "2022-11-09T06:29:35.841Z"
   },
   {
    "duration": 38,
    "start_time": "2022-11-09T06:29:35.881Z"
   },
   {
    "duration": 52,
    "start_time": "2022-11-09T06:29:35.921Z"
   },
   {
    "duration": 145,
    "start_time": "2022-11-09T06:29:35.975Z"
   },
   {
    "duration": 0,
    "start_time": "2022-11-09T06:29:36.121Z"
   },
   {
    "duration": 0,
    "start_time": "2022-11-09T06:29:36.122Z"
   },
   {
    "duration": 0,
    "start_time": "2022-11-09T06:29:36.123Z"
   },
   {
    "duration": 0,
    "start_time": "2022-11-09T06:29:36.124Z"
   },
   {
    "duration": 0,
    "start_time": "2022-11-09T06:29:36.125Z"
   },
   {
    "duration": 15,
    "start_time": "2022-11-09T06:46:06.652Z"
   },
   {
    "duration": 16,
    "start_time": "2022-11-09T06:48:49.572Z"
   },
   {
    "duration": 38,
    "start_time": "2022-11-09T06:49:11.054Z"
   },
   {
    "duration": 39,
    "start_time": "2022-11-09T06:51:51.985Z"
   },
   {
    "duration": 75,
    "start_time": "2022-11-09T08:20:48.693Z"
   },
   {
    "duration": 85,
    "start_time": "2022-11-09T08:21:05.053Z"
   },
   {
    "duration": 67,
    "start_time": "2022-11-09T08:31:57.027Z"
   },
   {
    "duration": 1332,
    "start_time": "2022-11-09T08:32:24.498Z"
   },
   {
    "duration": 42,
    "start_time": "2022-11-09T08:32:25.831Z"
   },
   {
    "duration": 13,
    "start_time": "2022-11-09T08:32:25.874Z"
   },
   {
    "duration": 5,
    "start_time": "2022-11-09T08:32:25.889Z"
   },
   {
    "duration": 5,
    "start_time": "2022-11-09T08:32:25.895Z"
   },
   {
    "duration": 11,
    "start_time": "2022-11-09T08:32:25.902Z"
   },
   {
    "duration": 4,
    "start_time": "2022-11-09T08:32:25.915Z"
   },
   {
    "duration": 51,
    "start_time": "2022-11-09T08:32:25.920Z"
   },
   {
    "duration": 70,
    "start_time": "2022-11-09T08:32:25.972Z"
   },
   {
    "duration": 63,
    "start_time": "2022-11-09T08:32:26.045Z"
   },
   {
    "duration": 38,
    "start_time": "2022-11-09T08:32:26.109Z"
   },
   {
    "duration": 628,
    "start_time": "2022-11-09T08:32:26.149Z"
   },
   {
    "duration": 229,
    "start_time": "2022-11-09T08:32:26.780Z"
   },
   {
    "duration": 10,
    "start_time": "2022-11-09T08:32:27.011Z"
   },
   {
    "duration": 492,
    "start_time": "2022-11-09T08:33:08.726Z"
   },
   {
    "duration": 168,
    "start_time": "2022-11-09T09:42:02.688Z"
   },
   {
    "duration": 15,
    "start_time": "2022-11-09T09:43:54.457Z"
   },
   {
    "duration": 32,
    "start_time": "2022-11-09T09:44:19.881Z"
   },
   {
    "duration": 419,
    "start_time": "2022-11-09T09:45:17.978Z"
   },
   {
    "duration": 30,
    "start_time": "2022-11-09T09:46:12.139Z"
   },
   {
    "duration": 20,
    "start_time": "2022-11-09T09:51:54.317Z"
   },
   {
    "duration": 290,
    "start_time": "2022-11-09T09:54:02.446Z"
   },
   {
    "duration": 147,
    "start_time": "2022-11-09T09:54:45.023Z"
   },
   {
    "duration": 247,
    "start_time": "2022-11-09T10:01:14.802Z"
   },
   {
    "duration": 183,
    "start_time": "2022-11-09T10:05:36.373Z"
   },
   {
    "duration": 246,
    "start_time": "2022-11-09T10:15:23.188Z"
   },
   {
    "duration": 1255,
    "start_time": "2022-11-09T10:31:30.123Z"
   },
   {
    "duration": 1375,
    "start_time": "2022-11-09T10:32:10.773Z"
   },
   {
    "duration": 1291,
    "start_time": "2022-11-09T10:32:18.356Z"
   },
   {
    "duration": 186,
    "start_time": "2022-11-09T10:35:43.031Z"
   },
   {
    "duration": 177,
    "start_time": "2022-11-09T10:36:57.623Z"
   },
   {
    "duration": 201,
    "start_time": "2022-11-09T10:39:51.881Z"
   },
   {
    "duration": 169,
    "start_time": "2022-11-09T10:57:51.858Z"
   },
   {
    "duration": 178,
    "start_time": "2022-11-09T10:58:13.137Z"
   },
   {
    "duration": 166,
    "start_time": "2022-11-09T10:58:26.737Z"
   },
   {
    "duration": 164,
    "start_time": "2022-11-09T10:58:35.042Z"
   },
   {
    "duration": 660,
    "start_time": "2022-11-09T11:00:46.419Z"
   },
   {
    "duration": 1335,
    "start_time": "2022-11-09T11:00:58.194Z"
   },
   {
    "duration": 663,
    "start_time": "2022-11-09T11:01:08.115Z"
   },
   {
    "duration": 519,
    "start_time": "2022-11-09T11:01:15.657Z"
   },
   {
    "duration": 15,
    "start_time": "2022-11-09T11:17:52.577Z"
   },
   {
    "duration": 1387,
    "start_time": "2022-11-09T11:19:15.755Z"
   },
   {
    "duration": 40,
    "start_time": "2022-11-09T11:19:17.144Z"
   },
   {
    "duration": 11,
    "start_time": "2022-11-09T11:19:17.186Z"
   },
   {
    "duration": 7,
    "start_time": "2022-11-09T11:19:17.199Z"
   },
   {
    "duration": 5,
    "start_time": "2022-11-09T11:19:17.208Z"
   },
   {
    "duration": 11,
    "start_time": "2022-11-09T11:19:17.214Z"
   },
   {
    "duration": 4,
    "start_time": "2022-11-09T11:19:17.227Z"
   },
   {
    "duration": 55,
    "start_time": "2022-11-09T11:19:17.232Z"
   },
   {
    "duration": 194,
    "start_time": "2022-11-09T11:19:17.288Z"
   },
   {
    "duration": 37,
    "start_time": "2022-11-09T11:19:17.484Z"
   },
   {
    "duration": 53,
    "start_time": "2022-11-09T11:19:17.522Z"
   },
   {
    "duration": 483,
    "start_time": "2022-11-09T11:19:17.576Z"
   },
   {
    "duration": 234,
    "start_time": "2022-11-09T11:19:18.068Z"
   },
   {
    "duration": 0,
    "start_time": "2022-11-09T11:24:09.511Z"
   },
   {
    "duration": 0,
    "start_time": "2022-11-09T11:29:57.792Z"
   },
   {
    "duration": 11,
    "start_time": "2022-11-09T11:36:37.349Z"
   },
   {
    "duration": 9,
    "start_time": "2022-11-09T11:45:20.416Z"
   },
   {
    "duration": 19,
    "start_time": "2022-11-09T11:54:11.126Z"
   },
   {
    "duration": 6,
    "start_time": "2022-11-09T12:39:13.997Z"
   },
   {
    "duration": 46,
    "start_time": "2022-11-09T12:43:08.030Z"
   },
   {
    "duration": 7,
    "start_time": "2022-11-09T12:45:37.416Z"
   },
   {
    "duration": 1316,
    "start_time": "2022-11-09T13:11:51.917Z"
   },
   {
    "duration": 42,
    "start_time": "2022-11-09T13:11:53.235Z"
   },
   {
    "duration": 14,
    "start_time": "2022-11-09T13:11:53.279Z"
   },
   {
    "duration": 5,
    "start_time": "2022-11-09T13:11:53.294Z"
   },
   {
    "duration": 9,
    "start_time": "2022-11-09T13:11:53.301Z"
   },
   {
    "duration": 23,
    "start_time": "2022-11-09T13:11:53.311Z"
   },
   {
    "duration": 19,
    "start_time": "2022-11-09T13:11:53.336Z"
   },
   {
    "duration": 48,
    "start_time": "2022-11-09T13:11:53.357Z"
   },
   {
    "duration": 204,
    "start_time": "2022-11-09T13:11:53.406Z"
   },
   {
    "duration": 36,
    "start_time": "2022-11-09T13:11:53.612Z"
   },
   {
    "duration": 62,
    "start_time": "2022-11-09T13:11:53.650Z"
   },
   {
    "duration": 489,
    "start_time": "2022-11-09T13:11:53.714Z"
   },
   {
    "duration": 250,
    "start_time": "2022-11-09T13:11:54.205Z"
   },
   {
    "duration": 290991,
    "start_time": "2022-11-09T13:11:54.458Z"
   },
   {
    "duration": 27,
    "start_time": "2022-11-09T13:16:45.450Z"
   },
   {
    "duration": 13,
    "start_time": "2022-11-09T13:16:45.481Z"
   },
   {
    "duration": 134,
    "start_time": "2022-11-09T13:16:45.496Z"
   },
   {
    "duration": 45,
    "start_time": "2022-11-09T14:10:33.245Z"
   },
   {
    "duration": 38,
    "start_time": "2022-11-09T14:15:46.320Z"
   },
   {
    "duration": 26,
    "start_time": "2022-11-09T14:15:54.796Z"
   },
   {
    "duration": 30,
    "start_time": "2022-11-09T14:16:06.986Z"
   },
   {
    "duration": 428,
    "start_time": "2022-11-09T14:16:27.882Z"
   },
   {
    "duration": 224,
    "start_time": "2022-11-09T14:18:08.523Z"
   },
   {
    "duration": 4,
    "start_time": "2022-11-09T14:18:55.387Z"
   },
   {
    "duration": 1270,
    "start_time": "2022-11-09T14:19:26.817Z"
   },
   {
    "duration": 39,
    "start_time": "2022-11-09T14:19:28.090Z"
   },
   {
    "duration": 12,
    "start_time": "2022-11-09T14:19:28.130Z"
   },
   {
    "duration": 4,
    "start_time": "2022-11-09T14:19:28.144Z"
   },
   {
    "duration": 7,
    "start_time": "2022-11-09T14:19:28.149Z"
   },
   {
    "duration": 14,
    "start_time": "2022-11-09T14:19:28.158Z"
   },
   {
    "duration": 5,
    "start_time": "2022-11-09T14:19:28.174Z"
   },
   {
    "duration": 26,
    "start_time": "2022-11-09T14:19:28.181Z"
   },
   {
    "duration": 34,
    "start_time": "2022-11-09T14:19:28.209Z"
   },
   {
    "duration": 191,
    "start_time": "2022-11-09T14:19:28.269Z"
   },
   {
    "duration": 40,
    "start_time": "2022-11-09T14:19:28.468Z"
   },
   {
    "duration": 475,
    "start_time": "2022-11-09T14:19:28.511Z"
   },
   {
    "duration": 228,
    "start_time": "2022-11-09T14:19:28.987Z"
   },
   {
    "duration": 260709,
    "start_time": "2022-11-09T14:19:29.217Z"
   },
   {
    "duration": 12,
    "start_time": "2022-11-09T14:23:49.927Z"
   },
   {
    "duration": 6,
    "start_time": "2022-11-09T14:23:49.941Z"
   },
   {
    "duration": 131,
    "start_time": "2022-11-09T14:23:49.949Z"
   },
   {
    "duration": 7,
    "start_time": "2022-11-09T14:50:33.760Z"
   },
   {
    "duration": 14,
    "start_time": "2022-11-09T14:54:40.116Z"
   },
   {
    "duration": 14,
    "start_time": "2022-11-09T14:57:58.093Z"
   },
   {
    "duration": 13,
    "start_time": "2022-11-09T14:59:04.383Z"
   },
   {
    "duration": 1311,
    "start_time": "2022-11-09T15:06:30.004Z"
   },
   {
    "duration": 39,
    "start_time": "2022-11-09T15:06:31.317Z"
   },
   {
    "duration": 10,
    "start_time": "2022-11-09T15:06:31.358Z"
   },
   {
    "duration": 9,
    "start_time": "2022-11-09T15:06:31.371Z"
   },
   {
    "duration": 10,
    "start_time": "2022-11-09T15:06:31.381Z"
   },
   {
    "duration": 13,
    "start_time": "2022-11-09T15:06:31.393Z"
   },
   {
    "duration": 7,
    "start_time": "2022-11-09T15:06:31.407Z"
   },
   {
    "duration": 28,
    "start_time": "2022-11-09T15:06:31.415Z"
   },
   {
    "duration": 46,
    "start_time": "2022-11-09T15:06:31.444Z"
   },
   {
    "duration": 178,
    "start_time": "2022-11-09T15:06:31.492Z"
   },
   {
    "duration": 28,
    "start_time": "2022-11-09T15:06:31.672Z"
   },
   {
    "duration": 442,
    "start_time": "2022-11-09T15:06:31.701Z"
   },
   {
    "duration": 225,
    "start_time": "2022-11-09T15:06:32.144Z"
   },
   {
    "duration": 258959,
    "start_time": "2022-11-09T15:06:32.371Z"
   },
   {
    "duration": 9,
    "start_time": "2022-11-09T15:10:51.332Z"
   },
   {
    "duration": 9,
    "start_time": "2022-11-09T15:10:51.343Z"
   },
   {
    "duration": 4,
    "start_time": "2022-11-09T15:10:51.367Z"
   },
   {
    "duration": 57,
    "start_time": "2022-11-09T15:20:40.697Z"
   },
   {
    "duration": 37,
    "start_time": "2022-11-09T15:20:47.338Z"
   },
   {
    "duration": 154,
    "start_time": "2022-11-09T15:20:52.025Z"
   },
   {
    "duration": 124,
    "start_time": "2022-11-09T15:20:55.929Z"
   },
   {
    "duration": 223,
    "start_time": "2022-11-09T15:21:09.370Z"
   },
   {
    "duration": 10,
    "start_time": "2022-11-09T15:27:30.515Z"
   },
   {
    "duration": 174,
    "start_time": "2022-11-09T15:30:41.775Z"
   },
   {
    "duration": 170,
    "start_time": "2022-11-09T15:31:05.199Z"
   },
   {
    "duration": 178,
    "start_time": "2022-11-09T15:31:30.560Z"
   },
   {
    "duration": 1195,
    "start_time": "2022-11-09T15:38:22.586Z"
   },
   {
    "duration": 109,
    "start_time": "2022-11-09T15:43:59.958Z"
   },
   {
    "duration": 30,
    "start_time": "2022-11-09T16:45:34.332Z"
   },
   {
    "duration": 19,
    "start_time": "2022-11-09T17:54:32.125Z"
   },
   {
    "duration": 18,
    "start_time": "2022-11-09T17:59:14.716Z"
   },
   {
    "duration": 229,
    "start_time": "2022-11-09T18:05:03.766Z"
   },
   {
    "duration": 226,
    "start_time": "2022-11-09T18:12:22.713Z"
   },
   {
    "duration": 24,
    "start_time": "2022-11-09T18:18:25.999Z"
   },
   {
    "duration": 219,
    "start_time": "2022-11-09T18:19:55.655Z"
   },
   {
    "duration": 188,
    "start_time": "2022-11-09T18:20:16.935Z"
   },
   {
    "duration": 27,
    "start_time": "2022-11-09T18:20:45.991Z"
   },
   {
    "duration": 229,
    "start_time": "2022-11-09T18:20:54.024Z"
   },
   {
    "duration": 28,
    "start_time": "2022-11-09T18:21:01.976Z"
   },
   {
    "duration": 201,
    "start_time": "2022-11-09T18:21:10.999Z"
   },
   {
    "duration": 19,
    "start_time": "2022-11-09T18:22:12.216Z"
   },
   {
    "duration": 29,
    "start_time": "2022-11-09T18:24:23.900Z"
   },
   {
    "duration": 211,
    "start_time": "2022-11-09T18:30:19.037Z"
   },
   {
    "duration": 18,
    "start_time": "2022-11-09T18:43:47.290Z"
   },
   {
    "duration": 18,
    "start_time": "2022-11-09T18:52:46.680Z"
   },
   {
    "duration": 12,
    "start_time": "2022-11-09T18:56:35.467Z"
   },
   {
    "duration": 19,
    "start_time": "2022-11-09T18:57:07.755Z"
   },
   {
    "duration": 11,
    "start_time": "2022-11-09T18:57:30.010Z"
   },
   {
    "duration": 14,
    "start_time": "2022-11-09T18:57:34.524Z"
   },
   {
    "duration": 13,
    "start_time": "2022-11-09T18:57:38.539Z"
   },
   {
    "duration": 13,
    "start_time": "2022-11-09T18:57:44.715Z"
   },
   {
    "duration": 14,
    "start_time": "2022-11-09T18:57:50.395Z"
   },
   {
    "duration": 1811,
    "start_time": "2022-11-10T07:35:16.663Z"
   },
   {
    "duration": 144,
    "start_time": "2022-11-10T07:35:18.475Z"
   },
   {
    "duration": 13,
    "start_time": "2022-11-10T07:35:18.620Z"
   },
   {
    "duration": 21,
    "start_time": "2022-11-10T07:35:18.635Z"
   },
   {
    "duration": 21,
    "start_time": "2022-11-10T07:35:18.658Z"
   },
   {
    "duration": 31,
    "start_time": "2022-11-10T07:35:18.681Z"
   },
   {
    "duration": 28,
    "start_time": "2022-11-10T07:35:18.714Z"
   },
   {
    "duration": 45,
    "start_time": "2022-11-10T07:35:18.743Z"
   },
   {
    "duration": 33,
    "start_time": "2022-11-10T07:35:18.790Z"
   },
   {
    "duration": 257,
    "start_time": "2022-11-10T07:35:18.825Z"
   },
   {
    "duration": 33,
    "start_time": "2022-11-10T07:35:19.084Z"
   },
   {
    "duration": 466,
    "start_time": "2022-11-10T07:35:19.119Z"
   },
   {
    "duration": 238,
    "start_time": "2022-11-10T07:35:19.587Z"
   },
   {
    "duration": 258258,
    "start_time": "2022-11-10T07:35:19.827Z"
   },
   {
    "duration": 9,
    "start_time": "2022-11-10T07:39:38.087Z"
   },
   {
    "duration": 14,
    "start_time": "2022-11-10T07:39:38.098Z"
   },
   {
    "duration": 8,
    "start_time": "2022-11-10T07:39:38.113Z"
   },
   {
    "duration": 151,
    "start_time": "2022-11-10T07:39:38.124Z"
   },
   {
    "duration": 126,
    "start_time": "2022-11-10T07:40:10.599Z"
   },
   {
    "duration": 83,
    "start_time": "2022-11-10T14:16:55.772Z"
   },
   {
    "duration": 2170,
    "start_time": "2022-11-10T14:17:03.267Z"
   },
   {
    "duration": 87,
    "start_time": "2022-11-10T14:17:05.443Z"
   },
   {
    "duration": 17,
    "start_time": "2022-11-10T14:17:05.532Z"
   },
   {
    "duration": 10,
    "start_time": "2022-11-10T14:17:05.552Z"
   },
   {
    "duration": 5,
    "start_time": "2022-11-10T14:17:05.565Z"
   },
   {
    "duration": 18,
    "start_time": "2022-11-10T14:17:05.573Z"
   },
   {
    "duration": 16,
    "start_time": "2022-11-10T14:17:05.593Z"
   },
   {
    "duration": 68,
    "start_time": "2022-11-10T14:17:05.611Z"
   },
   {
    "duration": 56,
    "start_time": "2022-11-10T14:17:05.681Z"
   },
   {
    "duration": 331,
    "start_time": "2022-11-10T14:17:05.742Z"
   },
   {
    "duration": 242,
    "start_time": "2022-11-10T14:17:06.075Z"
   },
   {
    "duration": 57,
    "start_time": "2022-11-10T14:17:06.319Z"
   },
   {
    "duration": 565,
    "start_time": "2022-11-10T14:17:06.379Z"
   },
   {
    "duration": 299,
    "start_time": "2022-11-10T14:17:06.946Z"
   },
   {
    "duration": 302796,
    "start_time": "2022-11-10T14:17:07.247Z"
   },
   {
    "duration": 15,
    "start_time": "2022-11-10T14:22:10.045Z"
   },
   {
    "duration": 19,
    "start_time": "2022-11-10T14:22:10.062Z"
   },
   {
    "duration": 8,
    "start_time": "2022-11-10T14:22:10.083Z"
   },
   {
    "duration": 165,
    "start_time": "2022-11-10T14:22:10.093Z"
   },
   {
    "duration": 18,
    "start_time": "2022-11-10T14:22:25.493Z"
   },
   {
    "duration": 23,
    "start_time": "2022-11-10T14:29:40.675Z"
   },
   {
    "duration": 50,
    "start_time": "2022-11-21T10:43:32.118Z"
   },
   {
    "duration": 1317,
    "start_time": "2022-11-21T10:43:40.879Z"
   },
   {
    "duration": 132,
    "start_time": "2022-11-21T10:43:42.198Z"
   },
   {
    "duration": 10,
    "start_time": "2022-11-21T10:43:42.332Z"
   },
   {
    "duration": 13,
    "start_time": "2022-11-21T10:43:42.344Z"
   },
   {
    "duration": 5,
    "start_time": "2022-11-21T10:43:42.359Z"
   },
   {
    "duration": 13,
    "start_time": "2022-11-21T10:43:42.365Z"
   },
   {
    "duration": 4,
    "start_time": "2022-11-21T10:43:42.379Z"
   },
   {
    "duration": 25,
    "start_time": "2022-11-21T10:43:42.385Z"
   },
   {
    "duration": 33,
    "start_time": "2022-11-21T10:43:42.412Z"
   },
   {
    "duration": 237,
    "start_time": "2022-11-21T10:43:42.447Z"
   },
   {
    "duration": 153,
    "start_time": "2022-11-21T10:43:42.686Z"
   },
   {
    "duration": 30,
    "start_time": "2022-11-21T10:43:42.841Z"
   },
   {
    "duration": 459,
    "start_time": "2022-11-21T10:43:42.873Z"
   },
   {
    "duration": 227,
    "start_time": "2022-11-21T10:43:43.333Z"
   }
  ],
  "kernelspec": {
   "display_name": "Python 3 (ipykernel)",
   "language": "python",
   "name": "python3"
  },
  "language_info": {
   "codemirror_mode": {
    "name": "ipython",
    "version": 3
   },
   "file_extension": ".py",
   "mimetype": "text/x-python",
   "name": "python",
   "nbconvert_exporter": "python",
   "pygments_lexer": "ipython3",
   "version": "3.9.12"
  },
  "toc": {
   "base_numbering": 1,
   "nav_menu": {},
   "number_sections": true,
   "sideBar": true,
   "skip_h1_title": true,
   "title_cell": "Table of Contents",
   "title_sidebar": "Contents",
   "toc_cell": false,
   "toc_position": {},
   "toc_section_display": true,
   "toc_window_display": false
  }
 },
 "nbformat": 4,
 "nbformat_minor": 2
}
